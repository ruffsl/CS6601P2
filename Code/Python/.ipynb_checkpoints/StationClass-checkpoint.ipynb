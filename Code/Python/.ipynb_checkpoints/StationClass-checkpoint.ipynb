{
 "metadata": {
  "name": ""
 },
 "nbformat": 3,
 "nbformat_minor": 0,
 "worksheets": [
  {
   "cells": [
    {
     "cell_type": "code",
     "collapsed": false,
     "input": [
      "from SolarDefs import *\n",
      "from timeit import timeit"
     ],
     "language": "python",
     "metadata": {},
     "outputs": [],
     "prompt_number": 1
    },
    {
     "cell_type": "code",
     "collapsed": false,
     "input": [
      "data_dir = \"/home/rox/Code/CS6601P2/Data/\""
     ],
     "language": "python",
     "metadata": {},
     "outputs": [],
     "prompt_number": 2
    },
    {
     "cell_type": "code",
     "collapsed": false,
     "input": [
      "#from SolarDirectories import data_dir # = '/media/Data/Project Data/Solar Energy/' \n",
      "# Set to your data directory assumes all data is in there - no nesting\n",
      "files_to_use = 'all' # Choices for files_to_use: the string all, or a list of strings corresponding to the unique part of a GEFS filename\n",
      "submit_name = 'submission_mod_whours.csv'\n",
      "args = { 'files_to_use': files_to_use, 'submit_name': submit_name}"
     ],
     "language": "python",
     "metadata": {},
     "outputs": [],
     "prompt_number": 3
    },
    {
     "cell_type": "code",
     "collapsed": false,
     "input": [
      "trainT, trainX, trainY, GEFS_infos, augmentX =load_Training_Data(data_dir,files_to_use)\n",
      "print 'trainT', trainT.shape\n",
      "print 'trainX', trainX.shape\n",
      "print 'trainY', trainY.shape"
     ],
     "language": "python",
     "metadata": {},
     "outputs": [
      {
       "output_type": "stream",
       "stream": "stdout",
       "text": [
        "Loading training data...\n",
        "loading dswrf_sfc\n",
        "this is the path:  /home/rox/Code/CS6601P2/Data/train/dswrf_sfc_latlon_subset_19940101_20071231.nc\n",
        "loading"
       ]
      },
      {
       "output_type": "stream",
       "stream": "stdout",
       "text": [
        " dlwrf_sfc\n",
        "this is the path:  /home/rox/Code/CS6601P2/Data/train/dlwrf_sfc_latlon_subset_19940101_20071231.nc\n",
        "loading"
       ]
      },
      {
       "output_type": "stream",
       "stream": "stdout",
       "text": [
        " uswrf_sfc\n",
        "this is the path:  /home/rox/Code/CS6601P2/Data/train/uswrf_sfc_latlon_subset_19940101_20071231.nc\n",
        "loading"
       ]
      },
      {
       "output_type": "stream",
       "stream": "stdout",
       "text": [
        " ulwrf_sfc\n",
        "this is the path:  /home/rox/Code/CS6601P2/Data/train/ulwrf_sfc_latlon_subset_19940101_20071231.nc\n",
        "loading"
       ]
      },
      {
       "output_type": "stream",
       "stream": "stdout",
       "text": [
        " ulwrf_tatm\n",
        "this is the path:  /home/rox/Code/CS6601P2/Data/train/ulwrf_tatm_latlon_subset_19940101_20071231.nc\n",
        "loading"
       ]
      },
      {
       "output_type": "stream",
       "stream": "stdout",
       "text": [
        " pwat_eatm\n",
        "this is the path:  /home/rox/Code/CS6601P2/Data/train/pwat_eatm_latlon_subset_19940101_20071231.nc\n",
        "loading"
       ]
      },
      {
       "output_type": "stream",
       "stream": "stdout",
       "text": [
        " tcdc_eatm\n",
        "this is the path:  /home/rox/Code/CS6601P2/Data/train/tcdc_eatm_latlon_subset_19940101_20071231.nc\n",
        "loading"
       ]
      },
      {
       "output_type": "stream",
       "stream": "stdout",
       "text": [
        " apcp_sfc\n",
        "this is the path:  /home/rox/Code/CS6601P2/Data/train/apcp_sfc_latlon_subset_19940101_20071231.nc\n",
        "loading"
       ]
      },
      {
       "output_type": "stream",
       "stream": "stdout",
       "text": [
        " pres_msl\n",
        "this is the path:  /home/rox/Code/CS6601P2/Data/train/pres_msl_latlon_subset_19940101_20071231.nc\n",
        "loading"
       ]
      },
      {
       "output_type": "stream",
       "stream": "stdout",
       "text": [
        " spfh_2m\n",
        "this is the path:  /home/rox/Code/CS6601P2/Data/train/spfh_2m_latlon_subset_19940101_20071231.nc\n",
        "loading"
       ]
      },
      {
       "output_type": "stream",
       "stream": "stdout",
       "text": [
        " tcolc_eatm\n",
        "this is the path:  /home/rox/Code/CS6601P2/Data/train/tcolc_eatm_latlon_subset_19940101_20071231.nc\n",
        "loading"
       ]
      },
      {
       "output_type": "stream",
       "stream": "stdout",
       "text": [
        " tmax_2m\n",
        "this is the path:  /home/rox/Code/CS6601P2/Data/train/tmax_2m_latlon_subset_19940101_20071231.nc\n",
        "loading"
       ]
      },
      {
       "output_type": "stream",
       "stream": "stdout",
       "text": [
        " tmin_2m\n",
        "this is the path:  /home/rox/Code/CS6601P2/Data/train/tmin_2m_latlon_subset_19940101_20071231.nc\n",
        "loading"
       ]
      },
      {
       "output_type": "stream",
       "stream": "stdout",
       "text": [
        " tmp_2m\n",
        "this is the path:  /home/rox/Code/CS6601P2/Data/train/tmp_2m_latlon_subset_19940101_20071231.nc\n",
        "loading"
       ]
      },
      {
       "output_type": "stream",
       "stream": "stdout",
       "text": [
        " tmp_sfc\n",
        "this is the path:  /home/rox/Code/CS6601P2/Data/train/tmp_sfc_latlon_subset_19940101_20071231.nc\n",
        "Training data shape"
       ]
      },
      {
       "output_type": "stream",
       "stream": "stdout",
       "text": [
        " (5113, 144, 11, 5, 15) (5113, 98)\n",
        "trainT"
       ]
      },
      {
       "output_type": "stream",
       "stream": "stdout",
       "text": [
        " (5113,)\n",
        "trainX (5113, 144, 11, 5, 15)\n",
        "trainY (5113, 98)\n"
       ]
      }
     ],
     "prompt_number": 4
    },
    {
     "cell_type": "code",
     "collapsed": false,
     "input": [
      "trainDays = dayOfYear(trainT)\n",
      "trainDays = np.expand_dims(trainDays,1)\n",
      "trainCompDays = compexDayOfYear(trainT)\n",
      "trainMonths = monthOfYear(trainT)\n",
      "trainMonths = np.expand_dims(trainMonths,1)\n",
      "trainCompMonths = compexMonthOfYear(trainT)\n",
      "print 'trainDays', trainDays.shape\n",
      "print 'trainCompDays', trainCompDays.shape\n",
      "print 'trainMonths', trainMonths.shape\n",
      "print 'trainCompMonths', trainCompMonths.shape\n",
      "mod_train = np.hstack((trainDays,trainCompDays,trainMonths,trainCompMonths))\n",
      "print 'mod_train', mod_train.shape"
     ],
     "language": "python",
     "metadata": {},
     "outputs": [
      {
       "output_type": "stream",
       "stream": "stdout",
       "text": [
        "trainDays (5113, 1)\n",
        "trainCompDays (5113, 2)\n",
        "trainMonths (5113, 1)\n",
        "trainCompMonths (5113, 2)\n",
        "mod_train (5113, 6)\n"
       ]
      }
     ],
     "prompt_number": 5
    },
    {
     "cell_type": "code",
     "collapsed": true,
     "input": [
      "testT, testX, GEFS_infos, augmentTestX = load_Testing_Data(data_dir,files_to_use)\n",
      "print 'testT', testT.shape\n",
      "print 'testX', testX.shape"
     ],
     "language": "python",
     "metadata": {},
     "outputs": [
      {
       "output_type": "stream",
       "stream": "stdout",
       "text": [
        "Loading test data...\n",
        "loading dswrf_sfc\n",
        "this is the path:  /home/rox/Code/CS6601P2/Data/test/dswrf_sfc_latlon_subset_20080101_20121130.nc\n",
        "loading"
       ]
      },
      {
       "output_type": "stream",
       "stream": "stdout",
       "text": [
        " dlwrf_sfc\n",
        "this is the path:  /home/rox/Code/CS6601P2/Data/test/dlwrf_sfc_latlon_subset_20080101_20121130.nc\n",
        "loading"
       ]
      },
      {
       "output_type": "stream",
       "stream": "stdout",
       "text": [
        " uswrf_sfc\n",
        "this is the path:  /home/rox/Code/CS6601P2/Data/test/uswrf_sfc_latlon_subset_20080101_20121130.nc\n",
        "loading"
       ]
      },
      {
       "output_type": "stream",
       "stream": "stdout",
       "text": [
        " ulwrf_sfc\n",
        "this is the path:  /home/rox/Code/CS6601P2/Data/test/ulwrf_sfc_latlon_subset_20080101_20121130.nc\n",
        "loading"
       ]
      },
      {
       "output_type": "stream",
       "stream": "stdout",
       "text": [
        " ulwrf_tatm\n",
        "this is the path:  /home/rox/Code/CS6601P2/Data/test/ulwrf_tatm_latlon_subset_20080101_20121130.nc\n",
        "loading"
       ]
      },
      {
       "output_type": "stream",
       "stream": "stdout",
       "text": [
        " pwat_eatm\n",
        "this is the path:  /home/rox/Code/CS6601P2/Data/test/pwat_eatm_latlon_subset_20080101_20121130.nc\n",
        "loading"
       ]
      },
      {
       "output_type": "stream",
       "stream": "stdout",
       "text": [
        " tcdc_eatm\n",
        "this is the path:  /home/rox/Code/CS6601P2/Data/test/tcdc_eatm_latlon_subset_20080101_20121130.nc\n",
        "loading"
       ]
      },
      {
       "output_type": "stream",
       "stream": "stdout",
       "text": [
        " apcp_sfc\n",
        "this is the path:  /home/rox/Code/CS6601P2/Data/test/apcp_sfc_latlon_subset_20080101_20121130.nc\n",
        "loading"
       ]
      },
      {
       "output_type": "stream",
       "stream": "stdout",
       "text": [
        " pres_msl\n",
        "this is the path:  /home/rox/Code/CS6601P2/Data/test/pres_msl_latlon_subset_20080101_20121130.nc\n",
        "loading"
       ]
      },
      {
       "output_type": "stream",
       "stream": "stdout",
       "text": [
        " spfh_2m\n",
        "this is the path:  /home/rox/Code/CS6601P2/Data/test/spfh_2m_latlon_subset_20080101_20121130.nc\n",
        "loading"
       ]
      },
      {
       "output_type": "stream",
       "stream": "stdout",
       "text": [
        " tcolc_eatm\n",
        "this is the path:  /home/rox/Code/CS6601P2/Data/test/tcolc_eatm_latlon_subset_20080101_20121130.nc\n",
        "loading"
       ]
      },
      {
       "output_type": "stream",
       "stream": "stdout",
       "text": [
        " tmax_2m\n",
        "this is the path:  /home/rox/Code/CS6601P2/Data/test/tmax_2m_latlon_subset_20080101_20121130.nc\n",
        "loading"
       ]
      },
      {
       "output_type": "stream",
       "stream": "stdout",
       "text": [
        " tmin_2m\n",
        "this is the path:  /home/rox/Code/CS6601P2/Data/test/tmin_2m_latlon_subset_20080101_20121130.nc\n",
        "loading"
       ]
      },
      {
       "output_type": "stream",
       "stream": "stdout",
       "text": [
        " tmp_2m\n",
        "this is the path:  /home/rox/Code/CS6601P2/Data/test/tmp_2m_latlon_subset_20080101_20121130.nc\n",
        "loading"
       ]
      },
      {
       "output_type": "stream",
       "stream": "stdout",
       "text": [
        " tmp_sfc\n",
        "this is the path:  /home/rox/Code/CS6601P2/Data/test/tmp_sfc_latlon_subset_20080101_20121130.nc\n",
        "Test data shape"
       ]
      },
      {
       "output_type": "stream",
       "stream": "stdout",
       "text": [
        " (1796, 144, 11, 5, 15)\n",
        "testT"
       ]
      },
      {
       "output_type": "stream",
       "stream": "stdout",
       "text": [
        " (1796,)\n",
        "testX (1796, 144, 11, 5, 15)\n"
       ]
      }
     ],
     "prompt_number": 337
    },
    {
     "cell_type": "code",
     "collapsed": false,
     "input": [
      "testDays = dayOfYear(testT)\n",
      "testDays = np.expand_dims(testDays,1)\n",
      "testCompDays = compexDayOfYear(testT)\n",
      "testMonths = monthOfYear(testT)\n",
      "testMonths = np.expand_dims(testMonths,1)\n",
      "testCompMonths = compexMonthOfYear(testT)\n",
      "print 'testDays', testDays.shape\n",
      "print 'testCompDays', testCompDays.shape\n",
      "print 'testMonths', testMonths.shape\n",
      "print 'testCompMonths', testCompMonths.shape\n",
      "mod_test = np.hstack((testDays,testCompDays,testMonths,testCompMonths))\n",
      "print 'mod_test', mod_test.shape"
     ],
     "language": "python",
     "metadata": {},
     "outputs": [
      {
       "output_type": "stream",
       "stream": "stdout",
       "text": [
        "testDays (1796, 1)\n",
        "testCompDays (1796, 2)\n",
        "testMonths (1796, 1)\n",
        "testCompMonths (1796, 2)\n",
        "mod_test (1796, 6)\n"
       ]
      }
     ],
     "prompt_number": 338
    },
    {
     "cell_type": "code",
     "collapsed": false,
     "input": [
      "station_infos = load_Station_Info(data_dir)"
     ],
     "language": "python",
     "metadata": {},
     "outputs": [
      {
       "output_type": "stream",
       "stream": "stdout",
       "text": [
        "Loading station info...\n"
       ]
      }
     ],
     "prompt_number": 6
    },
    {
     "cell_type": "code",
     "collapsed": false,
     "input": [
      "params = {'n_estimators': 500, 'max_depth': 4, 'min_samples_split': 1,\n",
      "          'learning_rate': 0.01, 'loss': 'ls'}\n",
      "params_1 = {'loss': 'ls', 'learning_rate': 0.1, 'n_estimators': 100, \n",
      "            'subsample': 1.0, 'min_samples_split': 2, 'min_samples_leaf': 1, \n",
      "            'max_depth': 3, 'init': None, 'random_state': None, \n",
      "            'max_features': None, 'alpha': 0.9, 'verbose': 0, 'learn_rate': None}\n",
      "model = ensemble.GradientBoostingRegressor(**params_1)\n",
      "config = {'nGEFS':4}\n",
      "\n",
      "stations = makeStations(station_infos, GEFS_infos, model, config)\n",
      "\n",
      "#stations = fitStations([stations[0]], trainX, trainY, None, mod_train)\n",
      "#saveModels(stations, data_dir, 'stationModels_1.p')\n",
      "stations = loadModels(stations, data_dir, 'stationModels_mAll_mod.p')"
     ],
     "language": "python",
     "metadata": {},
     "outputs": [],
     "prompt_number": 7
    },
    {
     "cell_type": "code",
     "collapsed": false,
     "input": [
      "#predictions = predictStations(stations, testX, wModels=None, mod_train=None):\n",
      "#savePickle(predictions, data_dir, 'predictions.p')  \n",
      "predictions = loadPickle(data_dir, 'CV_prediction.p')"
     ],
     "language": "python",
     "metadata": {},
     "outputs": [],
     "prompt_number": 304
    },
    {
     "cell_type": "code",
     "collapsed": false,
     "input": [
      "def move_operator(weights):\n",
      "    weight_list = []\n",
      "    for i in range(len(weights)):\n",
      "        for j in range(i+1,len(weights)):\n",
      "            temp1 = list(weights)\n",
      "            temp1[i] += 0.01\n",
      "            temp1[j] -= 0.01\n",
      "            weight_list.append(temp1)\n",
      "            temp2 = list(weights)\n",
      "            temp2[i] -= 0.01\n",
      "            temp2[j] += 0.01\n",
      "            weight_list.append(temp2)\n",
      "    #print weight_list\n",
      "    return weight_list\n",
      "\n",
      "def score(truth, predicted, weights):\n",
      "    #rint 'weights', weights\n",
      "    #print 'predicted ', predicted.shape\n",
      "    prediction = (np.array(weights)*np.array(predicted).T).T\n",
      "    final_prediction = np.swapaxes(np.sum(prediction,axis=0),0,1)\n",
      "    #final_prediction = np.sum(prediction,axis=0)\n",
      "    #print 'final prediction ', final_prediction.shape\n",
      "    return metrics.mean_absolute_error(truth,final_prediction)\n",
      "\n",
      "def random_init(length):\n",
      "    weights = np.random.randint(10, size=length)\n",
      "    sum = np.sum(weights)\n",
      "    if sum == 0:\n",
      "        weights = np.ones(length)/(1.0*length)\n",
      "        sum = np.sum(weights)\n",
      "    weights = weights/(1.0*sum)\n",
      "    #print 'random: ', weights\n",
      "    return weights\n",
      "\n",
      "def hillclimb_reset(weights, truth, prediction, max_evaluations):\n",
      "\n",
      "    best = weights\n",
      "    best_score = score(truth, prediction, best)\n",
      "    \n",
      "    num_evaluations=0\n",
      "    \n",
      "    while num_evaluations < max_evaluations:\n",
      "        remaining_evaluations=max_evaluations-num_evaluations\n",
      "        \n",
      "        evaluated,score,found=hillclimb(weights, truth, prediction, max_evaluations)\n",
      "        \n",
      "        num_evaluations+=evaluated\n",
      "        if score > best_score or best is None:\n",
      "            best_score=score\n",
      "            best=found\n",
      "    \n",
      "    return (num_evaluations,best_score,best)\n",
      "\n",
      "def hillclimb(truth, prediction, max_evaluations):\n",
      "    best = random_init(prediction.shape[0])\n",
      "    best_score = score(truth, prediction, best)\n",
      "    first_score = best_score\n",
      "    \n",
      "    num_evaluations=1\n",
      "    \n",
      "    while num_evaluations < max_evaluations:\n",
      "        # examine moves around our current position\n",
      "        move_made=False\n",
      "        for nextW in move_operator(best):\n",
      "            if num_evaluations >= max_evaluations:\n",
      "                break\n",
      "            \n",
      "            # see if this move is better than the current\n",
      "            next_score = score(truth, prediction, nextW)\n",
      "            #print 'score ', next_score\n",
      "            num_evaluations+=1\n",
      "            if next_score < best_score:\n",
      "                best=nextW\n",
      "                best_score=next_score\n",
      "                move_made=True\n",
      "                break # depth first search\n",
      "            \n",
      "        if not move_made:\n",
      "            break # we couldn't find a better move \n",
      "                     # (must be at a local maximum)\n",
      "    \n",
      "    return (num_evaluations,best_score,best,first_score)"
     ],
     "language": "python",
     "metadata": {},
     "outputs": [],
     "prompt_number": 326
    },
    {
     "cell_type": "code",
     "collapsed": false,
     "input": [
      "# def applyWeights(X, predictions, segmentWeights, segments, N=12):\n",
      "#     segmentIndexs = []\n",
      "#     for segment in range(N):\n",
      "#         segmentIndexs.append(np.argwhere(segments==(segment+1))[:,0])\n",
      "        \n",
      "#     for i, segment in enumerate(segmentIndexs):\n",
      "#         predictions[:,segment] = (predictions[:,segment].T*np.array(segmentWeights[i])).T\n",
      "#         prediction = np.sum(predictions,0)\n",
      "#     return prediction"
     ],
     "language": "python",
     "metadata": {},
     "outputs": [],
     "prompt_number": 195
    },
    {
     "cell_type": "code",
     "collapsed": false,
     "input": [
      "def getStationWeights(X, y, predictions, segments, N=12):\n",
      "    segmentWeights = []\n",
      "    for segment in range(N):\n",
      "        segmentIndex = np.argwhere(segments==(segment+1))[:,0]\n",
      "        segmentPredictions = predictions[:,segmentIndex]\n",
      "        segmentTruth = y[segmentIndex]\n",
      "        #print 'truth shape', segmentTruth.shape\n",
      "        #print 'predict shape', segmentPredictions.shape\n",
      "        num_evaluations,best_score,best,first_score = hillclimb(segmentTruth, segmentPredictions, 11000)\n",
      "        print 'best score:', best_score\n",
      "        segmentWeights.append(best)\n",
      "    return segmentWeights\n",
      "\n",
      "def getAllWeights(stations, X, y, predictions, segments, N=12):\n",
      "    AllWeights = []\n",
      "    for i, station in enumerate(stations):\n",
      "        stationPredictions = predictions[i]\n",
      "        stationTruth = station.filterGEFSy(y)\n",
      "        weights = getStationWeights(X, stationTruth, stationPredictions, trainMonths, N)\n",
      "        AllWeights.append(weights)\n",
      "        #print weights\n",
      "    return AllWeights #98 12 11\n",
      "\n",
      "def applyStationWeights(predictions, segmentWeights, segments, N=12):\n",
      "    for segment in range(N):\n",
      "        segmentIndex = np.argwhere(segments==(segment+1))[:,0]\n",
      "        lol = np.array(segmentWeights[segment])\n",
      "        predictions[:,segmentIndex] = (predictions[:,segmentIndex].T*np.array(segmentWeights[segment])).T\n",
      "    prediction = np.sum(predictions,0)\n",
      "    return prediction\n",
      "\n",
      "def applyAllWeights(stations, predictions, AllWeights, segments, N=12):\n",
      "    FinalPredictions = []\n",
      "    for i, station in enumerate(stations):\n",
      "        stationPredictions = np.copy(predictions[i])\n",
      "        segmentWeights = AllWeights[i]\n",
      "        prediction = applyStationWeights(stationPredictions, segmentWeights, segments, N)\n",
      "        FinalPredictions.append(prediction)\n",
      "    FinalPredictions = np.swapaxes(np.array(FinalPredictions),0,1)\n",
      "    return FinalPredictions"
     ],
     "language": "python",
     "metadata": {},
     "outputs": [],
     "prompt_number": 330
    },
    {
     "cell_type": "code",
     "collapsed": false,
     "input": [
      "weights = [1.0/11]*11\n",
      "predicted = predictions[0]\n",
      "prediction = (np.array(weights)*np.array(predicted).T).T\n",
      "final_prediction = np.swapaxes(np.sum(prediction,axis=0),0,1)\n",
      "print 'truth ', trainY[:,0].shape\n",
      "print 'predict ', predicted.shape\n",
      "scores = metrics.mean_absolute_error(trainY[:,0],final_prediction)"
     ],
     "language": "python",
     "metadata": {},
     "outputs": [
      {
       "output_type": "stream",
       "stream": "stdout",
       "text": [
        "truth  (5113,)\n",
        "predict  (11, 5113)\n"
       ]
      }
     ],
     "prompt_number": 295
    },
    {
     "cell_type": "code",
     "collapsed": false,
     "input": [
      "scores"
     ],
     "language": "python",
     "metadata": {},
     "outputs": [
      {
       "metadata": {},
       "output_type": "pyout",
       "prompt_number": 284,
       "text": [
        "2149912.2075845576"
       ]
      }
     ],
     "prompt_number": 284
    },
    {
     "cell_type": "code",
     "collapsed": false,
     "input": [
      "AllWeights = getAllWeights(stations[0:1], trainX, trainY, predictions, trainMonths, N=12)"
     ],
     "language": "python",
     "metadata": {},
     "outputs": [
      {
       "output_type": "stream",
       "stream": "stdout",
       "text": [
        "best score: 1583332.71727\n",
        "best score:"
       ]
      },
      {
       "output_type": "stream",
       "stream": "stdout",
       "text": [
        " 1985064.13216\n",
        "best score:"
       ]
      },
      {
       "output_type": "stream",
       "stream": "stdout",
       "text": [
        " 2301010.40222\n",
        "best score:"
       ]
      },
      {
       "output_type": "stream",
       "stream": "stdout",
       "text": [
        " 2402616.07494\n",
        "best score:"
       ]
      },
      {
       "output_type": "stream",
       "stream": "stdout",
       "text": [
        " 2720038.56817\n",
        "best score:"
       ]
      },
      {
       "output_type": "stream",
       "stream": "stdout",
       "text": [
        " 2679475.38272\n",
        "best score:"
       ]
      },
      {
       "output_type": "stream",
       "stream": "stdout",
       "text": [
        " 2357002.9115\n",
        "best score:"
       ]
      },
      {
       "output_type": "stream",
       "stream": "stdout",
       "text": [
        " 2505782.47956\n",
        "best score:"
       ]
      },
      {
       "output_type": "stream",
       "stream": "stdout",
       "text": [
        " 2023656.85336\n",
        "best score:"
       ]
      },
      {
       "output_type": "stream",
       "stream": "stdout",
       "text": [
        " 1628782.51673\n",
        "best score:"
       ]
      },
      {
       "output_type": "stream",
       "stream": "stdout",
       "text": [
        " 1522956.24123\n",
        "best score:"
       ]
      },
      {
       "output_type": "stream",
       "stream": "stdout",
       "text": [
        " 1330455.93294\n"
       ]
      }
     ],
     "prompt_number": 302
    },
    {
     "cell_type": "code",
     "collapsed": false,
     "input": [
      "len(predictions[0][0])"
     ],
     "language": "python",
     "metadata": {},
     "outputs": [
      {
       "metadata": {},
       "output_type": "pyout",
       "prompt_number": 280,
       "text": [
        "5113"
       ]
      }
     ],
     "prompt_number": 280
    },
    {
     "cell_type": "code",
     "collapsed": false,
     "input": [
      "stationPredictions = predictions[0]\n",
      "stationTruth = stations[0].filterGEFSy(trainY)\n",
      "weights = getStationWeights(trainX, stationTruth, stationPredictions, trainMonths, 12)\n"
     ],
     "language": "python",
     "metadata": {},
     "outputs": [
      {
       "ename": "TypeError",
       "evalue": "'numpy.float64' object is not callable",
       "output_type": "pyerr",
       "traceback": [
        "\u001b[1;31m---------------------------------------------------------------------------\u001b[0m\n\u001b[1;31mTypeError\u001b[0m                                 Traceback (most recent call last)",
        "\u001b[1;32m<ipython-input-289-f35c25c5d211>\u001b[0m in \u001b[0;36m<module>\u001b[1;34m()\u001b[0m\n\u001b[0;32m      1\u001b[0m \u001b[0mstationPredictions\u001b[0m \u001b[1;33m=\u001b[0m \u001b[0mpredictions\u001b[0m\u001b[1;33m[\u001b[0m\u001b[1;36m0\u001b[0m\u001b[1;33m]\u001b[0m\u001b[1;33m\u001b[0m\u001b[0m\n\u001b[0;32m      2\u001b[0m \u001b[0mstationTruth\u001b[0m \u001b[1;33m=\u001b[0m \u001b[0mstations\u001b[0m\u001b[1;33m[\u001b[0m\u001b[1;36m0\u001b[0m\u001b[1;33m]\u001b[0m\u001b[1;33m.\u001b[0m\u001b[0mfilterGEFSy\u001b[0m\u001b[1;33m(\u001b[0m\u001b[0mtrainY\u001b[0m\u001b[1;33m)\u001b[0m\u001b[1;33m\u001b[0m\u001b[0m\n\u001b[1;32m----> 3\u001b[1;33m \u001b[0mweights\u001b[0m \u001b[1;33m=\u001b[0m \u001b[0mgetStationWeights\u001b[0m\u001b[1;33m(\u001b[0m\u001b[0mtrainX\u001b[0m\u001b[1;33m,\u001b[0m \u001b[0mstationTruth\u001b[0m\u001b[1;33m,\u001b[0m \u001b[0mstationPredictions\u001b[0m\u001b[1;33m,\u001b[0m \u001b[0mtrainMonths\u001b[0m\u001b[1;33m,\u001b[0m \u001b[1;36m12\u001b[0m\u001b[1;33m)\u001b[0m\u001b[1;33m\u001b[0m\u001b[0m\n\u001b[0m",
        "\u001b[1;32m<ipython-input-288-eb6416041ea2>\u001b[0m in \u001b[0;36mgetStationWeights\u001b[1;34m(X, y, predictions, segments, N)\u001b[0m\n\u001b[0;32m      7\u001b[0m         \u001b[1;32mprint\u001b[0m \u001b[1;34m'truth shape'\u001b[0m\u001b[1;33m,\u001b[0m \u001b[0msegmentTruth\u001b[0m\u001b[1;33m.\u001b[0m\u001b[0mshape\u001b[0m\u001b[1;33m\u001b[0m\u001b[0m\n\u001b[0;32m      8\u001b[0m         \u001b[1;32mprint\u001b[0m \u001b[1;34m'predict shape'\u001b[0m\u001b[1;33m,\u001b[0m \u001b[0msegmentPredictions\u001b[0m\u001b[1;33m.\u001b[0m\u001b[0mshape\u001b[0m\u001b[1;33m\u001b[0m\u001b[0m\n\u001b[1;32m----> 9\u001b[1;33m         \u001b[0mnum_evaluations\u001b[0m\u001b[1;33m,\u001b[0m\u001b[0mbest_score\u001b[0m\u001b[1;33m,\u001b[0m\u001b[0mbest\u001b[0m\u001b[1;33m,\u001b[0m\u001b[0mfirst_score\u001b[0m \u001b[1;33m=\u001b[0m \u001b[0mhillclimb\u001b[0m\u001b[1;33m(\u001b[0m\u001b[0msegmentTruth\u001b[0m\u001b[1;33m,\u001b[0m \u001b[0msegmentPredictions\u001b[0m\u001b[1;33m,\u001b[0m \u001b[1;36m11000\u001b[0m\u001b[1;33m)\u001b[0m\u001b[1;33m\u001b[0m\u001b[0m\n\u001b[0m\u001b[0;32m     10\u001b[0m         \u001b[1;32mprint\u001b[0m \u001b[1;34m'best score:'\u001b[0m\u001b[1;33m,\u001b[0m \u001b[0mbest_score\u001b[0m\u001b[1;33m\u001b[0m\u001b[0m\n\u001b[0;32m     11\u001b[0m         \u001b[0msegmentWeights\u001b[0m\u001b[1;33m.\u001b[0m\u001b[0mappend\u001b[0m\u001b[1;33m(\u001b[0m\u001b[0mbest\u001b[0m\u001b[1;33m)\u001b[0m\u001b[1;33m\u001b[0m\u001b[0m\n",
        "\u001b[1;32m<ipython-input-259-2f47b001f9f0>\u001b[0m in \u001b[0;36mhillclimb\u001b[1;34m(truth, prediction, max_evaluations)\u001b[0m\n\u001b[0;32m     53\u001b[0m \u001b[1;32mdef\u001b[0m \u001b[0mhillclimb\u001b[0m\u001b[1;33m(\u001b[0m\u001b[0mtruth\u001b[0m\u001b[1;33m,\u001b[0m \u001b[0mprediction\u001b[0m\u001b[1;33m,\u001b[0m \u001b[0mmax_evaluations\u001b[0m\u001b[1;33m)\u001b[0m\u001b[1;33m:\u001b[0m\u001b[1;33m\u001b[0m\u001b[0m\n\u001b[0;32m     54\u001b[0m     \u001b[0mbest\u001b[0m \u001b[1;33m=\u001b[0m \u001b[0mrandom_init\u001b[0m\u001b[1;33m(\u001b[0m\u001b[0mprediction\u001b[0m\u001b[1;33m.\u001b[0m\u001b[0mshape\u001b[0m\u001b[1;33m[\u001b[0m\u001b[1;36m0\u001b[0m\u001b[1;33m]\u001b[0m\u001b[1;33m)\u001b[0m\u001b[1;33m\u001b[0m\u001b[0m\n\u001b[1;32m---> 55\u001b[1;33m     \u001b[0mbest_score\u001b[0m \u001b[1;33m=\u001b[0m \u001b[0mscore\u001b[0m\u001b[1;33m(\u001b[0m\u001b[0mtruth\u001b[0m\u001b[1;33m,\u001b[0m \u001b[0mprediction\u001b[0m\u001b[1;33m,\u001b[0m \u001b[0mbest\u001b[0m\u001b[1;33m)\u001b[0m\u001b[1;33m\u001b[0m\u001b[0m\n\u001b[0m\u001b[0;32m     56\u001b[0m     \u001b[0mfirst_score\u001b[0m \u001b[1;33m=\u001b[0m \u001b[0mbest_score\u001b[0m\u001b[1;33m\u001b[0m\u001b[0m\n\u001b[0;32m     57\u001b[0m \u001b[1;33m\u001b[0m\u001b[0m\n",
        "\u001b[1;31mTypeError\u001b[0m: 'numpy.float64' object is not callable"
       ]
      },
      {
       "output_type": "stream",
       "stream": "stdout",
       "text": [
        "truth shape (434,)\n",
        "predict shape (11, 434)\n",
        "random:  [ 0.08163265  0.10204082  0.14285714  0.04081633  0.02040816  0.18367347\n",
        "  0.12244898  0.02040816  0.10204082  0.10204082  0.08163265]\n"
       ]
      }
     ],
     "prompt_number": 289
    },
    {
     "cell_type": "code",
     "collapsed": false,
     "input": [
      "len(AllWeights[0])"
     ],
     "language": "python",
     "metadata": {},
     "outputs": [
      {
       "metadata": {},
       "output_type": "pyout",
       "prompt_number": 324,
       "text": [
        "12"
       ]
      }
     ],
     "prompt_number": 324
    },
    {
     "cell_type": "code",
     "collapsed": false,
     "input": [
      "AllWeights = getAllWeights(stations, trainX, trainY, predictions, trainMonths, N=12)\n",
      "\n",
      "FinalPredictions =  applyAllWeights(stations, predictions, AllWeights, trainMonths, N=12)\n",
      "\n",
      "print metrics.mean_absolute_error(trainY,FinalPredictions)"
     ],
     "language": "python",
     "metadata": {},
     "outputs": [
      {
       "output_type": "stream",
       "stream": "stdout",
       "text": [
        "best score: 1583317.25685\n",
        "best score:"
       ]
      },
      {
       "output_type": "stream",
       "stream": "stdout",
       "text": [
        " 1985710.75716\n",
        "best score:"
       ]
      },
      {
       "output_type": "stream",
       "stream": "stdout",
       "text": [
        " 2302209.27718\n",
        "best score:"
       ]
      },
      {
       "output_type": "stream",
       "stream": "stdout",
       "text": [
        " 2402321.41142\n",
        "best score:"
       ]
      },
      {
       "output_type": "stream",
       "stream": "stdout",
       "text": [
        " 2720468.46227\n",
        "best score:"
       ]
      },
      {
       "output_type": "stream",
       "stream": "stdout",
       "text": [
        " 2679517.39583\n",
        "best score:"
       ]
      },
      {
       "output_type": "stream",
       "stream": "stdout",
       "text": [
        " 2356648.1147\n",
        "best score:"
       ]
      },
      {
       "output_type": "stream",
       "stream": "stdout",
       "text": [
        " 2505814.27891\n",
        "best score:"
       ]
      },
      {
       "output_type": "stream",
       "stream": "stdout",
       "text": [
        " 2023594.51354\n",
        "best score:"
       ]
      },
      {
       "output_type": "stream",
       "stream": "stdout",
       "text": [
        " 1628998.99827\n",
        "best score:"
       ]
      },
      {
       "output_type": "stream",
       "stream": "stdout",
       "text": [
        " 1523117.05942\n",
        "best score:"
       ]
      },
      {
       "output_type": "stream",
       "stream": "stdout",
       "text": [
        " 1330339.60776\n",
        "best score:"
       ]
      },
      {
       "output_type": "stream",
       "stream": "stdout",
       "text": [
        " 1520077.25261\n",
        "best score:"
       ]
      },
      {
       "output_type": "stream",
       "stream": "stdout",
       "text": [
        " 2170776.86377\n",
        "best score:"
       ]
      },
      {
       "output_type": "stream",
       "stream": "stdout",
       "text": [
        " 2470495.21221\n",
        "best score:"
       ]
      },
      {
       "output_type": "stream",
       "stream": "stdout",
       "text": [
        " 2829094.72371\n",
        "best score:"
       ]
      },
      {
       "output_type": "stream",
       "stream": "stdout",
       "text": [
        " 3026764.09008\n",
        "best score:"
       ]
      },
      {
       "output_type": "stream",
       "stream": "stdout",
       "text": [
        " 3007530.88337\n",
        "best score:"
       ]
      },
      {
       "output_type": "stream",
       "stream": "stdout",
       "text": [
        " 2543784.9188\n",
        "best score:"
       ]
      },
      {
       "output_type": "stream",
       "stream": "stdout",
       "text": [
        " 2509680.25594\n",
        "best score:"
       ]
      },
      {
       "output_type": "stream",
       "stream": "stdout",
       "text": [
        " 2111673.17948\n",
        "best score:"
       ]
      },
      {
       "output_type": "stream",
       "stream": "stdout",
       "text": [
        " 1788395.96429\n",
        "best score:"
       ]
      },
      {
       "output_type": "stream",
       "stream": "stdout",
       "text": [
        " 1530447.86936\n",
        "best score:"
       ]
      },
      {
       "output_type": "stream",
       "stream": "stdout",
       "text": [
        " 1300432.24137\n",
        "best score:"
       ]
      },
      {
       "output_type": "stream",
       "stream": "stdout",
       "text": [
        " 1361666.92141\n",
        "best score:"
       ]
      },
      {
       "output_type": "stream",
       "stream": "stdout",
       "text": [
        " 1982157.65649\n",
        "best score:"
       ]
      },
      {
       "output_type": "stream",
       "stream": "stdout",
       "text": [
        " 2548775.2249\n",
        "best score:"
       ]
      },
      {
       "output_type": "stream",
       "stream": "stdout",
       "text": [
        " 2761127.22871\n",
        "best score:"
       ]
      },
      {
       "output_type": "stream",
       "stream": "stdout",
       "text": [
        " 2700798.78403\n",
        "best score:"
       ]
      },
      {
       "output_type": "stream",
       "stream": "stdout",
       "text": [
        " 3088745.21003\n",
        "best score:"
       ]
      },
      {
       "output_type": "stream",
       "stream": "stdout",
       "text": [
        " 2201305.30978\n",
        "best score:"
       ]
      },
      {
       "output_type": "stream",
       "stream": "stdout",
       "text": [
        " 2857056.65096\n",
        "best score:"
       ]
      },
      {
       "output_type": "stream",
       "stream": "stdout",
       "text": [
        " 2624530.53472\n",
        "best score:"
       ]
      },
      {
       "output_type": "stream",
       "stream": "stdout",
       "text": [
        " 1653112.47372\n",
        "best score:"
       ]
      },
      {
       "output_type": "stream",
       "stream": "stdout",
       "text": [
        " 1366923.69851\n",
        "best score:"
       ]
      },
      {
       "output_type": "stream",
       "stream": "stdout",
       "text": [
        " 1350070.35026\n",
        "best score:"
       ]
      },
      {
       "output_type": "stream",
       "stream": "stdout",
       "text": [
        " 1548473.79814\n",
        "best score:"
       ]
      },
      {
       "output_type": "stream",
       "stream": "stdout",
       "text": [
        " 2020435.619\n",
        "best score:"
       ]
      },
      {
       "output_type": "stream",
       "stream": "stdout",
       "text": [
        " 2217151.28517\n",
        "best score:"
       ]
      },
      {
       "output_type": "stream",
       "stream": "stdout",
       "text": [
        " 2461543.57339\n",
        "best score:"
       ]
      },
      {
       "output_type": "stream",
       "stream": "stdout",
       "text": [
        " 2753123.39561\n",
        "best score:"
       ]
      },
      {
       "output_type": "stream",
       "stream": "stdout",
       "text": [
        " 2770265.10323\n",
        "best score:"
       ]
      },
      {
       "output_type": "stream",
       "stream": "stdout",
       "text": [
        " 2392590.38909\n",
        "best score:"
       ]
      },
      {
       "output_type": "stream",
       "stream": "stdout",
       "text": [
        " 2176441.23607\n",
        "best score:"
       ]
      },
      {
       "output_type": "stream",
       "stream": "stdout",
       "text": [
        " 1963836.91588\n",
        "best score:"
       ]
      },
      {
       "output_type": "stream",
       "stream": "stdout",
       "text": [
        " 1610604.29716\n",
        "best score:"
       ]
      },
      {
       "output_type": "stream",
       "stream": "stdout",
       "text": [
        " 1472950.16247\n",
        "best score:"
       ]
      },
      {
       "output_type": "stream",
       "stream": "stdout",
       "text": [
        " 1313693.00062\n",
        "best score:"
       ]
      },
      {
       "output_type": "stream",
       "stream": "stdout",
       "text": [
        " 1478438.96993\n",
        "best score:"
       ]
      },
      {
       "output_type": "stream",
       "stream": "stdout",
       "text": [
        " 1962031.01393\n",
        "best score:"
       ]
      },
      {
       "output_type": "stream",
       "stream": "stdout",
       "text": [
        " 2141707.60098\n",
        "best score:"
       ]
      },
      {
       "output_type": "stream",
       "stream": "stdout",
       "text": [
        " 2331586.33097\n",
        "best score:"
       ]
      },
      {
       "output_type": "stream",
       "stream": "stdout",
       "text": [
        " 2905169.2139\n",
        "best score:"
       ]
      },
      {
       "output_type": "stream",
       "stream": "stdout",
       "text": [
        " 2966937.71709\n",
        "best score:"
       ]
      },
      {
       "output_type": "stream",
       "stream": "stdout",
       "text": [
        " 2795346.47719\n",
        "best score:"
       ]
      },
      {
       "output_type": "stream",
       "stream": "stdout",
       "text": [
        " 2421368.01491\n",
        "best score:"
       ]
      },
      {
       "output_type": "stream",
       "stream": "stdout",
       "text": [
        " 2248346.30847\n",
        "best score:"
       ]
      },
      {
       "output_type": "stream",
       "stream": "stdout",
       "text": [
        " 1738091.97256\n",
        "best score:"
       ]
      },
      {
       "output_type": "stream",
       "stream": "stdout",
       "text": [
        " 1403498.14647\n",
        "best score:"
       ]
      },
      {
       "output_type": "stream",
       "stream": "stdout",
       "text": [
        " 1247085.74568\n",
        "best score:"
       ]
      },
      {
       "output_type": "stream",
       "stream": "stdout",
       "text": [
        " 1487513.28803\n",
        "best score:"
       ]
      },
      {
       "output_type": "stream",
       "stream": "stdout",
       "text": [
        " 1919018.18124\n",
        "best score:"
       ]
      },
      {
       "output_type": "stream",
       "stream": "stdout",
       "text": [
        " 2237808.76808\n",
        "best score:"
       ]
      },
      {
       "output_type": "stream",
       "stream": "stdout",
       "text": [
        " 2620503.73001\n",
        "best score:"
       ]
      },
      {
       "output_type": "stream",
       "stream": "stdout",
       "text": [
        " 2872318.24081\n",
        "best score:"
       ]
      },
      {
       "output_type": "stream",
       "stream": "stdout",
       "text": [
        " 3034906.9216\n",
        "best score:"
       ]
      },
      {
       "output_type": "stream",
       "stream": "stdout",
       "text": [
        " 3011979.63988\n",
        "best score:"
       ]
      },
      {
       "output_type": "stream",
       "stream": "stdout",
       "text": [
        " 2748925.36065\n",
        "best score:"
       ]
      },
      {
       "output_type": "stream",
       "stream": "stdout",
       "text": [
        " 2056560.29466\n",
        "best score:"
       ]
      },
      {
       "output_type": "stream",
       "stream": "stdout",
       "text": [
        " 1959911.89534\n",
        "best score:"
       ]
      },
      {
       "output_type": "stream",
       "stream": "stdout",
       "text": [
        " 1398863.72923\n",
        "best score:"
       ]
      },
      {
       "output_type": "stream",
       "stream": "stdout",
       "text": [
        " 1204110.36576\n",
        "best score:"
       ]
      },
      {
       "output_type": "stream",
       "stream": "stdout",
       "text": [
        " 1486890.29177\n",
        "best score:"
       ]
      },
      {
       "output_type": "stream",
       "stream": "stdout",
       "text": [
        " 1834849.0262\n",
        "best score:"
       ]
      },
      {
       "output_type": "stream",
       "stream": "stdout",
       "text": [
        " 2213498.59404\n",
        "best score:"
       ]
      },
      {
       "output_type": "stream",
       "stream": "stdout",
       "text": [
        " 2374331.05436\n",
        "best score:"
       ]
      },
      {
       "output_type": "stream",
       "stream": "stdout",
       "text": [
        " 2648072.0721\n",
        "best score:"
       ]
      },
      {
       "output_type": "stream",
       "stream": "stdout",
       "text": [
        " 2895189.73451\n",
        "best score:"
       ]
      },
      {
       "output_type": "stream",
       "stream": "stdout",
       "text": [
        " 2423750.45225\n",
        "best score:"
       ]
      },
      {
       "output_type": "stream",
       "stream": "stdout",
       "text": [
        " 2141388.84435\n",
        "best score:"
       ]
      },
      {
       "output_type": "stream",
       "stream": "stdout",
       "text": [
        " 2022263.63726\n",
        "best score:"
       ]
      },
      {
       "output_type": "stream",
       "stream": "stdout",
       "text": [
        " 1598343.68751\n",
        "best score:"
       ]
      },
      {
       "output_type": "stream",
       "stream": "stdout",
       "text": [
        " 1370509.5395\n",
        "best score:"
       ]
      },
      {
       "output_type": "stream",
       "stream": "stdout",
       "text": [
        " 1290134.6176\n",
        "best score:"
       ]
      },
      {
       "output_type": "stream",
       "stream": "stdout",
       "text": [
        " 1443555.30669\n",
        "best score:"
       ]
      },
      {
       "output_type": "stream",
       "stream": "stdout",
       "text": [
        " 1917388.23774\n",
        "best score:"
       ]
      },
      {
       "output_type": "stream",
       "stream": "stdout",
       "text": [
        " 2521721.99075\n",
        "best score:"
       ]
      },
      {
       "output_type": "stream",
       "stream": "stdout",
       "text": [
        " 2862309.03912\n",
        "best score:"
       ]
      },
      {
       "output_type": "stream",
       "stream": "stdout",
       "text": [
        " 3020648.33403\n",
        "best score:"
       ]
      },
      {
       "output_type": "stream",
       "stream": "stdout",
       "text": [
        " 3161019.52384\n",
        "best score:"
       ]
      },
      {
       "output_type": "stream",
       "stream": "stdout",
       "text": [
        " 2871695.17221\n",
        "best score:"
       ]
      },
      {
       "output_type": "stream",
       "stream": "stdout",
       "text": [
        " 2427132.10914\n",
        "best score:"
       ]
      },
      {
       "output_type": "stream",
       "stream": "stdout",
       "text": [
        " 2026725.10772\n",
        "best score:"
       ]
      },
      {
       "output_type": "stream",
       "stream": "stdout",
       "text": [
        " 1786619.68698\n",
        "best score:"
       ]
      },
      {
       "output_type": "stream",
       "stream": "stdout",
       "text": [
        " 1432290.27128\n",
        "best score:"
       ]
      },
      {
       "output_type": "stream",
       "stream": "stdout",
       "text": [
        " 1253642.79489\n",
        "best score:"
       ]
      },
      {
       "output_type": "stream",
       "stream": "stdout",
       "text": [
        " 1488790.63132\n",
        "best score:"
       ]
      },
      {
       "output_type": "stream",
       "stream": "stdout",
       "text": [
        " 1831503.06077\n",
        "best score:"
       ]
      },
      {
       "output_type": "stream",
       "stream": "stdout",
       "text": [
        " 2259099.00951\n",
        "best score:"
       ]
      },
      {
       "output_type": "stream",
       "stream": "stdout",
       "text": [
        " 2429947.81664\n",
        "best score:"
       ]
      },
      {
       "output_type": "stream",
       "stream": "stdout",
       "text": [
        " 3385008.99952\n",
        "best score:"
       ]
      },
      {
       "output_type": "stream",
       "stream": "stdout",
       "text": [
        " 3308067.77308\n",
        "best score:"
       ]
      },
      {
       "output_type": "stream",
       "stream": "stdout",
       "text": [
        " 2590335.93793\n",
        "best score:"
       ]
      },
      {
       "output_type": "stream",
       "stream": "stdout",
       "text": [
        " 2128611.81442\n",
        "best score:"
       ]
      },
      {
       "output_type": "stream",
       "stream": "stdout",
       "text": [
        " 1744232.17565\n",
        "best score:"
       ]
      },
      {
       "output_type": "stream",
       "stream": "stdout",
       "text": [
        " 1602331.4896\n",
        "best score:"
       ]
      },
      {
       "output_type": "stream",
       "stream": "stdout",
       "text": [
        " 1362813.76237\n",
        "best score:"
       ]
      },
      {
       "output_type": "stream",
       "stream": "stdout",
       "text": [
        " 1263796.33836\n",
        "best score:"
       ]
      },
      {
       "output_type": "stream",
       "stream": "stdout",
       "text": [
        " 1533799.76813\n",
        "best score:"
       ]
      },
      {
       "output_type": "stream",
       "stream": "stdout",
       "text": [
        " 1877839.24329\n",
        "best score:"
       ]
      },
      {
       "output_type": "stream",
       "stream": "stdout",
       "text": [
        " 2232969.08728\n",
        "best score:"
       ]
      },
      {
       "output_type": "stream",
       "stream": "stdout",
       "text": [
        " 2150087.57575\n",
        "best score:"
       ]
      },
      {
       "output_type": "stream",
       "stream": "stdout",
       "text": [
        " 2786531.94084\n",
        "best score:"
       ]
      },
      {
       "output_type": "stream",
       "stream": "stdout",
       "text": [
        " 3040896.47105\n",
        "best score:"
       ]
      },
      {
       "output_type": "stream",
       "stream": "stdout",
       "text": [
        " 2881969.26034\n",
        "best score:"
       ]
      },
      {
       "output_type": "stream",
       "stream": "stdout",
       "text": [
        " 2422255.47166\n",
        "best score:"
       ]
      },
      {
       "output_type": "stream",
       "stream": "stdout",
       "text": [
        " 1966444.02455\n",
        "best score:"
       ]
      },
      {
       "output_type": "stream",
       "stream": "stdout",
       "text": [
        " 1599685.73484\n",
        "best score:"
       ]
      },
      {
       "output_type": "stream",
       "stream": "stdout",
       "text": [
        " 1526259.4366\n",
        "best score:"
       ]
      },
      {
       "output_type": "stream",
       "stream": "stdout",
       "text": [
        " 1495774.10134\n",
        "best score:"
       ]
      },
      {
       "output_type": "stream",
       "stream": "stdout",
       "text": [
        " 1599486.80334\n",
        "best score:"
       ]
      },
      {
       "output_type": "stream",
       "stream": "stdout",
       "text": [
        " 2071525.69077\n",
        "best score:"
       ]
      },
      {
       "output_type": "stream",
       "stream": "stdout",
       "text": [
        " 2224168.93898\n",
        "best score:"
       ]
      },
      {
       "output_type": "stream",
       "stream": "stdout",
       "text": [
        " 2527516.43021\n",
        "best score:"
       ]
      },
      {
       "output_type": "stream",
       "stream": "stdout",
       "text": [
        " 2841130.24702\n",
        "best score:"
       ]
      },
      {
       "output_type": "stream",
       "stream": "stdout",
       "text": [
        " 2985057.22394\n",
        "best score:"
       ]
      },
      {
       "output_type": "stream",
       "stream": "stdout",
       "text": [
        " 2251731.82064\n",
        "best score:"
       ]
      },
      {
       "output_type": "stream",
       "stream": "stdout",
       "text": [
        " 2348321.36912\n",
        "best score:"
       ]
      },
      {
       "output_type": "stream",
       "stream": "stdout",
       "text": [
        " 1974346.63802\n",
        "best score:"
       ]
      },
      {
       "output_type": "stream",
       "stream": "stdout",
       "text": [
        " 1834698.10275\n",
        "best score:"
       ]
      },
      {
       "output_type": "stream",
       "stream": "stdout",
       "text": [
        " 1567828.70582\n",
        "best score:"
       ]
      },
      {
       "output_type": "stream",
       "stream": "stdout",
       "text": [
        " 1351211.29888\n",
        "best score:"
       ]
      },
      {
       "output_type": "stream",
       "stream": "stdout",
       "text": [
        " 1545068.73872\n",
        "best score:"
       ]
      },
      {
       "output_type": "stream",
       "stream": "stdout",
       "text": [
        " 1969258.4686\n",
        "best score:"
       ]
      },
      {
       "output_type": "stream",
       "stream": "stdout",
       "text": [
        " 2294165.31806\n",
        "best score:"
       ]
      },
      {
       "output_type": "stream",
       "stream": "stdout",
       "text": [
        " 2524795.48028\n",
        "best score:"
       ]
      },
      {
       "output_type": "stream",
       "stream": "stdout",
       "text": [
        " 3050902.73728\n",
        "best score:"
       ]
      },
      {
       "output_type": "stream",
       "stream": "stdout",
       "text": [
        " 2891196.80614\n",
        "best score:"
       ]
      },
      {
       "output_type": "stream",
       "stream": "stdout",
       "text": [
        " 2573304.47616\n",
        "best score:"
       ]
      },
      {
       "output_type": "stream",
       "stream": "stdout",
       "text": [
        " 2343602.81122\n",
        "best score:"
       ]
      },
      {
       "output_type": "stream",
       "stream": "stdout",
       "text": [
        " 1974598.44506\n",
        "best score:"
       ]
      },
      {
       "output_type": "stream",
       "stream": "stdout",
       "text": [
        " 1693837.87032\n",
        "best score:"
       ]
      },
      {
       "output_type": "stream",
       "stream": "stdout",
       "text": [
        " 1424854.04639\n",
        "best score:"
       ]
      },
      {
       "output_type": "stream",
       "stream": "stdout",
       "text": [
        " 1291992.29353\n",
        "best score:"
       ]
      },
      {
       "output_type": "stream",
       "stream": "stdout",
       "text": [
        " 1465492.44586\n",
        "best score:"
       ]
      },
      {
       "output_type": "stream",
       "stream": "stdout",
       "text": [
        " 1914901.13659\n",
        "best score:"
       ]
      },
      {
       "output_type": "stream",
       "stream": "stdout",
       "text": [
        " 2290141.61742\n",
        "best score:"
       ]
      },
      {
       "output_type": "stream",
       "stream": "stdout",
       "text": [
        " 2668517.66381\n",
        "best score:"
       ]
      },
      {
       "output_type": "stream",
       "stream": "stdout",
       "text": [
        " 2835208.06384\n",
        "best score:"
       ]
      },
      {
       "output_type": "stream",
       "stream": "stdout",
       "text": [
        " 2776832.52093\n",
        "best score:"
       ]
      },
      {
       "output_type": "stream",
       "stream": "stdout",
       "text": [
        " 2380780.14887\n",
        "best score:"
       ]
      },
      {
       "output_type": "stream",
       "stream": "stdout",
       "text": [
        " 2324093.07129\n",
        "best score:"
       ]
      },
      {
       "output_type": "stream",
       "stream": "stdout",
       "text": [
        " 2078597.9117\n",
        "best score:"
       ]
      },
      {
       "output_type": "stream",
       "stream": "stdout",
       "text": [
        " 1807644.74776\n",
        "best score:"
       ]
      },
      {
       "output_type": "stream",
       "stream": "stdout",
       "text": [
        " 1422379.46834\n",
        "best score:"
       ]
      },
      {
       "output_type": "stream",
       "stream": "stdout",
       "text": [
        " 1219804.99057\n",
        "best score:"
       ]
      },
      {
       "output_type": "stream",
       "stream": "stdout",
       "text": [
        " 1428601.42116\n",
        "best score:"
       ]
      },
      {
       "output_type": "stream",
       "stream": "stdout",
       "text": [
        " 1992960.42523\n",
        "best score:"
       ]
      },
      {
       "output_type": "stream",
       "stream": "stdout",
       "text": [
        " 2278146.38427\n",
        "best score:"
       ]
      },
      {
       "output_type": "stream",
       "stream": "stdout",
       "text": [
        " 2487640.8403\n",
        "best score:"
       ]
      },
      {
       "output_type": "stream",
       "stream": "stdout",
       "text": [
        " 3591489.29681\n",
        "best score:"
       ]
      },
      {
       "output_type": "stream",
       "stream": "stdout",
       "text": [
        " 2972453.86834\n",
        "best score:"
       ]
      },
      {
       "output_type": "stream",
       "stream": "stdout",
       "text": [
        " 2837430.36338\n",
        "best score:"
       ]
      },
      {
       "output_type": "stream",
       "stream": "stdout",
       "text": [
        " 2550852.28245\n",
        "best score:"
       ]
      },
      {
       "output_type": "stream",
       "stream": "stdout",
       "text": [
        " 2304258.1381\n",
        "best score:"
       ]
      },
      {
       "output_type": "stream",
       "stream": "stdout",
       "text": [
        " 1818301.37896\n",
        "best score:"
       ]
      },
      {
       "output_type": "stream",
       "stream": "stdout",
       "text": [
        " 1486818.70361\n",
        "best score:"
       ]
      },
      {
       "output_type": "stream",
       "stream": "stdout",
       "text": [
        " 1319200.00337\n",
        "best score:"
       ]
      },
      {
       "output_type": "stream",
       "stream": "stdout",
       "text": [
        " 1440493.43056\n",
        "best score:"
       ]
      },
      {
       "output_type": "stream",
       "stream": "stdout",
       "text": [
        " 1798278.40294\n",
        "best score:"
       ]
      },
      {
       "output_type": "stream",
       "stream": "stdout",
       "text": [
        " 2280545.15109\n",
        "best score:"
       ]
      },
      {
       "output_type": "stream",
       "stream": "stdout",
       "text": [
        " 2511041.45178\n",
        "best score:"
       ]
      },
      {
       "output_type": "stream",
       "stream": "stdout",
       "text": [
        " 2947796.7833\n",
        "best score:"
       ]
      },
      {
       "output_type": "stream",
       "stream": "stdout",
       "text": [
        " 2870839.4404\n",
        "best score:"
       ]
      },
      {
       "output_type": "stream",
       "stream": "stdout",
       "text": [
        " 2541103.89145\n",
        "best score:"
       ]
      },
      {
       "output_type": "stream",
       "stream": "stdout",
       "text": [
        " 2153949.8213\n",
        "best score:"
       ]
      },
      {
       "output_type": "stream",
       "stream": "stdout",
       "text": [
        " 1878478.55881\n",
        "best score:"
       ]
      },
      {
       "output_type": "stream",
       "stream": "stdout",
       "text": [
        " 1732038.77502\n",
        "best score:"
       ]
      },
      {
       "output_type": "stream",
       "stream": "stdout",
       "text": [
        " 1770706.6693\n",
        "best score:"
       ]
      },
      {
       "output_type": "stream",
       "stream": "stdout",
       "text": [
        " 1222527.80002\n",
        "best score:"
       ]
      },
      {
       "output_type": "stream",
       "stream": "stdout",
       "text": [
        " 1640769.57763\n",
        "best score:"
       ]
      },
      {
       "output_type": "stream",
       "stream": "stdout",
       "text": [
        " 2090265.55112\n",
        "best score:"
       ]
      },
      {
       "output_type": "stream",
       "stream": "stdout",
       "text": [
        " 2647762.3209\n",
        "best score:"
       ]
      },
      {
       "output_type": "stream",
       "stream": "stdout",
       "text": [
        " 2723993.95365\n",
        "best score:"
       ]
      },
      {
       "output_type": "stream",
       "stream": "stdout",
       "text": [
        " 3098753.61113\n",
        "best score:"
       ]
      },
      {
       "output_type": "stream",
       "stream": "stdout",
       "text": [
        " 2775534.57684\n",
        "best score:"
       ]
      },
      {
       "output_type": "stream",
       "stream": "stdout",
       "text": [
        " 2676246.54805\n",
        "best score:"
       ]
      },
      {
       "output_type": "stream",
       "stream": "stdout",
       "text": [
        " 2348817.7922\n",
        "best score:"
       ]
      },
      {
       "output_type": "stream",
       "stream": "stdout",
       "text": [
        " 1995288.22257\n",
        "best score:"
       ]
      },
      {
       "output_type": "stream",
       "stream": "stdout",
       "text": [
        " 1804107.50531\n",
        "best score:"
       ]
      },
      {
       "output_type": "stream",
       "stream": "stdout",
       "text": [
        " 1560722.80555\n",
        "best score:"
       ]
      },
      {
       "output_type": "stream",
       "stream": "stdout",
       "text": [
        " 1463951.56225\n",
        "best score:"
       ]
      },
      {
       "output_type": "stream",
       "stream": "stdout",
       "text": [
        " 1549963.67201\n",
        "best score:"
       ]
      },
      {
       "output_type": "stream",
       "stream": "stdout",
       "text": [
        " 2036491.13981\n",
        "best score:"
       ]
      },
      {
       "output_type": "stream",
       "stream": "stdout",
       "text": [
        " 2308049.83593\n",
        "best score:"
       ]
      },
      {
       "output_type": "stream",
       "stream": "stdout",
       "text": [
        " 2391711.62966\n",
        "best score:"
       ]
      },
      {
       "output_type": "stream",
       "stream": "stdout",
       "text": [
        " 2725344.3471\n",
        "best score:"
       ]
      },
      {
       "output_type": "stream",
       "stream": "stdout",
       "text": [
        " 3641666.17917\n",
        "best score:"
       ]
      },
      {
       "output_type": "stream",
       "stream": "stdout",
       "text": [
        " 2616371.0999\n",
        "best score:"
       ]
      },
      {
       "output_type": "stream",
       "stream": "stdout",
       "text": [
        " 2349009.28182\n",
        "best score:"
       ]
      },
      {
       "output_type": "stream",
       "stream": "stdout",
       "text": [
        " 2406607.91645\n",
        "best score:"
       ]
      },
      {
       "output_type": "stream",
       "stream": "stdout",
       "text": [
        " 1820349.66192\n",
        "best score:"
       ]
      },
      {
       "output_type": "stream",
       "stream": "stdout",
       "text": [
        " 1523800.5661\n",
        "best score:"
       ]
      },
      {
       "output_type": "stream",
       "stream": "stdout",
       "text": [
        " 1353325.921\n",
        "best score:"
       ]
      },
      {
       "output_type": "stream",
       "stream": "stdout",
       "text": [
        " 1571604.57528\n",
        "best score:"
       ]
      },
      {
       "output_type": "stream",
       "stream": "stdout",
       "text": [
        " 2270343.77942\n",
        "best score:"
       ]
      },
      {
       "output_type": "stream",
       "stream": "stdout",
       "text": [
        " 2294492.35809\n",
        "best score:"
       ]
      },
      {
       "output_type": "stream",
       "stream": "stdout",
       "text": [
        " 2628667.506\n",
        "best score:"
       ]
      },
      {
       "output_type": "stream",
       "stream": "stdout",
       "text": [
        " 2971987.48407\n",
        "best score:"
       ]
      },
      {
       "output_type": "stream",
       "stream": "stdout",
       "text": [
        " 2983508.60364\n",
        "best score:"
       ]
      },
      {
       "output_type": "stream",
       "stream": "stdout",
       "text": [
        " 2651866.8483\n",
        "best score:"
       ]
      },
      {
       "output_type": "stream",
       "stream": "stdout",
       "text": [
        " 2659559.58282\n",
        "best score:"
       ]
      },
      {
       "output_type": "stream",
       "stream": "stdout",
       "text": [
        " 2177621.78859\n",
        "best score:"
       ]
      },
      {
       "output_type": "stream",
       "stream": "stdout",
       "text": [
        " 1773520.87308\n",
        "best score:"
       ]
      },
      {
       "output_type": "stream",
       "stream": "stdout",
       "text": [
        " 1539727.14287\n",
        "best score:"
       ]
      },
      {
       "output_type": "stream",
       "stream": "stdout",
       "text": [
        " 1336056.38635\n",
        "best score:"
       ]
      },
      {
       "output_type": "stream",
       "stream": "stdout",
       "text": [
        " 1572158.47819\n",
        "best score:"
       ]
      },
      {
       "output_type": "stream",
       "stream": "stdout",
       "text": [
        " 2030703.46381\n",
        "best score:"
       ]
      },
      {
       "output_type": "stream",
       "stream": "stdout",
       "text": [
        " 2316135.94868\n",
        "best score:"
       ]
      },
      {
       "output_type": "stream",
       "stream": "stdout",
       "text": [
        " 2535258.04305\n",
        "best score:"
       ]
      },
      {
       "output_type": "stream",
       "stream": "stdout",
       "text": [
        " 2959347.93934\n",
        "best score:"
       ]
      },
      {
       "output_type": "stream",
       "stream": "stdout",
       "text": [
        " 2963217.28059\n",
        "best score:"
       ]
      },
      {
       "output_type": "stream",
       "stream": "stdout",
       "text": [
        " 3070077.34059\n",
        "best score:"
       ]
      },
      {
       "output_type": "stream",
       "stream": "stdout",
       "text": [
        " 2453706.43066\n",
        "best score:"
       ]
      },
      {
       "output_type": "stream",
       "stream": "stdout",
       "text": [
        " 2101130.89042\n",
        "best score:"
       ]
      },
      {
       "output_type": "stream",
       "stream": "stdout",
       "text": [
        " 1820135.43601\n",
        "best score:"
       ]
      },
      {
       "output_type": "stream",
       "stream": "stdout",
       "text": [
        " 1424340.45171\n",
        "best score:"
       ]
      },
      {
       "output_type": "stream",
       "stream": "stdout",
       "text": [
        " 1305892.23846\n",
        "best score:"
       ]
      },
      {
       "output_type": "stream",
       "stream": "stdout",
       "text": [
        " 1614440.25583\n",
        "best score:"
       ]
      },
      {
       "output_type": "stream",
       "stream": "stdout",
       "text": [
        " 2173708.80785\n",
        "best score:"
       ]
      },
      {
       "output_type": "stream",
       "stream": "stdout",
       "text": [
        " 2416892.32105\n",
        "best score:"
       ]
      },
      {
       "output_type": "stream",
       "stream": "stdout",
       "text": [
        " 2734276.38975\n",
        "best score:"
       ]
      },
      {
       "output_type": "stream",
       "stream": "stdout",
       "text": [
        " 3163571.10291\n",
        "best score:"
       ]
      },
      {
       "output_type": "stream",
       "stream": "stdout",
       "text": [
        " 2877996.8033\n",
        "best score:"
       ]
      },
      {
       "output_type": "stream",
       "stream": "stdout",
       "text": [
        " 2663808.32441\n",
        "best score:"
       ]
      },
      {
       "output_type": "stream",
       "stream": "stdout",
       "text": [
        " 2510015.96917\n",
        "best score:"
       ]
      },
      {
       "output_type": "stream",
       "stream": "stdout",
       "text": [
        " 2159348.16278\n",
        "best score:"
       ]
      },
      {
       "output_type": "stream",
       "stream": "stdout",
       "text": [
        " 1747277.43796\n",
        "best score:"
       ]
      },
      {
       "output_type": "stream",
       "stream": "stdout",
       "text": [
        " 1493752.68299\n",
        "best score:"
       ]
      },
      {
       "output_type": "stream",
       "stream": "stdout",
       "text": [
        " 1394420.53051\n",
        "best score:"
       ]
      },
      {
       "output_type": "stream",
       "stream": "stdout",
       "text": [
        " 1461154.10881\n",
        "best score:"
       ]
      },
      {
       "output_type": "stream",
       "stream": "stdout",
       "text": [
        " 1977306.26382\n",
        "best score:"
       ]
      },
      {
       "output_type": "stream",
       "stream": "stdout",
       "text": [
        " 2172838.61643\n",
        "best score:"
       ]
      },
      {
       "output_type": "stream",
       "stream": "stdout",
       "text": [
        " 2443108.94108\n",
        "best score:"
       ]
      },
      {
       "output_type": "stream",
       "stream": "stdout",
       "text": [
        " 2800090.62853\n",
        "best score:"
       ]
      },
      {
       "output_type": "stream",
       "stream": "stdout",
       "text": [
        " 3116318.8855\n",
        "best score:"
       ]
      },
      {
       "output_type": "stream",
       "stream": "stdout",
       "text": [
        " 2995211.59477\n",
        "best score:"
       ]
      },
      {
       "output_type": "stream",
       "stream": "stdout",
       "text": [
        " 2405142.74644\n",
        "best score:"
       ]
      },
      {
       "output_type": "stream",
       "stream": "stdout",
       "text": [
        " 2047221.77285\n",
        "best score:"
       ]
      },
      {
       "output_type": "stream",
       "stream": "stdout",
       "text": [
        " 1832422.17138\n",
        "best score:"
       ]
      },
      {
       "output_type": "stream",
       "stream": "stdout",
       "text": [
        " 1437025.39154\n",
        "best score:"
       ]
      },
      {
       "output_type": "stream",
       "stream": "stdout",
       "text": [
        " 1280103.95668\n",
        "best score:"
       ]
      },
      {
       "output_type": "stream",
       "stream": "stdout",
       "text": [
        " 1548460.94902\n",
        "best score:"
       ]
      },
      {
       "output_type": "stream",
       "stream": "stdout",
       "text": [
        " 2034834.63539\n",
        "best score:"
       ]
      },
      {
       "output_type": "stream",
       "stream": "stdout",
       "text": [
        " 2295600.48204\n",
        "best score:"
       ]
      },
      {
       "output_type": "stream",
       "stream": "stdout",
       "text": [
        " 2557865.74388\n",
        "best score:"
       ]
      },
      {
       "output_type": "stream",
       "stream": "stdout",
       "text": [
        " 2973867.00096\n",
        "best score:"
       ]
      },
      {
       "output_type": "stream",
       "stream": "stdout",
       "text": [
        " 2913090.89154\n",
        "best score:"
       ]
      },
      {
       "output_type": "stream",
       "stream": "stdout",
       "text": [
        " 2688511.95179\n",
        "best score:"
       ]
      },
      {
       "output_type": "stream",
       "stream": "stdout",
       "text": [
        " 2489291.11113\n",
        "best score:"
       ]
      },
      {
       "output_type": "stream",
       "stream": "stdout",
       "text": [
        " 1968458.22459\n",
        "best score:"
       ]
      },
      {
       "output_type": "stream",
       "stream": "stdout",
       "text": [
        " 1832985.9098\n",
        "best score:"
       ]
      },
      {
       "output_type": "stream",
       "stream": "stdout",
       "text": [
        " 1455069.38977\n",
        "best score:"
       ]
      },
      {
       "output_type": "stream",
       "stream": "stdout",
       "text": [
        " 1378852.70152\n",
        "best score:"
       ]
      },
      {
       "output_type": "stream",
       "stream": "stdout",
       "text": [
        " 1615161.32354\n",
        "best score:"
       ]
      },
      {
       "output_type": "stream",
       "stream": "stdout",
       "text": [
        " 2177404.81936\n",
        "best score:"
       ]
      },
      {
       "output_type": "stream",
       "stream": "stdout",
       "text": [
        " 2448411.31801\n",
        "best score:"
       ]
      },
      {
       "output_type": "stream",
       "stream": "stdout",
       "text": [
        " 2311654.32785\n",
        "best score:"
       ]
      },
      {
       "output_type": "stream",
       "stream": "stdout",
       "text": [
        " 2943873.23\n",
        "best score:"
       ]
      },
      {
       "output_type": "stream",
       "stream": "stdout",
       "text": [
        " 2704341.15011\n",
        "best score:"
       ]
      },
      {
       "output_type": "stream",
       "stream": "stdout",
       "text": [
        " 2644117.27386\n",
        "best score:"
       ]
      },
      {
       "output_type": "stream",
       "stream": "stdout",
       "text": [
        " 2593631.98229\n",
        "best score:"
       ]
      },
      {
       "output_type": "stream",
       "stream": "stdout",
       "text": [
        " 2421177.02583\n",
        "best score:"
       ]
      },
      {
       "output_type": "stream",
       "stream": "stdout",
       "text": [
        " 1846020.85806\n",
        "best score:"
       ]
      },
      {
       "output_type": "stream",
       "stream": "stdout",
       "text": [
        " 1559200.15012\n",
        "best score:"
       ]
      },
      {
       "output_type": "stream",
       "stream": "stdout",
       "text": [
        " 1463895.41491\n",
        "best score:"
       ]
      },
      {
       "output_type": "stream",
       "stream": "stdout",
       "text": [
        " 1580324.73602\n",
        "best score:"
       ]
      },
      {
       "output_type": "stream",
       "stream": "stdout",
       "text": [
        " 1990876.29075\n",
        "best score:"
       ]
      },
      {
       "output_type": "stream",
       "stream": "stdout",
       "text": [
        " 2200861.11215\n",
        "best score:"
       ]
      },
      {
       "output_type": "stream",
       "stream": "stdout",
       "text": [
        " 2390482.77719\n",
        "best score:"
       ]
      },
      {
       "output_type": "stream",
       "stream": "stdout",
       "text": [
        " 2821040.81729\n",
        "best score:"
       ]
      },
      {
       "output_type": "stream",
       "stream": "stdout",
       "text": [
        " 2872189.26695\n",
        "best score:"
       ]
      },
      {
       "output_type": "stream",
       "stream": "stdout",
       "text": [
        " 2217657.43558\n",
        "best score:"
       ]
      },
      {
       "output_type": "stream",
       "stream": "stdout",
       "text": [
        " 2025227.74725\n",
        "best score:"
       ]
      },
      {
       "output_type": "stream",
       "stream": "stdout",
       "text": [
        " 2002283.38914\n",
        "best score:"
       ]
      },
      {
       "output_type": "stream",
       "stream": "stdout",
       "text": [
        " 1692236.79983\n",
        "best score:"
       ]
      },
      {
       "output_type": "stream",
       "stream": "stdout",
       "text": [
        " 1463400.98959\n",
        "best score:"
       ]
      },
      {
       "output_type": "stream",
       "stream": "stdout",
       "text": [
        " 1239097.79477\n",
        "best score:"
       ]
      },
      {
       "output_type": "stream",
       "stream": "stdout",
       "text": [
        " 1717658.06991\n",
        "best score:"
       ]
      },
      {
       "output_type": "stream",
       "stream": "stdout",
       "text": [
        " 2328841.6776\n",
        "best score:"
       ]
      },
      {
       "output_type": "stream",
       "stream": "stdout",
       "text": [
        " 2657894.60384\n",
        "best score:"
       ]
      },
      {
       "output_type": "stream",
       "stream": "stdout",
       "text": [
        " 3763247.84908\n",
        "best score:"
       ]
      },
      {
       "output_type": "stream",
       "stream": "stdout",
       "text": [
        " 4474373.0623\n",
        "best score:"
       ]
      },
      {
       "output_type": "stream",
       "stream": "stdout",
       "text": [
        " 4281785.87837\n",
        "best score:"
       ]
      },
      {
       "output_type": "stream",
       "stream": "stdout",
       "text": [
        " 4434932.68465\n",
        "best score:"
       ]
      },
      {
       "output_type": "stream",
       "stream": "stdout",
       "text": [
        " 3471975.31557\n",
        "best score:"
       ]
      },
      {
       "output_type": "stream",
       "stream": "stdout",
       "text": [
        " 2365485.50593\n",
        "best score:"
       ]
      },
      {
       "output_type": "stream",
       "stream": "stdout",
       "text": [
        " 1934753.95847\n",
        "best score:"
       ]
      },
      {
       "output_type": "stream",
       "stream": "stdout",
       "text": [
        " 1789798.05078\n",
        "best score:"
       ]
      },
      {
       "output_type": "stream",
       "stream": "stdout",
       "text": [
        " 1651301.30531\n",
        "best score:"
       ]
      },
      {
       "output_type": "stream",
       "stream": "stdout",
       "text": [
        " 1870879.21419\n",
        "best score:"
       ]
      },
      {
       "output_type": "stream",
       "stream": "stdout",
       "text": [
        " 2192146.50189\n",
        "best score:"
       ]
      },
      {
       "output_type": "stream",
       "stream": "stdout",
       "text": [
        " 2606083.13128\n",
        "best score:"
       ]
      },
      {
       "output_type": "stream",
       "stream": "stdout",
       "text": [
        " 3730966.13653\n",
        "best score:"
       ]
      },
      {
       "output_type": "stream",
       "stream": "stdout",
       "text": [
        " 4127035.76105\n",
        "best score:"
       ]
      },
      {
       "output_type": "stream",
       "stream": "stdout",
       "text": [
        " 4071287.55122\n",
        "best score:"
       ]
      },
      {
       "output_type": "stream",
       "stream": "stdout",
       "text": [
        " 4206329.62025\n",
        "best score:"
       ]
      },
      {
       "output_type": "stream",
       "stream": "stdout",
       "text": [
        " 3562598.50682\n",
        "best score:"
       ]
      },
      {
       "output_type": "stream",
       "stream": "stdout",
       "text": [
        " 2484719.74678\n",
        "best score:"
       ]
      },
      {
       "output_type": "stream",
       "stream": "stdout",
       "text": [
        " 1846524.48569\n",
        "best score:"
       ]
      },
      {
       "output_type": "stream",
       "stream": "stdout",
       "text": [
        " 1825090.00666\n",
        "best score:"
       ]
      },
      {
       "output_type": "stream",
       "stream": "stdout",
       "text": [
        " 1596962.69961\n",
        "best score:"
       ]
      },
      {
       "output_type": "stream",
       "stream": "stdout",
       "text": [
        " 1597556.43924\n",
        "best score:"
       ]
      },
      {
       "output_type": "stream",
       "stream": "stdout",
       "text": [
        " 2027596.68519\n",
        "best score:"
       ]
      },
      {
       "output_type": "stream",
       "stream": "stdout",
       "text": [
        " 2428861.36894\n",
        "best score:"
       ]
      },
      {
       "output_type": "stream",
       "stream": "stdout",
       "text": [
        " 3517047.12886\n",
        "best score:"
       ]
      },
      {
       "output_type": "stream",
       "stream": "stdout",
       "text": [
        " 3715160.06996\n",
        "best score:"
       ]
      },
      {
       "output_type": "stream",
       "stream": "stdout",
       "text": [
        " 4344526.53444\n",
        "best score:"
       ]
      },
      {
       "output_type": "stream",
       "stream": "stdout",
       "text": [
        " 4775084.53847\n",
        "best score:"
       ]
      },
      {
       "output_type": "stream",
       "stream": "stdout",
       "text": [
        " 4305977.46725\n",
        "best score:"
       ]
      },
      {
       "output_type": "stream",
       "stream": "stdout",
       "text": [
        " 2533889.48516\n",
        "best score:"
       ]
      },
      {
       "output_type": "stream",
       "stream": "stdout",
       "text": [
        " 1876236.71288\n",
        "best score:"
       ]
      },
      {
       "output_type": "stream",
       "stream": "stdout",
       "text": [
        " 1552019.41676\n",
        "best score:"
       ]
      },
      {
       "output_type": "stream",
       "stream": "stdout",
       "text": [
        " 1373071.11715\n",
        "best score:"
       ]
      },
      {
       "output_type": "stream",
       "stream": "stdout",
       "text": [
        " 1446224.51966\n",
        "best score:"
       ]
      },
      {
       "output_type": "stream",
       "stream": "stdout",
       "text": [
        " 1899743.55065\n",
        "best score:"
       ]
      },
      {
       "output_type": "stream",
       "stream": "stdout",
       "text": [
        " 2423241.30816\n",
        "best score:"
       ]
      },
      {
       "output_type": "stream",
       "stream": "stdout",
       "text": [
        " 2361630.60742\n",
        "best score:"
       ]
      },
      {
       "output_type": "stream",
       "stream": "stdout",
       "text": [
        " 2829373.43072\n",
        "best score:"
       ]
      },
      {
       "output_type": "stream",
       "stream": "stdout",
       "text": [
        " 2648818.64065\n",
        "best score:"
       ]
      },
      {
       "output_type": "stream",
       "stream": "stdout",
       "text": [
        " 2413548.17666\n",
        "best score:"
       ]
      },
      {
       "output_type": "stream",
       "stream": "stdout",
       "text": [
        " 2017080.66523\n",
        "best score:"
       ]
      },
      {
       "output_type": "stream",
       "stream": "stdout",
       "text": [
        " 1931214.69112\n",
        "best score:"
       ]
      },
      {
       "output_type": "stream",
       "stream": "stdout",
       "text": [
        " 1716720.94444\n",
        "best score:"
       ]
      },
      {
       "output_type": "stream",
       "stream": "stdout",
       "text": [
        " 1403092.22412\n",
        "best score:"
       ]
      },
      {
       "output_type": "stream",
       "stream": "stdout",
       "text": [
        " 1312023.72149\n",
        "best score:"
       ]
      },
      {
       "output_type": "stream",
       "stream": "stdout",
       "text": [
        " 1658851.41555\n",
        "best score:"
       ]
      },
      {
       "output_type": "stream",
       "stream": "stdout",
       "text": [
        " 2049991.70491\n",
        "best score:"
       ]
      },
      {
       "output_type": "stream",
       "stream": "stdout",
       "text": [
        " 2578593.96406\n",
        "best score:"
       ]
      },
      {
       "output_type": "stream",
       "stream": "stdout",
       "text": [
        " 3014224.08105\n",
        "best score:"
       ]
      },
      {
       "output_type": "stream",
       "stream": "stdout",
       "text": [
        " 3224203.53024\n",
        "best score:"
       ]
      },
      {
       "output_type": "stream",
       "stream": "stdout",
       "text": [
        " 3161519.86397\n",
        "best score:"
       ]
      },
      {
       "output_type": "stream",
       "stream": "stdout",
       "text": [
        " 2936732.32103\n",
        "best score:"
       ]
      },
      {
       "output_type": "stream",
       "stream": "stdout",
       "text": [
        " 2529817.56984\n",
        "best score:"
       ]
      },
      {
       "output_type": "stream",
       "stream": "stdout",
       "text": [
        " 2164597.20992\n",
        "best score:"
       ]
      },
      {
       "output_type": "stream",
       "stream": "stdout",
       "text": [
        " 1715013.95267\n",
        "best score:"
       ]
      },
      {
       "output_type": "stream",
       "stream": "stdout",
       "text": [
        " 1728544.92707\n",
        "best score:"
       ]
      },
      {
       "output_type": "stream",
       "stream": "stdout",
       "text": [
        " 1468708.00223\n",
        "best score:"
       ]
      },
      {
       "output_type": "stream",
       "stream": "stdout",
       "text": [
        " 1519346.42721\n",
        "best score:"
       ]
      },
      {
       "output_type": "stream",
       "stream": "stdout",
       "text": [
        " 2029791.32073\n",
        "best score:"
       ]
      },
      {
       "output_type": "stream",
       "stream": "stdout",
       "text": [
        " 2212161.10127\n",
        "best score:"
       ]
      },
      {
       "output_type": "stream",
       "stream": "stdout",
       "text": [
        " 2447868.26257\n",
        "best score:"
       ]
      },
      {
       "output_type": "stream",
       "stream": "stdout",
       "text": [
        " 2821999.32045\n",
        "best score:"
       ]
      },
      {
       "output_type": "stream",
       "stream": "stdout",
       "text": [
        " 2874383.95579\n",
        "best score:"
       ]
      },
      {
       "output_type": "stream",
       "stream": "stdout",
       "text": [
        " 2212942.1444\n",
        "best score:"
       ]
      },
      {
       "output_type": "stream",
       "stream": "stdout",
       "text": [
        " 2283671.19381\n",
        "best score:"
       ]
      },
      {
       "output_type": "stream",
       "stream": "stdout",
       "text": [
        " 1907438.01254\n",
        "best score:"
       ]
      },
      {
       "output_type": "stream",
       "stream": "stdout",
       "text": [
        " 1632926.3009\n",
        "best score:"
       ]
      },
      {
       "output_type": "stream",
       "stream": "stdout",
       "text": [
        " 1471488.39017\n",
        "best score:"
       ]
      },
      {
       "output_type": "stream",
       "stream": "stdout",
       "text": [
        " 1211023.19109\n",
        "best score:"
       ]
      },
      {
       "output_type": "stream",
       "stream": "stdout",
       "text": [
        " 1539924.47436\n",
        "best score:"
       ]
      },
      {
       "output_type": "stream",
       "stream": "stdout",
       "text": [
        " 1999310.84742\n",
        "best score:"
       ]
      },
      {
       "output_type": "stream",
       "stream": "stdout",
       "text": [
        " 2449234.18713\n",
        "best score:"
       ]
      },
      {
       "output_type": "stream",
       "stream": "stdout",
       "text": [
        " 2265833.38463\n",
        "best score:"
       ]
      },
      {
       "output_type": "stream",
       "stream": "stdout",
       "text": [
        " 2819972.9701\n",
        "best score:"
       ]
      },
      {
       "output_type": "stream",
       "stream": "stdout",
       "text": [
        " 3291846.27127\n",
        "best score:"
       ]
      },
      {
       "output_type": "stream",
       "stream": "stdout",
       "text": [
        " 2320091.08093\n",
        "best score:"
       ]
      },
      {
       "output_type": "stream",
       "stream": "stdout",
       "text": [
        " 2259840.71214\n",
        "best score:"
       ]
      },
      {
       "output_type": "stream",
       "stream": "stdout",
       "text": [
        " 2447323.65071\n",
        "best score:"
       ]
      },
      {
       "output_type": "stream",
       "stream": "stdout",
       "text": [
        " 1823435.11008\n",
        "best score:"
       ]
      },
      {
       "output_type": "stream",
       "stream": "stdout",
       "text": [
        " 1356331.10726\n",
        "best score:"
       ]
      },
      {
       "output_type": "stream",
       "stream": "stdout",
       "text": [
        " 1326896.32382\n",
        "best score:"
       ]
      },
      {
       "output_type": "stream",
       "stream": "stdout",
       "text": [
        " 1501262.58704\n",
        "best score:"
       ]
      },
      {
       "output_type": "stream",
       "stream": "stdout",
       "text": [
        " 2048719.15337\n",
        "best score:"
       ]
      },
      {
       "output_type": "stream",
       "stream": "stdout",
       "text": [
        " 2513790.9132\n",
        "best score:"
       ]
      },
      {
       "output_type": "stream",
       "stream": "stdout",
       "text": [
        " 3316581.46097\n",
        "best score:"
       ]
      },
      {
       "output_type": "stream",
       "stream": "stdout",
       "text": [
        " 3593410.08285\n",
        "best score:"
       ]
      },
      {
       "output_type": "stream",
       "stream": "stdout",
       "text": [
        " 3974309.94343\n",
        "best score:"
       ]
      },
      {
       "output_type": "stream",
       "stream": "stdout",
       "text": [
        " 4079358.41805\n",
        "best score:"
       ]
      },
      {
       "output_type": "stream",
       "stream": "stdout",
       "text": [
        " 3839312.30942\n",
        "best score:"
       ]
      },
      {
       "output_type": "stream",
       "stream": "stdout",
       "text": [
        " 2355621.99048\n",
        "best score:"
       ]
      },
      {
       "output_type": "stream",
       "stream": "stdout",
       "text": [
        " 1896855.66465\n",
        "best score:"
       ]
      },
      {
       "output_type": "stream",
       "stream": "stdout",
       "text": [
        " 1572262.87739\n",
        "best score:"
       ]
      },
      {
       "output_type": "stream",
       "stream": "stdout",
       "text": [
        " 1376222.7027\n",
        "best score:"
       ]
      },
      {
       "output_type": "stream",
       "stream": "stdout",
       "text": [
        " 1555809.14036\n",
        "best score:"
       ]
      },
      {
       "output_type": "stream",
       "stream": "stdout",
       "text": [
        " 2137649.55536\n",
        "best score:"
       ]
      },
      {
       "output_type": "stream",
       "stream": "stdout",
       "text": [
        " 2586623.94507\n",
        "best score:"
       ]
      },
      {
       "output_type": "stream",
       "stream": "stdout",
       "text": [
        " 2438793.86899\n",
        "best score:"
       ]
      },
      {
       "output_type": "stream",
       "stream": "stdout",
       "text": [
        " 2875537.14969\n",
        "best score:"
       ]
      },
      {
       "output_type": "stream",
       "stream": "stdout",
       "text": [
        " 2751404.49356\n",
        "best score:"
       ]
      },
      {
       "output_type": "stream",
       "stream": "stdout",
       "text": [
        " 3018643.92033\n",
        "best score:"
       ]
      },
      {
       "output_type": "stream",
       "stream": "stdout",
       "text": [
        " 3332943.39931\n",
        "best score:"
       ]
      },
      {
       "output_type": "stream",
       "stream": "stdout",
       "text": [
        " 3205115.78073\n",
        "best score:"
       ]
      },
      {
       "output_type": "stream",
       "stream": "stdout",
       "text": [
        " 1886907.18636\n",
        "best score:"
       ]
      },
      {
       "output_type": "stream",
       "stream": "stdout",
       "text": [
        " 1470781.40838\n",
        "best score:"
       ]
      },
      {
       "output_type": "stream",
       "stream": "stdout",
       "text": [
        " 1304483.34854\n",
        "best score:"
       ]
      },
      {
       "output_type": "stream",
       "stream": "stdout",
       "text": [
        " 1476600.79096\n",
        "best score:"
       ]
      },
      {
       "output_type": "stream",
       "stream": "stdout",
       "text": [
        " 1976272.13541\n",
        "best score:"
       ]
      },
      {
       "output_type": "stream",
       "stream": "stdout",
       "text": [
        " 2424678.17945\n",
        "best score:"
       ]
      },
      {
       "output_type": "stream",
       "stream": "stdout",
       "text": [
        " 2408546.54108\n",
        "best score:"
       ]
      },
      {
       "output_type": "stream",
       "stream": "stdout",
       "text": [
        " 2858973.80974\n",
        "best score:"
       ]
      },
      {
       "output_type": "stream",
       "stream": "stdout",
       "text": [
        " 2905889.39522\n",
        "best score:"
       ]
      },
      {
       "output_type": "stream",
       "stream": "stdout",
       "text": [
        " 2949248.17227\n",
        "best score:"
       ]
      },
      {
       "output_type": "stream",
       "stream": "stdout",
       "text": [
        " 2398541.61782\n",
        "best score:"
       ]
      },
      {
       "output_type": "stream",
       "stream": "stdout",
       "text": [
        " 1915366.59221\n",
        "best score:"
       ]
      },
      {
       "output_type": "stream",
       "stream": "stdout",
       "text": [
        " 1657266.43461\n",
        "best score:"
       ]
      },
      {
       "output_type": "stream",
       "stream": "stdout",
       "text": [
        " 1424090.83337\n",
        "best score:"
       ]
      },
      {
       "output_type": "stream",
       "stream": "stdout",
       "text": [
        " 1267023.0804\n",
        "best score:"
       ]
      },
      {
       "output_type": "stream",
       "stream": "stdout",
       "text": [
        " 1423549.60879\n",
        "best score:"
       ]
      },
      {
       "output_type": "stream",
       "stream": "stdout",
       "text": [
        " 1966771.5874\n",
        "best score:"
       ]
      },
      {
       "output_type": "stream",
       "stream": "stdout",
       "text": [
        " 2132008.43522\n",
        "best score:"
       ]
      },
      {
       "output_type": "stream",
       "stream": "stdout",
       "text": [
        " 2457899.14749\n",
        "best score:"
       ]
      },
      {
       "output_type": "stream",
       "stream": "stdout",
       "text": [
        " 3103471.5927\n",
        "best score:"
       ]
      },
      {
       "output_type": "stream",
       "stream": "stdout",
       "text": [
        " 2993186.358\n",
        "best score:"
       ]
      },
      {
       "output_type": "stream",
       "stream": "stdout",
       "text": [
        " 2760737.66659\n",
        "best score:"
       ]
      },
      {
       "output_type": "stream",
       "stream": "stdout",
       "text": [
        " 2589661.16202\n",
        "best score:"
       ]
      },
      {
       "output_type": "stream",
       "stream": "stdout",
       "text": [
        " 2127366.65111\n",
        "best score:"
       ]
      },
      {
       "output_type": "stream",
       "stream": "stdout",
       "text": [
        " 1767246.75106\n",
        "best score:"
       ]
      },
      {
       "output_type": "stream",
       "stream": "stdout",
       "text": [
        " 1471683.36881\n",
        "best score:"
       ]
      },
      {
       "output_type": "stream",
       "stream": "stdout",
       "text": [
        " 1233848.81726\n",
        "best score:"
       ]
      },
      {
       "output_type": "stream",
       "stream": "stdout",
       "text": [
        " 1424654.86755\n",
        "best score:"
       ]
      },
      {
       "output_type": "stream",
       "stream": "stdout",
       "text": [
        " 1990731.86511\n",
        "best score:"
       ]
      },
      {
       "output_type": "stream",
       "stream": "stdout",
       "text": [
        " 2259265.16168\n",
        "best score:"
       ]
      },
      {
       "output_type": "stream",
       "stream": "stdout",
       "text": [
        " 2368258.45038\n",
        "best score:"
       ]
      },
      {
       "output_type": "stream",
       "stream": "stdout",
       "text": [
        " 2818617.83316\n",
        "best score:"
       ]
      },
      {
       "output_type": "stream",
       "stream": "stdout",
       "text": [
        " 2902173.66396\n",
        "best score:"
       ]
      },
      {
       "output_type": "stream",
       "stream": "stdout",
       "text": [
        " 2385521.89426\n",
        "best score:"
       ]
      },
      {
       "output_type": "stream",
       "stream": "stdout",
       "text": [
        " 2193415.23166\n",
        "best score:"
       ]
      },
      {
       "output_type": "stream",
       "stream": "stdout",
       "text": [
        " 1903440.56305\n",
        "best score:"
       ]
      },
      {
       "output_type": "stream",
       "stream": "stdout",
       "text": [
        " 1549822.71254\n",
        "best score:"
       ]
      },
      {
       "output_type": "stream",
       "stream": "stdout",
       "text": [
        " 1442852.33407\n",
        "best score:"
       ]
      },
      {
       "output_type": "stream",
       "stream": "stdout",
       "text": [
        " 1287870.75996\n",
        "best score:"
       ]
      },
      {
       "output_type": "stream",
       "stream": "stdout",
       "text": [
        " 1526723.25116\n",
        "best score:"
       ]
      },
      {
       "output_type": "stream",
       "stream": "stdout",
       "text": [
        " 1874122.36803\n",
        "best score:"
       ]
      },
      {
       "output_type": "stream",
       "stream": "stdout",
       "text": [
        " 2163268.30369\n",
        "best score:"
       ]
      },
      {
       "output_type": "stream",
       "stream": "stdout",
       "text": [
        " 2292386.32116\n",
        "best score:"
       ]
      },
      {
       "output_type": "stream",
       "stream": "stdout",
       "text": [
        " 3563704.06551\n",
        "best score:"
       ]
      },
      {
       "output_type": "stream",
       "stream": "stdout",
       "text": [
        " 3461530.53279\n",
        "best score:"
       ]
      },
      {
       "output_type": "stream",
       "stream": "stdout",
       "text": [
        " 2859986.15921\n",
        "best score:"
       ]
      },
      {
       "output_type": "stream",
       "stream": "stdout",
       "text": [
        " 3258818.17438\n",
        "best score:"
       ]
      },
      {
       "output_type": "stream",
       "stream": "stdout",
       "text": [
        " 2612660.996\n",
        "best score:"
       ]
      },
      {
       "output_type": "stream",
       "stream": "stdout",
       "text": [
        " 1743389.60224\n",
        "best score:"
       ]
      },
      {
       "output_type": "stream",
       "stream": "stdout",
       "text": [
        " 1325380.24275\n",
        "best score:"
       ]
      },
      {
       "output_type": "stream",
       "stream": "stdout",
       "text": [
        " 1422807.16744\n",
        "best score:"
       ]
      },
      {
       "output_type": "stream",
       "stream": "stdout",
       "text": [
        " 1398510.33151\n",
        "best score:"
       ]
      },
      {
       "output_type": "stream",
       "stream": "stdout",
       "text": [
        " 1943052.37153\n",
        "best score:"
       ]
      },
      {
       "output_type": "stream",
       "stream": "stdout",
       "text": [
        " 2166418.8422\n",
        "best score:"
       ]
      },
      {
       "output_type": "stream",
       "stream": "stdout",
       "text": [
        " 2484604.20776\n",
        "best score:"
       ]
      },
      {
       "output_type": "stream",
       "stream": "stdout",
       "text": [
        " 2822083.96035\n",
        "best score:"
       ]
      },
      {
       "output_type": "stream",
       "stream": "stdout",
       "text": [
        " 2880867.775\n",
        "best score:"
       ]
      },
      {
       "output_type": "stream",
       "stream": "stdout",
       "text": [
        " 2565102.12974\n",
        "best score:"
       ]
      },
      {
       "output_type": "stream",
       "stream": "stdout",
       "text": [
        " 2239550.92058\n",
        "best score:"
       ]
      },
      {
       "output_type": "stream",
       "stream": "stdout",
       "text": [
        " 2048489.04678\n",
        "best score:"
       ]
      },
      {
       "output_type": "stream",
       "stream": "stdout",
       "text": [
        " 1714273.30903\n",
        "best score:"
       ]
      },
      {
       "output_type": "stream",
       "stream": "stdout",
       "text": [
        " 1303606.64053\n",
        "best score:"
       ]
      },
      {
       "output_type": "stream",
       "stream": "stdout",
       "text": [
        " 1220689.56375\n",
        "best score:"
       ]
      },
      {
       "output_type": "stream",
       "stream": "stdout",
       "text": [
        " 1531946.84462\n",
        "best score:"
       ]
      },
      {
       "output_type": "stream",
       "stream": "stdout",
       "text": [
        " 1972766.3533\n",
        "best score:"
       ]
      },
      {
       "output_type": "stream",
       "stream": "stdout",
       "text": [
        " 2428784.87301\n",
        "best score:"
       ]
      },
      {
       "output_type": "stream",
       "stream": "stdout",
       "text": [
        " 3043376.70008\n",
        "best score:"
       ]
      },
      {
       "output_type": "stream",
       "stream": "stdout",
       "text": [
        " 3129998.73945\n",
        "best score:"
       ]
      },
      {
       "output_type": "stream",
       "stream": "stdout",
       "text": [
        " 3345025.21142\n",
        "best score:"
       ]
      },
      {
       "output_type": "stream",
       "stream": "stdout",
       "text": [
        " 3267940.21624\n",
        "best score:"
       ]
      },
      {
       "output_type": "stream",
       "stream": "stdout",
       "text": [
        " 3003571.07287\n",
        "best score:"
       ]
      },
      {
       "output_type": "stream",
       "stream": "stdout",
       "text": [
        " 2202943.28179\n",
        "best score:"
       ]
      },
      {
       "output_type": "stream",
       "stream": "stdout",
       "text": [
        " 2210191.38644\n",
        "best score:"
       ]
      },
      {
       "output_type": "stream",
       "stream": "stdout",
       "text": [
        " 1595030.59897\n",
        "best score:"
       ]
      },
      {
       "output_type": "stream",
       "stream": "stdout",
       "text": [
        " 1331790.48885\n",
        "best score:"
       ]
      },
      {
       "output_type": "stream",
       "stream": "stdout",
       "text": [
        " 1472152.6634\n",
        "best score:"
       ]
      },
      {
       "output_type": "stream",
       "stream": "stdout",
       "text": [
        " 1895179.17488\n",
        "best score:"
       ]
      },
      {
       "output_type": "stream",
       "stream": "stdout",
       "text": [
        " 2212355.9325\n",
        "best score:"
       ]
      },
      {
       "output_type": "stream",
       "stream": "stdout",
       "text": [
        " 2299540.95817\n",
        "best score:"
       ]
      },
      {
       "output_type": "stream",
       "stream": "stdout",
       "text": [
        " 2751665.65538\n",
        "best score:"
       ]
      },
      {
       "output_type": "stream",
       "stream": "stdout",
       "text": [
        " 2662934.76288\n",
        "best score:"
       ]
      },
      {
       "output_type": "stream",
       "stream": "stdout",
       "text": [
        " 2277288.9391\n",
        "best score:"
       ]
      },
      {
       "output_type": "stream",
       "stream": "stdout",
       "text": [
        " 2296449.07216\n",
        "best score:"
       ]
      },
      {
       "output_type": "stream",
       "stream": "stdout",
       "text": [
        " 1983938.08047\n",
        "best score:"
       ]
      },
      {
       "output_type": "stream",
       "stream": "stdout",
       "text": [
        " 1545894.00909\n",
        "best score:"
       ]
      },
      {
       "output_type": "stream",
       "stream": "stdout",
       "text": [
        " 1371687.54384\n",
        "best score:"
       ]
      },
      {
       "output_type": "stream",
       "stream": "stdout",
       "text": [
        " 1208040.26417\n",
        "best score:"
       ]
      },
      {
       "output_type": "stream",
       "stream": "stdout",
       "text": [
        " 1449991.35798\n",
        "best score:"
       ]
      },
      {
       "output_type": "stream",
       "stream": "stdout",
       "text": [
        " 1824120.37323\n",
        "best score:"
       ]
      },
      {
       "output_type": "stream",
       "stream": "stdout",
       "text": [
        " 2255260.26948\n",
        "best score:"
       ]
      },
      {
       "output_type": "stream",
       "stream": "stdout",
       "text": [
        " 2503617.32363\n",
        "best score:"
       ]
      },
      {
       "output_type": "stream",
       "stream": "stdout",
       "text": [
        " 2862369.72124\n",
        "best score:"
       ]
      },
      {
       "output_type": "stream",
       "stream": "stdout",
       "text": [
        " 2874425.1172\n",
        "best score:"
       ]
      },
      {
       "output_type": "stream",
       "stream": "stdout",
       "text": [
        " 2400425.99959\n",
        "best score:"
       ]
      },
      {
       "output_type": "stream",
       "stream": "stdout",
       "text": [
        " 2251111.76123\n",
        "best score:"
       ]
      },
      {
       "output_type": "stream",
       "stream": "stdout",
       "text": [
        " 2046401.91474\n",
        "best score:"
       ]
      },
      {
       "output_type": "stream",
       "stream": "stdout",
       "text": [
        " 1686404.79501\n",
        "best score:"
       ]
      },
      {
       "output_type": "stream",
       "stream": "stdout",
       "text": [
        " 1359599.67377\n",
        "best score:"
       ]
      },
      {
       "output_type": "stream",
       "stream": "stdout",
       "text": [
        " 1303179.99869\n",
        "best score:"
       ]
      },
      {
       "output_type": "stream",
       "stream": "stdout",
       "text": [
        " 1532084.36567\n",
        "best score:"
       ]
      },
      {
       "output_type": "stream",
       "stream": "stdout",
       "text": [
        " 1966062.43051\n",
        "best score:"
       ]
      },
      {
       "output_type": "stream",
       "stream": "stdout",
       "text": [
        " 2264516.31967\n",
        "best score:"
       ]
      },
      {
       "output_type": "stream",
       "stream": "stdout",
       "text": [
        " 2318463.35883\n",
        "best score:"
       ]
      },
      {
       "output_type": "stream",
       "stream": "stdout",
       "text": [
        " 2656049.79249\n",
        "best score:"
       ]
      },
      {
       "output_type": "stream",
       "stream": "stdout",
       "text": [
        " 2941515.14326\n",
        "best score:"
       ]
      },
      {
       "output_type": "stream",
       "stream": "stdout",
       "text": [
        " 2582012.06034\n",
        "best score:"
       ]
      },
      {
       "output_type": "stream",
       "stream": "stdout",
       "text": [
        " 2408969.1054\n",
        "best score:"
       ]
      },
      {
       "output_type": "stream",
       "stream": "stdout",
       "text": [
        " 2107829.93208\n",
        "best score:"
       ]
      },
      {
       "output_type": "stream",
       "stream": "stdout",
       "text": [
        " 1782513.69636\n",
        "best score:"
       ]
      },
      {
       "output_type": "stream",
       "stream": "stdout",
       "text": [
        " 1487419.53719\n",
        "best score:"
       ]
      },
      {
       "output_type": "stream",
       "stream": "stdout",
       "text": [
        " 1377094.9834\n",
        "best score:"
       ]
      },
      {
       "output_type": "stream",
       "stream": "stdout",
       "text": [
        " 1485111.37316\n",
        "best score:"
       ]
      },
      {
       "output_type": "stream",
       "stream": "stdout",
       "text": [
        " 1880359.27822\n",
        "best score:"
       ]
      },
      {
       "output_type": "stream",
       "stream": "stdout",
       "text": [
        " 2209135.31593\n",
        "best score:"
       ]
      },
      {
       "output_type": "stream",
       "stream": "stdout",
       "text": [
        " 2462112.14247\n",
        "best score:"
       ]
      },
      {
       "output_type": "stream",
       "stream": "stdout",
       "text": [
        " 2802061.35905\n",
        "best score:"
       ]
      },
      {
       "output_type": "stream",
       "stream": "stdout",
       "text": [
        " 3089858.27962\n",
        "best score:"
       ]
      },
      {
       "output_type": "stream",
       "stream": "stdout",
       "text": [
        " 3182608.93808\n",
        "best score:"
       ]
      },
      {
       "output_type": "stream",
       "stream": "stdout",
       "text": [
        " 2907775.8685\n",
        "best score:"
       ]
      },
      {
       "output_type": "stream",
       "stream": "stdout",
       "text": [
        " 2050478.85007\n",
        "best score:"
       ]
      },
      {
       "output_type": "stream",
       "stream": "stdout",
       "text": [
        " 1711460.11552\n",
        "best score:"
       ]
      },
      {
       "output_type": "stream",
       "stream": "stdout",
       "text": [
        " 1436295.55828\n",
        "best score:"
       ]
      },
      {
       "output_type": "stream",
       "stream": "stdout",
       "text": [
        " 1198054.47028\n",
        "best score:"
       ]
      },
      {
       "output_type": "stream",
       "stream": "stdout",
       "text": [
        " 1841926.26508\n",
        "best score:"
       ]
      },
      {
       "output_type": "stream",
       "stream": "stdout",
       "text": [
        " 2271377.42729\n",
        "best score:"
       ]
      },
      {
       "output_type": "stream",
       "stream": "stdout",
       "text": [
        " 2901557.54278\n",
        "best score:"
       ]
      },
      {
       "output_type": "stream",
       "stream": "stdout",
       "text": [
        " 3798785.74847\n",
        "best score:"
       ]
      },
      {
       "output_type": "stream",
       "stream": "stdout",
       "text": [
        " 3706158.97643\n",
        "best score:"
       ]
      },
      {
       "output_type": "stream",
       "stream": "stdout",
       "text": [
        " 3640618.59843\n",
        "best score:"
       ]
      },
      {
       "output_type": "stream",
       "stream": "stdout",
       "text": [
        " 3900425.5007\n",
        "best score:"
       ]
      },
      {
       "output_type": "stream",
       "stream": "stdout",
       "text": [
        " 3898943.365\n",
        "best score:"
       ]
      },
      {
       "output_type": "stream",
       "stream": "stdout",
       "text": [
        " 2864177.47504\n",
        "best score:"
       ]
      },
      {
       "output_type": "stream",
       "stream": "stdout",
       "text": [
        " 1965853.4101\n",
        "best score:"
       ]
      },
      {
       "output_type": "stream",
       "stream": "stdout",
       "text": [
        " 1824194.05035\n",
        "best score:"
       ]
      },
      {
       "output_type": "stream",
       "stream": "stdout",
       "text": [
        " 1686502.0409\n",
        "best score:"
       ]
      },
      {
       "output_type": "stream",
       "stream": "stdout",
       "text": [
        " 1759647.49175\n",
        "best score:"
       ]
      },
      {
       "output_type": "stream",
       "stream": "stdout",
       "text": [
        " 2096338.03934\n",
        "best score:"
       ]
      },
      {
       "output_type": "stream",
       "stream": "stdout",
       "text": [
        " 2445860.08825\n",
        "best score:"
       ]
      },
      {
       "output_type": "stream",
       "stream": "stdout",
       "text": [
        " 3648911.72708\n",
        "best score:"
       ]
      },
      {
       "output_type": "stream",
       "stream": "stdout",
       "text": [
        " 3904665.00115\n",
        "best score:"
       ]
      },
      {
       "output_type": "stream",
       "stream": "stdout",
       "text": [
        " 4274938.93682\n",
        "best score:"
       ]
      },
      {
       "output_type": "stream",
       "stream": "stdout",
       "text": [
        " 4583504.80293\n",
        "best score:"
       ]
      },
      {
       "output_type": "stream",
       "stream": "stdout",
       "text": [
        " 4009811.8043\n",
        "best score:"
       ]
      },
      {
       "output_type": "stream",
       "stream": "stdout",
       "text": [
        " 2609389.55547\n",
        "best score:"
       ]
      },
      {
       "output_type": "stream",
       "stream": "stdout",
       "text": [
        " 1716977.86608\n",
        "best score:"
       ]
      },
      {
       "output_type": "stream",
       "stream": "stdout",
       "text": [
        " 1631353.812\n",
        "best score:"
       ]
      },
      {
       "output_type": "stream",
       "stream": "stdout",
       "text": [
        " 1456439.55213\n",
        "best score:"
       ]
      },
      {
       "output_type": "stream",
       "stream": "stdout",
       "text": [
        " 1615331.28541\n",
        "best score:"
       ]
      },
      {
       "output_type": "stream",
       "stream": "stdout",
       "text": [
        " 2022701.02565\n",
        "best score:"
       ]
      },
      {
       "output_type": "stream",
       "stream": "stdout",
       "text": [
        " 2394435.70628\n",
        "best score:"
       ]
      },
      {
       "output_type": "stream",
       "stream": "stdout",
       "text": [
        " 3211568.17131\n",
        "best score:"
       ]
      },
      {
       "output_type": "stream",
       "stream": "stdout",
       "text": [
        " 3476546.58247\n",
        "best score:"
       ]
      },
      {
       "output_type": "stream",
       "stream": "stdout",
       "text": [
        " 4054970.22949\n",
        "best score:"
       ]
      },
      {
       "output_type": "stream",
       "stream": "stdout",
       "text": [
        " 4038408.70895\n",
        "best score:"
       ]
      },
      {
       "output_type": "stream",
       "stream": "stdout",
       "text": [
        " 3447809.14065\n",
        "best score:"
       ]
      },
      {
       "output_type": "stream",
       "stream": "stdout",
       "text": [
        " 2266308.22104\n",
        "best score:"
       ]
      },
      {
       "output_type": "stream",
       "stream": "stdout",
       "text": [
        " 1871475.15343\n",
        "best score:"
       ]
      },
      {
       "output_type": "stream",
       "stream": "stdout",
       "text": [
        " 1608928.89615\n",
        "best score:"
       ]
      },
      {
       "output_type": "stream",
       "stream": "stdout",
       "text": [
        " 1507865.75905\n",
        "best score:"
       ]
      },
      {
       "output_type": "stream",
       "stream": "stdout",
       "text": [
        " 1620153.31658\n",
        "best score:"
       ]
      },
      {
       "output_type": "stream",
       "stream": "stdout",
       "text": [
        " 1813197.52833\n",
        "best score:"
       ]
      },
      {
       "output_type": "stream",
       "stream": "stdout",
       "text": [
        " 2237097.58882\n",
        "best score:"
       ]
      },
      {
       "output_type": "stream",
       "stream": "stdout",
       "text": [
        " 2226863.62056\n",
        "best score:"
       ]
      },
      {
       "output_type": "stream",
       "stream": "stdout",
       "text": [
        " 2918757.4498\n",
        "best score:"
       ]
      },
      {
       "output_type": "stream",
       "stream": "stdout",
       "text": [
        " 2974785.99282\n",
        "best score:"
       ]
      },
      {
       "output_type": "stream",
       "stream": "stdout",
       "text": [
        " 2475085.19086\n",
        "best score:"
       ]
      },
      {
       "output_type": "stream",
       "stream": "stdout",
       "text": [
        " 2462611.13541\n",
        "best score:"
       ]
      },
      {
       "output_type": "stream",
       "stream": "stdout",
       "text": [
        " 1887642.41433\n",
        "best score:"
       ]
      },
      {
       "output_type": "stream",
       "stream": "stdout",
       "text": [
        " 1570323.51928\n",
        "best score:"
       ]
      },
      {
       "output_type": "stream",
       "stream": "stdout",
       "text": [
        " 1403958.42879\n",
        "best score:"
       ]
      },
      {
       "output_type": "stream",
       "stream": "stdout",
       "text": [
        " 1498543.9887\n",
        "best score:"
       ]
      },
      {
       "output_type": "stream",
       "stream": "stdout",
       "text": [
        " 1749788.66542\n",
        "best score:"
       ]
      },
      {
       "output_type": "stream",
       "stream": "stdout",
       "text": [
        " 2401786.7463\n",
        "best score:"
       ]
      },
      {
       "output_type": "stream",
       "stream": "stdout",
       "text": [
        " 2423480.04239\n",
        "best score:"
       ]
      },
      {
       "output_type": "stream",
       "stream": "stdout",
       "text": [
        " 2675511.47229\n",
        "best score:"
       ]
      },
      {
       "output_type": "stream",
       "stream": "stdout",
       "text": [
        " 3869532.35403\n",
        "best score:"
       ]
      },
      {
       "output_type": "stream",
       "stream": "stdout",
       "text": [
        " 3388377.84287\n",
        "best score:"
       ]
      },
      {
       "output_type": "stream",
       "stream": "stdout",
       "text": [
        " 3281269.73422\n",
        "best score:"
       ]
      },
      {
       "output_type": "stream",
       "stream": "stdout",
       "text": [
        " 3171314.93247\n",
        "best score:"
       ]
      },
      {
       "output_type": "stream",
       "stream": "stdout",
       "text": [
        " 2750489.08858\n",
        "best score:"
       ]
      },
      {
       "output_type": "stream",
       "stream": "stdout",
       "text": [
        " 1979525.06969\n",
        "best score:"
       ]
      },
      {
       "output_type": "stream",
       "stream": "stdout",
       "text": [
        " 1748123.29252\n",
        "best score:"
       ]
      },
      {
       "output_type": "stream",
       "stream": "stdout",
       "text": [
        " 1502773.49554\n",
        "best score:"
       ]
      },
      {
       "output_type": "stream",
       "stream": "stdout",
       "text": [
        " 1476011.45739\n",
        "best score:"
       ]
      },
      {
       "output_type": "stream",
       "stream": "stdout",
       "text": [
        " 1969941.83699\n",
        "best score:"
       ]
      },
      {
       "output_type": "stream",
       "stream": "stdout",
       "text": [
        " 2102066.73416\n",
        "best score:"
       ]
      },
      {
       "output_type": "stream",
       "stream": "stdout",
       "text": [
        " 2384968.6622\n",
        "best score:"
       ]
      },
      {
       "output_type": "stream",
       "stream": "stdout",
       "text": [
        " 2839425.04819\n",
        "best score:"
       ]
      },
      {
       "output_type": "stream",
       "stream": "stdout",
       "text": [
        " 2760128.32198\n",
        "best score:"
       ]
      },
      {
       "output_type": "stream",
       "stream": "stdout",
       "text": [
        " 2524283.64173\n",
        "best score:"
       ]
      },
      {
       "output_type": "stream",
       "stream": "stdout",
       "text": [
        " 2550983.96124\n",
        "best score:"
       ]
      },
      {
       "output_type": "stream",
       "stream": "stdout",
       "text": [
        " 1996968.59463\n",
        "best score:"
       ]
      },
      {
       "output_type": "stream",
       "stream": "stdout",
       "text": [
        " 1713026.24045\n",
        "best score:"
       ]
      },
      {
       "output_type": "stream",
       "stream": "stdout",
       "text": [
        " 1343579.96166\n",
        "best score:"
       ]
      },
      {
       "output_type": "stream",
       "stream": "stdout",
       "text": [
        " 1218736.82937\n",
        "best score:"
       ]
      },
      {
       "output_type": "stream",
       "stream": "stdout",
       "text": [
        " 1714107.76317\n",
        "best score:"
       ]
      },
      {
       "output_type": "stream",
       "stream": "stdout",
       "text": [
        " 2103181.8589\n",
        "best score:"
       ]
      },
      {
       "output_type": "stream",
       "stream": "stdout",
       "text": [
        " 2604841.35247\n",
        "best score:"
       ]
      },
      {
       "output_type": "stream",
       "stream": "stdout",
       "text": [
        " 3222604.46982\n",
        "best score:"
       ]
      },
      {
       "output_type": "stream",
       "stream": "stdout",
       "text": [
        " 3245026.64944\n",
        "best score:"
       ]
      },
      {
       "output_type": "stream",
       "stream": "stdout",
       "text": [
        " 3419532.2082\n",
        "best score:"
       ]
      },
      {
       "output_type": "stream",
       "stream": "stdout",
       "text": [
        " 3332114.68689\n",
        "best score:"
       ]
      },
      {
       "output_type": "stream",
       "stream": "stdout",
       "text": [
        " 3012692.87089\n",
        "best score:"
       ]
      },
      {
       "output_type": "stream",
       "stream": "stdout",
       "text": [
        " 2178736.24083\n",
        "best score:"
       ]
      },
      {
       "output_type": "stream",
       "stream": "stdout",
       "text": [
        " 1872081.87163\n",
        "best score:"
       ]
      },
      {
       "output_type": "stream",
       "stream": "stdout",
       "text": [
        " 1602363.24117\n",
        "best score:"
       ]
      },
      {
       "output_type": "stream",
       "stream": "stdout",
       "text": [
        " 1494519.45557\n",
        "best score:"
       ]
      },
      {
       "output_type": "stream",
       "stream": "stdout",
       "text": [
        " 1612627.87595\n",
        "best score:"
       ]
      },
      {
       "output_type": "stream",
       "stream": "stdout",
       "text": [
        " 2170863.18801\n",
        "best score:"
       ]
      },
      {
       "output_type": "stream",
       "stream": "stdout",
       "text": [
        " 2527664.93037\n",
        "best score:"
       ]
      },
      {
       "output_type": "stream",
       "stream": "stdout",
       "text": [
        " 2643632.64094\n",
        "best score:"
       ]
      },
      {
       "output_type": "stream",
       "stream": "stdout",
       "text": [
        " 2991691.45188\n",
        "best score:"
       ]
      },
      {
       "output_type": "stream",
       "stream": "stdout",
       "text": [
        " 2986076.9773\n",
        "best score:"
       ]
      },
      {
       "output_type": "stream",
       "stream": "stdout",
       "text": [
        " 2299837.04205\n",
        "best score:"
       ]
      },
      {
       "output_type": "stream",
       "stream": "stdout",
       "text": [
        " 2215546.01926\n",
        "best score:"
       ]
      },
      {
       "output_type": "stream",
       "stream": "stdout",
       "text": [
        " 1956013.76722\n",
        "best score:"
       ]
      },
      {
       "output_type": "stream",
       "stream": "stdout",
       "text": [
        " 1714680.4812\n",
        "best score:"
       ]
      },
      {
       "output_type": "stream",
       "stream": "stdout",
       "text": [
        " 1555636.29036\n",
        "best score:"
       ]
      },
      {
       "output_type": "stream",
       "stream": "stdout",
       "text": [
        " 1403790.86389\n",
        "best score:"
       ]
      },
      {
       "output_type": "stream",
       "stream": "stdout",
       "text": [
        " 1482644.86869\n",
        "best score:"
       ]
      },
      {
       "output_type": "stream",
       "stream": "stdout",
       "text": [
        " 1882690.17422\n",
        "best score:"
       ]
      },
      {
       "output_type": "stream",
       "stream": "stdout",
       "text": [
        " 2216365.50694\n",
        "best score:"
       ]
      },
      {
       "output_type": "stream",
       "stream": "stdout",
       "text": [
        " 2474323.74087\n",
        "best score:"
       ]
      },
      {
       "output_type": "stream",
       "stream": "stdout",
       "text": [
        " 2681644.60875\n",
        "best score:"
       ]
      },
      {
       "output_type": "stream",
       "stream": "stdout",
       "text": [
        " 2816343.29417\n",
        "best score:"
       ]
      },
      {
       "output_type": "stream",
       "stream": "stdout",
       "text": [
        " 2552333.22944\n",
        "best score:"
       ]
      },
      {
       "output_type": "stream",
       "stream": "stdout",
       "text": [
        " 2409471.28796\n",
        "best score:"
       ]
      },
      {
       "output_type": "stream",
       "stream": "stdout",
       "text": [
        " 2132531.35072\n",
        "best score:"
       ]
      },
      {
       "output_type": "stream",
       "stream": "stdout",
       "text": [
        " 1644747.19416\n",
        "best score:"
       ]
      },
      {
       "output_type": "stream",
       "stream": "stdout",
       "text": [
        " 1356735.02194\n",
        "best score:"
       ]
      },
      {
       "output_type": "stream",
       "stream": "stdout",
       "text": [
        " 1279194.25142\n",
        "best score:"
       ]
      },
      {
       "output_type": "stream",
       "stream": "stdout",
       "text": [
        " 1581722.383\n",
        "best score:"
       ]
      },
      {
       "output_type": "stream",
       "stream": "stdout",
       "text": [
        " 2035654.5803\n",
        "best score:"
       ]
      },
      {
       "output_type": "stream",
       "stream": "stdout",
       "text": [
        " 2283404.00994\n",
        "best score:"
       ]
      },
      {
       "output_type": "stream",
       "stream": "stdout",
       "text": [
        " 2556896.67852\n",
        "best score:"
       ]
      },
      {
       "output_type": "stream",
       "stream": "stdout",
       "text": [
        " 2974674.12669\n",
        "best score:"
       ]
      },
      {
       "output_type": "stream",
       "stream": "stdout",
       "text": [
        " 2893020.67657\n",
        "best score:"
       ]
      },
      {
       "output_type": "stream",
       "stream": "stdout",
       "text": [
        " 2417832.87973\n",
        "best score:"
       ]
      },
      {
       "output_type": "stream",
       "stream": "stdout",
       "text": [
        " 2227247.36717\n",
        "best score:"
       ]
      },
      {
       "output_type": "stream",
       "stream": "stdout",
       "text": [
        " 1986403.1556\n",
        "best score:"
       ]
      },
      {
       "output_type": "stream",
       "stream": "stdout",
       "text": [
        " 1846937.9154\n",
        "best score:"
       ]
      },
      {
       "output_type": "stream",
       "stream": "stdout",
       "text": [
        " 1488313.87838\n",
        "best score:"
       ]
      },
      {
       "output_type": "stream",
       "stream": "stdout",
       "text": [
        " 1274842.88588\n",
        "best score:"
       ]
      },
      {
       "output_type": "stream",
       "stream": "stdout",
       "text": [
        " 1470650.53391\n",
        "best score:"
       ]
      },
      {
       "output_type": "stream",
       "stream": "stdout",
       "text": [
        " 2004072.12084\n",
        "best score:"
       ]
      },
      {
       "output_type": "stream",
       "stream": "stdout",
       "text": [
        " 2085542.99429\n",
        "best score:"
       ]
      },
      {
       "output_type": "stream",
       "stream": "stdout",
       "text": [
        " 3062853.6863\n",
        "best score:"
       ]
      },
      {
       "output_type": "stream",
       "stream": "stdout",
       "text": [
        " 3017891.53309\n",
        "best score:"
       ]
      },
      {
       "output_type": "stream",
       "stream": "stdout",
       "text": [
        " 3131265.09139\n",
        "best score:"
       ]
      },
      {
       "output_type": "stream",
       "stream": "stdout",
       "text": [
        " 3032516.31806\n",
        "best score:"
       ]
      },
      {
       "output_type": "stream",
       "stream": "stdout",
       "text": [
        " 2607867.07427\n",
        "best score:"
       ]
      },
      {
       "output_type": "stream",
       "stream": "stdout",
       "text": [
        " 2300587.11599\n",
        "best score:"
       ]
      },
      {
       "output_type": "stream",
       "stream": "stdout",
       "text": [
        " 1780826.44303\n",
        "best score:"
       ]
      },
      {
       "output_type": "stream",
       "stream": "stdout",
       "text": [
        " 1364508.01103\n",
        "best score:"
       ]
      },
      {
       "output_type": "stream",
       "stream": "stdout",
       "text": [
        " 1245839.83349\n",
        "best score:"
       ]
      },
      {
       "output_type": "stream",
       "stream": "stdout",
       "text": [
        " 1544484.84415\n",
        "best score:"
       ]
      },
      {
       "output_type": "stream",
       "stream": "stdout",
       "text": [
        " 2091833.51379\n",
        "best score:"
       ]
      },
      {
       "output_type": "stream",
       "stream": "stdout",
       "text": [
        " 2402607.91746\n",
        "best score:"
       ]
      },
      {
       "output_type": "stream",
       "stream": "stdout",
       "text": [
        " 3133451.37211\n",
        "best score:"
       ]
      },
      {
       "output_type": "stream",
       "stream": "stdout",
       "text": [
        " 3436922.81676\n",
        "best score:"
       ]
      },
      {
       "output_type": "stream",
       "stream": "stdout",
       "text": [
        " 3257844.10803\n",
        "best score:"
       ]
      },
      {
       "output_type": "stream",
       "stream": "stdout",
       "text": [
        " 3335825.87527\n",
        "best score:"
       ]
      },
      {
       "output_type": "stream",
       "stream": "stdout",
       "text": [
        " 3071125.2074\n",
        "best score:"
       ]
      },
      {
       "output_type": "stream",
       "stream": "stdout",
       "text": [
        " 2151984.70869\n",
        "best score:"
       ]
      },
      {
       "output_type": "stream",
       "stream": "stdout",
       "text": [
        " 1746267.58837\n",
        "best score:"
       ]
      },
      {
       "output_type": "stream",
       "stream": "stdout",
       "text": [
        " 1463052.18711\n",
        "best score:"
       ]
      },
      {
       "output_type": "stream",
       "stream": "stdout",
       "text": [
        " 1343925.51152\n",
        "best score:"
       ]
      },
      {
       "output_type": "stream",
       "stream": "stdout",
       "text": [
        " 1382340.36161\n",
        "best score:"
       ]
      },
      {
       "output_type": "stream",
       "stream": "stdout",
       "text": [
        " 2009496.81916\n",
        "best score:"
       ]
      },
      {
       "output_type": "stream",
       "stream": "stdout",
       "text": [
        " 2439643.23792\n",
        "best score:"
       ]
      },
      {
       "output_type": "stream",
       "stream": "stdout",
       "text": [
        " 2459135.59479\n",
        "best score:"
       ]
      },
      {
       "output_type": "stream",
       "stream": "stdout",
       "text": [
        " 2784692.58997\n",
        "best score:"
       ]
      },
      {
       "output_type": "stream",
       "stream": "stdout",
       "text": [
        " 2819952.95972\n",
        "best score:"
       ]
      },
      {
       "output_type": "stream",
       "stream": "stdout",
       "text": [
        " 2440736.39516\n",
        "best score:"
       ]
      },
      {
       "output_type": "stream",
       "stream": "stdout",
       "text": [
        " 2204392.42534\n",
        "best score:"
       ]
      },
      {
       "output_type": "stream",
       "stream": "stdout",
       "text": [
        " 1843168.44779\n",
        "best score:"
       ]
      },
      {
       "output_type": "stream",
       "stream": "stdout",
       "text": [
        " 1672084.36157\n",
        "best score:"
       ]
      },
      {
       "output_type": "stream",
       "stream": "stdout",
       "text": [
        " 1292826.54946\n",
        "best score:"
       ]
      },
      {
       "output_type": "stream",
       "stream": "stdout",
       "text": [
        " 1270912.07021\n",
        "best score:"
       ]
      },
      {
       "output_type": "stream",
       "stream": "stdout",
       "text": [
        " 1514607.90705\n",
        "best score:"
       ]
      },
      {
       "output_type": "stream",
       "stream": "stdout",
       "text": [
        " 2012234.62316\n",
        "best score:"
       ]
      },
      {
       "output_type": "stream",
       "stream": "stdout",
       "text": [
        " 2500698.08752\n",
        "best score:"
       ]
      },
      {
       "output_type": "stream",
       "stream": "stdout",
       "text": [
        " 2485867.21879\n",
        "best score:"
       ]
      },
      {
       "output_type": "stream",
       "stream": "stdout",
       "text": [
        " 2841787.3776\n",
        "best score:"
       ]
      },
      {
       "output_type": "stream",
       "stream": "stdout",
       "text": [
        " 2800496.39109\n",
        "best score:"
       ]
      },
      {
       "output_type": "stream",
       "stream": "stdout",
       "text": [
        " 2413253.38029\n",
        "best score:"
       ]
      },
      {
       "output_type": "stream",
       "stream": "stdout",
       "text": [
        " 2429392.23389\n",
        "best score:"
       ]
      },
      {
       "output_type": "stream",
       "stream": "stdout",
       "text": [
        " 1940497.99548\n",
        "best score:"
       ]
      },
      {
       "output_type": "stream",
       "stream": "stdout",
       "text": [
        " 1659021.86832\n",
        "best score:"
       ]
      },
      {
       "output_type": "stream",
       "stream": "stdout",
       "text": [
        " 1424459.75161\n",
        "best score:"
       ]
      },
      {
       "output_type": "stream",
       "stream": "stdout",
       "text": [
        " 1409014.98032\n",
        "best score:"
       ]
      },
      {
       "output_type": "stream",
       "stream": "stdout",
       "text": [
        " 1630305.13946\n",
        "best score:"
       ]
      },
      {
       "output_type": "stream",
       "stream": "stdout",
       "text": [
        " 2120233.59845\n",
        "best score:"
       ]
      },
      {
       "output_type": "stream",
       "stream": "stdout",
       "text": [
        " 2547307.95761\n",
        "best score:"
       ]
      },
      {
       "output_type": "stream",
       "stream": "stdout",
       "text": [
        " 3084144.92995\n",
        "best score:"
       ]
      },
      {
       "output_type": "stream",
       "stream": "stdout",
       "text": [
        " 3574692.55157\n",
        "best score:"
       ]
      },
      {
       "output_type": "stream",
       "stream": "stdout",
       "text": [
        " 3564772.03443\n",
        "best score:"
       ]
      },
      {
       "output_type": "stream",
       "stream": "stdout",
       "text": [
        " 3191698.62697\n",
        "best score:"
       ]
      },
      {
       "output_type": "stream",
       "stream": "stdout",
       "text": [
        " 2723286.36533\n",
        "best score:"
       ]
      },
      {
       "output_type": "stream",
       "stream": "stdout",
       "text": [
        " 2273509.3313\n",
        "best score:"
       ]
      },
      {
       "output_type": "stream",
       "stream": "stdout",
       "text": [
        " 1817178.76606\n",
        "best score:"
       ]
      },
      {
       "output_type": "stream",
       "stream": "stdout",
       "text": [
        " 1549575.09353\n",
        "best score:"
       ]
      },
      {
       "output_type": "stream",
       "stream": "stdout",
       "text": [
        " 1525726.8435\n",
        "best score:"
       ]
      },
      {
       "output_type": "stream",
       "stream": "stdout",
       "text": [
        " 1459715.26495\n",
        "best score:"
       ]
      },
      {
       "output_type": "stream",
       "stream": "stdout",
       "text": [
        " 2001069.90224\n",
        "best score:"
       ]
      },
      {
       "output_type": "stream",
       "stream": "stdout",
       "text": [
        " 2077939.99475\n",
        "best score:"
       ]
      },
      {
       "output_type": "stream",
       "stream": "stdout",
       "text": [
        " 2534370.16934\n",
        "best score:"
       ]
      },
      {
       "output_type": "stream",
       "stream": "stdout",
       "text": [
        " 2859632.47362\n",
        "best score:"
       ]
      },
      {
       "output_type": "stream",
       "stream": "stdout",
       "text": [
        " 2803562.92151\n",
        "best score:"
       ]
      },
      {
       "output_type": "stream",
       "stream": "stdout",
       "text": [
        " 2502069.32941\n",
        "best score:"
       ]
      },
      {
       "output_type": "stream",
       "stream": "stdout",
       "text": [
        " 2080236.04334\n",
        "best score:"
       ]
      },
      {
       "output_type": "stream",
       "stream": "stdout",
       "text": [
        " 2022336.50811\n",
        "best score:"
       ]
      },
      {
       "output_type": "stream",
       "stream": "stdout",
       "text": [
        " 1697343.1367\n",
        "best score:"
       ]
      },
      {
       "output_type": "stream",
       "stream": "stdout",
       "text": [
        " 1466264.88294\n",
        "best score:"
       ]
      },
      {
       "output_type": "stream",
       "stream": "stdout",
       "text": [
        " 1272514.64356\n",
        "best score:"
       ]
      },
      {
       "output_type": "stream",
       "stream": "stdout",
       "text": [
        " 1761578.53094\n",
        "best score:"
       ]
      },
      {
       "output_type": "stream",
       "stream": "stdout",
       "text": [
        " 2031786.71664\n",
        "best score:"
       ]
      },
      {
       "output_type": "stream",
       "stream": "stdout",
       "text": [
        " 2419200.00106\n",
        "best score:"
       ]
      },
      {
       "output_type": "stream",
       "stream": "stdout",
       "text": [
        " 3767591.33694\n",
        "best score:"
       ]
      },
      {
       "output_type": "stream",
       "stream": "stdout",
       "text": [
        " 4305868.55212\n",
        "best score:"
       ]
      },
      {
       "output_type": "stream",
       "stream": "stdout",
       "text": [
        " 4661974.38006\n",
        "best score:"
       ]
      },
      {
       "output_type": "stream",
       "stream": "stdout",
       "text": [
        " 4581203.95463\n",
        "best score:"
       ]
      },
      {
       "output_type": "stream",
       "stream": "stdout",
       "text": [
        " 4233286.09394\n",
        "best score:"
       ]
      },
      {
       "output_type": "stream",
       "stream": "stdout",
       "text": [
        " 2688492.23086\n",
        "best score:"
       ]
      },
      {
       "output_type": "stream",
       "stream": "stdout",
       "text": [
        " 1689016.16678\n",
        "best score:"
       ]
      },
      {
       "output_type": "stream",
       "stream": "stdout",
       "text": [
        " 1637604.693\n",
        "best score:"
       ]
      },
      {
       "output_type": "stream",
       "stream": "stdout",
       "text": [
        " 1533072.23782\n",
        "best score:"
       ]
      },
      {
       "output_type": "stream",
       "stream": "stdout",
       "text": [
        " 1397992.32326\n",
        "best score:"
       ]
      },
      {
       "output_type": "stream",
       "stream": "stdout",
       "text": [
        " 1818795.2914\n",
        "best score:"
       ]
      },
      {
       "output_type": "stream",
       "stream": "stdout",
       "text": [
        " 2230835.92533\n",
        "best score:"
       ]
      },
      {
       "output_type": "stream",
       "stream": "stdout",
       "text": [
        " 2406203.27875\n",
        "best score:"
       ]
      },
      {
       "output_type": "stream",
       "stream": "stdout",
       "text": [
        " 2886381.25964\n",
        "best score:"
       ]
      },
      {
       "output_type": "stream",
       "stream": "stdout",
       "text": [
        " 2788456.53478\n",
        "best score:"
       ]
      },
      {
       "output_type": "stream",
       "stream": "stdout",
       "text": [
        " 2538517.24941\n",
        "best score:"
       ]
      },
      {
       "output_type": "stream",
       "stream": "stdout",
       "text": [
        " 2111011.41741\n",
        "best score:"
       ]
      },
      {
       "output_type": "stream",
       "stream": "stdout",
       "text": [
        " 1781210.23176\n",
        "best score:"
       ]
      },
      {
       "output_type": "stream",
       "stream": "stdout",
       "text": [
        " 1608236.7011\n",
        "best score:"
       ]
      },
      {
       "output_type": "stream",
       "stream": "stdout",
       "text": [
        " 1317624.89419\n",
        "best score:"
       ]
      },
      {
       "output_type": "stream",
       "stream": "stdout",
       "text": [
        " 1251695.34081\n",
        "best score:"
       ]
      },
      {
       "output_type": "stream",
       "stream": "stdout",
       "text": [
        " 1438918.86539\n",
        "best score:"
       ]
      },
      {
       "output_type": "stream",
       "stream": "stdout",
       "text": [
        " 2020780.73199\n",
        "best score:"
       ]
      },
      {
       "output_type": "stream",
       "stream": "stdout",
       "text": [
        " 2140171.54235\n",
        "best score:"
       ]
      },
      {
       "output_type": "stream",
       "stream": "stdout",
       "text": [
        " 2564139.98322\n",
        "best score:"
       ]
      },
      {
       "output_type": "stream",
       "stream": "stdout",
       "text": [
        " 3209214.92057\n",
        "best score:"
       ]
      },
      {
       "output_type": "stream",
       "stream": "stdout",
       "text": [
        " 3124400.25601\n",
        "best score:"
       ]
      },
      {
       "output_type": "stream",
       "stream": "stdout",
       "text": [
        " 2559574.18613\n",
        "best score:"
       ]
      },
      {
       "output_type": "stream",
       "stream": "stdout",
       "text": [
        " 2117590.55525\n",
        "best score:"
       ]
      },
      {
       "output_type": "stream",
       "stream": "stdout",
       "text": [
        " 1977263.18534\n",
        "best score:"
       ]
      },
      {
       "output_type": "stream",
       "stream": "stdout",
       "text": [
        " 1668754.61614\n",
        "best score:"
       ]
      },
      {
       "output_type": "stream",
       "stream": "stdout",
       "text": [
        " 1443059.39441\n",
        "best score:"
       ]
      },
      {
       "output_type": "stream",
       "stream": "stdout",
       "text": [
        " 1266871.32971\n",
        "best score:"
       ]
      },
      {
       "output_type": "stream",
       "stream": "stdout",
       "text": [
        " 1504938.09594\n",
        "best score:"
       ]
      },
      {
       "output_type": "stream",
       "stream": "stdout",
       "text": [
        " 1945788.21702\n",
        "best score:"
       ]
      },
      {
       "output_type": "stream",
       "stream": "stdout",
       "text": [
        " 2428596.03459\n",
        "best score:"
       ]
      },
      {
       "output_type": "stream",
       "stream": "stdout",
       "text": [
        " 2579136.92965\n",
        "best score:"
       ]
      },
      {
       "output_type": "stream",
       "stream": "stdout",
       "text": [
        " 3245993.24257\n",
        "best score:"
       ]
      },
      {
       "output_type": "stream",
       "stream": "stdout",
       "text": [
        " 3216008.9983\n",
        "best score:"
       ]
      },
      {
       "output_type": "stream",
       "stream": "stdout",
       "text": [
        " 3038661.72961\n",
        "best score:"
       ]
      },
      {
       "output_type": "stream",
       "stream": "stdout",
       "text": [
        " 2473261.81695\n",
        "best score:"
       ]
      },
      {
       "output_type": "stream",
       "stream": "stdout",
       "text": [
        " 2148492.31667\n",
        "best score:"
       ]
      },
      {
       "output_type": "stream",
       "stream": "stdout",
       "text": [
        " 1943424.18624\n",
        "best score:"
       ]
      },
      {
       "output_type": "stream",
       "stream": "stdout",
       "text": [
        " 1688576.27688\n",
        "best score:"
       ]
      },
      {
       "output_type": "stream",
       "stream": "stdout",
       "text": [
        " 1428193.00332\n",
        "best score:"
       ]
      },
      {
       "output_type": "stream",
       "stream": "stdout",
       "text": [
        " 1547257.53422\n",
        "best score:"
       ]
      },
      {
       "output_type": "stream",
       "stream": "stdout",
       "text": [
        " 2028127.8671\n",
        "best score:"
       ]
      },
      {
       "output_type": "stream",
       "stream": "stdout",
       "text": [
        " 2287585.87884\n",
        "best score:"
       ]
      },
      {
       "output_type": "stream",
       "stream": "stdout",
       "text": [
        " 2380183.36809\n",
        "best score:"
       ]
      },
      {
       "output_type": "stream",
       "stream": "stdout",
       "text": [
        " 2681705.80681\n",
        "best score:"
       ]
      },
      {
       "output_type": "stream",
       "stream": "stdout",
       "text": [
        " 2755156.97645\n",
        "best score:"
       ]
      },
      {
       "output_type": "stream",
       "stream": "stdout",
       "text": [
        " 2460006.18808\n",
        "best score:"
       ]
      },
      {
       "output_type": "stream",
       "stream": "stdout",
       "text": [
        " 2219319.13718\n",
        "best score:"
       ]
      },
      {
       "output_type": "stream",
       "stream": "stdout",
       "text": [
        " 2055086.28429\n",
        "best score:"
       ]
      },
      {
       "output_type": "stream",
       "stream": "stdout",
       "text": [
        " 1747379.57921\n",
        "best score:"
       ]
      },
      {
       "output_type": "stream",
       "stream": "stdout",
       "text": [
        " 1527907.16349\n",
        "best score:"
       ]
      },
      {
       "output_type": "stream",
       "stream": "stdout",
       "text": [
        " 1215639.05723\n",
        "best score:"
       ]
      },
      {
       "output_type": "stream",
       "stream": "stdout",
       "text": [
        " 1491165.34211\n",
        "best score:"
       ]
      },
      {
       "output_type": "stream",
       "stream": "stdout",
       "text": [
        " 1932849.46949\n",
        "best score:"
       ]
      },
      {
       "output_type": "stream",
       "stream": "stdout",
       "text": [
        " 2152799.09638\n",
        "best score:"
       ]
      },
      {
       "output_type": "stream",
       "stream": "stdout",
       "text": [
        " 2579665.39862\n",
        "best score:"
       ]
      },
      {
       "output_type": "stream",
       "stream": "stdout",
       "text": [
        " 2957488.90601\n",
        "best score:"
       ]
      },
      {
       "output_type": "stream",
       "stream": "stdout",
       "text": [
        " 3253986.47193\n",
        "best score:"
       ]
      },
      {
       "output_type": "stream",
       "stream": "stdout",
       "text": [
        " 2944533.31296\n",
        "best score:"
       ]
      },
      {
       "output_type": "stream",
       "stream": "stdout",
       "text": [
        " 2353467.18964\n",
        "best score:"
       ]
      },
      {
       "output_type": "stream",
       "stream": "stdout",
       "text": [
        " 2269685.81755\n",
        "best score:"
       ]
      },
      {
       "output_type": "stream",
       "stream": "stdout",
       "text": [
        " 1892609.71703\n",
        "best score:"
       ]
      },
      {
       "output_type": "stream",
       "stream": "stdout",
       "text": [
        " 1376625.17375\n",
        "best score:"
       ]
      },
      {
       "output_type": "stream",
       "stream": "stdout",
       "text": [
        " 1194176.25859\n",
        "best score:"
       ]
      },
      {
       "output_type": "stream",
       "stream": "stdout",
       "text": [
        " 1646115.70327\n",
        "best score:"
       ]
      },
      {
       "output_type": "stream",
       "stream": "stdout",
       "text": [
        " 2359968.241\n",
        "best score:"
       ]
      },
      {
       "output_type": "stream",
       "stream": "stdout",
       "text": [
        " 2835230.16328\n",
        "best score:"
       ]
      },
      {
       "output_type": "stream",
       "stream": "stdout",
       "text": [
        " 2963206.56885\n",
        "best score:"
       ]
      },
      {
       "output_type": "stream",
       "stream": "stdout",
       "text": [
        " 2874603.13437\n",
        "best score:"
       ]
      },
      {
       "output_type": "stream",
       "stream": "stdout",
       "text": [
        " 3028698.50338\n",
        "best score:"
       ]
      },
      {
       "output_type": "stream",
       "stream": "stdout",
       "text": [
        " 3110716.56828\n",
        "best score:"
       ]
      },
      {
       "output_type": "stream",
       "stream": "stdout",
       "text": [
        " 2870890.26343\n",
        "best score:"
       ]
      },
      {
       "output_type": "stream",
       "stream": "stdout",
       "text": [
        " 2174772.23781\n",
        "best score:"
       ]
      },
      {
       "output_type": "stream",
       "stream": "stdout",
       "text": [
        " 1780536.86656\n",
        "best score:"
       ]
      },
      {
       "output_type": "stream",
       "stream": "stdout",
       "text": [
        " 1435650.15055\n",
        "best score:"
       ]
      },
      {
       "output_type": "stream",
       "stream": "stdout",
       "text": [
        " 1412406.09397\n",
        "best score:"
       ]
      },
      {
       "output_type": "stream",
       "stream": "stdout",
       "text": [
        " 1550161.59622\n",
        "best score:"
       ]
      },
      {
       "output_type": "stream",
       "stream": "stdout",
       "text": [
        " 2090272.60154\n",
        "best score:"
       ]
      },
      {
       "output_type": "stream",
       "stream": "stdout",
       "text": [
        " 2252941.46312\n",
        "best score:"
       ]
      },
      {
       "output_type": "stream",
       "stream": "stdout",
       "text": [
        " 2421240.70173\n",
        "best score:"
       ]
      },
      {
       "output_type": "stream",
       "stream": "stdout",
       "text": [
        " 2835438.72169\n",
        "best score:"
       ]
      },
      {
       "output_type": "stream",
       "stream": "stdout",
       "text": [
        " 2652218.28641\n",
        "best score:"
       ]
      },
      {
       "output_type": "stream",
       "stream": "stdout",
       "text": [
        " 2358392.60631\n",
        "best score:"
       ]
      },
      {
       "output_type": "stream",
       "stream": "stdout",
       "text": [
        " 2148693.28796\n",
        "best score:"
       ]
      },
      {
       "output_type": "stream",
       "stream": "stdout",
       "text": [
        " 1973311.23454\n",
        "best score:"
       ]
      },
      {
       "output_type": "stream",
       "stream": "stdout",
       "text": [
        " 1755346.32341\n",
        "best score:"
       ]
      },
      {
       "output_type": "stream",
       "stream": "stdout",
       "text": [
        " 1468405.85043\n",
        "best score:"
       ]
      },
      {
       "output_type": "stream",
       "stream": "stdout",
       "text": [
        " 1345264.39672\n",
        "best score:"
       ]
      },
      {
       "output_type": "stream",
       "stream": "stdout",
       "text": [
        " 1555343.52236\n",
        "best score:"
       ]
      },
      {
       "output_type": "stream",
       "stream": "stdout",
       "text": [
        " 2077216.18587\n",
        "best score:"
       ]
      },
      {
       "output_type": "stream",
       "stream": "stdout",
       "text": [
        " 2387580.3645\n",
        "best score:"
       ]
      },
      {
       "output_type": "stream",
       "stream": "stdout",
       "text": [
        " 2588747.81572\n",
        "best score:"
       ]
      },
      {
       "output_type": "stream",
       "stream": "stdout",
       "text": [
        " 2916399.85824\n",
        "best score:"
       ]
      },
      {
       "output_type": "stream",
       "stream": "stdout",
       "text": [
        " 2934624.57011\n",
        "best score:"
       ]
      },
      {
       "output_type": "stream",
       "stream": "stdout",
       "text": [
        " 2904111.15131\n",
        "best score:"
       ]
      },
      {
       "output_type": "stream",
       "stream": "stdout",
       "text": [
        " 2167202.47449\n",
        "best score:"
       ]
      },
      {
       "output_type": "stream",
       "stream": "stdout",
       "text": [
        " 2012907.94348\n",
        "best score:"
       ]
      },
      {
       "output_type": "stream",
       "stream": "stdout",
       "text": [
        " 1839142.3438\n",
        "best score:"
       ]
      },
      {
       "output_type": "stream",
       "stream": "stdout",
       "text": [
        " 1639288.60477\n",
        "best score:"
       ]
      },
      {
       "output_type": "stream",
       "stream": "stdout",
       "text": [
        " 1404283.79309\n",
        "best score:"
       ]
      },
      {
       "output_type": "stream",
       "stream": "stdout",
       "text": [
        " 1460102.74903\n",
        "best score:"
       ]
      },
      {
       "output_type": "stream",
       "stream": "stdout",
       "text": [
        " 1952683.56016\n",
        "best score:"
       ]
      },
      {
       "output_type": "stream",
       "stream": "stdout",
       "text": [
        " 2239223.63132\n",
        "best score:"
       ]
      },
      {
       "output_type": "stream",
       "stream": "stdout",
       "text": [
        " 2585063.32823\n",
        "best score:"
       ]
      },
      {
       "output_type": "stream",
       "stream": "stdout",
       "text": [
        " 2873504.68513\n",
        "best score:"
       ]
      },
      {
       "output_type": "stream",
       "stream": "stdout",
       "text": [
        " 2990827.34862\n",
        "best score:"
       ]
      },
      {
       "output_type": "stream",
       "stream": "stdout",
       "text": [
        " 2529971.42177\n",
        "best score:"
       ]
      },
      {
       "output_type": "stream",
       "stream": "stdout",
       "text": [
        " 2269861.59246\n",
        "best score:"
       ]
      },
      {
       "output_type": "stream",
       "stream": "stdout",
       "text": [
        " 1990969.31835\n",
        "best score:"
       ]
      },
      {
       "output_type": "stream",
       "stream": "stdout",
       "text": [
        " 1729447.53233\n",
        "best score:"
       ]
      },
      {
       "output_type": "stream",
       "stream": "stdout",
       "text": [
        " 1443834.09277\n",
        "best score:"
       ]
      },
      {
       "output_type": "stream",
       "stream": "stdout",
       "text": [
        " 1233861.91978\n",
        "best score:"
       ]
      },
      {
       "output_type": "stream",
       "stream": "stdout",
       "text": [
        " 1515596.93124\n",
        "best score:"
       ]
      },
      {
       "output_type": "stream",
       "stream": "stdout",
       "text": [
        " 1946052.78548\n",
        "best score:"
       ]
      },
      {
       "output_type": "stream",
       "stream": "stdout",
       "text": [
        " 2289407.7059\n",
        "best score:"
       ]
      },
      {
       "output_type": "stream",
       "stream": "stdout",
       "text": [
        " 2587465.27886\n",
        "best score:"
       ]
      },
      {
       "output_type": "stream",
       "stream": "stdout",
       "text": [
        " 3025062.08705\n",
        "best score:"
       ]
      },
      {
       "output_type": "stream",
       "stream": "stdout",
       "text": [
        " 3071765.46327\n",
        "best score:"
       ]
      },
      {
       "output_type": "stream",
       "stream": "stdout",
       "text": [
        " 2755371.68528\n",
        "best score:"
       ]
      },
      {
       "output_type": "stream",
       "stream": "stdout",
       "text": [
        " 2242807.6255\n",
        "best score:"
       ]
      },
      {
       "output_type": "stream",
       "stream": "stdout",
       "text": [
        " 1880948.40064\n",
        "best score:"
       ]
      },
      {
       "output_type": "stream",
       "stream": "stdout",
       "text": [
        " 1772322.16019\n",
        "best score:"
       ]
      },
      {
       "output_type": "stream",
       "stream": "stdout",
       "text": [
        " 1459086.19559\n",
        "best score:"
       ]
      },
      {
       "output_type": "stream",
       "stream": "stdout",
       "text": [
        " 1321828.14272\n",
        "best score:"
       ]
      },
      {
       "output_type": "stream",
       "stream": "stdout",
       "text": [
        " 1424128.33966\n",
        "best score:"
       ]
      },
      {
       "output_type": "stream",
       "stream": "stdout",
       "text": [
        " 1928615.79848\n",
        "best score:"
       ]
      },
      {
       "output_type": "stream",
       "stream": "stdout",
       "text": [
        " 2115167.99512\n",
        "best score:"
       ]
      },
      {
       "output_type": "stream",
       "stream": "stdout",
       "text": [
        " 2384254.87861\n",
        "best score:"
       ]
      },
      {
       "output_type": "stream",
       "stream": "stdout",
       "text": [
        " 2862018.97712\n",
        "best score:"
       ]
      },
      {
       "output_type": "stream",
       "stream": "stdout",
       "text": [
        " 3586262.74036\n",
        "best score:"
       ]
      },
      {
       "output_type": "stream",
       "stream": "stdout",
       "text": [
        " 2571382.42947\n",
        "best score:"
       ]
      },
      {
       "output_type": "stream",
       "stream": "stdout",
       "text": [
        " 2924381.91303\n",
        "best score:"
       ]
      },
      {
       "output_type": "stream",
       "stream": "stdout",
       "text": [
        " 2248079.36703\n",
        "best score:"
       ]
      },
      {
       "output_type": "stream",
       "stream": "stdout",
       "text": [
        " 1869251.75739\n",
        "best score:"
       ]
      },
      {
       "output_type": "stream",
       "stream": "stdout",
       "text": [
        " 1450433.57088\n",
        "best score:"
       ]
      },
      {
       "output_type": "stream",
       "stream": "stdout",
       "text": [
        " 1233529.81564\n",
        "best score:"
       ]
      },
      {
       "output_type": "stream",
       "stream": "stdout",
       "text": [
        " 1472345.07136\n",
        "best score:"
       ]
      },
      {
       "output_type": "stream",
       "stream": "stdout",
       "text": [
        " 1904806.25389\n",
        "best score:"
       ]
      },
      {
       "output_type": "stream",
       "stream": "stdout",
       "text": [
        " 2361269.33685\n",
        "best score:"
       ]
      },
      {
       "output_type": "stream",
       "stream": "stdout",
       "text": [
        " 2540375.59979\n",
        "best score:"
       ]
      },
      {
       "output_type": "stream",
       "stream": "stdout",
       "text": [
        " 3037992.96625\n",
        "best score:"
       ]
      },
      {
       "output_type": "stream",
       "stream": "stdout",
       "text": [
        " 2786438.06574\n",
        "best score:"
       ]
      },
      {
       "output_type": "stream",
       "stream": "stdout",
       "text": [
        " 2537212.47545\n",
        "best score:"
       ]
      },
      {
       "output_type": "stream",
       "stream": "stdout",
       "text": [
        " 2326837.81548\n",
        "best score:"
       ]
      },
      {
       "output_type": "stream",
       "stream": "stdout",
       "text": [
        " 1881881.11038\n",
        "best score:"
       ]
      },
      {
       "output_type": "stream",
       "stream": "stdout",
       "text": [
        " 1712169.06906\n",
        "best score:"
       ]
      },
      {
       "output_type": "stream",
       "stream": "stdout",
       "text": [
        " 1445425.07054\n",
        "best score:"
       ]
      },
      {
       "output_type": "stream",
       "stream": "stdout",
       "text": [
        " 1261198.89936\n",
        "best score:"
       ]
      },
      {
       "output_type": "stream",
       "stream": "stdout",
       "text": [
        " 1526546.35557\n",
        "best score:"
       ]
      },
      {
       "output_type": "stream",
       "stream": "stdout",
       "text": [
        " 1835675.45533\n",
        "best score:"
       ]
      },
      {
       "output_type": "stream",
       "stream": "stdout",
       "text": [
        " 2124573.94872\n",
        "best score:"
       ]
      },
      {
       "output_type": "stream",
       "stream": "stdout",
       "text": [
        " 2288702.73582\n",
        "best score:"
       ]
      },
      {
       "output_type": "stream",
       "stream": "stdout",
       "text": [
        " 2851771.44993\n",
        "best score:"
       ]
      },
      {
       "output_type": "stream",
       "stream": "stdout",
       "text": [
        " 3370187.9805\n",
        "best score:"
       ]
      },
      {
       "output_type": "stream",
       "stream": "stdout",
       "text": [
        " 2468259.53468\n",
        "best score:"
       ]
      },
      {
       "output_type": "stream",
       "stream": "stdout",
       "text": [
        " 2151627.54089\n",
        "best score:"
       ]
      },
      {
       "output_type": "stream",
       "stream": "stdout",
       "text": [
        " 2211223.83027\n",
        "best score:"
       ]
      },
      {
       "output_type": "stream",
       "stream": "stdout",
       "text": [
        " 1677783.65947\n",
        "best score:"
       ]
      },
      {
       "output_type": "stream",
       "stream": "stdout",
       "text": [
        " 1415202.9663\n",
        "best score:"
       ]
      },
      {
       "output_type": "stream",
       "stream": "stdout",
       "text": [
        " 1295720.54556\n",
        "best score:"
       ]
      },
      {
       "output_type": "stream",
       "stream": "stdout",
       "text": [
        " 1685191.10785\n",
        "best score:"
       ]
      },
      {
       "output_type": "stream",
       "stream": "stdout",
       "text": [
        " 2122503.67473\n",
        "best score:"
       ]
      },
      {
       "output_type": "stream",
       "stream": "stdout",
       "text": [
        " 2487233.89382\n",
        "best score:"
       ]
      },
      {
       "output_type": "stream",
       "stream": "stdout",
       "text": [
        " 2476467.6752\n",
        "best score:"
       ]
      },
      {
       "output_type": "stream",
       "stream": "stdout",
       "text": [
        " 3102163.87613\n",
        "best score:"
       ]
      },
      {
       "output_type": "stream",
       "stream": "stdout",
       "text": [
        " 3064060.14668\n",
        "best score:"
       ]
      },
      {
       "output_type": "stream",
       "stream": "stdout",
       "text": [
        " 2395666.39384\n",
        "best score:"
       ]
      },
      {
       "output_type": "stream",
       "stream": "stdout",
       "text": [
        " 2209010.05984\n",
        "best score:"
       ]
      },
      {
       "output_type": "stream",
       "stream": "stdout",
       "text": [
        " 2135412.61988\n",
        "best score:"
       ]
      },
      {
       "output_type": "stream",
       "stream": "stdout",
       "text": [
        " 1903208.27246\n",
        "best score:"
       ]
      },
      {
       "output_type": "stream",
       "stream": "stdout",
       "text": [
        " 1725222.05098\n",
        "best score:"
       ]
      },
      {
       "output_type": "stream",
       "stream": "stdout",
       "text": [
        " 1531304.12813\n",
        "best score:"
       ]
      },
      {
       "output_type": "stream",
       "stream": "stdout",
       "text": [
        " 1564573.1616\n",
        "best score:"
       ]
      },
      {
       "output_type": "stream",
       "stream": "stdout",
       "text": [
        " 1987684.60929\n",
        "best score:"
       ]
      },
      {
       "output_type": "stream",
       "stream": "stdout",
       "text": [
        " 2492866.59494\n",
        "best score:"
       ]
      },
      {
       "output_type": "stream",
       "stream": "stdout",
       "text": [
        " 3518231.4168\n",
        "best score:"
       ]
      },
      {
       "output_type": "stream",
       "stream": "stdout",
       "text": [
        " 4102788.7846\n",
        "best score:"
       ]
      },
      {
       "output_type": "stream",
       "stream": "stdout",
       "text": [
        " 4689784.45286\n",
        "best score:"
       ]
      },
      {
       "output_type": "stream",
       "stream": "stdout",
       "text": [
        " 4981963.59336\n",
        "best score:"
       ]
      },
      {
       "output_type": "stream",
       "stream": "stdout",
       "text": [
        " 3966720.33262\n",
        "best score:"
       ]
      },
      {
       "output_type": "stream",
       "stream": "stdout",
       "text": [
        " 2357118.66399\n",
        "best score:"
       ]
      },
      {
       "output_type": "stream",
       "stream": "stdout",
       "text": [
        " 1836415.48096\n",
        "best score:"
       ]
      },
      {
       "output_type": "stream",
       "stream": "stdout",
       "text": [
        " 1541363.43835\n",
        "best score:"
       ]
      },
      {
       "output_type": "stream",
       "stream": "stdout",
       "text": [
        " 1471778.82732\n",
        "best score:"
       ]
      },
      {
       "output_type": "stream",
       "stream": "stdout",
       "text": [
        " 1499012.26036\n",
        "best score:"
       ]
      },
      {
       "output_type": "stream",
       "stream": "stdout",
       "text": [
        " 2015512.23654\n",
        "best score:"
       ]
      },
      {
       "output_type": "stream",
       "stream": "stdout",
       "text": [
        " 2286579.11072\n",
        "best score:"
       ]
      },
      {
       "output_type": "stream",
       "stream": "stdout",
       "text": [
        " 2424473.13416\n",
        "best score:"
       ]
      },
      {
       "output_type": "stream",
       "stream": "stdout",
       "text": [
        " 3014935.26018\n",
        "best score:"
       ]
      },
      {
       "output_type": "stream",
       "stream": "stdout",
       "text": [
        " 3628810.91358\n",
        "best score:"
       ]
      },
      {
       "output_type": "stream",
       "stream": "stdout",
       "text": [
        " 2714554.30601\n",
        "best score:"
       ]
      },
      {
       "output_type": "stream",
       "stream": "stdout",
       "text": [
        " 2450598.18471\n",
        "best score:"
       ]
      },
      {
       "output_type": "stream",
       "stream": "stdout",
       "text": [
        " 2293550.95853\n",
        "best score:"
       ]
      },
      {
       "output_type": "stream",
       "stream": "stdout",
       "text": [
        " 1800169.05533\n",
        "best score:"
       ]
      },
      {
       "output_type": "stream",
       "stream": "stdout",
       "text": [
        " 1362034.67745\n",
        "best score:"
       ]
      },
      {
       "output_type": "stream",
       "stream": "stdout",
       "text": [
        " 1169089.73378\n",
        "best score:"
       ]
      },
      {
       "output_type": "stream",
       "stream": "stdout",
       "text": [
        " 1511386.18572\n",
        "best score:"
       ]
      },
      {
       "output_type": "stream",
       "stream": "stdout",
       "text": [
        " 2061790.02257\n",
        "best score:"
       ]
      },
      {
       "output_type": "stream",
       "stream": "stdout",
       "text": [
        " 2266098.22552\n",
        "best score:"
       ]
      },
      {
       "output_type": "stream",
       "stream": "stdout",
       "text": [
        " 2701740.5319\n",
        "best score:"
       ]
      },
      {
       "output_type": "stream",
       "stream": "stdout",
       "text": [
        " 2926521.01445\n",
        "best score:"
       ]
      },
      {
       "output_type": "stream",
       "stream": "stdout",
       "text": [
        " 2722740.28405\n",
        "best score:"
       ]
      },
      {
       "output_type": "stream",
       "stream": "stdout",
       "text": [
        " 2580121.423\n",
        "best score:"
       ]
      },
      {
       "output_type": "stream",
       "stream": "stdout",
       "text": [
        " 2340631.73841\n",
        "best score:"
       ]
      },
      {
       "output_type": "stream",
       "stream": "stdout",
       "text": [
        " 2193913.17913\n",
        "best score:"
       ]
      },
      {
       "output_type": "stream",
       "stream": "stdout",
       "text": [
        " 1922132.57179\n",
        "best score:"
       ]
      },
      {
       "output_type": "stream",
       "stream": "stdout",
       "text": [
        " 1424948.79155\n",
        "best score:"
       ]
      },
      {
       "output_type": "stream",
       "stream": "stdout",
       "text": [
        " 1293332.08865\n",
        "best score:"
       ]
      },
      {
       "output_type": "stream",
       "stream": "stdout",
       "text": [
        " 1498126.51198\n",
        "best score:"
       ]
      },
      {
       "output_type": "stream",
       "stream": "stdout",
       "text": [
        " 1892960.76907\n",
        "best score:"
       ]
      },
      {
       "output_type": "stream",
       "stream": "stdout",
       "text": [
        " 2369835.80045\n",
        "best score:"
       ]
      },
      {
       "output_type": "stream",
       "stream": "stdout",
       "text": [
        " 2437888.96923\n",
        "best score:"
       ]
      },
      {
       "output_type": "stream",
       "stream": "stdout",
       "text": [
        " 2894405.63603\n",
        "best score:"
       ]
      },
      {
       "output_type": "stream",
       "stream": "stdout",
       "text": [
        " 3006115.74492\n",
        "best score:"
       ]
      },
      {
       "output_type": "stream",
       "stream": "stdout",
       "text": [
        " 2594842.50589\n",
        "best score:"
       ]
      },
      {
       "output_type": "stream",
       "stream": "stdout",
       "text": [
        " 2255239.54805\n",
        "best score:"
       ]
      },
      {
       "output_type": "stream",
       "stream": "stdout",
       "text": [
        " 1882563.23848\n",
        "best score:"
       ]
      },
      {
       "output_type": "stream",
       "stream": "stdout",
       "text": [
        " 1786103.17484\n",
        "best score:"
       ]
      },
      {
       "output_type": "stream",
       "stream": "stdout",
       "text": [
        " 1444402.26528\n",
        "best score:"
       ]
      },
      {
       "output_type": "stream",
       "stream": "stdout",
       "text": [
        " 1287367.35187\n",
        "best score:"
       ]
      },
      {
       "output_type": "stream",
       "stream": "stdout",
       "text": [
        " 1481894.10554\n",
        "best score:"
       ]
      },
      {
       "output_type": "stream",
       "stream": "stdout",
       "text": [
        " 1963194.22678\n",
        "best score:"
       ]
      },
      {
       "output_type": "stream",
       "stream": "stdout",
       "text": [
        " 2235214.10183\n",
        "best score:"
       ]
      },
      {
       "output_type": "stream",
       "stream": "stdout",
       "text": [
        " 3922156.67184\n",
        "best score:"
       ]
      },
      {
       "output_type": "stream",
       "stream": "stdout",
       "text": [
        " 4053693.56977\n",
        "best score:"
       ]
      },
      {
       "output_type": "stream",
       "stream": "stdout",
       "text": [
        " 3292690.02741\n",
        "best score:"
       ]
      },
      {
       "output_type": "stream",
       "stream": "stdout",
       "text": [
        " 3211421.81361\n",
        "best score:"
       ]
      },
      {
       "output_type": "stream",
       "stream": "stdout",
       "text": [
        " 2723628.04126\n",
        "best score:"
       ]
      },
      {
       "output_type": "stream",
       "stream": "stdout",
       "text": [
        " 2015735.611\n",
        "best score:"
       ]
      },
      {
       "output_type": "stream",
       "stream": "stdout",
       "text": [
        " 1818684.30135\n",
        "best score:"
       ]
      },
      {
       "output_type": "stream",
       "stream": "stdout",
       "text": [
        " 1423490.60201\n",
        "best score:"
       ]
      },
      {
       "output_type": "stream",
       "stream": "stdout",
       "text": [
        " 1339158.49721\n",
        "best score:"
       ]
      },
      {
       "output_type": "stream",
       "stream": "stdout",
       "text": [
        " 1558206.14131\n",
        "best score:"
       ]
      },
      {
       "output_type": "stream",
       "stream": "stdout",
       "text": [
        " 2136853.17658\n",
        "best score:"
       ]
      },
      {
       "output_type": "stream",
       "stream": "stdout",
       "text": [
        " 2555569.48289\n",
        "best score:"
       ]
      },
      {
       "output_type": "stream",
       "stream": "stdout",
       "text": [
        " 2615812.05706\n",
        "best score:"
       ]
      },
      {
       "output_type": "stream",
       "stream": "stdout",
       "text": [
        " 3498001.95484\n",
        "best score:"
       ]
      },
      {
       "output_type": "stream",
       "stream": "stdout",
       "text": [
        " 3282734.18306\n",
        "best score:"
       ]
      },
      {
       "output_type": "stream",
       "stream": "stdout",
       "text": [
        " 2418723.41684\n",
        "best score:"
       ]
      },
      {
       "output_type": "stream",
       "stream": "stdout",
       "text": [
        " 2162543.15932\n",
        "best score:"
       ]
      },
      {
       "output_type": "stream",
       "stream": "stdout",
       "text": [
        " 2001592.12386\n",
        "best score:"
       ]
      },
      {
       "output_type": "stream",
       "stream": "stdout",
       "text": [
        " 1765265.00379\n",
        "best score:"
       ]
      },
      {
       "output_type": "stream",
       "stream": "stdout",
       "text": [
        " 1386437.2398\n",
        "best score:"
       ]
      },
      {
       "output_type": "stream",
       "stream": "stdout",
       "text": [
        " 1310323.18591\n",
        "best score:"
       ]
      },
      {
       "output_type": "stream",
       "stream": "stdout",
       "text": [
        " 1597478.70451\n",
        "best score:"
       ]
      },
      {
       "output_type": "stream",
       "stream": "stdout",
       "text": [
        " 2139121.36117\n",
        "best score:"
       ]
      },
      {
       "output_type": "stream",
       "stream": "stdout",
       "text": [
        " 2259647.28128\n",
        "best score:"
       ]
      },
      {
       "output_type": "stream",
       "stream": "stdout",
       "text": [
        " 3189772.75037\n",
        "best score:"
       ]
      },
      {
       "output_type": "stream",
       "stream": "stdout",
       "text": [
        " 3775335.94347\n",
        "best score:"
       ]
      },
      {
       "output_type": "stream",
       "stream": "stdout",
       "text": [
        " 3689446.84758\n",
        "best score:"
       ]
      },
      {
       "output_type": "stream",
       "stream": "stdout",
       "text": [
        " 3201210.46303\n",
        "best score:"
       ]
      },
      {
       "output_type": "stream",
       "stream": "stdout",
       "text": [
        " 3010257.78077\n",
        "best score:"
       ]
      },
      {
       "output_type": "stream",
       "stream": "stdout",
       "text": [
        " 2185150.24049\n",
        "best score:"
       ]
      },
      {
       "output_type": "stream",
       "stream": "stdout",
       "text": [
        " 1890565.97287\n",
        "best score:"
       ]
      },
      {
       "output_type": "stream",
       "stream": "stdout",
       "text": [
        " 1636291.36193\n",
        "best score:"
       ]
      },
      {
       "output_type": "stream",
       "stream": "stdout",
       "text": [
        " 1477794.94242\n",
        "best score:"
       ]
      },
      {
       "output_type": "stream",
       "stream": "stdout",
       "text": [
        " 1397352.87807\n",
        "best score:"
       ]
      },
      {
       "output_type": "stream",
       "stream": "stdout",
       "text": [
        " 1843180.89137\n",
        "best score:"
       ]
      },
      {
       "output_type": "stream",
       "stream": "stdout",
       "text": [
        " 2134928.26813\n",
        "best score:"
       ]
      },
      {
       "output_type": "stream",
       "stream": "stdout",
       "text": [
        " 2366022.47883\n",
        "best score:"
       ]
      },
      {
       "output_type": "stream",
       "stream": "stdout",
       "text": [
        " 2793199.75267\n",
        "best score:"
       ]
      },
      {
       "output_type": "stream",
       "stream": "stdout",
       "text": [
        " 2839462.30509\n",
        "best score:"
       ]
      },
      {
       "output_type": "stream",
       "stream": "stdout",
       "text": [
        " 2319320.20849\n",
        "best score:"
       ]
      },
      {
       "output_type": "stream",
       "stream": "stdout",
       "text": [
        " 2111669.05227\n",
        "best score:"
       ]
      },
      {
       "output_type": "stream",
       "stream": "stdout",
       "text": [
        " 1956214.32603\n",
        "best score:"
       ]
      },
      {
       "output_type": "stream",
       "stream": "stdout",
       "text": [
        " 1805318.93901\n",
        "best score:"
       ]
      },
      {
       "output_type": "stream",
       "stream": "stdout",
       "text": [
        " 1336660.17508\n",
        "best score:"
       ]
      },
      {
       "output_type": "stream",
       "stream": "stdout",
       "text": [
        " 1152013.2511\n",
        "best score:"
       ]
      },
      {
       "output_type": "stream",
       "stream": "stdout",
       "text": [
        " 1688446.42485\n",
        "best score:"
       ]
      },
      {
       "output_type": "stream",
       "stream": "stdout",
       "text": [
        " 2151826.11573\n",
        "best score:"
       ]
      },
      {
       "output_type": "stream",
       "stream": "stdout",
       "text": [
        " 2307680.45541\n",
        "best score:"
       ]
      },
      {
       "output_type": "stream",
       "stream": "stdout",
       "text": [
        " 3015950.49756\n",
        "best score:"
       ]
      },
      {
       "output_type": "stream",
       "stream": "stdout",
       "text": [
        " 3241427.61104\n",
        "best score:"
       ]
      },
      {
       "output_type": "stream",
       "stream": "stdout",
       "text": [
        " 3100999.26748\n",
        "best score:"
       ]
      },
      {
       "output_type": "stream",
       "stream": "stdout",
       "text": [
        " 3042142.55128\n",
        "best score:"
       ]
      },
      {
       "output_type": "stream",
       "stream": "stdout",
       "text": [
        " 3087800.9001\n",
        "best score:"
       ]
      },
      {
       "output_type": "stream",
       "stream": "stdout",
       "text": [
        " 2165948.76309\n",
        "best score:"
       ]
      },
      {
       "output_type": "stream",
       "stream": "stdout",
       "text": [
        " 1810980.19049\n",
        "best score:"
       ]
      },
      {
       "output_type": "stream",
       "stream": "stdout",
       "text": [
        " 1601125.91984\n",
        "best score:"
       ]
      },
      {
       "output_type": "stream",
       "stream": "stdout",
       "text": [
        " 1472217.70637\n",
        "best score:"
       ]
      },
      {
       "output_type": "stream",
       "stream": "stdout",
       "text": [
        " 1714660.33962\n",
        "best score:"
       ]
      },
      {
       "output_type": "stream",
       "stream": "stdout",
       "text": [
        " 2219403.6448\n",
        "best score:"
       ]
      },
      {
       "output_type": "stream",
       "stream": "stdout",
       "text": [
        " 2652934.50625\n",
        "best score:"
       ]
      },
      {
       "output_type": "stream",
       "stream": "stdout",
       "text": [
        " 2822305.10104\n",
        "best score:"
       ]
      },
      {
       "output_type": "stream",
       "stream": "stdout",
       "text": [
        " 3048119.02179\n",
        "best score:"
       ]
      },
      {
       "output_type": "stream",
       "stream": "stdout",
       "text": [
        " 2867373.67633\n",
        "best score:"
       ]
      },
      {
       "output_type": "stream",
       "stream": "stdout",
       "text": [
        " 2538634.55534\n",
        "best score:"
       ]
      },
      {
       "output_type": "stream",
       "stream": "stdout",
       "text": [
        " 2489882.46286\n",
        "best score:"
       ]
      },
      {
       "output_type": "stream",
       "stream": "stdout",
       "text": [
        " 2085363.81663\n",
        "best score:"
       ]
      },
      {
       "output_type": "stream",
       "stream": "stdout",
       "text": [
        " 1772836.15848\n",
        "best score:"
       ]
      },
      {
       "output_type": "stream",
       "stream": "stdout",
       "text": [
        " 1628074.78252\n",
        "best score:"
       ]
      },
      {
       "output_type": "stream",
       "stream": "stdout",
       "text": [
        " 1467845.58995\n",
        "best score:"
       ]
      },
      {
       "output_type": "stream",
       "stream": "stdout",
       "text": [
        " 1460100.58864\n",
        "best score:"
       ]
      },
      {
       "output_type": "stream",
       "stream": "stdout",
       "text": [
        " 2057711.92159\n",
        "best score:"
       ]
      },
      {
       "output_type": "stream",
       "stream": "stdout",
       "text": [
        " 2441712.14522\n",
        "best score:"
       ]
      },
      {
       "output_type": "stream",
       "stream": "stdout",
       "text": [
        " 3075399.54605\n",
        "best score:"
       ]
      },
      {
       "output_type": "stream",
       "stream": "stdout",
       "text": [
        " 3277619.77482\n",
        "best score:"
       ]
      },
      {
       "output_type": "stream",
       "stream": "stdout",
       "text": [
        " 3945587.86851\n",
        "best score:"
       ]
      },
      {
       "output_type": "stream",
       "stream": "stdout",
       "text": [
        " 4350714.73821\n",
        "best score:"
       ]
      },
      {
       "output_type": "stream",
       "stream": "stdout",
       "text": [
        " 3483726.23207\n",
        "best score:"
       ]
      },
      {
       "output_type": "stream",
       "stream": "stdout",
       "text": [
        " 2302977.8143\n",
        "best score:"
       ]
      },
      {
       "output_type": "stream",
       "stream": "stdout",
       "text": [
        " 1793312.09467\n",
        "best score:"
       ]
      },
      {
       "output_type": "stream",
       "stream": "stdout",
       "text": [
        " 1544996.721\n",
        "best score:"
       ]
      },
      {
       "output_type": "stream",
       "stream": "stdout",
       "text": [
        " 1387043.2962\n",
        "best score:"
       ]
      },
      {
       "output_type": "stream",
       "stream": "stdout",
       "text": [
        " 1661222.78928\n",
        "best score:"
       ]
      },
      {
       "output_type": "stream",
       "stream": "stdout",
       "text": [
        " 2116784.69117\n",
        "best score:"
       ]
      },
      {
       "output_type": "stream",
       "stream": "stdout",
       "text": [
        " 2638817.80467\n",
        "best score:"
       ]
      },
      {
       "output_type": "stream",
       "stream": "stdout",
       "text": [
        " 3976205.39217\n",
        "best score:"
       ]
      },
      {
       "output_type": "stream",
       "stream": "stdout",
       "text": [
        " 4313183.82083\n",
        "best score:"
       ]
      },
      {
       "output_type": "stream",
       "stream": "stdout",
       "text": [
        " 4488202.80575\n",
        "best score:"
       ]
      },
      {
       "output_type": "stream",
       "stream": "stdout",
       "text": [
        " 4476038.28311\n",
        "best score:"
       ]
      },
      {
       "output_type": "stream",
       "stream": "stdout",
       "text": [
        " 3928901.87012\n",
        "best score:"
       ]
      },
      {
       "output_type": "stream",
       "stream": "stdout",
       "text": [
        " 2450441.70083\n",
        "best score:"
       ]
      },
      {
       "output_type": "stream",
       "stream": "stdout",
       "text": [
        " 1707632.71297\n",
        "best score:"
       ]
      },
      {
       "output_type": "stream",
       "stream": "stdout",
       "text": [
        " 1653191.12671\n",
        "best score:"
       ]
      },
      {
       "output_type": "stream",
       "stream": "stdout",
       "text": [
        " 1526619.0197\n",
        "best score:"
       ]
      },
      {
       "output_type": "stream",
       "stream": "stdout",
       "text": [
        " 1494594.81128\n",
        "best score:"
       ]
      },
      {
       "output_type": "stream",
       "stream": "stdout",
       "text": [
        " 2055504.53992\n",
        "best score:"
       ]
      },
      {
       "output_type": "stream",
       "stream": "stdout",
       "text": [
        " 2433201.23514\n",
        "best score:"
       ]
      },
      {
       "output_type": "stream",
       "stream": "stdout",
       "text": [
        " 2500518.80952\n",
        "best score:"
       ]
      },
      {
       "output_type": "stream",
       "stream": "stdout",
       "text": [
        " 2824628.55226\n",
        "best score:"
       ]
      },
      {
       "output_type": "stream",
       "stream": "stdout",
       "text": [
        " 3026010.10399\n",
        "best score:"
       ]
      },
      {
       "output_type": "stream",
       "stream": "stdout",
       "text": [
        " 2478795.40117\n",
        "best score:"
       ]
      },
      {
       "output_type": "stream",
       "stream": "stdout",
       "text": [
        " 2485937.90301\n",
        "best score:"
       ]
      },
      {
       "output_type": "stream",
       "stream": "stdout",
       "text": [
        " 2016222.03225\n",
        "best score:"
       ]
      },
      {
       "output_type": "stream",
       "stream": "stdout",
       "text": [
        " 1626473.26542\n",
        "best score:"
       ]
      },
      {
       "output_type": "stream",
       "stream": "stdout",
       "text": [
        " 1451362.40784\n",
        "best score:"
       ]
      },
      {
       "output_type": "stream",
       "stream": "stdout",
       "text": [
        " 1359753.48927\n",
        "best score:"
       ]
      },
      {
       "output_type": "stream",
       "stream": "stdout",
       "text": [
        " 1794135.05489\n",
        "best score:"
       ]
      },
      {
       "output_type": "stream",
       "stream": "stdout",
       "text": [
        " 2357597.91002\n",
        "best score:"
       ]
      },
      {
       "output_type": "stream",
       "stream": "stdout",
       "text": [
        " 2936091.32627\n",
        "best score:"
       ]
      },
      {
       "output_type": "stream",
       "stream": "stdout",
       "text": [
        " 3129411.36045\n",
        "best score:"
       ]
      },
      {
       "output_type": "stream",
       "stream": "stdout",
       "text": [
        " 3722452.80447\n",
        "best score:"
       ]
      },
      {
       "output_type": "stream",
       "stream": "stdout",
       "text": [
        " 3202976.8142\n",
        "best score:"
       ]
      },
      {
       "output_type": "stream",
       "stream": "stdout",
       "text": [
        " 3460947.97143\n",
        "best score:"
       ]
      },
      {
       "output_type": "stream",
       "stream": "stdout",
       "text": [
        " 2758723.49552\n",
        "best score:"
       ]
      },
      {
       "output_type": "stream",
       "stream": "stdout",
       "text": [
        " 2225929.82631\n",
        "best score:"
       ]
      },
      {
       "output_type": "stream",
       "stream": "stdout",
       "text": [
        " 1741209.1779\n",
        "best score:"
       ]
      },
      {
       "output_type": "stream",
       "stream": "stdout",
       "text": [
        " 1548152.82692\n",
        "best score:"
       ]
      },
      {
       "output_type": "stream",
       "stream": "stdout",
       "text": [
        " 1459284.64541\n",
        "best score:"
       ]
      },
      {
       "output_type": "stream",
       "stream": "stdout",
       "text": [
        " 1564705.53017\n",
        "best score:"
       ]
      },
      {
       "output_type": "stream",
       "stream": "stdout",
       "text": [
        " 1971063.81196\n",
        "best score:"
       ]
      },
      {
       "output_type": "stream",
       "stream": "stdout",
       "text": [
        " 2287189.83994\n",
        "best score:"
       ]
      },
      {
       "output_type": "stream",
       "stream": "stdout",
       "text": [
        " 2764840.70981\n",
        "best score:"
       ]
      },
      {
       "output_type": "stream",
       "stream": "stdout",
       "text": [
        " 3427153.85928\n",
        "best score:"
       ]
      },
      {
       "output_type": "stream",
       "stream": "stdout",
       "text": [
        " 3475128.12741\n",
        "best score:"
       ]
      },
      {
       "output_type": "stream",
       "stream": "stdout",
       "text": [
        " 2884907.31291\n",
        "best score:"
       ]
      },
      {
       "output_type": "stream",
       "stream": "stdout",
       "text": [
        " 2633540.37883\n",
        "best score:"
       ]
      },
      {
       "output_type": "stream",
       "stream": "stdout",
       "text": [
        " 1895870.5205\n",
        "best score:"
       ]
      },
      {
       "output_type": "stream",
       "stream": "stdout",
       "text": [
        " 1754823.09803\n",
        "best score:"
       ]
      },
      {
       "output_type": "stream",
       "stream": "stdout",
       "text": [
        " 1389843.42892\n",
        "best score:"
       ]
      },
      {
       "output_type": "stream",
       "stream": "stdout",
       "text": [
        " 1391266.16984\n",
        "best score:"
       ]
      },
      {
       "output_type": "stream",
       "stream": "stdout",
       "text": [
        " 1579894.87997\n",
        "best score:"
       ]
      },
      {
       "output_type": "stream",
       "stream": "stdout",
       "text": [
        " 2219802.99801\n",
        "best score:"
       ]
      },
      {
       "output_type": "stream",
       "stream": "stdout",
       "text": [
        " 2417959.42718\n",
        "best score:"
       ]
      },
      {
       "output_type": "stream",
       "stream": "stdout",
       "text": [
        " 3011805.04713\n",
        "best score:"
       ]
      },
      {
       "output_type": "stream",
       "stream": "stdout",
       "text": [
        " 3061120.21116\n",
        "best score:"
       ]
      },
      {
       "output_type": "stream",
       "stream": "stdout",
       "text": [
        " 3028499.75827\n",
        "best score:"
       ]
      },
      {
       "output_type": "stream",
       "stream": "stdout",
       "text": [
        " 2715883.65148\n",
        "best score:"
       ]
      },
      {
       "output_type": "stream",
       "stream": "stdout",
       "text": [
        " 2379745.79756\n",
        "best score:"
       ]
      },
      {
       "output_type": "stream",
       "stream": "stdout",
       "text": [
        " 2165115.91878\n",
        "best score:"
       ]
      },
      {
       "output_type": "stream",
       "stream": "stdout",
       "text": [
        " 1809261.84474\n",
        "best score:"
       ]
      },
      {
       "output_type": "stream",
       "stream": "stdout",
       "text": [
        " 1608090.39687\n",
        "best score:"
       ]
      },
      {
       "output_type": "stream",
       "stream": "stdout",
       "text": [
        " 1392160.56744\n",
        "best score:"
       ]
      },
      {
       "output_type": "stream",
       "stream": "stdout",
       "text": [
        " 1432643.46136\n",
        "best score:"
       ]
      },
      {
       "output_type": "stream",
       "stream": "stdout",
       "text": [
        " 1924104.23564\n",
        "best score:"
       ]
      },
      {
       "output_type": "stream",
       "stream": "stdout",
       "text": [
        " 2393025.04208\n",
        "best score:"
       ]
      },
      {
       "output_type": "stream",
       "stream": "stdout",
       "text": [
        " 2494987.67911\n",
        "best score:"
       ]
      },
      {
       "output_type": "stream",
       "stream": "stdout",
       "text": [
        " 2757057.43404\n",
        "best score:"
       ]
      },
      {
       "output_type": "stream",
       "stream": "stdout",
       "text": [
        " 2864062.70691\n",
        "best score:"
       ]
      },
      {
       "output_type": "stream",
       "stream": "stdout",
       "text": [
        " 2440926.49838\n",
        "best score:"
       ]
      },
      {
       "output_type": "stream",
       "stream": "stdout",
       "text": [
        " 2275062.96335\n",
        "best score:"
       ]
      },
      {
       "output_type": "stream",
       "stream": "stdout",
       "text": [
        " 2142610.53358\n",
        "best score:"
       ]
      },
      {
       "output_type": "stream",
       "stream": "stdout",
       "text": [
        " 1641435.3358\n",
        "best score:"
       ]
      },
      {
       "output_type": "stream",
       "stream": "stdout",
       "text": [
        " 1305869.36733\n",
        "best score:"
       ]
      },
      {
       "output_type": "stream",
       "stream": "stdout",
       "text": [
        " 1231709.15269\n",
        "best score:"
       ]
      },
      {
       "output_type": "stream",
       "stream": "stdout",
       "text": [
        " 1692529.13854\n",
        "best score:"
       ]
      },
      {
       "output_type": "stream",
       "stream": "stdout",
       "text": [
        " 2177491.59196\n",
        "best score:"
       ]
      },
      {
       "output_type": "stream",
       "stream": "stdout",
       "text": [
        " 2336224.49426\n",
        "best score:"
       ]
      },
      {
       "output_type": "stream",
       "stream": "stdout",
       "text": [
        " 2472136.11678\n",
        "best score:"
       ]
      },
      {
       "output_type": "stream",
       "stream": "stdout",
       "text": [
        " 3066954.98118\n",
        "best score:"
       ]
      },
      {
       "output_type": "stream",
       "stream": "stdout",
       "text": [
        " 2750778.42626\n",
        "best score:"
       ]
      },
      {
       "output_type": "stream",
       "stream": "stdout",
       "text": [
        " 2371826.62805\n",
        "best score:"
       ]
      },
      {
       "output_type": "stream",
       "stream": "stdout",
       "text": [
        " 2180226.89703\n",
        "best score:"
       ]
      },
      {
       "output_type": "stream",
       "stream": "stdout",
       "text": [
        " 1871557.96244\n",
        "best score:"
       ]
      },
      {
       "output_type": "stream",
       "stream": "stdout",
       "text": [
        " 1751506.57506\n",
        "best score:"
       ]
      },
      {
       "output_type": "stream",
       "stream": "stdout",
       "text": [
        " 1524834.75721\n",
        "best score:"
       ]
      },
      {
       "output_type": "stream",
       "stream": "stdout",
       "text": [
        " 1392448.64545\n",
        "best score:"
       ]
      },
      {
       "output_type": "stream",
       "stream": "stdout",
       "text": [
        " 1497863.77835\n",
        "best score:"
       ]
      },
      {
       "output_type": "stream",
       "stream": "stdout",
       "text": [
        " 1901997.54414\n",
        "best score:"
       ]
      },
      {
       "output_type": "stream",
       "stream": "stdout",
       "text": [
        " 2054831.76391\n",
        "best score:"
       ]
      },
      {
       "output_type": "stream",
       "stream": "stdout",
       "text": [
        " 2181003.63494\n",
        "best score:"
       ]
      },
      {
       "output_type": "stream",
       "stream": "stdout",
       "text": [
        " 2748027.30728\n",
        "best score:"
       ]
      },
      {
       "output_type": "stream",
       "stream": "stdout",
       "text": [
        " 2800021.45745\n",
        "best score:"
       ]
      },
      {
       "output_type": "stream",
       "stream": "stdout",
       "text": [
        " 2302391.36363\n",
        "best score:"
       ]
      },
      {
       "output_type": "stream",
       "stream": "stdout",
       "text": [
        " 2180914.18724\n",
        "best score:"
       ]
      },
      {
       "output_type": "stream",
       "stream": "stdout",
       "text": [
        " 2014861.77688\n",
        "best score:"
       ]
      },
      {
       "output_type": "stream",
       "stream": "stdout",
       "text": [
        " 1562487.57588\n",
        "best score:"
       ]
      },
      {
       "output_type": "stream",
       "stream": "stdout",
       "text": [
        " 1451833.64823\n",
        "best score:"
       ]
      },
      {
       "output_type": "stream",
       "stream": "stdout",
       "text": [
        " 1298599.23375\n",
        "best score:"
       ]
      },
      {
       "output_type": "stream",
       "stream": "stdout",
       "text": [
        " 1513741.48319\n",
        "best score:"
       ]
      },
      {
       "output_type": "stream",
       "stream": "stdout",
       "text": [
        " 1999403.98772\n",
        "best score:"
       ]
      },
      {
       "output_type": "stream",
       "stream": "stdout",
       "text": [
        " 2295937.4201\n",
        "best score:"
       ]
      },
      {
       "output_type": "stream",
       "stream": "stdout",
       "text": [
        " 3217182.15619\n",
        "best score:"
       ]
      },
      {
       "output_type": "stream",
       "stream": "stdout",
       "text": [
        " 3808310.62178\n",
        "best score:"
       ]
      },
      {
       "output_type": "stream",
       "stream": "stdout",
       "text": [
        " 4269551.33254\n",
        "best score:"
       ]
      },
      {
       "output_type": "stream",
       "stream": "stdout",
       "text": [
        " 4438063.20312\n",
        "best score:"
       ]
      },
      {
       "output_type": "stream",
       "stream": "stdout",
       "text": [
        " 4241158.63693\n",
        "best score:"
       ]
      },
      {
       "output_type": "stream",
       "stream": "stdout",
       "text": [
        " 2633737.09453\n",
        "best score:"
       ]
      },
      {
       "output_type": "stream",
       "stream": "stdout",
       "text": [
        " 1775116.77624\n",
        "best score:"
       ]
      },
      {
       "output_type": "stream",
       "stream": "stdout",
       "text": [
        " 1531756.24179\n",
        "best score:"
       ]
      },
      {
       "output_type": "stream",
       "stream": "stdout",
       "text": [
        " 1382072.54599\n",
        "best score:"
       ]
      },
      {
       "output_type": "stream",
       "stream": "stdout",
       "text": [
        " 1623847.74511\n",
        "best score:"
       ]
      },
      {
       "output_type": "stream",
       "stream": "stdout",
       "text": [
        " 2186555.65053\n",
        "best score:"
       ]
      },
      {
       "output_type": "stream",
       "stream": "stdout",
       "text": [
        " 2769894.15651\n",
        "best score:"
       ]
      },
      {
       "output_type": "stream",
       "stream": "stdout",
       "text": [
        " 3740159.53947\n",
        "best score:"
       ]
      },
      {
       "output_type": "stream",
       "stream": "stdout",
       "text": [
        " 4153017.03333\n",
        "best score:"
       ]
      },
      {
       "output_type": "stream",
       "stream": "stdout",
       "text": [
        " 4385658.09777\n",
        "best score:"
       ]
      },
      {
       "output_type": "stream",
       "stream": "stdout",
       "text": [
        " 4419184.70135\n",
        "best score:"
       ]
      },
      {
       "output_type": "stream",
       "stream": "stdout",
       "text": [
        " 3591788.23547\n",
        "best score:"
       ]
      },
      {
       "output_type": "stream",
       "stream": "stdout",
       "text": [
        " 2432005.25774\n",
        "best score:"
       ]
      },
      {
       "output_type": "stream",
       "stream": "stdout",
       "text": [
        " 2028429.40015\n",
        "best score:"
       ]
      },
      {
       "output_type": "stream",
       "stream": "stdout",
       "text": [
        " 1692333.2995\n",
        "best score:"
       ]
      },
      {
       "output_type": "stream",
       "stream": "stdout",
       "text": [
        " 1508903.81648\n",
        "best score:"
       ]
      },
      {
       "output_type": "stream",
       "stream": "stdout",
       "text": [
        " 1470764.91424\n",
        "best score:"
       ]
      },
      {
       "output_type": "stream",
       "stream": "stdout",
       "text": [
        " 2053851.18144\n",
        "best score:"
       ]
      },
      {
       "output_type": "stream",
       "stream": "stdout",
       "text": [
        " 2473518.78817\n",
        "best score:"
       ]
      },
      {
       "output_type": "stream",
       "stream": "stdout",
       "text": [
        " 3963040.05967\n",
        "best score:"
       ]
      },
      {
       "output_type": "stream",
       "stream": "stdout",
       "text": [
        " 4588811.38308\n",
        "best score:"
       ]
      },
      {
       "output_type": "stream",
       "stream": "stdout",
       "text": [
        " 5073561.98853\n",
        "best score:"
       ]
      },
      {
       "output_type": "stream",
       "stream": "stdout",
       "text": [
        " 5087816.67735\n",
        "best score:"
       ]
      },
      {
       "output_type": "stream",
       "stream": "stdout",
       "text": [
        " 4183158.71222\n",
        "best score:"
       ]
      },
      {
       "output_type": "stream",
       "stream": "stdout",
       "text": [
        " 2461903.89055\n",
        "best score:"
       ]
      },
      {
       "output_type": "stream",
       "stream": "stdout",
       "text": [
        " 1745255.53658\n",
        "best score:"
       ]
      },
      {
       "output_type": "stream",
       "stream": "stdout",
       "text": [
        " 1598350.44462\n",
        "best score:"
       ]
      },
      {
       "output_type": "stream",
       "stream": "stdout",
       "text": [
        " 1502336.41489\n",
        "best score:"
       ]
      },
      {
       "output_type": "stream",
       "stream": "stdout",
       "text": [
        " 1398622.19289\n",
        "best score:"
       ]
      },
      {
       "output_type": "stream",
       "stream": "stdout",
       "text": [
        " 1933351.36273\n",
        "best score:"
       ]
      },
      {
       "output_type": "stream",
       "stream": "stdout",
       "text": [
        " 2191464.68034\n",
        "best score:"
       ]
      },
      {
       "output_type": "stream",
       "stream": "stdout",
       "text": [
        " 2528232.6542\n",
        "best score:"
       ]
      },
      {
       "output_type": "stream",
       "stream": "stdout",
       "text": [
        " 3094902.92237\n",
        "best score:"
       ]
      },
      {
       "output_type": "stream",
       "stream": "stdout",
       "text": [
        " 2796383.82069\n",
        "best score:"
       ]
      },
      {
       "output_type": "stream",
       "stream": "stdout",
       "text": [
        " 3020835.5076\n",
        "best score:"
       ]
      },
      {
       "output_type": "stream",
       "stream": "stdout",
       "text": [
        " 2568576.16604\n",
        "best score:"
       ]
      },
      {
       "output_type": "stream",
       "stream": "stdout",
       "text": [
        " 2048188.76688\n",
        "best score:"
       ]
      },
      {
       "output_type": "stream",
       "stream": "stdout",
       "text": [
        " 1879701.50458\n",
        "best score:"
       ]
      },
      {
       "output_type": "stream",
       "stream": "stdout",
       "text": [
        " 1411419.41257\n",
        "best score:"
       ]
      },
      {
       "output_type": "stream",
       "stream": "stdout",
       "text": [
        " 1167265.61102\n",
        "best score:"
       ]
      },
      {
       "output_type": "stream",
       "stream": "stdout",
       "text": [
        " 1369058.8968\n",
        "best score:"
       ]
      },
      {
       "output_type": "stream",
       "stream": "stdout",
       "text": [
        " 1798489.34453\n",
        "best score:"
       ]
      },
      {
       "output_type": "stream",
       "stream": "stdout",
       "text": [
        " 2221681.46541\n",
        "best score:"
       ]
      },
      {
       "output_type": "stream",
       "stream": "stdout",
       "text": [
        " 2294808.96847\n",
        "best score:"
       ]
      },
      {
       "output_type": "stream",
       "stream": "stdout",
       "text": [
        " 2685152.46874\n",
        "best score:"
       ]
      },
      {
       "output_type": "stream",
       "stream": "stdout",
       "text": [
        " 2379434.40364\n",
        "best score:"
       ]
      },
      {
       "output_type": "stream",
       "stream": "stdout",
       "text": [
        " 1940899.38447\n",
        "best score:"
       ]
      },
      {
       "output_type": "stream",
       "stream": "stdout",
       "text": [
        " 1795440.71909\n",
        "best score:"
       ]
      },
      {
       "output_type": "stream",
       "stream": "stdout",
       "text": [
        " 1743422.88595\n",
        "best score:"
       ]
      },
      {
       "output_type": "stream",
       "stream": "stdout",
       "text": [
        " 1543817.00185\n",
        "best score:"
       ]
      },
      {
       "output_type": "stream",
       "stream": "stdout",
       "text": [
        " 1274425.10296\n",
        "best score:"
       ]
      },
      {
       "output_type": "stream",
       "stream": "stdout",
       "text": [
        " 1125693.14603\n",
        "2277378.90143"
       ]
      },
      {
       "output_type": "stream",
       "stream": "stdout",
       "text": [
        "\n"
       ]
      }
     ],
     "prompt_number": 332
    },
    {
     "cell_type": "code",
     "collapsed": false,
     "input": [
      "test_predictions = predictStations(stations, testX, wModels=None, mod_train=mod_test)\n",
      "savePickle(test_predictions, data_dir, 'test_predictions.p')\n",
      "#test_predictions = loadPickle(data_dir, 'test_predictions.p')"
     ],
     "language": "python",
     "metadata": {},
     "outputs": [
      {
       "output_type": "stream",
       "stream": "stdout",
       "text": [
        "Predict Station 0\n",
        "     Predicting Model:"
       ]
      },
      {
       "output_type": "stream",
       "stream": "stdout",
       "text": [
        " 0\n",
        "     Predicting Model: 1\n",
        "     Predicting Model: 2\n",
        "     Predicting Model:"
       ]
      },
      {
       "output_type": "stream",
       "stream": "stdout",
       "text": [
        " 3\n",
        "     Predicting Model: 4\n",
        "     Predicting Model: 5\n",
        "     Predicting Model: 6\n",
        "     Predicting Model:"
       ]
      },
      {
       "output_type": "stream",
       "stream": "stdout",
       "text": [
        " 7\n",
        "     Predicting Model: 8\n",
        "     Predicting Model: 9\n",
        "     Predicting Model:"
       ]
      },
      {
       "output_type": "stream",
       "stream": "stdout",
       "text": [
        " 10\n",
        "Predict Station 1\n",
        "     Predicting Model:"
       ]
      },
      {
       "output_type": "stream",
       "stream": "stdout",
       "text": [
        " 0\n",
        "     Predicting Model: 1\n",
        "     Predicting Model: 2\n",
        "     Predicting Model:"
       ]
      },
      {
       "output_type": "stream",
       "stream": "stdout",
       "text": [
        " 3\n",
        "     Predicting Model: 4\n",
        "     Predicting Model: 5\n",
        "     Predicting Model:"
       ]
      },
      {
       "output_type": "stream",
       "stream": "stdout",
       "text": [
        " 6\n",
        "     Predicting Model: 7\n",
        "     Predicting Model: 8\n",
        "     Predicting Model:"
       ]
      },
      {
       "output_type": "stream",
       "stream": "stdout",
       "text": [
        " 9\n",
        "     Predicting Model: 10\n",
        "Predict Station 2\n",
        "     Predicting Model:"
       ]
      },
      {
       "output_type": "stream",
       "stream": "stdout",
       "text": [
        " 0\n",
        "     Predicting Model: 1\n",
        "     Predicting Model: 2\n",
        "     Predicting Model:"
       ]
      },
      {
       "output_type": "stream",
       "stream": "stdout",
       "text": [
        " 3\n",
        "     Predicting Model: 4\n",
        "     Predicting Model: 5\n",
        "     Predicting Model:"
       ]
      },
      {
       "output_type": "stream",
       "stream": "stdout",
       "text": [
        " 6\n",
        "     Predicting Model: 7\n",
        "     Predicting Model: 8\n",
        "     Predicting Model:"
       ]
      },
      {
       "output_type": "stream",
       "stream": "stdout",
       "text": [
        " 9\n",
        "     Predicting Model: 10\n",
        "Predict Station 3\n",
        "     Predicting Model:"
       ]
      },
      {
       "output_type": "stream",
       "stream": "stdout",
       "text": [
        " 0\n",
        "     Predicting Model: 1\n",
        "     Predicting Model: 2\n",
        "     Predicting Model:"
       ]
      },
      {
       "output_type": "stream",
       "stream": "stdout",
       "text": [
        " 3\n",
        "     Predicting Model: 4\n",
        "     Predicting Model: 5\n",
        "     Predicting Model:"
       ]
      },
      {
       "output_type": "stream",
       "stream": "stdout",
       "text": [
        " 6\n",
        "     Predicting Model: 7\n",
        "     Predicting Model: 8\n",
        "     Predicting Model:"
       ]
      },
      {
       "output_type": "stream",
       "stream": "stdout",
       "text": [
        " 9\n",
        "     Predicting Model: 10\n",
        "Predict Station 4\n",
        "     Predicting Model:"
       ]
      },
      {
       "output_type": "stream",
       "stream": "stdout",
       "text": [
        " 0\n",
        "     Predicting Model: 1\n",
        "     Predicting Model: 2\n",
        "     Predicting Model:"
       ]
      },
      {
       "output_type": "stream",
       "stream": "stdout",
       "text": [
        " 3\n",
        "     Predicting Model: 4\n",
        "     Predicting Model: 5\n",
        "     Predicting Model:"
       ]
      },
      {
       "output_type": "stream",
       "stream": "stdout",
       "text": [
        " 6\n",
        "     Predicting Model: 7\n",
        "     Predicting Model: 8\n",
        "     Predicting Model:"
       ]
      },
      {
       "output_type": "stream",
       "stream": "stdout",
       "text": [
        " 9\n",
        "     Predicting Model: 10\n",
        "Predict Station 5\n",
        "     Predicting Model:"
       ]
      },
      {
       "output_type": "stream",
       "stream": "stdout",
       "text": [
        " 0\n",
        "     Predicting Model: 1\n",
        "     Predicting Model: 2\n",
        "     Predicting Model:"
       ]
      },
      {
       "output_type": "stream",
       "stream": "stdout",
       "text": [
        " 3\n",
        "     Predicting Model: 4\n",
        "     Predicting Model: 5\n",
        "     Predicting Model:"
       ]
      },
      {
       "output_type": "stream",
       "stream": "stdout",
       "text": [
        " 6\n",
        "     Predicting Model: 7\n",
        "     Predicting Model: 8\n",
        "     Predicting Model:"
       ]
      },
      {
       "output_type": "stream",
       "stream": "stdout",
       "text": [
        " 9\n",
        "     Predicting Model: 10\n",
        "Predict Station 6\n",
        "     Predicting Model:"
       ]
      },
      {
       "output_type": "stream",
       "stream": "stdout",
       "text": [
        " 0\n",
        "     Predicting Model: 1\n",
        "     Predicting Model: 2\n",
        "     Predicting Model: 3\n",
        "     Predicting Model:"
       ]
      },
      {
       "output_type": "stream",
       "stream": "stdout",
       "text": [
        " 4\n",
        "     Predicting Model: 5\n",
        "     Predicting Model: 6\n",
        "     Predicting Model: 7\n",
        "     Predicting Model:"
       ]
      },
      {
       "output_type": "stream",
       "stream": "stdout",
       "text": [
        " 8\n",
        "     Predicting Model: 9\n",
        "     Predicting Model: 10\n",
        "Predict Station"
       ]
      },
      {
       "output_type": "stream",
       "stream": "stdout",
       "text": [
        " 7\n",
        "     Predicting Model:"
       ]
      },
      {
       "output_type": "stream",
       "stream": "stdout",
       "text": [
        " 0\n",
        "     Predicting Model: 1\n",
        "     Predicting Model: 2\n",
        "     Predicting Model: 3\n",
        "     Predicting Model:"
       ]
      },
      {
       "output_type": "stream",
       "stream": "stdout",
       "text": [
        " 4\n",
        "     Predicting Model: 5\n",
        "     Predicting Model: 6\n",
        "     Predicting Model: 7\n",
        "     Predicting Model:"
       ]
      },
      {
       "output_type": "stream",
       "stream": "stdout",
       "text": [
        " 8\n",
        "     Predicting Model: 9\n",
        "     Predicting Model: 10\n",
        "Predict Station"
       ]
      },
      {
       "output_type": "stream",
       "stream": "stdout",
       "text": [
        " 8\n",
        "     Predicting Model:"
       ]
      },
      {
       "output_type": "stream",
       "stream": "stdout",
       "text": [
        " 0\n",
        "     Predicting Model: 1\n",
        "     Predicting Model: 2\n",
        "     Predicting Model: 3\n",
        "     Predicting Model:"
       ]
      },
      {
       "output_type": "stream",
       "stream": "stdout",
       "text": [
        " 4\n",
        "     Predicting Model: 5\n",
        "     Predicting Model: 6\n",
        "     Predicting Model:"
       ]
      },
      {
       "output_type": "stream",
       "stream": "stdout",
       "text": [
        " 7\n",
        "     Predicting Model: 8\n",
        "     Predicting Model: 9\n",
        "     Predicting Model:"
       ]
      },
      {
       "output_type": "stream",
       "stream": "stdout",
       "text": [
        " 10\n",
        "Predict Station 9\n",
        "     Predicting Model:"
       ]
      },
      {
       "output_type": "stream",
       "stream": "stdout",
       "text": [
        " 0\n",
        "     Predicting Model: 1\n",
        "     Predicting Model: 2\n",
        "     Predicting Model:"
       ]
      },
      {
       "output_type": "stream",
       "stream": "stdout",
       "text": [
        " 3\n",
        "     Predicting Model: 4\n",
        "     Predicting Model: 5\n",
        "     Predicting Model:"
       ]
      },
      {
       "output_type": "stream",
       "stream": "stdout",
       "text": [
        " 6\n",
        "     Predicting Model: 7\n",
        "     Predicting Model: 8\n",
        "     Predicting Model: 9\n",
        "     Predicting Model:"
       ]
      },
      {
       "output_type": "stream",
       "stream": "stdout",
       "text": [
        " 10\n",
        "Predict Station 10\n",
        "     Predicting Model:"
       ]
      },
      {
       "output_type": "stream",
       "stream": "stdout",
       "text": [
        " 0\n",
        "     Predicting Model: 1\n",
        "     Predicting Model: 2\n",
        "     Predicting Model:"
       ]
      },
      {
       "output_type": "stream",
       "stream": "stdout",
       "text": [
        " 3\n",
        "     Predicting Model: 4\n",
        "     Predicting Model: 5\n",
        "     Predicting Model:"
       ]
      },
      {
       "output_type": "stream",
       "stream": "stdout",
       "text": [
        " 6\n",
        "     Predicting Model: 7\n",
        "     Predicting Model: 8\n",
        "     Predicting Model: 9\n",
        "     Predicting Model:"
       ]
      },
      {
       "output_type": "stream",
       "stream": "stdout",
       "text": [
        " 10\n",
        "Predict Station 11\n",
        "     Predicting Model:"
       ]
      },
      {
       "output_type": "stream",
       "stream": "stdout",
       "text": [
        " 0\n",
        "     Predicting Model: 1\n",
        "     Predicting Model: 2\n",
        "     Predicting Model:"
       ]
      },
      {
       "output_type": "stream",
       "stream": "stdout",
       "text": [
        " 3\n",
        "     Predicting Model: 4\n",
        "     Predicting Model: 5\n",
        "     Predicting Model:"
       ]
      },
      {
       "output_type": "stream",
       "stream": "stdout",
       "text": [
        " 6\n",
        "     Predicting Model: 7\n",
        "     Predicting Model: 8\n",
        "     Predicting Model:"
       ]
      },
      {
       "output_type": "stream",
       "stream": "stdout",
       "text": [
        " 9\n",
        "     Predicting Model: 10\n",
        "Predict Station 12\n",
        "     Predicting Model:"
       ]
      },
      {
       "output_type": "stream",
       "stream": "stdout",
       "text": [
        " 0\n",
        "     Predicting Model: 1\n",
        "     Predicting Model: 2\n",
        "     Predicting Model:"
       ]
      },
      {
       "output_type": "stream",
       "stream": "stdout",
       "text": [
        " 3\n",
        "     Predicting Model: 4\n",
        "     Predicting Model: 5\n",
        "     Predicting Model:"
       ]
      },
      {
       "output_type": "stream",
       "stream": "stdout",
       "text": [
        " 6\n",
        "     Predicting Model: 7\n",
        "     Predicting Model: 8\n",
        "     Predicting Model:"
       ]
      },
      {
       "output_type": "stream",
       "stream": "stdout",
       "text": [
        " 9\n",
        "     Predicting Model: 10\n",
        "Predict Station"
       ]
      },
      {
       "output_type": "stream",
       "stream": "stdout",
       "text": [
        " 13\n",
        "     Predicting Model:"
       ]
      },
      {
       "output_type": "stream",
       "stream": "stdout",
       "text": [
        " 0\n",
        "     Predicting Model: 1\n",
        "     Predicting Model: 2\n",
        "     Predicting Model:"
       ]
      },
      {
       "output_type": "stream",
       "stream": "stdout",
       "text": [
        " 3\n",
        "     Predicting Model: 4\n",
        "     Predicting Model: 5\n",
        "     Predicting Model: 6\n",
        "     Predicting Model:"
       ]
      },
      {
       "output_type": "stream",
       "stream": "stdout",
       "text": [
        " 7\n",
        "     Predicting Model: 8\n",
        "     Predicting Model:"
       ]
      },
      {
       "output_type": "stream",
       "stream": "stdout",
       "text": [
        " 9\n",
        "     Predicting Model: 10\n",
        "Predict Station 14\n",
        "     Predicting Model:"
       ]
      },
      {
       "output_type": "stream",
       "stream": "stdout",
       "text": [
        " 0\n",
        "     Predicting Model: 1\n",
        "     Predicting Model: 2\n",
        "     Predicting Model: 3\n",
        "     Predicting Model:"
       ]
      },
      {
       "output_type": "stream",
       "stream": "stdout",
       "text": [
        " 4\n",
        "     Predicting Model: 5\n",
        "     Predicting Model: 6\n",
        "     Predicting Model: 7\n",
        "     Predicting Model:"
       ]
      },
      {
       "output_type": "stream",
       "stream": "stdout",
       "text": [
        " 8\n",
        "     Predicting Model: 9\n",
        "     Predicting Model: 10\n",
        "Predict Station"
       ]
      },
      {
       "output_type": "stream",
       "stream": "stdout",
       "text": [
        " 15\n",
        "     Predicting Model:"
       ]
      },
      {
       "output_type": "stream",
       "stream": "stdout",
       "text": [
        " 0\n",
        "     Predicting Model: 1\n",
        "     Predicting Model: 2\n",
        "     Predicting Model: 3\n",
        "     Predicting Model:"
       ]
      },
      {
       "output_type": "stream",
       "stream": "stdout",
       "text": [
        " 4\n",
        "     Predicting Model: 5\n",
        "     Predicting Model: 6\n",
        "     Predicting Model:"
       ]
      },
      {
       "output_type": "stream",
       "stream": "stdout",
       "text": [
        " 7\n",
        "     Predicting Model: 8\n",
        "     Predicting Model: 9\n",
        "     Predicting Model: 10\n",
        "Predict Station"
       ]
      },
      {
       "output_type": "stream",
       "stream": "stdout",
       "text": [
        " 16\n",
        "     Predicting Model:"
       ]
      },
      {
       "output_type": "stream",
       "stream": "stdout",
       "text": [
        " 0\n",
        "     Predicting Model: 1\n",
        "     Predicting Model: 2\n",
        "     Predicting Model: 3\n",
        "     Predicting Model:"
       ]
      },
      {
       "output_type": "stream",
       "stream": "stdout",
       "text": [
        " 4\n",
        "     Predicting Model: 5\n",
        "     Predicting Model: 6\n",
        "     Predicting Model: 7\n",
        "     Predicting Model:"
       ]
      },
      {
       "output_type": "stream",
       "stream": "stdout",
       "text": [
        " 8\n",
        "     Predicting Model: 9\n",
        "     Predicting Model: 10\n",
        "Predict Station"
       ]
      },
      {
       "output_type": "stream",
       "stream": "stdout",
       "text": [
        " 17\n",
        "     Predicting Model:"
       ]
      },
      {
       "output_type": "stream",
       "stream": "stdout",
       "text": [
        " 0\n",
        "     Predicting Model: 1\n",
        "     Predicting Model: 2\n",
        "     Predicting Model: 3\n",
        "     Predicting Model:"
       ]
      },
      {
       "output_type": "stream",
       "stream": "stdout",
       "text": [
        " 4\n",
        "     Predicting Model: 5\n",
        "     Predicting Model: 6\n",
        "     Predicting Model: 7\n",
        "     Predicting Model:"
       ]
      },
      {
       "output_type": "stream",
       "stream": "stdout",
       "text": [
        " 8\n",
        "     Predicting Model: 9\n",
        "     Predicting Model: 10\n",
        "Predict Station"
       ]
      },
      {
       "output_type": "stream",
       "stream": "stdout",
       "text": [
        " 18\n",
        "     Predicting Model:"
       ]
      },
      {
       "output_type": "stream",
       "stream": "stdout",
       "text": [
        " 0\n",
        "     Predicting Model: 1\n",
        "     Predicting Model: 2\n",
        "     Predicting Model: 3\n",
        "     Predicting Model:"
       ]
      },
      {
       "output_type": "stream",
       "stream": "stdout",
       "text": [
        " 4\n",
        "     Predicting Model: 5\n",
        "     Predicting Model: 6\n",
        "     Predicting Model: 7\n",
        "     Predicting Model:"
       ]
      },
      {
       "output_type": "stream",
       "stream": "stdout",
       "text": [
        " 8\n",
        "     Predicting Model: 9\n",
        "     Predicting Model: 10\n",
        "Predict Station"
       ]
      },
      {
       "output_type": "stream",
       "stream": "stdout",
       "text": [
        " 19\n",
        "     Predicting Model:"
       ]
      },
      {
       "output_type": "stream",
       "stream": "stdout",
       "text": [
        " 0\n",
        "     Predicting Model: 1\n",
        "     Predicting Model: 2\n",
        "     Predicting Model: 3\n",
        "     Predicting Model:"
       ]
      },
      {
       "output_type": "stream",
       "stream": "stdout",
       "text": [
        " 4\n",
        "     Predicting Model: 5\n",
        "     Predicting Model: 6\n",
        "     Predicting Model: 7\n",
        "     Predicting Model:"
       ]
      },
      {
       "output_type": "stream",
       "stream": "stdout",
       "text": [
        " 8\n",
        "     Predicting Model: 9\n",
        "     Predicting Model: 10\n",
        "Predict Station"
       ]
      },
      {
       "output_type": "stream",
       "stream": "stdout",
       "text": [
        " 20\n",
        "     Predicting Model:"
       ]
      },
      {
       "output_type": "stream",
       "stream": "stdout",
       "text": [
        " 0\n",
        "     Predicting Model: 1\n",
        "     Predicting Model: 2\n",
        "     Predicting Model: 3\n",
        "     Predicting Model:"
       ]
      },
      {
       "output_type": "stream",
       "stream": "stdout",
       "text": [
        " 4\n",
        "     Predicting Model: 5\n",
        "     Predicting Model: 6\n",
        "     Predicting Model: 7\n",
        "     Predicting Model:"
       ]
      },
      {
       "output_type": "stream",
       "stream": "stdout",
       "text": [
        " 8\n",
        "     Predicting Model: 9\n",
        "     Predicting Model: 10\n",
        "Predict Station"
       ]
      },
      {
       "output_type": "stream",
       "stream": "stdout",
       "text": [
        " 21\n",
        "     Predicting Model:"
       ]
      },
      {
       "output_type": "stream",
       "stream": "stdout",
       "text": [
        " 0\n",
        "     Predicting Model: 1\n",
        "     Predicting Model: 2\n",
        "     Predicting Model: 3\n",
        "     Predicting Model:"
       ]
      },
      {
       "output_type": "stream",
       "stream": "stdout",
       "text": [
        " 4\n",
        "     Predicting Model: 5\n",
        "     Predicting Model: 6\n",
        "     Predicting Model:"
       ]
      },
      {
       "output_type": "stream",
       "stream": "stdout",
       "text": [
        " 7\n",
        "     Predicting Model: 8\n",
        "     Predicting Model: 9\n",
        "     Predicting Model:"
       ]
      },
      {
       "output_type": "stream",
       "stream": "stdout",
       "text": [
        " 10\n",
        "Predict Station 22\n",
        "     Predicting Model:"
       ]
      },
      {
       "output_type": "stream",
       "stream": "stdout",
       "text": [
        " 0\n",
        "     Predicting Model: 1\n",
        "     Predicting Model: 2\n",
        "     Predicting Model: 3\n",
        "     Predicting Model:"
       ]
      },
      {
       "output_type": "stream",
       "stream": "stdout",
       "text": [
        " 4\n",
        "     Predicting Model: 5\n",
        "     Predicting Model: 6\n",
        "     Predicting Model: 7\n",
        "     Predicting Model:"
       ]
      },
      {
       "output_type": "stream",
       "stream": "stdout",
       "text": [
        " 8\n",
        "     Predicting Model: 9\n",
        "     Predicting Model: 10\n",
        "Predict Station"
       ]
      },
      {
       "output_type": "stream",
       "stream": "stdout",
       "text": [
        " 23\n",
        "     Predicting Model:"
       ]
      },
      {
       "output_type": "stream",
       "stream": "stdout",
       "text": [
        " 0\n",
        "     Predicting Model: 1\n",
        "     Predicting Model: 2\n",
        "     Predicting Model:"
       ]
      },
      {
       "output_type": "stream",
       "stream": "stdout",
       "text": [
        " 3\n",
        "     Predicting Model: 4\n",
        "     Predicting Model: 5\n",
        "     Predicting Model:"
       ]
      },
      {
       "output_type": "stream",
       "stream": "stdout",
       "text": [
        " 6\n",
        "     Predicting Model: 7\n",
        "     Predicting Model: 8\n",
        "     Predicting Model:"
       ]
      },
      {
       "output_type": "stream",
       "stream": "stdout",
       "text": [
        " 9\n",
        "     Predicting Model: 10\n",
        "Predict Station 24\n",
        "     Predicting Model:"
       ]
      },
      {
       "output_type": "stream",
       "stream": "stdout",
       "text": [
        " 0\n",
        "     Predicting Model: 1\n",
        "     Predicting Model: 2\n",
        "     Predicting Model: 3\n",
        "     Predicting Model:"
       ]
      },
      {
       "output_type": "stream",
       "stream": "stdout",
       "text": [
        " 4\n",
        "     Predicting Model: 5\n",
        "     Predicting Model: 6\n",
        "     Predicting Model: 7\n",
        "     Predicting Model:"
       ]
      },
      {
       "output_type": "stream",
       "stream": "stdout",
       "text": [
        " 8\n",
        "     Predicting Model: 9\n",
        "     Predicting Model: 10\n",
        "Predict Station"
       ]
      },
      {
       "output_type": "stream",
       "stream": "stdout",
       "text": [
        " 25\n",
        "     Predicting Model:"
       ]
      },
      {
       "output_type": "stream",
       "stream": "stdout",
       "text": [
        " 0\n",
        "     Predicting Model: 1\n",
        "     Predicting Model: 2\n",
        "     Predicting Model:"
       ]
      },
      {
       "output_type": "stream",
       "stream": "stdout",
       "text": [
        " 3\n",
        "     Predicting Model: 4\n",
        "     Predicting Model: 5\n",
        "     Predicting Model:"
       ]
      },
      {
       "output_type": "stream",
       "stream": "stdout",
       "text": [
        " 6\n",
        "     Predicting Model: 7\n",
        "     Predicting Model: 8\n",
        "     Predicting Model:"
       ]
      },
      {
       "output_type": "stream",
       "stream": "stdout",
       "text": [
        " 9\n",
        "     Predicting Model: 10\n",
        "Predict Station"
       ]
      },
      {
       "output_type": "stream",
       "stream": "stdout",
       "text": [
        " 26\n",
        "     Predicting Model:"
       ]
      },
      {
       "output_type": "stream",
       "stream": "stdout",
       "text": [
        " 0\n",
        "     Predicting Model: 1\n",
        "     Predicting Model: 2\n",
        "     Predicting Model: 3\n",
        "     Predicting Model:"
       ]
      },
      {
       "output_type": "stream",
       "stream": "stdout",
       "text": [
        " 4\n",
        "     Predicting Model: 5\n",
        "     Predicting Model: 6\n",
        "     Predicting Model: 7\n",
        "     Predicting Model:"
       ]
      },
      {
       "output_type": "stream",
       "stream": "stdout",
       "text": [
        " 8\n",
        "     Predicting Model: 9\n",
        "     Predicting Model: 10\n",
        "Predict Station"
       ]
      },
      {
       "output_type": "stream",
       "stream": "stdout",
       "text": [
        " 27\n",
        "     Predicting Model:"
       ]
      },
      {
       "output_type": "stream",
       "stream": "stdout",
       "text": [
        " 0\n",
        "     Predicting Model: 1\n",
        "     Predicting Model: 2\n",
        "     Predicting Model:"
       ]
      },
      {
       "output_type": "stream",
       "stream": "stdout",
       "text": [
        " 3\n",
        "     Predicting Model: 4\n",
        "     Predicting Model: 5\n",
        "     Predicting Model: 6\n",
        "     Predicting Model:"
       ]
      },
      {
       "output_type": "stream",
       "stream": "stdout",
       "text": [
        " 7\n",
        "     Predicting Model: 8\n",
        "     Predicting Model: 9\n",
        "     Predicting Model: 10\n",
        "Predict Station"
       ]
      },
      {
       "output_type": "stream",
       "stream": "stdout",
       "text": [
        " 28\n",
        "     Predicting Model:"
       ]
      },
      {
       "output_type": "stream",
       "stream": "stdout",
       "text": [
        " 0\n",
        "     Predicting Model: 1\n",
        "     Predicting Model: 2\n",
        "     Predicting Model: 3\n",
        "     Predicting Model:"
       ]
      },
      {
       "output_type": "stream",
       "stream": "stdout",
       "text": [
        " 4\n",
        "     Predicting Model: 5\n",
        "     Predicting Model: 6\n",
        "     Predicting Model: 7\n",
        "     Predicting Model:"
       ]
      },
      {
       "output_type": "stream",
       "stream": "stdout",
       "text": [
        " 8\n",
        "     Predicting Model: 9\n",
        "     Predicting Model: 10\n",
        "Predict Station"
       ]
      },
      {
       "output_type": "stream",
       "stream": "stdout",
       "text": [
        " 29\n",
        "     Predicting Model:"
       ]
      },
      {
       "output_type": "stream",
       "stream": "stdout",
       "text": [
        " 0\n",
        "     Predicting Model: 1\n",
        "     Predicting Model: 2\n",
        "     Predicting Model: 3\n",
        "     Predicting Model:"
       ]
      },
      {
       "output_type": "stream",
       "stream": "stdout",
       "text": [
        " 4\n",
        "     Predicting Model: 5\n",
        "     Predicting Model: 6\n",
        "     Predicting Model:"
       ]
      },
      {
       "output_type": "stream",
       "stream": "stdout",
       "text": [
        " 7\n",
        "     Predicting Model: 8\n",
        "     Predicting Model: 9\n",
        "     Predicting Model: 10\n",
        "Predict Station"
       ]
      },
      {
       "output_type": "stream",
       "stream": "stdout",
       "text": [
        " 30\n",
        "     Predicting Model:"
       ]
      },
      {
       "output_type": "stream",
       "stream": "stdout",
       "text": [
        " 0\n",
        "     Predicting Model: 1\n",
        "     Predicting Model: 2\n",
        "     Predicting Model: 3\n",
        "     Predicting Model:"
       ]
      },
      {
       "output_type": "stream",
       "stream": "stdout",
       "text": [
        " 4\n",
        "     Predicting Model: 5\n",
        "     Predicting Model: 6\n",
        "     Predicting Model: 7\n",
        "     Predicting Model:"
       ]
      },
      {
       "output_type": "stream",
       "stream": "stdout",
       "text": [
        " 8\n",
        "     Predicting Model: 9\n",
        "     Predicting Model: 10\n",
        "Predict Station"
       ]
      },
      {
       "output_type": "stream",
       "stream": "stdout",
       "text": [
        " 31\n",
        "     Predicting Model:"
       ]
      },
      {
       "output_type": "stream",
       "stream": "stdout",
       "text": [
        " 0\n",
        "     Predicting Model: 1\n",
        "     Predicting Model: 2\n",
        "     Predicting Model:"
       ]
      },
      {
       "output_type": "stream",
       "stream": "stdout",
       "text": [
        " 3\n",
        "     Predicting Model: 4\n",
        "     Predicting Model: 5\n",
        "     Predicting Model: 6\n",
        "     Predicting Model:"
       ]
      },
      {
       "output_type": "stream",
       "stream": "stdout",
       "text": [
        " 7\n",
        "     Predicting Model: 8\n",
        "     Predicting Model: 9\n",
        "     Predicting Model:"
       ]
      },
      {
       "output_type": "stream",
       "stream": "stdout",
       "text": [
        " 10\n",
        "Predict Station 32\n",
        "     Predicting Model:"
       ]
      },
      {
       "output_type": "stream",
       "stream": "stdout",
       "text": [
        " 0\n",
        "     Predicting Model: 1\n",
        "     Predicting Model: 2\n",
        "     Predicting Model: 3\n",
        "     Predicting Model:"
       ]
      },
      {
       "output_type": "stream",
       "stream": "stdout",
       "text": [
        " 4\n",
        "     Predicting Model: 5\n",
        "     Predicting Model: 6\n",
        "     Predicting Model: 7\n",
        "     Predicting Model:"
       ]
      },
      {
       "output_type": "stream",
       "stream": "stdout",
       "text": [
        " 8\n",
        "     Predicting Model: 9\n",
        "     Predicting Model:"
       ]
      },
      {
       "output_type": "stream",
       "stream": "stdout",
       "text": [
        " 10\n",
        "Predict Station 33\n",
        "     Predicting Model:"
       ]
      },
      {
       "output_type": "stream",
       "stream": "stdout",
       "text": [
        " 0\n",
        "     Predicting Model: 1\n",
        "     Predicting Model: 2\n",
        "     Predicting Model:"
       ]
      },
      {
       "output_type": "stream",
       "stream": "stdout",
       "text": [
        " 3\n",
        "     Predicting Model: 4\n",
        "     Predicting Model:"
       ]
      },
      {
       "output_type": "stream",
       "stream": "stdout",
       "text": [
        " 5\n",
        "     Predicting Model: 6\n",
        "     Predicting Model: 7\n",
        "     Predicting Model:"
       ]
      },
      {
       "output_type": "stream",
       "stream": "stdout",
       "text": [
        " 8\n",
        "     Predicting Model: 9\n",
        "     Predicting Model: 10\n",
        "Predict Station"
       ]
      },
      {
       "output_type": "stream",
       "stream": "stdout",
       "text": [
        " 34\n",
        "     Predicting Model:"
       ]
      },
      {
       "output_type": "stream",
       "stream": "stdout",
       "text": [
        " 0\n",
        "     Predicting Model: 1\n",
        "     Predicting Model: 2\n",
        "     Predicting Model:"
       ]
      },
      {
       "output_type": "stream",
       "stream": "stdout",
       "text": [
        " 3\n",
        "     Predicting Model: 4\n",
        "     Predicting Model: 5\n",
        "     Predicting Model:"
       ]
      },
      {
       "output_type": "stream",
       "stream": "stdout",
       "text": [
        " 6\n",
        "     Predicting Model: 7\n",
        "     Predicting Model: 8\n",
        "     Predicting Model: 9\n",
        "     Predicting Model:"
       ]
      },
      {
       "output_type": "stream",
       "stream": "stdout",
       "text": [
        " 10\n",
        "Predict Station 35\n",
        "     Predicting Model:"
       ]
      },
      {
       "output_type": "stream",
       "stream": "stdout",
       "text": [
        " 0\n",
        "     Predicting Model: 1\n",
        "     Predicting Model: 2\n",
        "     Predicting Model:"
       ]
      },
      {
       "output_type": "stream",
       "stream": "stdout",
       "text": [
        " 3\n",
        "     Predicting Model: 4\n",
        "     Predicting Model:"
       ]
      },
      {
       "output_type": "stream",
       "stream": "stdout",
       "text": [
        " 5\n",
        "     Predicting Model: 6\n",
        "     Predicting Model:"
       ]
      },
      {
       "output_type": "stream",
       "stream": "stdout",
       "text": [
        " 7\n",
        "     Predicting Model: 8\n",
        "     Predicting Model:"
       ]
      },
      {
       "output_type": "stream",
       "stream": "stdout",
       "text": [
        " 9\n",
        "     Predicting Model: 10\n",
        "Predict Station"
       ]
      },
      {
       "output_type": "stream",
       "stream": "stdout",
       "text": [
        " 36\n",
        "     Predicting Model:"
       ]
      },
      {
       "output_type": "stream",
       "stream": "stdout",
       "text": [
        " 0\n",
        "     Predicting Model: 1\n",
        "     Predicting Model: 2\n",
        "     Predicting Model: 3\n",
        "     Predicting Model:"
       ]
      },
      {
       "output_type": "stream",
       "stream": "stdout",
       "text": [
        " 4\n",
        "     Predicting Model: 5\n",
        "     Predicting Model: 6\n",
        "     Predicting Model:"
       ]
      },
      {
       "output_type": "stream",
       "stream": "stdout",
       "text": [
        " 7\n",
        "     Predicting Model: 8\n",
        "     Predicting Model: 9\n",
        "     Predicting Model:"
       ]
      },
      {
       "output_type": "stream",
       "stream": "stdout",
       "text": [
        " 10\n",
        "Predict Station 37\n",
        "     Predicting Model:"
       ]
      },
      {
       "output_type": "stream",
       "stream": "stdout",
       "text": [
        " 0\n",
        "     Predicting Model: 1\n",
        "     Predicting Model: 2\n",
        "     Predicting Model:"
       ]
      },
      {
       "output_type": "stream",
       "stream": "stdout",
       "text": [
        " 3\n",
        "     Predicting Model: 4\n",
        "     Predicting Model: 5\n",
        "     Predicting Model: 6\n",
        "     Predicting Model:"
       ]
      },
      {
       "output_type": "stream",
       "stream": "stdout",
       "text": [
        " 7\n",
        "     Predicting Model: 8\n",
        "     Predicting Model: 9\n",
        "     Predicting Model:"
       ]
      },
      {
       "output_type": "stream",
       "stream": "stdout",
       "text": [
        " 10\n",
        "Predict Station 38\n",
        "     Predicting Model:"
       ]
      },
      {
       "output_type": "stream",
       "stream": "stdout",
       "text": [
        " 0\n",
        "     Predicting Model: 1\n",
        "     Predicting Model: 2\n",
        "     Predicting Model: 3\n",
        "     Predicting Model:"
       ]
      },
      {
       "output_type": "stream",
       "stream": "stdout",
       "text": [
        " 4\n",
        "     Predicting Model: 5\n",
        "     Predicting Model: 6\n",
        "     Predicting Model: 7\n",
        "     Predicting Model:"
       ]
      },
      {
       "output_type": "stream",
       "stream": "stdout",
       "text": [
        " 8\n",
        "     Predicting Model: 9\n",
        "     Predicting Model: 10\n",
        "Predict Station"
       ]
      },
      {
       "output_type": "stream",
       "stream": "stdout",
       "text": [
        " 39\n",
        "     Predicting Model:"
       ]
      },
      {
       "output_type": "stream",
       "stream": "stdout",
       "text": [
        " 0\n",
        "     Predicting Model: 1\n",
        "     Predicting Model: 2\n",
        "     Predicting Model: 3\n",
        "     Predicting Model:"
       ]
      },
      {
       "output_type": "stream",
       "stream": "stdout",
       "text": [
        " 4\n",
        "     Predicting Model: 5\n",
        "     Predicting Model: 6\n",
        "     Predicting Model:"
       ]
      },
      {
       "output_type": "stream",
       "stream": "stdout",
       "text": [
        " 7\n",
        "     Predicting Model: 8\n",
        "     Predicting Model: 9\n",
        "     Predicting Model:"
       ]
      },
      {
       "output_type": "stream",
       "stream": "stdout",
       "text": [
        " 10\n",
        "Predict Station 40\n",
        "     Predicting Model:"
       ]
      },
      {
       "output_type": "stream",
       "stream": "stdout",
       "text": [
        " 0\n",
        "     Predicting Model: 1\n",
        "     Predicting Model: 2\n",
        "     Predicting Model: 3\n",
        "     Predicting Model:"
       ]
      },
      {
       "output_type": "stream",
       "stream": "stdout",
       "text": [
        " 4\n",
        "     Predicting Model: 5\n",
        "     Predicting Model: 6\n",
        "     Predicting Model:"
       ]
      },
      {
       "output_type": "stream",
       "stream": "stdout",
       "text": [
        " 7\n",
        "     Predicting Model: 8\n",
        "     Predicting Model: 9\n",
        "     Predicting Model: 10\n",
        "Predict Station"
       ]
      },
      {
       "output_type": "stream",
       "stream": "stdout",
       "text": [
        " 41\n",
        "     Predicting Model:"
       ]
      },
      {
       "output_type": "stream",
       "stream": "stdout",
       "text": [
        " 0\n",
        "     Predicting Model: 1\n",
        "     Predicting Model: 2\n",
        "     Predicting Model: 3\n",
        "     Predicting Model:"
       ]
      },
      {
       "output_type": "stream",
       "stream": "stdout",
       "text": [
        " 4\n",
        "     Predicting Model: 5\n",
        "     Predicting Model: 6\n",
        "     Predicting Model: 7\n",
        "     Predicting Model:"
       ]
      },
      {
       "output_type": "stream",
       "stream": "stdout",
       "text": [
        " 8\n",
        "     Predicting Model: 9\n",
        "     Predicting Model: 10\n",
        "Predict Station"
       ]
      },
      {
       "output_type": "stream",
       "stream": "stdout",
       "text": [
        " 42\n",
        "     Predicting Model:"
       ]
      },
      {
       "output_type": "stream",
       "stream": "stdout",
       "text": [
        " 0\n",
        "     Predicting Model: 1\n",
        "     Predicting Model: 2\n",
        "     Predicting Model: 3\n",
        "     Predicting Model:"
       ]
      },
      {
       "output_type": "stream",
       "stream": "stdout",
       "text": [
        " 4\n",
        "     Predicting Model: 5\n",
        "     Predicting Model: 6\n",
        "     Predicting Model: 7\n",
        "     Predicting Model:"
       ]
      },
      {
       "output_type": "stream",
       "stream": "stdout",
       "text": [
        " 8\n",
        "     Predicting Model: 9\n",
        "     Predicting Model: 10\n",
        "Predict Station"
       ]
      },
      {
       "output_type": "stream",
       "stream": "stdout",
       "text": [
        " 43\n",
        "     Predicting Model:"
       ]
      },
      {
       "output_type": "stream",
       "stream": "stdout",
       "text": [
        " 0\n",
        "     Predicting Model: 1\n",
        "     Predicting Model: 2\n",
        "     Predicting Model:"
       ]
      },
      {
       "output_type": "stream",
       "stream": "stdout",
       "text": [
        " 3\n",
        "     Predicting Model: 4\n",
        "     Predicting Model:"
       ]
      },
      {
       "output_type": "stream",
       "stream": "stdout",
       "text": [
        " 5\n",
        "     Predicting Model: 6\n",
        "     Predicting Model: 7\n",
        "     Predicting Model: 8\n",
        "     Predicting Model:"
       ]
      },
      {
       "output_type": "stream",
       "stream": "stdout",
       "text": [
        " 9\n",
        "     Predicting Model: 10\n",
        "Predict Station"
       ]
      },
      {
       "output_type": "stream",
       "stream": "stdout",
       "text": [
        " 44\n",
        "     Predicting Model:"
       ]
      },
      {
       "output_type": "stream",
       "stream": "stdout",
       "text": [
        " 0\n",
        "     Predicting Model: 1\n",
        "     Predicting Model: 2\n",
        "     Predicting Model: 3\n",
        "     Predicting Model:"
       ]
      },
      {
       "output_type": "stream",
       "stream": "stdout",
       "text": [
        " 4\n",
        "     Predicting Model: 5\n",
        "     Predicting Model: 6\n",
        "     Predicting Model:"
       ]
      },
      {
       "output_type": "stream",
       "stream": "stdout",
       "text": [
        " 7\n",
        "     Predicting Model: 8\n",
        "     Predicting Model: 9\n",
        "     Predicting Model: 10\n",
        "Predict Station"
       ]
      },
      {
       "output_type": "stream",
       "stream": "stdout",
       "text": [
        " 45\n",
        "     Predicting Model:"
       ]
      },
      {
       "output_type": "stream",
       "stream": "stdout",
       "text": [
        " 0\n",
        "     Predicting Model: 1\n",
        "     Predicting Model: 2\n",
        "     Predicting Model: 3\n",
        "     Predicting Model:"
       ]
      },
      {
       "output_type": "stream",
       "stream": "stdout",
       "text": [
        " 4\n",
        "     Predicting Model: 5\n",
        "     Predicting Model: 6\n",
        "     Predicting Model:"
       ]
      },
      {
       "output_type": "stream",
       "stream": "stdout",
       "text": [
        " 7\n",
        "     Predicting Model: 8\n",
        "     Predicting Model: 9\n",
        "     Predicting Model: 10\n",
        "Predict Station"
       ]
      },
      {
       "output_type": "stream",
       "stream": "stdout",
       "text": [
        " 46\n",
        "     Predicting Model:"
       ]
      },
      {
       "output_type": "stream",
       "stream": "stdout",
       "text": [
        " 0\n",
        "     Predicting Model: 1\n",
        "     Predicting Model: 2\n",
        "     Predicting Model:"
       ]
      },
      {
       "output_type": "stream",
       "stream": "stdout",
       "text": [
        " 3\n",
        "     Predicting Model: 4\n",
        "     Predicting Model: 5\n",
        "     Predicting Model: 6\n",
        "     Predicting Model:"
       ]
      },
      {
       "output_type": "stream",
       "stream": "stdout",
       "text": [
        " 7\n",
        "     Predicting Model: 8\n",
        "     Predicting Model:"
       ]
      },
      {
       "output_type": "stream",
       "stream": "stdout",
       "text": [
        " 9\n",
        "     Predicting Model: 10\n",
        "Predict Station"
       ]
      },
      {
       "output_type": "stream",
       "stream": "stdout",
       "text": [
        " 47\n",
        "     Predicting Model:"
       ]
      },
      {
       "output_type": "stream",
       "stream": "stdout",
       "text": [
        " 0\n",
        "     Predicting Model: 1\n",
        "     Predicting Model: 2\n",
        "     Predicting Model:"
       ]
      },
      {
       "output_type": "stream",
       "stream": "stdout",
       "text": [
        " 3\n",
        "     Predicting Model: 4\n",
        "     Predicting Model:"
       ]
      },
      {
       "output_type": "stream",
       "stream": "stdout",
       "text": [
        " 5\n",
        "     Predicting Model: 6\n",
        "     Predicting Model: 7\n",
        "     Predicting Model:"
       ]
      },
      {
       "output_type": "stream",
       "stream": "stdout",
       "text": [
        " 8\n",
        "     Predicting Model: 9\n",
        "     Predicting Model: 10\n",
        "Predict Station"
       ]
      },
      {
       "output_type": "stream",
       "stream": "stdout",
       "text": [
        " 48\n",
        "     Predicting Model:"
       ]
      },
      {
       "output_type": "stream",
       "stream": "stdout",
       "text": [
        " 0\n",
        "     Predicting Model: 1\n",
        "     Predicting Model:"
       ]
      },
      {
       "output_type": "stream",
       "stream": "stdout",
       "text": [
        " 2\n",
        "     Predicting Model: 3\n",
        "     Predicting Model:"
       ]
      },
      {
       "output_type": "stream",
       "stream": "stdout",
       "text": [
        " 4\n",
        "     Predicting Model: 5\n",
        "     Predicting Model:"
       ]
      },
      {
       "output_type": "stream",
       "stream": "stdout",
       "text": [
        " 6\n",
        "     Predicting Model: 7\n",
        "     Predicting Model:"
       ]
      },
      {
       "output_type": "stream",
       "stream": "stdout",
       "text": [
        " 8\n",
        "     Predicting Model: 9\n",
        "     Predicting Model:"
       ]
      },
      {
       "output_type": "stream",
       "stream": "stdout",
       "text": [
        " 10\n",
        "Predict Station 49\n",
        "     Predicting Model:"
       ]
      },
      {
       "output_type": "stream",
       "stream": "stdout",
       "text": [
        " 0\n",
        "     Predicting Model: 1\n",
        "     Predicting Model: 2\n",
        "     Predicting Model:"
       ]
      },
      {
       "output_type": "stream",
       "stream": "stdout",
       "text": [
        " 3\n",
        "     Predicting Model: 4\n",
        "     Predicting Model: 5\n",
        "     Predicting Model:"
       ]
      },
      {
       "output_type": "stream",
       "stream": "stdout",
       "text": [
        " 6\n",
        "     Predicting Model: 7\n",
        "     Predicting Model: 8\n",
        "     Predicting Model:"
       ]
      },
      {
       "output_type": "stream",
       "stream": "stdout",
       "text": [
        " 9\n",
        "     Predicting Model: 10\n",
        "Predict Station"
       ]
      },
      {
       "output_type": "stream",
       "stream": "stdout",
       "text": [
        " 50\n",
        "     Predicting Model:"
       ]
      },
      {
       "output_type": "stream",
       "stream": "stdout",
       "text": [
        " 0\n",
        "     Predicting Model: 1\n",
        "     Predicting Model: 2\n",
        "     Predicting Model:"
       ]
      },
      {
       "output_type": "stream",
       "stream": "stdout",
       "text": [
        " 3\n",
        "     Predicting Model: 4\n",
        "     Predicting Model: 5\n",
        "     Predicting Model:"
       ]
      },
      {
       "output_type": "stream",
       "stream": "stdout",
       "text": [
        " 6\n",
        "     Predicting Model: 7\n",
        "     Predicting Model: 8\n",
        "     Predicting Model:"
       ]
      },
      {
       "output_type": "stream",
       "stream": "stdout",
       "text": [
        " 9\n",
        "     Predicting Model: 10\n",
        "Predict Station"
       ]
      },
      {
       "output_type": "stream",
       "stream": "stdout",
       "text": [
        " 51\n",
        "     Predicting Model:"
       ]
      },
      {
       "output_type": "stream",
       "stream": "stdout",
       "text": [
        " 0\n",
        "     Predicting Model: 1\n",
        "     Predicting Model: 2\n",
        "     Predicting Model:"
       ]
      },
      {
       "output_type": "stream",
       "stream": "stdout",
       "text": [
        " 3\n",
        "     Predicting Model: 4\n",
        "     Predicting Model: 5\n",
        "     Predicting Model:"
       ]
      },
      {
       "output_type": "stream",
       "stream": "stdout",
       "text": [
        " 6\n",
        "     Predicting Model: 7\n",
        "     Predicting Model:"
       ]
      },
      {
       "output_type": "stream",
       "stream": "stdout",
       "text": [
        " 8\n",
        "     Predicting Model: 9\n",
        "     Predicting Model: 10\n",
        "Predict Station"
       ]
      },
      {
       "output_type": "stream",
       "stream": "stdout",
       "text": [
        " 52\n",
        "     Predicting Model:"
       ]
      },
      {
       "output_type": "stream",
       "stream": "stdout",
       "text": [
        " 0\n",
        "     Predicting Model: 1\n",
        "     Predicting Model: 2\n",
        "     Predicting Model:"
       ]
      },
      {
       "output_type": "stream",
       "stream": "stdout",
       "text": [
        " 3\n",
        "     Predicting Model: 4\n",
        "     Predicting Model: 5\n",
        "     Predicting Model:"
       ]
      },
      {
       "output_type": "stream",
       "stream": "stdout",
       "text": [
        " 6\n",
        "     Predicting Model: 7\n",
        "     Predicting Model: 8\n",
        "     Predicting Model:"
       ]
      },
      {
       "output_type": "stream",
       "stream": "stdout",
       "text": [
        " 9\n",
        "     Predicting Model: 10\n",
        "Predict Station"
       ]
      },
      {
       "output_type": "stream",
       "stream": "stdout",
       "text": [
        " 53\n",
        "     Predicting Model:"
       ]
      },
      {
       "output_type": "stream",
       "stream": "stdout",
       "text": [
        " 0\n",
        "     Predicting Model: 1\n",
        "     Predicting Model: 2\n",
        "     Predicting Model:"
       ]
      },
      {
       "output_type": "stream",
       "stream": "stdout",
       "text": [
        " 3\n",
        "     Predicting Model: 4\n",
        "     Predicting Model: 5\n",
        "     Predicting Model:"
       ]
      },
      {
       "output_type": "stream",
       "stream": "stdout",
       "text": [
        " 6\n",
        "     Predicting Model: 7\n",
        "     Predicting Model: 8\n",
        "     Predicting Model:"
       ]
      },
      {
       "output_type": "stream",
       "stream": "stdout",
       "text": [
        " 9\n",
        "     Predicting Model: 10\n",
        "Predict Station"
       ]
      },
      {
       "output_type": "stream",
       "stream": "stdout",
       "text": [
        " 54\n",
        "     Predicting Model:"
       ]
      },
      {
       "output_type": "stream",
       "stream": "stdout",
       "text": [
        " 0\n",
        "     Predicting Model: 1\n",
        "     Predicting Model:"
       ]
      },
      {
       "output_type": "stream",
       "stream": "stdout",
       "text": [
        " 2\n",
        "     Predicting Model: 3\n",
        "     Predicting Model: 4\n",
        "     Predicting Model:"
       ]
      },
      {
       "output_type": "stream",
       "stream": "stdout",
       "text": [
        " 5\n",
        "     Predicting Model: 6\n",
        "     Predicting Model: 7\n",
        "     Predicting Model:"
       ]
      },
      {
       "output_type": "stream",
       "stream": "stdout",
       "text": [
        " 8\n",
        "     Predicting Model: 9\n",
        "     Predicting Model:"
       ]
      },
      {
       "output_type": "stream",
       "stream": "stdout",
       "text": [
        " 10\n",
        "Predict Station"
       ]
      },
      {
       "output_type": "stream",
       "stream": "stdout",
       "text": [
        " 55\n",
        "     Predicting Model:"
       ]
      },
      {
       "output_type": "stream",
       "stream": "stdout",
       "text": [
        " 0\n",
        "     Predicting Model: 1\n",
        "     Predicting Model: 2\n",
        "     Predicting Model:"
       ]
      },
      {
       "output_type": "stream",
       "stream": "stdout",
       "text": [
        " 3\n",
        "     Predicting Model: 4\n",
        "     Predicting Model:"
       ]
      },
      {
       "output_type": "stream",
       "stream": "stdout",
       "text": [
        " 5\n",
        "     Predicting Model: 6\n",
        "     Predicting Model:"
       ]
      },
      {
       "output_type": "stream",
       "stream": "stdout",
       "text": [
        " 7\n",
        "     Predicting Model: 8\n",
        "     Predicting Model:"
       ]
      },
      {
       "output_type": "stream",
       "stream": "stdout",
       "text": [
        " 9\n",
        "     Predicting Model: 10\n",
        "Predict Station"
       ]
      },
      {
       "output_type": "stream",
       "stream": "stdout",
       "text": [
        " 56\n",
        "     Predicting Model:"
       ]
      },
      {
       "output_type": "stream",
       "stream": "stdout",
       "text": [
        " 0\n",
        "     Predicting Model: 1\n",
        "     Predicting Model:"
       ]
      },
      {
       "output_type": "stream",
       "stream": "stdout",
       "text": [
        " 2\n",
        "     Predicting Model: 3\n",
        "     Predicting Model:"
       ]
      },
      {
       "output_type": "stream",
       "stream": "stdout",
       "text": [
        " 4\n",
        "     Predicting Model: 5\n",
        "     Predicting Model:"
       ]
      },
      {
       "output_type": "stream",
       "stream": "stdout",
       "text": [
        " 6\n",
        "     Predicting Model: 7\n",
        "     Predicting Model: 8\n",
        "     Predicting Model:"
       ]
      },
      {
       "output_type": "stream",
       "stream": "stdout",
       "text": [
        " 9\n",
        "     Predicting Model: 10\n",
        "Predict Station"
       ]
      },
      {
       "output_type": "stream",
       "stream": "stdout",
       "text": [
        " 57\n",
        "     Predicting Model:"
       ]
      },
      {
       "output_type": "stream",
       "stream": "stdout",
       "text": [
        " 0\n",
        "     Predicting Model: 1\n",
        "     Predicting Model: 2\n",
        "     Predicting Model:"
       ]
      },
      {
       "output_type": "stream",
       "stream": "stdout",
       "text": [
        " 3\n",
        "     Predicting Model: 4\n",
        "     Predicting Model: 5\n",
        "     Predicting Model:"
       ]
      },
      {
       "output_type": "stream",
       "stream": "stdout",
       "text": [
        " 6\n",
        "     Predicting Model: 7\n",
        "     Predicting Model: 8\n",
        "     Predicting Model:"
       ]
      },
      {
       "output_type": "stream",
       "stream": "stdout",
       "text": [
        " 9\n",
        "     Predicting Model: 10\n",
        "Predict Station"
       ]
      },
      {
       "output_type": "stream",
       "stream": "stdout",
       "text": [
        " 58\n",
        "     Predicting Model:"
       ]
      },
      {
       "output_type": "stream",
       "stream": "stdout",
       "text": [
        " 0\n",
        "     Predicting Model: 1\n",
        "     Predicting Model: 2\n",
        "     Predicting Model:"
       ]
      },
      {
       "output_type": "stream",
       "stream": "stdout",
       "text": [
        " 3\n",
        "     Predicting Model: 4\n",
        "     Predicting Model:"
       ]
      },
      {
       "output_type": "stream",
       "stream": "stdout",
       "text": [
        " 5\n",
        "     Predicting Model: 6\n",
        "     Predicting Model: 7\n",
        "     Predicting Model:"
       ]
      },
      {
       "output_type": "stream",
       "stream": "stdout",
       "text": [
        " 8\n",
        "     Predicting Model: 9\n",
        "     Predicting Model:"
       ]
      },
      {
       "output_type": "stream",
       "stream": "stdout",
       "text": [
        " 10\n",
        "Predict Station"
       ]
      },
      {
       "output_type": "stream",
       "stream": "stdout",
       "text": [
        " 59\n",
        "     Predicting Model:"
       ]
      },
      {
       "output_type": "stream",
       "stream": "stdout",
       "text": [
        " 0\n",
        "     Predicting Model: 1\n",
        "     Predicting Model: 2\n",
        "     Predicting Model:"
       ]
      },
      {
       "output_type": "stream",
       "stream": "stdout",
       "text": [
        " 3\n",
        "     Predicting Model: 4\n",
        "     Predicting Model: 5\n",
        "     Predicting Model:"
       ]
      },
      {
       "output_type": "stream",
       "stream": "stdout",
       "text": [
        " 6\n",
        "     Predicting Model: 7\n",
        "     Predicting Model: 8\n",
        "     Predicting Model:"
       ]
      },
      {
       "output_type": "stream",
       "stream": "stdout",
       "text": [
        " 9\n",
        "     Predicting Model: 10\n",
        "Predict Station"
       ]
      },
      {
       "output_type": "stream",
       "stream": "stdout",
       "text": [
        " 60\n",
        "     Predicting Model:"
       ]
      },
      {
       "output_type": "stream",
       "stream": "stdout",
       "text": [
        " 0\n",
        "     Predicting Model: 1\n",
        "     Predicting Model: 2\n",
        "     Predicting Model:"
       ]
      },
      {
       "output_type": "stream",
       "stream": "stdout",
       "text": [
        " 3\n",
        "     Predicting Model: 4\n",
        "     Predicting Model: 5\n",
        "     Predicting Model:"
       ]
      },
      {
       "output_type": "stream",
       "stream": "stdout",
       "text": [
        " 6\n",
        "     Predicting Model: 7\n",
        "     Predicting Model: 8\n",
        "     Predicting Model:"
       ]
      },
      {
       "output_type": "stream",
       "stream": "stdout",
       "text": [
        " 9\n",
        "     Predicting Model: 10\n",
        "Predict Station"
       ]
      },
      {
       "output_type": "stream",
       "stream": "stdout",
       "text": [
        " 61\n",
        "     Predicting Model:"
       ]
      },
      {
       "output_type": "stream",
       "stream": "stdout",
       "text": [
        " 0\n",
        "     Predicting Model: 1\n",
        "     Predicting Model: 2\n",
        "     Predicting Model:"
       ]
      },
      {
       "output_type": "stream",
       "stream": "stdout",
       "text": [
        " 3\n",
        "     Predicting Model: 4\n",
        "     Predicting Model:"
       ]
      },
      {
       "output_type": "stream",
       "stream": "stdout",
       "text": [
        " 5\n",
        "     Predicting Model: 6\n",
        "     Predicting Model: 7\n",
        "     Predicting Model:"
       ]
      },
      {
       "output_type": "stream",
       "stream": "stdout",
       "text": [
        " 8\n",
        "     Predicting Model: 9\n",
        "     Predicting Model: 10\n",
        "Predict Station"
       ]
      },
      {
       "output_type": "stream",
       "stream": "stdout",
       "text": [
        " 62\n",
        "     Predicting Model:"
       ]
      },
      {
       "output_type": "stream",
       "stream": "stdout",
       "text": [
        " 0\n",
        "     Predicting Model: 1\n",
        "     Predicting Model: 2\n",
        "     Predicting Model:"
       ]
      },
      {
       "output_type": "stream",
       "stream": "stdout",
       "text": [
        " 3\n",
        "     Predicting Model: 4\n",
        "     Predicting Model: 5\n",
        "     Predicting Model:"
       ]
      },
      {
       "output_type": "stream",
       "stream": "stdout",
       "text": [
        " 6\n",
        "     Predicting Model: 7\n",
        "     Predicting Model: 8\n",
        "     Predicting Model:"
       ]
      },
      {
       "output_type": "stream",
       "stream": "stdout",
       "text": [
        " 9\n",
        "     Predicting Model: 10\n",
        "Predict Station"
       ]
      },
      {
       "output_type": "stream",
       "stream": "stdout",
       "text": [
        " 63\n",
        "     Predicting Model:"
       ]
      },
      {
       "output_type": "stream",
       "stream": "stdout",
       "text": [
        " 0\n",
        "     Predicting Model: 1\n",
        "     Predicting Model:"
       ]
      },
      {
       "output_type": "stream",
       "stream": "stdout",
       "text": [
        " 2\n",
        "     Predicting Model: 3\n",
        "     Predicting Model: 4\n",
        "     Predicting Model:"
       ]
      },
      {
       "output_type": "stream",
       "stream": "stdout",
       "text": [
        " 5\n",
        "     Predicting Model: 6\n",
        "     Predicting Model:"
       ]
      },
      {
       "output_type": "stream",
       "stream": "stdout",
       "text": [
        " 7\n",
        "     Predicting Model: 8\n",
        "     Predicting Model:"
       ]
      },
      {
       "output_type": "stream",
       "stream": "stdout",
       "text": [
        " 9\n",
        "     Predicting Model: 10\n",
        "Predict Station"
       ]
      },
      {
       "output_type": "stream",
       "stream": "stdout",
       "text": [
        " 64\n",
        "     Predicting Model:"
       ]
      },
      {
       "output_type": "stream",
       "stream": "stdout",
       "text": [
        " 0\n",
        "     Predicting Model: 1\n",
        "     Predicting Model: 2\n",
        "     Predicting Model:"
       ]
      },
      {
       "output_type": "stream",
       "stream": "stdout",
       "text": [
        " 3\n",
        "     Predicting Model: 4\n",
        "     Predicting Model: 5\n",
        "     Predicting Model:"
       ]
      },
      {
       "output_type": "stream",
       "stream": "stdout",
       "text": [
        " 6\n",
        "     Predicting Model: 7\n",
        "     Predicting Model:"
       ]
      },
      {
       "output_type": "stream",
       "stream": "stdout",
       "text": [
        " 8\n",
        "     Predicting Model: 9\n",
        "     Predicting Model:"
       ]
      },
      {
       "output_type": "stream",
       "stream": "stdout",
       "text": [
        " 10\n",
        "Predict Station 65\n",
        "     Predicting Model:"
       ]
      },
      {
       "output_type": "stream",
       "stream": "stdout",
       "text": [
        " 0\n",
        "     Predicting Model: 1\n",
        "     Predicting Model: 2\n",
        "     Predicting Model:"
       ]
      },
      {
       "output_type": "stream",
       "stream": "stdout",
       "text": [
        " 3\n",
        "     Predicting Model: 4\n",
        "     Predicting Model: 5\n",
        "     Predicting Model:"
       ]
      },
      {
       "output_type": "stream",
       "stream": "stdout",
       "text": [
        " 6\n",
        "     Predicting Model: 7\n",
        "     Predicting Model: 8\n",
        "     Predicting Model:"
       ]
      },
      {
       "output_type": "stream",
       "stream": "stdout",
       "text": [
        " 9\n",
        "     Predicting Model: 10\n",
        "Predict Station"
       ]
      },
      {
       "output_type": "stream",
       "stream": "stdout",
       "text": [
        " 66\n",
        "     Predicting Model:"
       ]
      },
      {
       "output_type": "stream",
       "stream": "stdout",
       "text": [
        " 0\n",
        "     Predicting Model: 1\n",
        "     Predicting Model: 2\n",
        "     Predicting Model:"
       ]
      },
      {
       "output_type": "stream",
       "stream": "stdout",
       "text": [
        " 3\n",
        "     Predicting Model: 4\n",
        "     Predicting Model: 5\n",
        "     Predicting Model:"
       ]
      },
      {
       "output_type": "stream",
       "stream": "stdout",
       "text": [
        " 6\n",
        "     Predicting Model: 7\n",
        "     Predicting Model: 8\n",
        "     Predicting Model:"
       ]
      },
      {
       "output_type": "stream",
       "stream": "stdout",
       "text": [
        " 9\n",
        "     Predicting Model: 10\n",
        "Predict Station"
       ]
      },
      {
       "output_type": "stream",
       "stream": "stdout",
       "text": [
        " 67\n",
        "     Predicting Model:"
       ]
      },
      {
       "output_type": "stream",
       "stream": "stdout",
       "text": [
        " 0\n",
        "     Predicting Model: 1\n",
        "     Predicting Model: 2\n",
        "     Predicting Model:"
       ]
      },
      {
       "output_type": "stream",
       "stream": "stdout",
       "text": [
        " 3\n",
        "     Predicting Model: 4\n",
        "     Predicting Model:"
       ]
      },
      {
       "output_type": "stream",
       "stream": "stdout",
       "text": [
        " 5\n",
        "     Predicting Model: 6\n",
        "     Predicting Model: 7\n",
        "     Predicting Model:"
       ]
      },
      {
       "output_type": "stream",
       "stream": "stdout",
       "text": [
        " 8\n",
        "     Predicting Model: 9\n",
        "     Predicting Model: 10\n",
        "Predict Station"
       ]
      },
      {
       "output_type": "stream",
       "stream": "stdout",
       "text": [
        " 68\n",
        "     Predicting Model:"
       ]
      },
      {
       "output_type": "stream",
       "stream": "stdout",
       "text": [
        " 0\n",
        "     Predicting Model: 1\n",
        "     Predicting Model: 2\n",
        "     Predicting Model:"
       ]
      },
      {
       "output_type": "stream",
       "stream": "stdout",
       "text": [
        " 3\n",
        "     Predicting Model: 4\n",
        "     Predicting Model: 5\n",
        "     Predicting Model:"
       ]
      },
      {
       "output_type": "stream",
       "stream": "stdout",
       "text": [
        " 6\n",
        "     Predicting Model: 7\n",
        "     Predicting Model: 8\n",
        "     Predicting Model:"
       ]
      },
      {
       "output_type": "stream",
       "stream": "stdout",
       "text": [
        " 9\n",
        "     Predicting Model: 10\n",
        "Predict Station"
       ]
      },
      {
       "output_type": "stream",
       "stream": "stdout",
       "text": [
        " 69\n",
        "     Predicting Model:"
       ]
      },
      {
       "output_type": "stream",
       "stream": "stdout",
       "text": [
        " 0\n",
        "     Predicting Model: 1\n",
        "     Predicting Model: 2\n",
        "     Predicting Model:"
       ]
      },
      {
       "output_type": "stream",
       "stream": "stdout",
       "text": [
        " 3\n",
        "     Predicting Model: 4\n",
        "     Predicting Model: 5\n",
        "     Predicting Model:"
       ]
      },
      {
       "output_type": "stream",
       "stream": "stdout",
       "text": [
        " 6\n",
        "     Predicting Model: 7\n",
        "     Predicting Model: 8\n",
        "     Predicting Model:"
       ]
      },
      {
       "output_type": "stream",
       "stream": "stdout",
       "text": [
        " 9\n",
        "     Predicting Model: 10\n",
        "Predict Station"
       ]
      },
      {
       "output_type": "stream",
       "stream": "stdout",
       "text": [
        " 70\n",
        "     Predicting Model:"
       ]
      },
      {
       "output_type": "stream",
       "stream": "stdout",
       "text": [
        " 0\n",
        "     Predicting Model: 1\n",
        "     Predicting Model:"
       ]
      },
      {
       "output_type": "stream",
       "stream": "stdout",
       "text": [
        " 2\n",
        "     Predicting Model: 3\n",
        "     Predicting Model: 4\n",
        "     Predicting Model:"
       ]
      },
      {
       "output_type": "stream",
       "stream": "stdout",
       "text": [
        " 5\n",
        "     Predicting Model: 6\n",
        "     Predicting Model: 7\n",
        "     Predicting Model:"
       ]
      },
      {
       "output_type": "stream",
       "stream": "stdout",
       "text": [
        " 8\n",
        "     Predicting Model: 9\n",
        "     Predicting Model: 10\n",
        "Predict Station"
       ]
      },
      {
       "output_type": "stream",
       "stream": "stdout",
       "text": [
        " 71\n",
        "     Predicting Model:"
       ]
      },
      {
       "output_type": "stream",
       "stream": "stdout",
       "text": [
        " 0\n",
        "     Predicting Model: 1\n",
        "     Predicting Model: 2\n",
        "     Predicting Model:"
       ]
      },
      {
       "output_type": "stream",
       "stream": "stdout",
       "text": [
        " 3\n",
        "     Predicting Model: 4\n",
        "     Predicting Model:"
       ]
      },
      {
       "output_type": "stream",
       "stream": "stdout",
       "text": [
        " 5\n",
        "     Predicting Model: 6\n",
        "     Predicting Model: 7\n",
        "     Predicting Model:"
       ]
      },
      {
       "output_type": "stream",
       "stream": "stdout",
       "text": [
        " 8\n",
        "     Predicting Model: 9\n",
        "     Predicting Model:"
       ]
      },
      {
       "output_type": "stream",
       "stream": "stdout",
       "text": [
        " 10\n",
        "Predict Station 72\n",
        "     Predicting Model:"
       ]
      },
      {
       "output_type": "stream",
       "stream": "stdout",
       "text": [
        " 0\n",
        "     Predicting Model: 1\n",
        "     Predicting Model: 2\n",
        "     Predicting Model:"
       ]
      },
      {
       "output_type": "stream",
       "stream": "stdout",
       "text": [
        " 3\n",
        "     Predicting Model: 4\n",
        "     Predicting Model: 5\n",
        "     Predicting Model:"
       ]
      },
      {
       "output_type": "stream",
       "stream": "stdout",
       "text": [
        " 6\n",
        "     Predicting Model: 7\n",
        "     Predicting Model:"
       ]
      },
      {
       "output_type": "stream",
       "stream": "stdout",
       "text": [
        " 8\n",
        "     Predicting Model: 9\n",
        "     Predicting Model: 10\n",
        "Predict Station"
       ]
      },
      {
       "output_type": "stream",
       "stream": "stdout",
       "text": [
        " 73\n",
        "     Predicting Model:"
       ]
      },
      {
       "output_type": "stream",
       "stream": "stdout",
       "text": [
        " 0\n",
        "     Predicting Model: 1\n",
        "     Predicting Model: 2\n",
        "     Predicting Model:"
       ]
      },
      {
       "output_type": "stream",
       "stream": "stdout",
       "text": [
        " 3\n",
        "     Predicting Model: 4\n",
        "     Predicting Model: 5\n",
        "     Predicting Model:"
       ]
      },
      {
       "output_type": "stream",
       "stream": "stdout",
       "text": [
        " 6\n",
        "     Predicting Model: 7\n",
        "     Predicting Model: 8\n",
        "     Predicting Model:"
       ]
      },
      {
       "output_type": "stream",
       "stream": "stdout",
       "text": [
        " 9\n",
        "     Predicting Model: 10\n",
        "Predict Station"
       ]
      },
      {
       "output_type": "stream",
       "stream": "stdout",
       "text": [
        " 74\n",
        "     Predicting Model:"
       ]
      },
      {
       "output_type": "stream",
       "stream": "stdout",
       "text": [
        " 0\n",
        "     Predicting Model: 1\n",
        "     Predicting Model: 2\n",
        "     Predicting Model:"
       ]
      },
      {
       "output_type": "stream",
       "stream": "stdout",
       "text": [
        " 3\n",
        "     Predicting Model: 4\n",
        "     Predicting Model:"
       ]
      },
      {
       "output_type": "stream",
       "stream": "stdout",
       "text": [
        " 5\n",
        "     Predicting Model: 6\n",
        "     Predicting Model:"
       ]
      },
      {
       "output_type": "stream",
       "stream": "stdout",
       "text": [
        " 7\n",
        "     Predicting Model: 8\n",
        "     Predicting Model:"
       ]
      },
      {
       "output_type": "stream",
       "stream": "stdout",
       "text": [
        " 9\n",
        "     Predicting Model: 10\n",
        "Predict Station"
       ]
      },
      {
       "output_type": "stream",
       "stream": "stdout",
       "text": [
        " 75\n",
        "     Predicting Model:"
       ]
      },
      {
       "output_type": "stream",
       "stream": "stdout",
       "text": [
        " 0\n",
        "     Predicting Model: 1\n",
        "     Predicting Model:"
       ]
      },
      {
       "output_type": "stream",
       "stream": "stdout",
       "text": [
        " 2\n",
        "     Predicting Model: 3\n",
        "     Predicting Model:"
       ]
      },
      {
       "output_type": "stream",
       "stream": "stdout",
       "text": [
        " 4\n",
        "     Predicting Model: 5\n",
        "     Predicting Model:"
       ]
      },
      {
       "output_type": "stream",
       "stream": "stdout",
       "text": [
        " 6\n",
        "     Predicting Model: 7\n",
        "     Predicting Model:"
       ]
      },
      {
       "output_type": "stream",
       "stream": "stdout",
       "text": [
        " 8\n",
        "     Predicting Model: 9\n",
        "     Predicting Model:"
       ]
      },
      {
       "output_type": "stream",
       "stream": "stdout",
       "text": [
        " 10\n",
        "Predict Station"
       ]
      },
      {
       "output_type": "stream",
       "stream": "stdout",
       "text": [
        " 76\n",
        "     Predicting Model:"
       ]
      },
      {
       "output_type": "stream",
       "stream": "stdout",
       "text": [
        " 0\n",
        "     Predicting Model: 1\n",
        "     Predicting Model:"
       ]
      },
      {
       "output_type": "stream",
       "stream": "stdout",
       "text": [
        " 2\n",
        "     Predicting Model: 3\n",
        "     Predicting Model:"
       ]
      },
      {
       "output_type": "stream",
       "stream": "stdout",
       "text": [
        " 4\n",
        "     Predicting Model: 5\n",
        "     Predicting Model: 6\n",
        "     Predicting Model:"
       ]
      },
      {
       "output_type": "stream",
       "stream": "stdout",
       "text": [
        " 7\n",
        "     Predicting Model: 8\n",
        "     Predicting Model:"
       ]
      },
      {
       "output_type": "stream",
       "stream": "stdout",
       "text": [
        " 9\n",
        "     Predicting Model: 10\n",
        "Predict Station"
       ]
      },
      {
       "output_type": "stream",
       "stream": "stdout",
       "text": [
        " 77\n",
        "     Predicting Model:"
       ]
      },
      {
       "output_type": "stream",
       "stream": "stdout",
       "text": [
        " 0\n",
        "     Predicting Model: 1\n",
        "     Predicting Model:"
       ]
      },
      {
       "output_type": "stream",
       "stream": "stdout",
       "text": [
        " 2\n",
        "     Predicting Model: 3\n",
        "     Predicting Model:"
       ]
      },
      {
       "output_type": "stream",
       "stream": "stdout",
       "text": [
        " 4\n",
        "     Predicting Model: 5\n",
        "     Predicting Model:"
       ]
      },
      {
       "output_type": "stream",
       "stream": "stdout",
       "text": [
        " 6\n",
        "     Predicting Model: 7\n",
        "     Predicting Model:"
       ]
      },
      {
       "output_type": "stream",
       "stream": "stdout",
       "text": [
        " 8\n",
        "     Predicting Model: 9\n",
        "     Predicting Model:"
       ]
      },
      {
       "output_type": "stream",
       "stream": "stdout",
       "text": [
        " 10\n",
        "Predict Station"
       ]
      },
      {
       "output_type": "stream",
       "stream": "stdout",
       "text": [
        " 78\n",
        "     Predicting Model:"
       ]
      },
      {
       "output_type": "stream",
       "stream": "stdout",
       "text": [
        " 0\n",
        "     Predicting Model: 1\n",
        "     Predicting Model:"
       ]
      },
      {
       "output_type": "stream",
       "stream": "stdout",
       "text": [
        " 2\n",
        "     Predicting Model: 3\n",
        "     Predicting Model:"
       ]
      },
      {
       "output_type": "stream",
       "stream": "stdout",
       "text": [
        " 4\n",
        "     Predicting Model: 5\n",
        "     Predicting Model:"
       ]
      },
      {
       "output_type": "stream",
       "stream": "stdout",
       "text": [
        " 6\n",
        "     Predicting Model: 7\n",
        "     Predicting Model:"
       ]
      },
      {
       "output_type": "stream",
       "stream": "stdout",
       "text": [
        " 8\n",
        "     Predicting Model: 9\n",
        "     Predicting Model:"
       ]
      },
      {
       "output_type": "stream",
       "stream": "stdout",
       "text": [
        " 10\n",
        "Predict Station"
       ]
      },
      {
       "output_type": "stream",
       "stream": "stdout",
       "text": [
        " 79\n",
        "     Predicting Model:"
       ]
      },
      {
       "output_type": "stream",
       "stream": "stdout",
       "text": [
        " 0\n",
        "     Predicting Model: 1\n",
        "     Predicting Model: 2\n",
        "     Predicting Model:"
       ]
      },
      {
       "output_type": "stream",
       "stream": "stdout",
       "text": [
        " 3\n",
        "     Predicting Model: 4\n",
        "     Predicting Model:"
       ]
      },
      {
       "output_type": "stream",
       "stream": "stdout",
       "text": [
        " 5\n",
        "     Predicting Model: 6\n",
        "     Predicting Model:"
       ]
      },
      {
       "output_type": "stream",
       "stream": "stdout",
       "text": [
        " 7\n",
        "     Predicting Model: 8\n",
        "     Predicting Model:"
       ]
      },
      {
       "output_type": "stream",
       "stream": "stdout",
       "text": [
        " 9\n",
        "     Predicting Model: 10\n",
        "Predict Station"
       ]
      },
      {
       "output_type": "stream",
       "stream": "stdout",
       "text": [
        " 80\n",
        "     Predicting Model:"
       ]
      },
      {
       "output_type": "stream",
       "stream": "stdout",
       "text": [
        " 0\n",
        "     Predicting Model: 1\n",
        "     Predicting Model:"
       ]
      },
      {
       "output_type": "stream",
       "stream": "stdout",
       "text": [
        " 2\n",
        "     Predicting Model: 3\n",
        "     Predicting Model: 4\n",
        "     Predicting Model:"
       ]
      },
      {
       "output_type": "stream",
       "stream": "stdout",
       "text": [
        " 5\n",
        "     Predicting Model: 6\n",
        "     Predicting Model: 7\n",
        "     Predicting Model:"
       ]
      },
      {
       "output_type": "stream",
       "stream": "stdout",
       "text": [
        " 8\n",
        "     Predicting Model: 9\n",
        "     Predicting Model:"
       ]
      },
      {
       "output_type": "stream",
       "stream": "stdout",
       "text": [
        " 10\n",
        "Predict Station"
       ]
      },
      {
       "output_type": "stream",
       "stream": "stdout",
       "text": [
        " 81\n",
        "     Predicting Model:"
       ]
      },
      {
       "output_type": "stream",
       "stream": "stdout",
       "text": [
        " 0\n",
        "     Predicting Model: 1\n",
        "     Predicting Model:"
       ]
      },
      {
       "output_type": "stream",
       "stream": "stdout",
       "text": [
        " 2\n",
        "     Predicting Model: 3\n",
        "     Predicting Model: 4\n",
        "     Predicting Model:"
       ]
      },
      {
       "output_type": "stream",
       "stream": "stdout",
       "text": [
        " 5\n",
        "     Predicting Model: 6\n",
        "     Predicting Model:"
       ]
      },
      {
       "output_type": "stream",
       "stream": "stdout",
       "text": [
        " 7\n",
        "     Predicting Model: 8\n",
        "     Predicting Model:"
       ]
      },
      {
       "output_type": "stream",
       "stream": "stdout",
       "text": [
        " 9\n",
        "     Predicting Model: 10\n",
        "Predict Station"
       ]
      },
      {
       "output_type": "stream",
       "stream": "stdout",
       "text": [
        " 82\n",
        "     Predicting Model:"
       ]
      },
      {
       "output_type": "stream",
       "stream": "stdout",
       "text": [
        " 0\n",
        "     Predicting Model: 1\n",
        "     Predicting Model:"
       ]
      },
      {
       "output_type": "stream",
       "stream": "stdout",
       "text": [
        " 2\n",
        "     Predicting Model: 3\n",
        "     Predicting Model: 4\n",
        "     Predicting Model:"
       ]
      },
      {
       "output_type": "stream",
       "stream": "stdout",
       "text": [
        " 5\n",
        "     Predicting Model: 6\n",
        "     Predicting Model:"
       ]
      },
      {
       "output_type": "stream",
       "stream": "stdout",
       "text": [
        " 7\n",
        "     Predicting Model: 8\n",
        "     Predicting Model: 9\n",
        "     Predicting Model:"
       ]
      },
      {
       "output_type": "stream",
       "stream": "stdout",
       "text": [
        " 10\n",
        "Predict Station 83\n",
        "     Predicting Model:"
       ]
      },
      {
       "output_type": "stream",
       "stream": "stdout",
       "text": [
        " 0\n",
        "     Predicting Model: 1\n",
        "     Predicting Model:"
       ]
      },
      {
       "output_type": "stream",
       "stream": "stdout",
       "text": [
        " 2\n",
        "     Predicting Model: 3\n",
        "     Predicting Model:"
       ]
      },
      {
       "output_type": "stream",
       "stream": "stdout",
       "text": [
        " 4\n",
        "     Predicting Model: 5\n",
        "     Predicting Model:"
       ]
      },
      {
       "output_type": "stream",
       "stream": "stdout",
       "text": [
        " 6\n",
        "     Predicting Model: 7\n",
        "     Predicting Model: 8\n",
        "     Predicting Model:"
       ]
      },
      {
       "output_type": "stream",
       "stream": "stdout",
       "text": [
        " 9\n",
        "     Predicting Model: 10\n",
        "Predict Station"
       ]
      },
      {
       "output_type": "stream",
       "stream": "stdout",
       "text": [
        " 84\n",
        "     Predicting Model:"
       ]
      },
      {
       "output_type": "stream",
       "stream": "stdout",
       "text": [
        " 0\n",
        "     Predicting Model: 1\n",
        "     Predicting Model:"
       ]
      },
      {
       "output_type": "stream",
       "stream": "stdout",
       "text": [
        " 2\n",
        "     Predicting Model: 3\n",
        "     Predicting Model:"
       ]
      },
      {
       "output_type": "stream",
       "stream": "stdout",
       "text": [
        " 4\n",
        "     Predicting Model: 5\n",
        "     Predicting Model:"
       ]
      },
      {
       "output_type": "stream",
       "stream": "stdout",
       "text": [
        " 6\n",
        "     Predicting Model: 7\n",
        "     Predicting Model:"
       ]
      },
      {
       "output_type": "stream",
       "stream": "stdout",
       "text": [
        " 8\n",
        "     Predicting Model: 9\n",
        "     Predicting Model:"
       ]
      },
      {
       "output_type": "stream",
       "stream": "stdout",
       "text": [
        " 10\n",
        "Predict Station"
       ]
      },
      {
       "output_type": "stream",
       "stream": "stdout",
       "text": [
        " 85\n",
        "     Predicting Model:"
       ]
      },
      {
       "output_type": "stream",
       "stream": "stdout",
       "text": [
        " 0\n",
        "     Predicting Model: 1\n",
        "     Predicting Model:"
       ]
      },
      {
       "output_type": "stream",
       "stream": "stdout",
       "text": [
        " 2\n",
        "     Predicting Model: 3\n",
        "     Predicting Model:"
       ]
      },
      {
       "output_type": "stream",
       "stream": "stdout",
       "text": [
        " 4\n",
        "     Predicting Model: 5\n",
        "     Predicting Model:"
       ]
      },
      {
       "output_type": "stream",
       "stream": "stdout",
       "text": [
        " 6\n",
        "     Predicting Model: 7\n",
        "     Predicting Model: 8\n",
        "     Predicting Model:"
       ]
      },
      {
       "output_type": "stream",
       "stream": "stdout",
       "text": [
        " 9\n",
        "     Predicting Model: 10\n",
        "Predict Station"
       ]
      },
      {
       "output_type": "stream",
       "stream": "stdout",
       "text": [
        " 86\n",
        "     Predicting Model:"
       ]
      },
      {
       "output_type": "stream",
       "stream": "stdout",
       "text": [
        " 0\n",
        "     Predicting Model: 1\n",
        "     Predicting Model:"
       ]
      },
      {
       "output_type": "stream",
       "stream": "stdout",
       "text": [
        " 2\n",
        "     Predicting Model: 3\n",
        "     Predicting Model:"
       ]
      },
      {
       "output_type": "stream",
       "stream": "stdout",
       "text": [
        " 4\n",
        "     Predicting Model: 5\n",
        "     Predicting Model:"
       ]
      },
      {
       "output_type": "stream",
       "stream": "stdout",
       "text": [
        " 6\n",
        "     Predicting Model: 7\n",
        "     Predicting Model:"
       ]
      },
      {
       "output_type": "stream",
       "stream": "stdout",
       "text": [
        " 8\n",
        "     Predicting Model: 9\n",
        "     Predicting Model:"
       ]
      },
      {
       "output_type": "stream",
       "stream": "stdout",
       "text": [
        " 10\n",
        "Predict Station"
       ]
      },
      {
       "output_type": "stream",
       "stream": "stdout",
       "text": [
        " 87\n",
        "     Predicting Model:"
       ]
      },
      {
       "output_type": "stream",
       "stream": "stdout",
       "text": [
        " 0\n",
        "     Predicting Model: 1\n",
        "     Predicting Model:"
       ]
      },
      {
       "output_type": "stream",
       "stream": "stdout",
       "text": [
        " 2\n",
        "     Predicting Model: 3\n",
        "     Predicting Model:"
       ]
      },
      {
       "output_type": "stream",
       "stream": "stdout",
       "text": [
        " 4\n",
        "     Predicting Model: 5\n",
        "     Predicting Model:"
       ]
      },
      {
       "output_type": "stream",
       "stream": "stdout",
       "text": [
        " 6\n",
        "     Predicting Model: 7\n",
        "     Predicting Model:"
       ]
      },
      {
       "output_type": "stream",
       "stream": "stdout",
       "text": [
        " 8\n",
        "     Predicting Model: 9\n",
        "     Predicting Model:"
       ]
      },
      {
       "output_type": "stream",
       "stream": "stdout",
       "text": [
        " 10\n",
        "Predict Station"
       ]
      },
      {
       "output_type": "stream",
       "stream": "stdout",
       "text": [
        " 88\n",
        "     Predicting Model:"
       ]
      },
      {
       "output_type": "stream",
       "stream": "stdout",
       "text": [
        " 0\n",
        "     Predicting Model: 1\n",
        "     Predicting Model: 2\n",
        "     Predicting Model:"
       ]
      },
      {
       "output_type": "stream",
       "stream": "stdout",
       "text": [
        " 3\n",
        "     Predicting Model: 4\n",
        "     Predicting Model:"
       ]
      },
      {
       "output_type": "stream",
       "stream": "stdout",
       "text": [
        " 5\n",
        "     Predicting Model: 6\n",
        "     Predicting Model:"
       ]
      },
      {
       "output_type": "stream",
       "stream": "stdout",
       "text": [
        " 7\n",
        "     Predicting Model: 8\n",
        "     Predicting Model:"
       ]
      },
      {
       "output_type": "stream",
       "stream": "stdout",
       "text": [
        " 9\n",
        "     Predicting Model: 10\n",
        "Predict Station"
       ]
      },
      {
       "output_type": "stream",
       "stream": "stdout",
       "text": [
        " 89\n",
        "     Predicting Model:"
       ]
      },
      {
       "output_type": "stream",
       "stream": "stdout",
       "text": [
        " 0\n",
        "     Predicting Model: 1\n",
        "     Predicting Model:"
       ]
      },
      {
       "output_type": "stream",
       "stream": "stdout",
       "text": [
        " 2\n",
        "     Predicting Model: 3\n",
        "     Predicting Model:"
       ]
      },
      {
       "output_type": "stream",
       "stream": "stdout",
       "text": [
        " 4\n",
        "     Predicting Model: 5\n",
        "     Predicting Model:"
       ]
      },
      {
       "output_type": "stream",
       "stream": "stdout",
       "text": [
        " 6\n",
        "     Predicting Model: 7\n",
        "     Predicting Model: 8\n",
        "     Predicting Model:"
       ]
      },
      {
       "output_type": "stream",
       "stream": "stdout",
       "text": [
        " 9\n",
        "     Predicting Model: 10\n",
        "Predict Station"
       ]
      },
      {
       "output_type": "stream",
       "stream": "stdout",
       "text": [
        " 90\n",
        "     Predicting Model:"
       ]
      },
      {
       "output_type": "stream",
       "stream": "stdout",
       "text": [
        " 0\n",
        "     Predicting Model: 1\n",
        "     Predicting Model:"
       ]
      },
      {
       "output_type": "stream",
       "stream": "stdout",
       "text": [
        " 2\n",
        "     Predicting Model: 3\n",
        "     Predicting Model:"
       ]
      },
      {
       "output_type": "stream",
       "stream": "stdout",
       "text": [
        " 4\n",
        "     Predicting Model: 5\n",
        "     Predicting Model:"
       ]
      },
      {
       "output_type": "stream",
       "stream": "stdout",
       "text": [
        " 6\n",
        "     Predicting Model:"
       ]
      },
      {
       "output_type": "stream",
       "stream": "stdout",
       "text": [
        " 7\n",
        "     Predicting Model: 8\n",
        "     Predicting Model: 9\n",
        "     Predicting Model:"
       ]
      },
      {
       "output_type": "stream",
       "stream": "stdout",
       "text": [
        " 10\n",
        "Predict Station 91\n",
        "     Predicting Model:"
       ]
      },
      {
       "output_type": "stream",
       "stream": "stdout",
       "text": [
        " 0\n",
        "     Predicting Model: 1\n",
        "     Predicting Model:"
       ]
      },
      {
       "output_type": "stream",
       "stream": "stdout",
       "text": [
        " 2\n",
        "     Predicting Model: 3\n",
        "     Predicting Model:"
       ]
      },
      {
       "output_type": "stream",
       "stream": "stdout",
       "text": [
        " 4\n",
        "     Predicting Model: 5\n",
        "     Predicting Model:"
       ]
      },
      {
       "output_type": "stream",
       "stream": "stdout",
       "text": [
        " 6\n",
        "     Predicting Model: 7\n",
        "     Predicting Model:"
       ]
      },
      {
       "output_type": "stream",
       "stream": "stdout",
       "text": [
        " 8\n",
        "     Predicting Model:"
       ]
      },
      {
       "output_type": "stream",
       "stream": "stdout",
       "text": [
        " 9\n",
        "     Predicting Model:"
       ]
      },
      {
       "output_type": "stream",
       "stream": "stdout",
       "text": [
        " 10\n",
        "Predict Station"
       ]
      },
      {
       "output_type": "stream",
       "stream": "stdout",
       "text": [
        " 92\n",
        "     Predicting Model:"
       ]
      },
      {
       "output_type": "stream",
       "stream": "stdout",
       "text": [
        " 0\n",
        "     Predicting Model:"
       ]
      },
      {
       "output_type": "stream",
       "stream": "stdout",
       "text": [
        " 1\n",
        "     Predicting Model: 2\n",
        "     Predicting Model:"
       ]
      },
      {
       "output_type": "stream",
       "stream": "stdout",
       "text": [
        " 3\n",
        "     Predicting Model: 4\n",
        "     Predicting Model:"
       ]
      },
      {
       "output_type": "stream",
       "stream": "stdout",
       "text": [
        " 5\n",
        "     Predicting Model: 6\n",
        "     Predicting Model:"
       ]
      },
      {
       "output_type": "stream",
       "stream": "stdout",
       "text": [
        " 7\n",
        "     Predicting Model: 8\n",
        "     Predicting Model:"
       ]
      },
      {
       "output_type": "stream",
       "stream": "stdout",
       "text": [
        " 9\n",
        "     Predicting Model: 10\n",
        "Predict Station"
       ]
      },
      {
       "output_type": "stream",
       "stream": "stdout",
       "text": [
        " 93\n",
        "     Predicting Model:"
       ]
      },
      {
       "output_type": "stream",
       "stream": "stdout",
       "text": [
        " 0\n",
        "     Predicting Model: 1\n",
        "     Predicting Model:"
       ]
      },
      {
       "output_type": "stream",
       "stream": "stdout",
       "text": [
        " 2\n",
        "     Predicting Model:"
       ]
      },
      {
       "output_type": "stream",
       "stream": "stdout",
       "text": [
        " 3\n",
        "     Predicting Model: 4\n",
        "     Predicting Model:"
       ]
      },
      {
       "output_type": "stream",
       "stream": "stdout",
       "text": [
        " 5\n",
        "     Predicting Model: 6\n",
        "     Predicting Model:"
       ]
      },
      {
       "output_type": "stream",
       "stream": "stdout",
       "text": [
        " 7\n",
        "     Predicting Model: 8\n",
        "     Predicting Model:"
       ]
      },
      {
       "output_type": "stream",
       "stream": "stdout",
       "text": [
        " 9\n",
        "     Predicting Model: 10\n",
        "Predict Station"
       ]
      },
      {
       "output_type": "stream",
       "stream": "stdout",
       "text": [
        " 94\n",
        "     Predicting Model:"
       ]
      },
      {
       "output_type": "stream",
       "stream": "stdout",
       "text": [
        " 0\n",
        "     Predicting Model: 1\n",
        "     Predicting Model:"
       ]
      },
      {
       "output_type": "stream",
       "stream": "stdout",
       "text": [
        " 2\n",
        "     Predicting Model: 3\n",
        "     Predicting Model:"
       ]
      },
      {
       "output_type": "stream",
       "stream": "stdout",
       "text": [
        " 4\n",
        "     Predicting Model: 5\n",
        "     Predicting Model:"
       ]
      },
      {
       "output_type": "stream",
       "stream": "stdout",
       "text": [
        " 6\n",
        "     Predicting Model: 7\n",
        "     Predicting Model:"
       ]
      },
      {
       "output_type": "stream",
       "stream": "stdout",
       "text": [
        " 8\n",
        "     Predicting Model: 9\n",
        "     Predicting Model:"
       ]
      },
      {
       "output_type": "stream",
       "stream": "stdout",
       "text": [
        " 10\n",
        "Predict Station"
       ]
      },
      {
       "output_type": "stream",
       "stream": "stdout",
       "text": [
        " 95\n",
        "     Predicting Model:"
       ]
      },
      {
       "output_type": "stream",
       "stream": "stdout",
       "text": [
        " 0\n",
        "     Predicting Model: 1\n",
        "     Predicting Model:"
       ]
      },
      {
       "output_type": "stream",
       "stream": "stdout",
       "text": [
        " 2\n",
        "     Predicting Model: 3\n",
        "     Predicting Model:"
       ]
      },
      {
       "output_type": "stream",
       "stream": "stdout",
       "text": [
        " 4\n",
        "     Predicting Model: 5\n",
        "     Predicting Model: 6\n",
        "     Predicting Model:"
       ]
      },
      {
       "output_type": "stream",
       "stream": "stdout",
       "text": [
        " 7\n",
        "     Predicting Model: 8\n",
        "     Predicting Model: 9\n",
        "     Predicting Model:"
       ]
      },
      {
       "output_type": "stream",
       "stream": "stdout",
       "text": [
        " 10\n",
        "Predict Station"
       ]
      },
      {
       "output_type": "stream",
       "stream": "stdout",
       "text": [
        " 96\n",
        "     Predicting Model:"
       ]
      },
      {
       "output_type": "stream",
       "stream": "stdout",
       "text": [
        " 0\n",
        "     Predicting Model: 1\n",
        "     Predicting Model:"
       ]
      },
      {
       "output_type": "stream",
       "stream": "stdout",
       "text": [
        " 2\n",
        "     Predicting Model: 3\n",
        "     Predicting Model:"
       ]
      },
      {
       "output_type": "stream",
       "stream": "stdout",
       "text": [
        " 4\n",
        "     Predicting Model: 5\n",
        "     Predicting Model:"
       ]
      },
      {
       "output_type": "stream",
       "stream": "stdout",
       "text": [
        " 6\n",
        "     Predicting Model: 7\n",
        "     Predicting Model:"
       ]
      },
      {
       "output_type": "stream",
       "stream": "stdout",
       "text": [
        " 8\n",
        "     Predicting Model: 9\n",
        "     Predicting Model:"
       ]
      },
      {
       "output_type": "stream",
       "stream": "stdout",
       "text": [
        " 10\n",
        "Predict Station"
       ]
      },
      {
       "output_type": "stream",
       "stream": "stdout",
       "text": [
        " 97\n",
        "     Predicting Model:"
       ]
      },
      {
       "output_type": "stream",
       "stream": "stdout",
       "text": [
        " 0\n",
        "     Predicting Model: 1\n",
        "     Predicting Model:"
       ]
      },
      {
       "output_type": "stream",
       "stream": "stdout",
       "text": [
        " 2\n",
        "     Predicting Model: 3\n",
        "     Predicting Model:"
       ]
      },
      {
       "output_type": "stream",
       "stream": "stdout",
       "text": [
        " 4\n",
        "     Predicting Model: 5\n",
        "     Predicting Model:"
       ]
      },
      {
       "output_type": "stream",
       "stream": "stdout",
       "text": [
        " 6\n",
        "     Predicting Model: 7\n",
        "     Predicting Model:"
       ]
      },
      {
       "output_type": "stream",
       "stream": "stdout",
       "text": [
        " 8\n",
        "     Predicting Model: 9\n",
        "     Predicting Model: 10\n"
       ]
      }
     ],
     "prompt_number": 349
    },
    {
     "cell_type": "code",
     "collapsed": false,
     "input": [
      "FinalTestPredictions =  applyAllWeights(stations, test_predictions, AllWeights, testMonths, N=12)\n",
      "#print metrics.mean_absolute_error(trainY,FinalTestPredictions)"
     ],
     "language": "python",
     "metadata": {},
     "outputs": [],
     "prompt_number": 350
    },
    {
     "cell_type": "code",
     "collapsed": false,
     "input": [
      "save_submission(FinalTestPredictions,'FinalTestPredictions',data_dir)"
     ],
     "language": "python",
     "metadata": {},
     "outputs": [],
     "prompt_number": 351
    },
    {
     "cell_type": "code",
     "collapsed": false,
     "input": [
      "savePickle(AllWeights, data_dir, 'ensembleWeights.p')  \n",
      "#AllWeights = loadPickle(data_dir, 'ensembleWeights.p')"
     ],
     "language": "python",
     "metadata": {},
     "outputs": [],
     "prompt_number": 336
    },
    {
     "cell_type": "code",
     "collapsed": false,
     "input": [
      "print 'predictions', predictions.shape\n",
      "print 'trainY', trainY.shape"
     ],
     "language": "python",
     "metadata": {},
     "outputs": [
      {
       "output_type": "stream",
       "stream": "stdout",
       "text": [
        "predictions (98, 11, 5113)\n",
        "trainY (5113, 98)\n"
       ]
      }
     ],
     "prompt_number": 199
    },
    {
     "cell_type": "code",
     "collapsed": false,
     "input": [
      "def predictStations(stations, X_test, wModels=None, mod_train=None):\n",
      "    for i, station in enumerate(stations):\n",
      "        print \"Predict Station\", i\n",
      "        prediction = station.predict(X_test,wModels,mod_train)\n",
      "        if i == 0:\n",
      "            prediction = np.expand_dims(prediction,0)\n",
      "            predictions = prediction\n",
      "        else:\n",
      "            prediction = np.expand_dims(prediction,0)\n",
      "            predictions = np.vstack((predictions,prediction))\n",
      "    return predictions"
     ],
     "language": "python",
     "metadata": {},
     "outputs": [],
     "prompt_number": 343
    },
    {
     "cell_type": "code",
     "collapsed": false,
     "input": [
      "test_predictions.shape"
     ],
     "language": "python",
     "metadata": {},
     "outputs": [
      {
       "metadata": {},
       "output_type": "pyout",
       "prompt_number": 345,
       "text": [
        "(1, 11, 1796)"
       ]
      }
     ],
     "prompt_number": 345
    },
    {
     "cell_type": "code",
     "collapsed": false,
     "input": [
      "plt.plot(FinalTestPredictions[:,0])\n",
      "plt.show()"
     ],
     "language": "python",
     "metadata": {},
     "outputs": [],
     "prompt_number": 353
    },
    {
     "cell_type": "code",
     "collapsed": false,
     "input": [],
     "language": "python",
     "metadata": {},
     "outputs": [],
     "prompt_number": 348
    },
    {
     "cell_type": "code",
     "collapsed": false,
     "input": [],
     "language": "python",
     "metadata": {},
     "outputs": []
    }
   ],
   "metadata": {}
  }
 ]
}