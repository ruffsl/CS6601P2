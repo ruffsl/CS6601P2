{
 "metadata": {
  "name": "test"
 },
 "nbformat": 3,
 "nbformat_minor": 0,
 "worksheets": [
  {
   "cells": [
    {
     "cell_type": "code",
     "collapsed": false,
     "input": "import numpy as np\nimport netCDF4 as nc\nimport matplotlib.pyplot as plt\nimport matplotlib.animation as animation\nfrom mpl_toolkits.basemap import Basemap, cm\nfrom datetime import datetime\n\ndata = nc.Dataset('/media/Data/Project Data/Solar Energy/gefs_train/train/apcp_sfc_latlon_subset_19940101_20071231.nc')\ndata",
     "language": "python",
     "metadata": {},
     "outputs": [
      {
       "metadata": {},
       "output_type": "pyout",
       "prompt_number": 83,
       "text": "<netCDF4.Dataset at 0x54382d0>"
      }
     ],
     "prompt_number": 83
    },
    {
     "cell_type": "code",
     "collapsed": false,
     "input": "for v in data.variables.keys():\n    print v",
     "language": "python",
     "metadata": {},
     "outputs": [
      {
       "output_type": "stream",
       "stream": "stdout",
       "text": "time\nintTime\nlat\nlon\nens\nfhour\nintValidTime\nTotal_precipitation\n"
      }
     ],
     "prompt_number": 84
    },
    {
     "cell_type": "code",
     "collapsed": false,
     "input": "precip = data.variables.values()[-1]\nprecip.dimensions\nprecip.shape",
     "language": "python",
     "metadata": {},
     "outputs": [
      {
       "metadata": {},
       "output_type": "pyout",
       "prompt_number": 92,
       "text": "(5113, 11, 5, 9, 16)"
      }
     ],
     "prompt_number": 92
    },
    {
     "cell_type": "code",
     "collapsed": false,
     "input": "",
     "language": "python",
     "metadata": {},
     "outputs": [
      {
       "metadata": {},
       "output_type": "pyout",
       "prompt_number": 86,
       "text": "(5113, 11, 5, 9, 16)"
      }
     ],
     "prompt_number": 86
    },
    {
     "cell_type": "code",
     "collapsed": false,
     "input": "lat = data.variables['lat'][:]\nlat.shape",
     "language": "python",
     "metadata": {},
     "outputs": [
      {
       "metadata": {},
       "output_type": "pyout",
       "prompt_number": 90,
       "text": "(9,)"
      }
     ],
     "prompt_number": 90
    },
    {
     "cell_type": "code",
     "collapsed": false,
     "input": "lon = data.variables['lon'][:]-360\n\ngrid = numpy.meshgrid(lat[:],lon[:])\nplt.scatter(grid[1][:],grid[0][:],c=grid[0][:])",
     "language": "python",
     "metadata": {},
     "outputs": [
      {
       "metadata": {},
       "output_type": "pyout",
       "prompt_number": 135,
       "text": "<matplotlib.collections.PathCollection at 0x1bcafe50>"
      }
     ],
     "prompt_number": 135
    },
    {
     "cell_type": "code",
     "collapsed": false,
     "input": "fig = plt.figure(figsize=(8,8))\nm = Basemap(projection='stere', \\\n            lat_0=90., lon_0=lon[size(lon)/2], \\\n            llcrnrlat=lat[0]-2, urcrnrlat=lat[-1]+2, \\\n            llcrnrlon=lon[0]-1, urcrnrlon=lon[-1]+4, \\\n            rsphere=6371200., resolution='l', area_thresh=10000)\n\n# draw coastlines, state and country boundaries, edge of map.\nm.drawcoastlines()\nm.drawstates()\nm.drawcountries()\n# draw parallels.\nparallels = np.arange(0.,90,10.)\nm.drawparallels(parallels,labels=[1,0,0,0],fontsize=10)\n# draw meridians\nmeridians = np.arange(180.,360.,10.)\nm.drawmeridians(meridians,labels=[0,0,0,1],fontsize=10)\n\ndef animate(i):\n    h = i % 5\n    d = i / 5\n    m.scatter(grid[1][:],grid[0][:],s=100,c=precip[d,0,h,:,:],latlon=True)\n    \n    plt.title('Where the wind comes sweeping down the plains')\n    plt.show()\n    return",
     "language": "python",
     "metadata": {},
     "outputs": [],
     "prompt_number": 93
    },
    {
     "cell_type": "code",
     "collapsed": false,
     "input": "#fig, ax = plt.subplots()\nanim = animation.FuncAnimation(fig, animate, frames=50, interval=250)",
     "language": "python",
     "metadata": {},
     "outputs": [],
     "prompt_number": 152
    },
    {
     "cell_type": "code",
     "collapsed": false,
     "input": "",
     "language": "python",
     "metadata": {},
     "outputs": [],
     "prompt_number": 151
    },
    {
     "cell_type": "code",
     "collapsed": false,
     "input": "",
     "language": "python",
     "metadata": {},
     "outputs": [],
     "prompt_number": 79
    },
    {
     "cell_type": "code",
     "collapsed": false,
     "input": "",
     "language": "python",
     "metadata": {},
     "outputs": [
      {
       "metadata": {},
       "output_type": "pyout",
       "prompt_number": 116,
       "text": "39.0"
      }
     ],
     "prompt_number": 116
    },
    {
     "cell_type": "code",
     "collapsed": false,
     "input": "",
     "language": "python",
     "metadata": {},
     "outputs": []
    }
   ],
   "metadata": {}
  }
 ]
}