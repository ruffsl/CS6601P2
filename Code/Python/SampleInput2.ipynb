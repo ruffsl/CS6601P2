{
 "metadata": {
  "name": "SampleInput2"
 },
 "nbformat": 3,
 "nbformat_minor": 0,
 "worksheets": [
  {
   "cells": [
    {
     "cell_type": "code",
     "collapsed": false,
     "input": [
      "from SolarDefs import *\n",
      "import cPickle as pickle"
     ],
     "language": "python",
     "metadata": {},
     "outputs": [],
     "prompt_number": 4
    },
    {
     "cell_type": "code",
     "collapsed": false,
     "input": [
      "data_dir = \"/home/rox/Code/CS6601P2/Data/\""
     ],
     "language": "python",
     "metadata": {},
     "outputs": [],
     "prompt_number": 5
    },
    {
     "cell_type": "code",
     "collapsed": false,
     "input": [
      "#from SolarDirectories import data_dir # = '/media/Data/Project Data/Solar Energy/' # Set to your data directory assumes all data is in there - no nesting\n",
      "N = 5 # Amount of CV folds\n",
      "cv_test_size = 0.2 # Test split size in cv\n",
      "files_to_use = 'all' # Choices for files_to_use: the string all, or a list of strings corresponding to the unique part of a GEFS filename\n",
      "submit_name = 'submission_mod_whours.csv'\n",
      "args = { 'N': N, 'cv_test_size': cv_test_size,'files_to_use': files_to_use, 'submit_name': submit_name}"
     ],
     "language": "python",
     "metadata": {},
     "outputs": [],
     "prompt_number": 6
    },
    {
     "cell_type": "code",
     "collapsed": false,
     "input": [
      "times, trainX, trainY, augmentX = load_Training_Data(data_dir,files_to_use)"
     ],
     "language": "python",
     "metadata": {},
     "outputs": [
      {
       "output_type": "stream",
       "stream": "stdout",
       "text": [
        "Loading training data...\n",
        "loading dswrf_sfc\n",
        "this is the path:  /home/rox/Code/CS6601P2/Data/train/dswrf_sfc_latlon_subset_19940101_20071231.nc\n",
        "loading"
       ]
      },
      {
       "output_type": "stream",
       "stream": "stdout",
       "text": [
        " dlwrf_sfc\n",
        "this is the path:  /home/rox/Code/CS6601P2/Data/train/dlwrf_sfc_latlon_subset_19940101_20071231.nc\n",
        "loading"
       ]
      },
      {
       "output_type": "stream",
       "stream": "stdout",
       "text": [
        " uswrf_sfc\n",
        "this is the path:  /home/rox/Code/CS6601P2/Data/train/uswrf_sfc_latlon_subset_19940101_20071231.nc\n",
        "loading"
       ]
      },
      {
       "output_type": "stream",
       "stream": "stdout",
       "text": [
        " ulwrf_sfc\n",
        "this is the path:  /home/rox/Code/CS6601P2/Data/train/ulwrf_sfc_latlon_subset_19940101_20071231.nc\n",
        "loading"
       ]
      },
      {
       "output_type": "stream",
       "stream": "stdout",
       "text": [
        " ulwrf_tatm\n",
        "this is the path:  /home/rox/Code/CS6601P2/Data/train/ulwrf_tatm_latlon_subset_19940101_20071231.nc\n",
        "loading"
       ]
      },
      {
       "output_type": "stream",
       "stream": "stdout",
       "text": [
        " pwat_eatm\n",
        "this is the path:  /home/rox/Code/CS6601P2/Data/train/pwat_eatm_latlon_subset_19940101_20071231.nc\n",
        "loading"
       ]
      },
      {
       "output_type": "stream",
       "stream": "stdout",
       "text": [
        " tcdc_eatm\n",
        "this is the path:  /home/rox/Code/CS6601P2/Data/train/tcdc_eatm_latlon_subset_19940101_20071231.nc\n",
        "loading"
       ]
      },
      {
       "output_type": "stream",
       "stream": "stdout",
       "text": [
        " apcp_sfc\n",
        "this is the path:  /home/rox/Code/CS6601P2/Data/train/apcp_sfc_latlon_subset_19940101_20071231.nc\n",
        "loading"
       ]
      },
      {
       "output_type": "stream",
       "stream": "stdout",
       "text": [
        " pres_msl\n",
        "this is the path:  /home/rox/Code/CS6601P2/Data/train/pres_msl_latlon_subset_19940101_20071231.nc\n",
        "loading"
       ]
      },
      {
       "output_type": "stream",
       "stream": "stdout",
       "text": [
        " spfh_2m\n",
        "this is the path:  /home/rox/Code/CS6601P2/Data/train/spfh_2m_latlon_subset_19940101_20071231.nc\n",
        "loading"
       ]
      },
      {
       "output_type": "stream",
       "stream": "stdout",
       "text": [
        " tcolc_eatm\n",
        "this is the path:  /home/rox/Code/CS6601P2/Data/train/tcolc_eatm_latlon_subset_19940101_20071231.nc\n",
        "loading"
       ]
      },
      {
       "output_type": "stream",
       "stream": "stdout",
       "text": [
        " tmax_2m\n",
        "this is the path:  /home/rox/Code/CS6601P2/Data/train/tmax_2m_latlon_subset_19940101_20071231.nc\n",
        "loading"
       ]
      },
      {
       "output_type": "stream",
       "stream": "stdout",
       "text": [
        " tmin_2m\n",
        "this is the path:  /home/rox/Code/CS6601P2/Data/train/tmin_2m_latlon_subset_19940101_20071231.nc\n",
        "loading"
       ]
      },
      {
       "output_type": "stream",
       "stream": "stdout",
       "text": [
        " tmp_2m\n",
        "this is the path:  /home/rox/Code/CS6601P2/Data/train/tmp_2m_latlon_subset_19940101_20071231.nc\n",
        "loading"
       ]
      },
      {
       "output_type": "stream",
       "stream": "stdout",
       "text": [
        " tmp_sfc\n",
        "this is the path:  /home/rox/Code/CS6601P2/Data/train/tmp_sfc_latlon_subset_19940101_20071231.nc\n",
        "Training data shape"
       ]
      },
      {
       "output_type": "stream",
       "stream": "stdout",
       "text": [
        " (5113, 10800) (5113, 98)\n"
       ]
      }
     ],
     "prompt_number": 8
    },
    {
     "cell_type": "code",
     "collapsed": false,
     "input": [
      "'''\n",
      "pca2, pcaX = pcaStuff(trainX,trainY)\n",
      "with open(os.path.join(data_dir,\"Trained_PCA_All.p\"), 'wb') as pcafile:\n",
      "    pickle.dump(pca2, pcafile)\n",
      "print 'PCA Done!'\n",
      "'''"
     ],
     "language": "python",
     "metadata": {},
     "outputs": [
      {
       "output_type": "pyout",
       "prompt_number": 2,
       "text": [
        "'\\npca2, pcaX = pcaStuff(trainX,trainY)\\nwith open(os.path.join(data_dir,\"Trained_PCA_All.p\"), \\'wb\\') as pcafile:\\n    pickle.dump(pca2, pcafile)\\nprint \\'PCA Done!\\'\\n'"
       ]
      }
     ],
     "prompt_number": 2
    },
    {
     "cell_type": "code",
     "collapsed": false,
     "input": [
      "with open(os.path.join(data_dir,\"Trained_PCA_All.p\"), 'rb') as pcafile:\n",
      "    pca = pickle.load(pcafile)\n",
      "pcaX = pca.transform(trainX)"
     ],
     "language": "python",
     "metadata": {},
     "outputs": [],
     "prompt_number": 13
    },
    {
     "cell_type": "code",
     "collapsed": false,
     "input": [
      "#Code to transform augmentX, our solar intensity, to remove periodicity\n",
      "Ymax = augmentX.max()\n",
      "Ymin = augmentX.min()\n",
      "Ymean = augmentX.mean()\n",
      "solarScaled = (augmentX-Ymean)*(2e7)/(Ymax-Ymin)+(2.2e7)\n",
      "solarScaled2 = solarScaled\n",
      "\n",
      "\n",
      "'''\n",
      "plt.cla()\n",
      "plt.plot(augmentX[:,0], c='g')\n",
      "plt.plot(trainY[:,0], c='r')\n",
      "plt.plot(solarScaled[:,0], c='b')\n",
      "#plt.plot(solarScaled[:,0]-trainY[:,0])\n",
      "#solarScaled2 = (augmentX-Ymean)*(2e7)/(Ymax-Ymin)+(2.2e7)\n",
      "#plt.plot(solarScaled2[:,0]-trainY[:,0], c='r')\n",
      "plt.show()\n",
      "'''"
     ],
     "language": "python",
     "metadata": {},
     "outputs": [
      {
       "output_type": "pyout",
       "prompt_number": 9,
       "text": [
        "\"\\nplt.cla()\\nplt.plot(augmentX[:,0], c='g')\\nplt.plot(trainY[:,0], c='r')\\nplt.plot(solarScaled[:,0], c='b')\\n#plt.plot(solarScaled[:,0]-trainY[:,0])\\n#solarScaled2 = (augmentX-Ymean)*(2e7)/(Ymax-Ymin)+(2.2e7)\\n#plt.plot(solarScaled2[:,0]-trainY[:,0], c='r')\\nplt.show()\\n\""
       ]
      }
     ],
     "prompt_number": 9
    },
    {
     "cell_type": "code",
     "collapsed": false,
     "input": [
      "solarScaled = np.roll(solarScaled2, -12,axis=0)\n",
      "plt.cla()\n",
      "plt.plot(trainY[:,0], c='r')\n",
      "plt.plot(solarScaled[:,0], c='b')\n",
      "plt.show()"
     ],
     "language": "python",
     "metadata": {},
     "outputs": [],
     "prompt_number": 62
    },
    {
     "cell_type": "code",
     "collapsed": false,
     "input": [
      "'''\n",
      "Fit the Model with training data\n",
      "'''\n",
      "def fit_Model(trainX, trainY, model, N):\n",
      "    \n",
      "    print 'Finding best regularization value for alpha...'\n",
      "    #alphas = np.logspace(-3,1,8,base=10) # List of alphas to check\n",
      "    #alphas = np.linspace(.1,100,10)\n",
      "    alphas = [.001]\n",
      "    maes = []\n",
      "    for alpha in alphas:\n",
      "            model.alpha = alpha\n",
      "            mae = cv_loop(trainX,trainY,model,N)\n",
      "            maes.append(mae)\n",
      "            print 'alpha %.4f mae %.4f' % (alpha,mae)\n",
      "    best_alpha = alphas[np.argmin(maes)]\n",
      "    print 'Best alpha of %s with mean average error of %s' % (best_alpha,np.min(maes))\n",
      "    \n",
      "    print 'Fitting model with best alpha...'\n",
      "    model.alpha = best_alpha\n",
      "    model.fit(trainX,trainY)\n",
      "    \n",
      "    return model, np.min(maes)"
     ],
     "language": "python",
     "metadata": {},
     "outputs": [],
     "prompt_number": 32
    },
    {
     "cell_type": "code",
     "collapsed": false,
     "input": [
      "def fit_Phase(pcaX, solarScaled, trainY, model, N):\n",
      "    phases = range(-20,10,3)\n",
      "    maes = []    \n",
      "    for phase in phases:\n",
      "        solarScaled2 = np.roll(solarScaled, phase,axis=0)\n",
      "        expX = np.hstack((solarScaled2,pcaX))            #Should we stack the shifted function, Ymaxnew?\n",
      "        trainYD = trainY - solarScaled2\n",
      "        model, mae = fit_Model(expX, trainYD, model, N)   #This is on Ymaxnew, not trainYD?\n",
      "        maes.append(mae)\n",
      "    best_phases = phases[np.argmin(maes)]\n",
      "    \n",
      "    solarScaled2 = np.roll(solarScaled, best_phases,axis=0)\n",
      "    expX = np.hstack((solarScaled2,pcaX))            #Should we stack the shifted function, Ymaxnew?\n",
      "    model, mae = fit_Model(expX, trainYD, model, N)   #This is on Ymaxnew, not trainYD?\n",
      "    return model, best_phases"
     ],
     "language": "python",
     "metadata": {},
     "outputs": [],
     "prompt_number": 33
    },
    {
     "cell_type": "code",
     "collapsed": false,
     "input": [
      "def fit_Model2(model, N, trainX, trainY):\n",
      "    alphas = np.logspace(-3,1,8,base=10)\n",
      "    maes = []\n",
      "    for alpha in alphas:\n",
      "        try:\n",
      "            model.alpha = alpha\n",
      "            mae = cv_loop(trainX,trainY,model,N)\n",
      "            maes.append(mae)\n",
      "            print 'alpha %.4f mae %.4f' % (alpha,mae)\n",
      "        except:\n",
      "            continue\n",
      "    best_alpha = alphas[np.argmin(maes)]\n",
      "    \n",
      "    model.alpha = best_alpha    \n",
      "    model.fit(trainX,trainY)\n",
      "    \n",
      "    return model, np.min(maes)"
     ],
     "language": "python",
     "metadata": {},
     "outputs": [],
     "prompt_number": 34
    },
    {
     "cell_type": "code",
     "collapsed": false,
     "input": [
      "def fit_Phase2(model, N, pcaX, solarScaled, trainY):\n",
      "    phases =range(-20,20,1)\n",
      "    maes = []    \n",
      "    for phase in phases:\n",
      "        try:\n",
      "            print phase\n",
      "            solarScaled2 = np.roll(solarScaled, phase,axis=0)\n",
      "            expX = np.hstack((solarScaled2,pcaX))\n",
      "            trainYD = trainY - solarScaled2\n",
      "            model2, mae = fit_Model2(model, N, expX, trainYD)\n",
      "            maes.append(mae)\n",
      "        except:\n",
      "            continue\n",
      "    print 'YAAA'\n",
      "        \n",
      "    best_phase = phases[np.argmin(maes)]\n",
      "    solarScaled2 = np.roll(solarScaled, best_phase, axis=0)\n",
      "    expX = np.hstack((solarScaled2,pcaX))\n",
      "    model2.fit(expX,trainY)\n",
      "    return model, best_phase"
     ],
     "language": "python",
     "metadata": {},
     "outputs": [],
     "prompt_number": 35
    },
    {
     "cell_type": "code",
     "collapsed": false,
     "input": [
      "expX = np.hstack((solarScaled,pcaX))\n",
      "model = Ridge(alpha=.005,normalize=True)\n",
      "trainYD = trainY - solarScaled\n",
      "model = fit_Model(pcaX, trainY, model, N, )   #This is on Ymaxnew, not trainYD?\n",
      "#model, phase = fit_Phase(pcaX, solarScaled, trainY, model, N)\n",
      "#model, phase = fit_Phase2(model, N, pcaX, solarScaled, trainY)\n",
      "print 'Fit Done!'"
     ],
     "language": "python",
     "metadata": {},
     "outputs": [
      {
       "output_type": "stream",
       "stream": "stdout",
       "text": [
        "Finding best regularization value for alpha...\n",
        "MAE (fold 1/5): 2470142.512770"
       ]
      },
      {
       "output_type": "stream",
       "stream": "stdout",
       "text": [
        "\n",
        "MAE (fold 2/5): 2378239.820241"
       ]
      },
      {
       "output_type": "stream",
       "stream": "stdout",
       "text": [
        "\n",
        "MAE (fold 3/5): 2374944.583348"
       ]
      },
      {
       "output_type": "stream",
       "stream": "stdout",
       "text": [
        "\n",
        "MAE (fold 4/5): 2404239.817643"
       ]
      },
      {
       "output_type": "stream",
       "stream": "stdout",
       "text": [
        "\n",
        "MAE (fold 5/5): 2412696.962805"
       ]
      },
      {
       "output_type": "stream",
       "stream": "stdout",
       "text": [
        "\n",
        "alpha 0.0010 mae 2408052.7394\n",
        "Best alpha of 0.001 with mean average error of 2408052.73936\n",
        "Fitting model with best alpha...\n",
        "Fit Done!"
       ]
      },
      {
       "output_type": "stream",
       "stream": "stdout",
       "text": [
        "\n"
       ]
      }
     ],
     "prompt_number": 63
    },
    {
     "cell_type": "code",
     "collapsed": false,
     "input": [
      "import sklearn"
     ],
     "language": "python",
     "metadata": {},
     "outputs": []
    },
    {
     "cell_type": "code",
     "collapsed": false,
     "input": [
      "model = "
     ],
     "language": "python",
     "metadata": {},
     "outputs": [],
     "prompt_number": "*"
    },
    {
     "cell_type": "code",
     "collapsed": false,
     "input": [
      "deltaOutput = test_Model(expX, model)\n",
      "#finalOutput = solarScaled + deltaOutput\n",
      "finalOutput = deltaOutput"
     ],
     "language": "python",
     "metadata": {},
     "outputs": [
      {
       "ename": "AttributeError",
       "evalue": "'Ridge' object has no attribute 'coef_'",
       "output_type": "pyerr",
       "traceback": [
        "\u001b[0;31m---------------------------------------------------------------------------\u001b[0m\n\u001b[0;31mAttributeError\u001b[0m                            Traceback (most recent call last)",
        "\u001b[0;32m<ipython-input-57-bc8b6c875f40>\u001b[0m in \u001b[0;36m<module>\u001b[0;34m()\u001b[0m\n\u001b[0;32m----> 1\u001b[0;31m \u001b[0mdeltaOutput\u001b[0m \u001b[0;34m=\u001b[0m \u001b[0mtest_Model\u001b[0m\u001b[0;34m(\u001b[0m\u001b[0mexpX\u001b[0m\u001b[0;34m,\u001b[0m \u001b[0mmodel\u001b[0m\u001b[0;34m)\u001b[0m\u001b[0;34m\u001b[0m\u001b[0m\n\u001b[0m\u001b[1;32m      2\u001b[0m \u001b[0;31m#finalOutput = solarScaled + deltaOutput\u001b[0m\u001b[0;34m\u001b[0m\u001b[0;34m\u001b[0m\u001b[0m\n\u001b[1;32m      3\u001b[0m \u001b[0mfinalOutput\u001b[0m \u001b[0;34m=\u001b[0m \u001b[0mdeltaOutput\u001b[0m\u001b[0;34m\u001b[0m\u001b[0m\n",
        "\u001b[0;32m/home/rox/Desktop/CS6601P2/Code/Python/SolarDefs.pyc\u001b[0m in \u001b[0;36mtest_Model\u001b[0;34m(testX, model)\u001b[0m\n\u001b[1;32m    161\u001b[0m \u001b[0;34m\u001b[0m\u001b[0m\n\u001b[1;32m    162\u001b[0m     \u001b[0;32mprint\u001b[0m \u001b[0;34m'Predicting...'\u001b[0m\u001b[0;34m\u001b[0m\u001b[0m\n\u001b[0;32m--> 163\u001b[0;31m     \u001b[0mpreds\u001b[0m \u001b[0;34m=\u001b[0m \u001b[0mmodel\u001b[0m\u001b[0;34m.\u001b[0m\u001b[0mpredict\u001b[0m\u001b[0;34m(\u001b[0m\u001b[0mtestX\u001b[0m\u001b[0;34m)\u001b[0m\u001b[0;34m\u001b[0m\u001b[0m\n\u001b[0m\u001b[1;32m    164\u001b[0m \u001b[0;34m\u001b[0m\u001b[0m\n\u001b[1;32m    165\u001b[0m     \u001b[0;32mreturn\u001b[0m \u001b[0mpreds\u001b[0m\u001b[0;34m\u001b[0m\u001b[0m\n",
        "\u001b[0;32m/usr/lib/pymodules/python2.7/sklearn/linear_model/base.pyc\u001b[0m in \u001b[0;36mpredict\u001b[0;34m(self, X)\u001b[0m\n\u001b[1;32m    152\u001b[0m             \u001b[0mReturns\u001b[0m \u001b[0mpredicted\u001b[0m \u001b[0mvalues\u001b[0m\u001b[0;34m.\u001b[0m\u001b[0;34m\u001b[0m\u001b[0m\n\u001b[1;32m    153\u001b[0m         \"\"\"\n\u001b[0;32m--> 154\u001b[0;31m         \u001b[0;32mreturn\u001b[0m \u001b[0mself\u001b[0m\u001b[0;34m.\u001b[0m\u001b[0mdecision_function\u001b[0m\u001b[0;34m(\u001b[0m\u001b[0mX\u001b[0m\u001b[0;34m)\u001b[0m\u001b[0;34m\u001b[0m\u001b[0m\n\u001b[0m\u001b[1;32m    155\u001b[0m \u001b[0;34m\u001b[0m\u001b[0m\n\u001b[1;32m    156\u001b[0m     \u001b[0m_center_data\u001b[0m \u001b[0;34m=\u001b[0m \u001b[0mstaticmethod\u001b[0m\u001b[0;34m(\u001b[0m\u001b[0mcenter_data\u001b[0m\u001b[0;34m)\u001b[0m\u001b[0;34m\u001b[0m\u001b[0m\n",
        "\u001b[0;32m/usr/lib/pymodules/python2.7/sklearn/linear_model/base.pyc\u001b[0m in \u001b[0;36mdecision_function\u001b[0;34m(self, X)\u001b[0m\n\u001b[1;32m    138\u001b[0m         \"\"\"\n\u001b[1;32m    139\u001b[0m         \u001b[0mX\u001b[0m \u001b[0;34m=\u001b[0m \u001b[0msafe_asarray\u001b[0m\u001b[0;34m(\u001b[0m\u001b[0mX\u001b[0m\u001b[0;34m)\u001b[0m\u001b[0;34m\u001b[0m\u001b[0m\n\u001b[0;32m--> 140\u001b[0;31m         \u001b[0;32mreturn\u001b[0m \u001b[0msafe_sparse_dot\u001b[0m\u001b[0;34m(\u001b[0m\u001b[0mX\u001b[0m\u001b[0;34m,\u001b[0m \u001b[0mself\u001b[0m\u001b[0;34m.\u001b[0m\u001b[0mcoef_\u001b[0m\u001b[0;34m.\u001b[0m\u001b[0mT\u001b[0m\u001b[0;34m)\u001b[0m \u001b[0;34m+\u001b[0m \u001b[0mself\u001b[0m\u001b[0;34m.\u001b[0m\u001b[0mintercept_\u001b[0m\u001b[0;34m\u001b[0m\u001b[0m\n\u001b[0m\u001b[1;32m    141\u001b[0m \u001b[0;34m\u001b[0m\u001b[0m\n\u001b[1;32m    142\u001b[0m     \u001b[0;32mdef\u001b[0m \u001b[0mpredict\u001b[0m\u001b[0;34m(\u001b[0m\u001b[0mself\u001b[0m\u001b[0;34m,\u001b[0m \u001b[0mX\u001b[0m\u001b[0;34m)\u001b[0m\u001b[0;34m:\u001b[0m\u001b[0;34m\u001b[0m\u001b[0m\n",
        "\u001b[0;31mAttributeError\u001b[0m: 'Ridge' object has no attribute 'coef_'"
       ]
      },
      {
       "output_type": "stream",
       "stream": "stdout",
       "text": [
        "Predicting...\n"
       ]
      }
     ],
     "prompt_number": 57
    },
    {
     "cell_type": "code",
     "collapsed": false,
     "input": [
      "plt.cla()\n",
      "plt.plot(trainY[:,0], c='r')\n",
      "#plt.plot(deltaOutput[:,0],c='r')\n",
      "#plt.plot(deltaOutput[:,0],c='g')\n",
      "plt.plot(finalOutput[:,0],c='b')\n",
      "#plt.plot(solarScaled[:,0], c='b')\n",
      "plt.show()"
     ],
     "language": "python",
     "metadata": {},
     "outputs": [],
     "prompt_number": "*"
    },
    {
     "cell_type": "code",
     "collapsed": false,
     "input": [
      "'''\n",
      "testInput = load_Testing_Data(data_dir,files_to_use)\n",
      "pcatestInput = pca.transform(testInput)\n",
      "testInputS = np.hstack((solarScaled,pcaX)) \n",
      "deltaOutput = test_Model(testInputS, model)\n",
      "finalOutput = solarScaled + deltaOutput\n",
      "print 'Test Done!'"
     ],
     "language": "python",
     "metadata": {},
     "outputs": [
      {
       "ename": "SyntaxError",
       "evalue": "EOF while scanning triple-quoted string literal (<ipython-input-10-5aa74b0c1d0e>, line 7)",
       "output_type": "pyerr",
       "traceback": [
        "\u001b[0;36m  File \u001b[0;32m\"<ipython-input-10-5aa74b0c1d0e>\"\u001b[0;36m, line \u001b[0;32m7\u001b[0m\n\u001b[0;31m    '''\ntestInput = load_Testing_Data(data_dir,files_to_use)\npcatestInput = pca.transform(testInput)\ntestInputS = np.hstack((solarScaled,pcaX)) \ndeltaOutput = test_Model(testInputS, model)\nfinalOutput = solarScaled + deltaOutput\nprint 'Test Done!'\u001b[0m\n\u001b[0m       \n                                                    \n                                       \n                                           \n                                           \n                                       \n                  ^\u001b[0m\n\u001b[0;31mSyntaxError\u001b[0m\u001b[0;31m:\u001b[0m EOF while scanning triple-quoted string literal\n"
       ]
      }
     ],
     "prompt_number": 10
    },
    {
     "cell_type": "code",
     "collapsed": false,
     "input": [
      "print 'Saving to csv...'\n",
      "#We need to generate a prediction of actual value, not just delta\n",
      "save_submission(finalOutput,submit_name,data_dir)"
     ],
     "language": "python",
     "metadata": {},
     "outputs": []
    },
    {
     "cell_type": "code",
     "collapsed": false,
     "input": [
      "def main(data_dir='./data/',N=10,cv_test_size=0.2,files_to_use='all',submit_name='submission.csv'):\n",
      "    pca, pcaX = pcaStuff(trainX,trainY)\n",
      "    print 'PCA Done!'\n",
      "    expX = np.hstack((augmentX,pcaX))            #Should we stack the shifted function, Ymaxnew?\n",
      "    model = Ridge(normalize=True)\n",
      "    trainYD = augmentX - trainY\n",
      "    model = fit_Model(expX, Ymaxnew, model, N)   #This is on Ymaxnew, not trainYD?\n",
      "    print 'Fit Done!'\n",
      "\n",
      "    testInput = load_Testing_Data(data_dir,files_to_use)\n",
      "    pcatestInput = pca.transform(testInput)\n",
      "    testOutput = test_Model(pcatestInput, model)\n",
      "    print 'Test Done!'\n",
      "\n",
      "    print 'Saving to csv...'\n",
      "    #We need to generate a prediction of actual value, not just delta\n",
      "    save_submission(prediction,submit_name,data_dir)"
     ],
     "language": "python",
     "metadata": {},
     "outputs": []
    },
    {
     "cell_type": "code",
     "collapsed": false,
     "input": [
      "#main(**args)"
     ],
     "language": "python",
     "metadata": {},
     "outputs": []
    }
   ],
   "metadata": {}
  }
 ]
}