{
 "metadata": {
  "name": "ImporSample2"
 },
 "nbformat": 3,
 "nbformat_minor": 0,
 "worksheets": [
  {
   "cells": [
    {
     "cell_type": "code",
     "collapsed": false,
     "input": "from SolarDefs import * ",
     "language": "python",
     "metadata": {},
     "outputs": [],
     "prompt_number": 10
    },
    {
     "cell_type": "code",
     "collapsed": false,
     "input": "times, trainX, trainY, augmentX = load_Training_Data(data_dir,files_to_use)",
     "language": "python",
     "metadata": {},
     "outputs": [
      {
       "output_type": "stream",
       "stream": "stdout",
       "text": "Loading training data...\nloading dswrf_sfc\nthis is the path:  /media/Data/Project Data/Solar Energy/train/dswrf_sfc_latlon_subset_19940101_20071231.nc\nloading"
      },
      {
       "output_type": "stream",
       "stream": "stdout",
       "text": " dlwrf_sfc\nthis is the path:  /media/Data/Project Data/Solar Energy/train/dlwrf_sfc_latlon_subset_19940101_20071231.nc\nloading"
      },
      {
       "output_type": "stream",
       "stream": "stdout",
       "text": " uswrf_sfc\nthis is the path:  /media/Data/Project Data/Solar Energy/train/uswrf_sfc_latlon_subset_19940101_20071231.nc\nloading"
      },
      {
       "output_type": "stream",
       "stream": "stdout",
       "text": " ulwrf_sfc\nthis is the path:  /media/Data/Project Data/Solar Energy/train/ulwrf_sfc_latlon_subset_19940101_20071231.nc\nloading"
      },
      {
       "output_type": "stream",
       "stream": "stdout",
       "text": " ulwrf_tatm\nthis is the path:  /media/Data/Project Data/Solar Energy/train/ulwrf_tatm_latlon_subset_19940101_20071231.nc\nloading"
      },
      {
       "output_type": "stream",
       "stream": "stdout",
       "text": " pwat_eatm\nthis is the path:  /media/Data/Project Data/Solar Energy/train/pwat_eatm_latlon_subset_19940101_20071231.nc\nloading"
      },
      {
       "output_type": "stream",
       "stream": "stdout",
       "text": " tcdc_eatm\nthis is the path:  /media/Data/Project Data/Solar Energy/train/tcdc_eatm_latlon_subset_19940101_20071231.nc\nloading"
      },
      {
       "output_type": "stream",
       "stream": "stdout",
       "text": " apcp_sfc\nthis is the path:  /media/Data/Project Data/Solar Energy/train/apcp_sfc_latlon_subset_19940101_20071231.nc\nloading"
      },
      {
       "output_type": "stream",
       "stream": "stdout",
       "text": " pres_msl\nthis is the path:  /media/Data/Project Data/Solar Energy/train/pres_msl_latlon_subset_19940101_20071231.nc\nloading"
      },
      {
       "output_type": "stream",
       "stream": "stdout",
       "text": " spfh_2m\nthis is the path:  /media/Data/Project Data/Solar Energy/train/spfh_2m_latlon_subset_19940101_20071231.nc\nloading"
      },
      {
       "output_type": "stream",
       "stream": "stdout",
       "text": " tcolc_eatm\nthis is the path:  /media/Data/Project Data/Solar Energy/train/tcolc_eatm_latlon_subset_19940101_20071231.nc\nloading"
      },
      {
       "output_type": "stream",
       "stream": "stdout",
       "text": " tmax_2m\nthis is the path:  /media/Data/Project Data/Solar Energy/train/tmax_2m_latlon_subset_19940101_20071231.nc\nloading"
      },
      {
       "output_type": "stream",
       "stream": "stdout",
       "text": " tmin_2m\nthis is the path:  /media/Data/Project Data/Solar Energy/train/tmin_2m_latlon_subset_19940101_20071231.nc\nloading"
      },
      {
       "output_type": "stream",
       "stream": "stdout",
       "text": " tmp_2m\nthis is the path:  /media/Data/Project Data/Solar Energy/train/tmp_2m_latlon_subset_19940101_20071231.nc\nloading"
      },
      {
       "output_type": "stream",
       "stream": "stdout",
       "text": " tmp_sfc\nthis is the path:  /media/Data/Project Data/Solar Energy/train/tmp_sfc_latlon_subset_19940101_20071231.nc\nTraining data shape"
      },
      {
       "output_type": "stream",
       "stream": "stdout",
       "text": " (5113, 3000) (5113, 98)\n"
      }
     ],
     "prompt_number": 14
    },
    {
     "cell_type": "code",
     "collapsed": false,
     "input": "#Code to transform augmentX, our solar intensity, to remove periodicity\n",
     "language": "python",
     "metadata": {},
     "outputs": []
    },
    {
     "cell_type": "code",
     "collapsed": false,
     "input": "def main(data_dir='./data/',N=10,cv_test_size=0.2,files_to_use='all',submit_name='submission.csv'):\n    pca, pcaX = pcaStuff(trainX,trainY)\n    print 'PCA Done!'\n    expX = np.hstack((augmentX,pcaX))            #Should we stack the shifted function, Ymaxnew?\n    model = Ridge(normalize=True)\n    trainYD = augmentX - trainY\n    model = fit_Model(expX, Ymaxnew, model, N)   #This is on Ymaxnew, not trainYD?\n    print 'Fit Done!'\n\n    testInput = load_Testing_Data(data_dir,files_to_use)\n    pcatestInput = pca.transform(testInput)\n    testOutput = test_Model(pcatestInput, model)\n    print 'Test Done!'\n\n    print 'Saving to csv...'\n    #We need to generate a prediction of actual value, not just delta\n    save_submission(prediction,submit_name,data_dir)",
     "language": "python",
     "metadata": {},
     "outputs": [],
     "prompt_number": 11
    },
    {
     "cell_type": "code",
     "collapsed": false,
     "input": "from SolarDirectories import data_dir # = '/media/Data/Project Data/Solar Energy/' # Set to your data directory assumes all data is in there - no nesting\nN = 5 # Amount of CV folds\ncv_test_size = 0.2 # Test split size in cv\nfiles_to_use = 'all' # Choices for files_to_use: the string all, or a list of strings corresponding to the unique part of a GEFS filename\nsubmit_name = 'submission_mod_whours.csv'\nargs = { 'N': N, 'cv_test_size': cv_test_size,'files_to_use': files_to_use, 'submit_name': submit_name}",
     "language": "python",
     "metadata": {},
     "outputs": [],
     "prompt_number": 13
    },
    {
     "cell_type": "code",
     "collapsed": false,
     "input": "main(**args)",
     "language": "python",
     "metadata": {},
     "outputs": [
      {
       "ename": "NameError",
       "evalue": "global name 'Ymaxnew' is not defined",
       "output_type": "pyerr",
       "traceback": [
        "\u001b[1;31m---------------------------------------------------------------------------\u001b[0m\n\u001b[1;31mNameError\u001b[0m                                 Traceback (most recent call last)",
        "\u001b[1;32m<ipython-input-15-9fd72f8677d2>\u001b[0m in \u001b[0;36m<module>\u001b[1;34m()\u001b[0m\n\u001b[1;32m----> 1\u001b[1;33m \u001b[0mmain\u001b[0m\u001b[1;33m(\u001b[0m\u001b[1;33m**\u001b[0m\u001b[0margs\u001b[0m\u001b[1;33m)\u001b[0m\u001b[1;33m\u001b[0m\u001b[0m\n\u001b[0m",
        "\u001b[1;32m<ipython-input-11-486fd31a4417>\u001b[0m in \u001b[0;36mmain\u001b[1;34m(data_dir, N, cv_test_size, files_to_use, submit_name)\u001b[0m\n\u001b[0;32m      5\u001b[0m     \u001b[0mmodel\u001b[0m \u001b[1;33m=\u001b[0m \u001b[0mRidge\u001b[0m\u001b[1;33m(\u001b[0m\u001b[0mnormalize\u001b[0m\u001b[1;33m=\u001b[0m\u001b[0mTrue\u001b[0m\u001b[1;33m)\u001b[0m\u001b[1;33m\u001b[0m\u001b[0m\n\u001b[0;32m      6\u001b[0m     \u001b[0mtrainYD\u001b[0m \u001b[1;33m=\u001b[0m \u001b[0maugmentX\u001b[0m \u001b[1;33m-\u001b[0m \u001b[0mtrainY\u001b[0m\u001b[1;33m\u001b[0m\u001b[0m\n\u001b[1;32m----> 7\u001b[1;33m     \u001b[0mmodel\u001b[0m \u001b[1;33m=\u001b[0m \u001b[0mfit_Model\u001b[0m\u001b[1;33m(\u001b[0m\u001b[0mexpX\u001b[0m\u001b[1;33m,\u001b[0m \u001b[0mYmaxnew\u001b[0m\u001b[1;33m,\u001b[0m \u001b[0mmodel\u001b[0m\u001b[1;33m,\u001b[0m \u001b[0mN\u001b[0m\u001b[1;33m)\u001b[0m\u001b[1;33m\u001b[0m\u001b[0m\n\u001b[0m\u001b[0;32m      8\u001b[0m     \u001b[1;32mprint\u001b[0m \u001b[1;34m'Fit Done!'\u001b[0m\u001b[1;33m\u001b[0m\u001b[0m\n\u001b[0;32m      9\u001b[0m \u001b[1;33m\u001b[0m\u001b[0m\n",
        "\u001b[1;31mNameError\u001b[0m: global name 'Ymaxnew' is not defined"
       ]
      },
      {
       "output_type": "stream",
       "stream": "stdout",
       "text": "PCA Done!\n"
      }
     ],
     "prompt_number": 15
    },
    {
     "cell_type": "code",
     "collapsed": false,
     "input": "",
     "language": "python",
     "metadata": {},
     "outputs": []
    }
   ],
   "metadata": {}
  }
 ]
}
