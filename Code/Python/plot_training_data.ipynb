{
 "metadata": {
  "name": ""
 },
 "nbformat": 3,
 "nbformat_minor": 0,
 "worksheets": [
  {
   "cells": [
    {
     "cell_type": "code",
     "collapsed": false,
     "input": [
      "import numpy as np\n",
      "import netCDF4 as nc\n",
      "import matplotlib.pyplot as plt\n",
      "import matplotlib.animation as animation\n",
      "from numpy import genfromtxt\n",
      "from mpl_toolkits.basemap import Basemap, cm\n",
      "from datetime import datetime\n",
      "\n",
      "root_folder = '/media/Data/Project Data/Solar Energy/'\n",
      "train_folder = 'gefs_train/train/'\n",
      "gefs_data = nc.Dataset(root_folder + train_folder + 'tcdc_eatm_latlon_subset_19940101_20071231.nc')\n",
      "\n",
      "mesonet_stations = genfromtxt(root_folder + 'station_info.csv', delimiter=',')\n",
      "mesonet_data = genfromtxt(root_folder + 'train.csv', delimiter=',')"
     ],
     "language": "python",
     "metadata": {},
     "outputs": [],
     "prompt_number": 12
    },
    {
     "cell_type": "code",
     "collapsed": false,
     "input": [
      "for v in gefs_data.variables.keys():\n",
      "    print v"
     ],
     "language": "python",
     "metadata": {},
     "outputs": [
      {
       "output_type": "stream",
       "stream": "stdout",
       "text": [
        "time\n",
        "intTime\n",
        "lat\n",
        "lon\n",
        "ens\n",
        "fhour\n",
        "intValidTime\n",
        "Total_cloud_cover\n"
       ]
      }
     ],
     "prompt_number": 4
    },
    {
     "cell_type": "code",
     "collapsed": false,
     "input": [
      "gefs_clouds = gefs_data.variables.values()[-1]"
     ],
     "language": "python",
     "metadata": {},
     "outputs": [],
     "prompt_number": 5
    },
    {
     "cell_type": "code",
     "collapsed": false,
     "input": [
      "gefs_lat = gefs_data.variables['lat'][:]\n",
      "gefs_lon = gefs_data.variables['lon'][:]-360\n",
      "\n",
      "gefs_grid = numpy.meshgrid(gefs_lat[:],gefs_lon[:])"
     ],
     "language": "python",
     "metadata": {},
     "outputs": [],
     "prompt_number": 7
    },
    {
     "cell_type": "code",
     "collapsed": false,
     "input": [
      "mesonet_lat = mesonet_stations[:,1]\n",
      "mesonet_lon = mesonet_stations[:,2]"
     ],
     "language": "python",
     "metadata": {},
     "outputs": [],
     "prompt_number": 25
    },
    {
     "cell_type": "code",
     "collapsed": false,
     "input": [
      "fig = plt.figure(figsize=(8,8))\n",
      "m = Basemap(projection='stere', \\\n",
      "            lat_0=90., lon_0=gefs_lon[size(gefs_lon)/2], \\\n",
      "            llcrnrlat=gefs_lat[0]-2, urcrnrlat=gefs_lat[-1]+2, \\\n",
      "            llcrnrlon=gefs_lon[0]-1, urcrnrlon=gefs_lon[-1]+4, \\\n",
      "            rsphere=6371200., resolution='l', area_thresh=10000)\n",
      "\n",
      "# draw state and country boundaries, edge of map.\n",
      "m.drawstates()\n",
      "m.drawcountries()\n",
      "# draw parallels.\n",
      "parallels = np.arange(0.,90,10.)\n",
      "m.drawparallels(parallels,labels=[1,0,0,0],fontsize=10)\n",
      "# draw meridians\n",
      "meridians = np.arange(180.,360.,10.)\n",
      "m.drawmeridians(meridians,labels=[0,0,0,1],fontsize=10)\n",
      "\n",
      "def animate(i):\n",
      "    h = i % 5\n",
      "    d = i / 5\n",
      "    \n",
      "    m.scatter(mesonet_lon,mesonet_lat, s=50, c=mesonet_data[d+1,:], latlon=True)\n",
      "    m.scatter(gefs_grid[1][:],gefs_grid[0][:],s=75,c=gefs_clouds[d,0,h,:,:],latlon=True)\n",
      "    \n",
      "    plt.title('Where the wind comes sweeping down the plains')\n",
      "    plt.show()\n",
      "    return"
     ],
     "language": "python",
     "metadata": {},
     "outputs": [],
     "prompt_number": 37
    },
    {
     "cell_type": "code",
     "collapsed": false,
     "input": [
      "#fig, ax = plt.subplots()\n",
      "anim = animation.FuncAnimation(fig, animate, frames=50, interval=250)"
     ],
     "language": "python",
     "metadata": {},
     "outputs": [],
     "prompt_number": 38
    },
    {
     "cell_type": "code",
     "collapsed": false,
     "input": [],
     "language": "python",
     "metadata": {},
     "outputs": [],
     "prompt_number": 79
    }
   ],
   "metadata": {}
  }
 ]
}