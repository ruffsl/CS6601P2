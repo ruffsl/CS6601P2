{
 "metadata": {
  "name": "SubSolar"
 },
 "nbformat": 3,
 "nbformat_minor": 0,
 "worksheets": [
  {
   "cells": [
    {
     "cell_type": "code",
     "collapsed": false,
     "input": [
      "from SolarDefs import *\n",
      "import cPickle as pickle\n",
      "from sklearn import svm"
     ],
     "language": "python",
     "metadata": {},
     "outputs": [],
     "prompt_number": 132
    },
    {
     "cell_type": "code",
     "collapsed": false,
     "input": [
      "data_dir = \"/home/rox/Code/CS6601P2/Data/\""
     ],
     "language": "python",
     "metadata": {},
     "outputs": [],
     "prompt_number": 2
    },
    {
     "cell_type": "code",
     "collapsed": false,
     "input": [
      "#from SolarDirectories import data_dir # = '/media/Data/Project Data/Solar Energy/' \n",
      "# Set to your data directory assumes all data is in there - no nesting\n",
      "N = 5 # Amount of CV folds\n",
      "cv_test_size = 0.2 # Test split size in cv\n",
      "files_to_use = 'all' # Choices for files_to_use: the string all, or a list of strings corresponding to the unique part of a GEFS filename\n",
      "submit_name = 'submission_mod_whours.csv'\n",
      "args = { 'N': N, 'cv_test_size': cv_test_size,'files_to_use': files_to_use, 'submit_name': submit_name}"
     ],
     "language": "python",
     "metadata": {},
     "outputs": [],
     "prompt_number": 3
    },
    {
     "cell_type": "code",
     "collapsed": false,
     "input": [
      "trainT, trainX, trainY, augmentX = load_Training_Data(data_dir,files_to_use)"
     ],
     "language": "python",
     "metadata": {},
     "outputs": [
      {
       "output_type": "stream",
       "stream": "stdout",
       "text": [
        "Loading training data...\n",
        "loading dswrf_sfc\n",
        "this is the path:  /home/rox/Code/CS6601P2/Data/train/dswrf_sfc_latlon_subset_19940101_20071231.nc\n",
        "loading"
       ]
      },
      {
       "output_type": "stream",
       "stream": "stdout",
       "text": [
        " dlwrf_sfc\n",
        "this is the path:  /home/rox/Code/CS6601P2/Data/train/dlwrf_sfc_latlon_subset_19940101_20071231.nc\n",
        "loading"
       ]
      },
      {
       "output_type": "stream",
       "stream": "stdout",
       "text": [
        " uswrf_sfc\n",
        "this is the path:  /home/rox/Code/CS6601P2/Data/train/uswrf_sfc_latlon_subset_19940101_20071231.nc\n",
        "loading"
       ]
      },
      {
       "output_type": "stream",
       "stream": "stdout",
       "text": [
        " ulwrf_sfc\n",
        "this is the path:  /home/rox/Code/CS6601P2/Data/train/ulwrf_sfc_latlon_subset_19940101_20071231.nc\n",
        "loading"
       ]
      },
      {
       "output_type": "stream",
       "stream": "stdout",
       "text": [
        " ulwrf_tatm\n",
        "this is the path:  /home/rox/Code/CS6601P2/Data/train/ulwrf_tatm_latlon_subset_19940101_20071231.nc\n",
        "loading"
       ]
      },
      {
       "output_type": "stream",
       "stream": "stdout",
       "text": [
        " pwat_eatm\n",
        "this is the path:  /home/rox/Code/CS6601P2/Data/train/pwat_eatm_latlon_subset_19940101_20071231.nc\n",
        "loading"
       ]
      },
      {
       "output_type": "stream",
       "stream": "stdout",
       "text": [
        " tcdc_eatm\n",
        "this is the path:  /home/rox/Code/CS6601P2/Data/train/tcdc_eatm_latlon_subset_19940101_20071231.nc\n",
        "loading"
       ]
      },
      {
       "output_type": "stream",
       "stream": "stdout",
       "text": [
        " apcp_sfc\n",
        "this is the path:  /home/rox/Code/CS6601P2/Data/train/apcp_sfc_latlon_subset_19940101_20071231.nc\n",
        "loading"
       ]
      },
      {
       "output_type": "stream",
       "stream": "stdout",
       "text": [
        " pres_msl\n",
        "this is the path:  /home/rox/Code/CS6601P2/Data/train/pres_msl_latlon_subset_19940101_20071231.nc\n",
        "loading"
       ]
      },
      {
       "output_type": "stream",
       "stream": "stdout",
       "text": [
        " spfh_2m\n",
        "this is the path:  /home/rox/Code/CS6601P2/Data/train/spfh_2m_latlon_subset_19940101_20071231.nc\n",
        "loading"
       ]
      },
      {
       "output_type": "stream",
       "stream": "stdout",
       "text": [
        " tcolc_eatm\n",
        "this is the path:  /home/rox/Code/CS6601P2/Data/train/tcolc_eatm_latlon_subset_19940101_20071231.nc\n",
        "loading"
       ]
      },
      {
       "output_type": "stream",
       "stream": "stdout",
       "text": [
        " tmax_2m\n",
        "this is the path:  /home/rox/Code/CS6601P2/Data/train/tmax_2m_latlon_subset_19940101_20071231.nc\n",
        "loading"
       ]
      },
      {
       "output_type": "stream",
       "stream": "stdout",
       "text": [
        " tmin_2m\n",
        "this is the path:  /home/rox/Code/CS6601P2/Data/train/tmin_2m_latlon_subset_19940101_20071231.nc\n",
        "loading"
       ]
      },
      {
       "output_type": "stream",
       "stream": "stdout",
       "text": [
        " tmp_2m\n",
        "this is the path:  /home/rox/Code/CS6601P2/Data/train/tmp_2m_latlon_subset_19940101_20071231.nc\n",
        "loading"
       ]
      },
      {
       "output_type": "stream",
       "stream": "stdout",
       "text": [
        " tmp_sfc\n",
        "this is the path:  /home/rox/Code/CS6601P2/Data/train/tmp_sfc_latlon_subset_19940101_20071231.nc\n",
        "Training data shape"
       ]
      },
      {
       "output_type": "stream",
       "stream": "stdout",
       "text": [
        " (5113, 10800) (5113, 98)\n"
       ]
      }
     ],
     "prompt_number": 4
    },
    {
     "cell_type": "code",
     "collapsed": false,
     "input": [
      "with open(os.path.join(data_dir,\"Trained_PCA_All.p\"), 'rb') as pcafile:\n",
      "    pca = pickle.load(pcafile)\n",
      "trainX_PCA = pca.transform(trainX)"
     ],
     "language": "python",
     "metadata": {},
     "outputs": [],
     "prompt_number": 5
    },
    {
     "cell_type": "raw",
     "metadata": {},
     "source": [
      "#Code to transform augmentX, our solar intensity, to remove periodicity\n",
      "Ymax = augmentX.max()\n",
      "Ymin = augmentX.min()\n",
      "Ymean = augmentX.mean()\n",
      "solarScaled = (augmentX-Ymean)*(2e7)/(Ymax-Ymin)+(2.2e7)\n",
      "solarScaled2 = solarScaled\n",
      "\n",
      "solarScaled = np.roll(solarScaled2, -12,axis=0)\n",
      "plt.cla()\n",
      "plt.plot(trainY[:,0], c='r')\n",
      "plt.plot(solarScaled[:,0], c='b')\n",
      "plt.show()"
     ]
    },
    {
     "cell_type": "code",
     "collapsed": false,
     "input": [
      "def fit_Model(X, Y, model, N):\n",
      "    alphas = np.logspace(-3,1,8,base=10)\n",
      "    maes = []\n",
      "    for alpha in alphas:\n",
      "        try:\n",
      "            model.alpha = alpha\n",
      "            mae = cv_loop(X,Y,model,N)\n",
      "            maes.append(mae)\n",
      "            print 'alpha %.4f mae %.4f' % (alpha,mae)\n",
      "        except:\n",
      "            continue\n",
      "    best_alpha = alphas[np.argmin(maes)]\n",
      "    print 'Best alpha %.4f mae %.4f' % (best_alpha, min(maes))\n",
      "    \n",
      "    model.alpha = best_alpha\n",
      "    model.fit(X,Y)\n",
      "    \n",
      "    return model"
     ],
     "language": "python",
     "metadata": {},
     "outputs": [],
     "prompt_number": 136
    },
    {
     "cell_type": "code",
     "collapsed": false,
     "input": [
      "def getSplits(n, T, X, Y=None):\n",
      "    if (Y==None):\n",
      "        Y=X\n",
      "    nDev = 365/(n)\n",
      "    trainT_splits = [[] for x in xrange(n)] \n",
      "    trainX_splits = [[] for x in xrange(n)] \n",
      "    trainY_splits = [[] for x in xrange(n)] \n",
      "    for i, time in enumerate(T):\n",
      "        date = datetime.datetime.strptime(str(time),'%Y%m%d%H')\n",
      "        dayNum = date.timetuple().tm_yday\n",
      "        trainT_splits[dayNum/nDev-1].append(date)\n",
      "        trainX_splits[dayNum/nDev-1].append(X[i])\n",
      "        trainY_splits[dayNum/nDev-1].append(Y[i])\n",
      "    return trainT_splits, trainX_splits, trainY_splits\n",
      "    \n",
      "def fitSplits(X, Y, model, N):\n",
      "    models = []\n",
      "    maes = []\n",
      "    for i, [x, y] in enumerate(zip(X, Y)):\n",
      "        print 'Fitting split: ', i\n",
      "        models.append(fit_Model(x, y, model, N))\n",
      "    return models\n",
      "\n",
      "def testSplits(X, models):\n",
      "    Y = [[] for x in xrange(len(X))]\n",
      "    for i, [x, model] in enumerate(zip(X, models)):\n",
      "        y = model.predict(x)\n",
      "        Y[i].append(y)\n",
      "    return Y"
     ],
     "language": "python",
     "metadata": {},
     "outputs": [],
     "prompt_number": 137
    },
    {
     "cell_type": "code",
     "collapsed": false,
     "input": [
      "trainT_splits, trainX_splits, trainY_splits = getSplits(12, trainT, trainX_PCA, trainY)\n",
      "model = Ridge(alpha=.005,normalize=True)\n",
      "models = fitSplits(trainX_splits, trainY_splits, model, N)"
     ],
     "language": "python",
     "metadata": {},
     "outputs": [
      {
       "output_type": "stream",
       "stream": "stdout",
       "text": [
        "Fitting split:  0\n",
        "MAE (fold 1/5): 2181693.939788\n",
        "MAE (fold 2/5): 2066463.112125\n",
        "MAE (fold 3/5): 2308651.509764\n",
        "MAE (fold 4/5): 2203835.338424"
       ]
      },
      {
       "output_type": "stream",
       "stream": "stdout",
       "text": [
        "\n",
        "MAE (fold 5/5): 2367829.205020\n",
        "alpha 0.0010 mae 2225694.6210\n",
        "MAE (fold 1/5): 2168332.026907\n",
        "MAE (fold 2/5): 2052476.919919\n",
        "MAE (fold 3/5): 2314820.115503"
       ]
      },
      {
       "output_type": "stream",
       "stream": "stdout",
       "text": [
        "\n",
        "MAE (fold 4/5): 2186507.487498\n",
        "MAE (fold 5/5): 2372155.701555\n",
        "alpha 0.0037 mae 2218858.4503\n",
        "MAE (fold 1/5): 2154022.198626\n",
        "MAE (fold 2/5): 2045327.341432"
       ]
      },
      {
       "output_type": "stream",
       "stream": "stdout",
       "text": [
        "\n",
        "MAE (fold 3/5): 2336341.047503\n",
        "MAE (fold 4/5): 2168473.690478\n",
        "MAE (fold 5/5): 2386373.986999\n",
        "alpha 0.0139 mae 2218107.6530\n",
        "MAE (fold 1/5): 2169238.340510"
       ]
      },
      {
       "output_type": "stream",
       "stream": "stdout",
       "text": [
        "\n",
        "MAE (fold 2/5): 2078692.885528\n",
        "MAE (fold 3/5): 2380408.574392\n",
        "MAE (fold 4/5): 2166287.833271\n",
        "MAE (fold 5/5): 2396328.369693"
       ]
      },
      {
       "output_type": "stream",
       "stream": "stdout",
       "text": [
        "\n",
        "alpha 0.0518 mae 2238191.2007\n",
        "MAE (fold 1/5): 2292264.682329\n",
        "MAE (fold 2/5): 2228296.259144\n",
        "MAE (fold 3/5): 2513930.745477\n",
        "MAE (fold 4/5): 2210553.238317"
       ]
      },
      {
       "output_type": "stream",
       "stream": "stdout",
       "text": [
        "\n",
        "MAE (fold 5/5): 2442559.848200\n",
        "alpha 0.1931 mae 2337520.9547\n",
        "MAE (fold 1/5): 2732012.762360\n",
        "MAE (fold 2/5): 2720892.940192\n",
        "MAE (fold 3/5): 2993804.600709"
       ]
      },
      {
       "output_type": "stream",
       "stream": "stdout",
       "text": [
        "\n",
        "MAE (fold 4/5): 2600454.462624\n",
        "MAE (fold 5/5): 2913635.445115\n",
        "alpha 0.7197 mae 2792160.0422\n",
        "MAE (fold 1/5): 3476106.451411\n",
        "MAE (fold 2/5): 3567896.542419"
       ]
      },
      {
       "output_type": "stream",
       "stream": "stdout",
       "text": [
        "\n",
        "MAE (fold 3/5): 3751261.451700\n",
        "MAE (fold 4/5): 3376091.119562\n",
        "MAE (fold 5/5): 3752985.099485\n",
        "alpha 2.6827 mae 3584868.1329\n",
        "MAE (fold 1/5): 4061987.110067"
       ]
      },
      {
       "output_type": "stream",
       "stream": "stdout",
       "text": [
        "\n",
        "MAE (fold 2/5): 4226004.415519\n",
        "MAE (fold 3/5): 4314758.807549\n",
        "MAE (fold 4/5): 3966170.215162\n",
        "MAE (fold 5/5): 4349004.728212"
       ]
      },
      {
       "output_type": "stream",
       "stream": "stdout",
       "text": [
        "\n",
        "alpha 10.0000 mae 4183585.0553\n",
        "Best alpha 0.0139 mae 2218107.6530\n",
        "Fitting split:  1\n",
        "MAE (fold 1/5): 2478728.618958\n",
        "MAE (fold 2/5): 2682566.530826\n",
        "MAE (fold 3/5): 2880637.223868"
       ]
      },
      {
       "output_type": "stream",
       "stream": "stdout",
       "text": [
        "\n",
        "MAE (fold 4/5): 2631012.503305\n",
        "MAE (fold 5/5): 2804000.266629\n",
        "alpha 0.0010 mae 2695389.0287\n",
        "MAE (fold 1/5): 2479594.104775\n",
        "MAE (fold 2/5): 2683838.677125"
       ]
      },
      {
       "output_type": "stream",
       "stream": "stdout",
       "text": [
        "\n",
        "MAE (fold 3/5): 2882977.345649\n",
        "MAE (fold 4/5): 2632013.189153\n",
        "MAE (fold 5/5): 2804657.036531\n",
        "alpha 0.0037 mae 2696616.0706\n",
        "MAE (fold 1/5): 2489556.469392"
       ]
      },
      {
       "output_type": "stream",
       "stream": "stdout",
       "text": [
        "\n",
        "MAE (fold 2/5): 2692512.296303\n",
        "MAE (fold 3/5): 2892088.965719\n",
        "MAE (fold 4/5): 2637990.458106\n",
        "MAE (fold 5/5): 2807700.918477"
       ]
      },
      {
       "output_type": "stream",
       "stream": "stdout",
       "text": [
        "\n",
        "alpha 0.0139 mae 2703969.8216\n",
        "MAE (fold 1/5): 2544967.447196\n",
        "MAE (fold 2/5): 2732704.495251\n",
        "MAE (fold 3/5): 2921402.310062\n",
        "MAE (fold 4/5): 2663974.077105"
       ]
      },
      {
       "output_type": "stream",
       "stream": "stdout",
       "text": [
        "\n",
        "MAE (fold 5/5): 2820638.304258\n",
        "alpha 0.0518 mae 2736737.3268\n",
        "MAE (fold 1/5): 2751309.394757\n",
        "MAE (fold 2/5): 2896262.940551\n",
        "MAE (fold 3/5): 3020388.786953"
       ]
      },
      {
       "output_type": "stream",
       "stream": "stdout",
       "text": [
        "\n",
        "MAE (fold 4/5): 2749291.774998\n",
        "MAE (fold 5/5): 2889307.247224\n",
        "alpha 0.1931 mae 2861312.0289\n",
        "MAE (fold 1/5): 3437763.874160\n",
        "MAE (fold 2/5): 3455373.113160"
       ]
      },
      {
       "output_type": "stream",
       "stream": "stdout",
       "text": [
        "\n",
        "MAE (fold 3/5): 3487268.350509\n",
        "MAE (fold 4/5): 3176845.044149\n",
        "MAE (fold 5/5): 3329575.617683\n",
        "alpha 0.7197 mae 3377365.1999\n",
        "MAE (fold 1/5): 4550606.634809"
       ]
      },
      {
       "output_type": "stream",
       "stream": "stdout",
       "text": [
        "\n",
        "MAE (fold 2/5): 4405712.815891\n",
        "MAE (fold 3/5): 4461261.432308\n",
        "MAE (fold 4/5): 4115394.267303\n",
        "MAE (fold 5/5): 4254824.278548"
       ]
      },
      {
       "output_type": "stream",
       "stream": "stdout",
       "text": [
        "\n",
        "alpha 2.6827 mae 4357559.8858\n",
        "MAE (fold 1/5): 5383826.457690\n",
        "MAE (fold 2/5): 5131883.855986\n",
        "MAE (fold 3/5): 5207349.166590\n",
        "MAE (fold 4/5): 4891544.302005"
       ]
      },
      {
       "output_type": "stream",
       "stream": "stdout",
       "text": [
        "\n",
        "MAE (fold 5/5): 4987120.866292\n",
        "alpha 10.0000 mae 5120344.9297\n",
        "Best alpha 0.0010 mae 2695389.0287\n",
        "Fitting split:  2\n",
        "MAE (fold 1/5): 2922330.500740\n",
        "MAE (fold 2/5): 2970230.901859"
       ]
      },
      {
       "output_type": "stream",
       "stream": "stdout",
       "text": [
        "\n",
        "MAE (fold 3/5): 2807825.148060\n",
        "MAE (fold 4/5): 3073000.170363\n",
        "MAE (fold 5/5): 3131641.345023\n",
        "alpha 0.0010 mae 2981005.6132\n",
        "MAE (fold 1/5): 2921673.744445"
       ]
      },
      {
       "output_type": "stream",
       "stream": "stdout",
       "text": [
        "\n",
        "MAE (fold 2/5): 2968910.931745\n",
        "MAE (fold 3/5): 2810628.301654\n",
        "MAE (fold 4/5): 3062655.996151\n",
        "MAE (fold 5/5): 3119301.000073"
       ]
      },
      {
       "output_type": "stream",
       "stream": "stdout",
       "text": [
        "\n",
        "alpha 0.0037 mae 2976633.9948\n",
        "MAE (fold 1/5): 2920037.423986\n",
        "MAE (fold 2/5): 2969436.843500\n",
        "MAE (fold 3/5): 2820490.236037\n",
        "MAE (fold 4/5): 3038279.545288"
       ]
      },
      {
       "output_type": "stream",
       "stream": "stdout",
       "text": [
        "\n",
        "MAE (fold 5/5): 3084743.678562\n",
        "alpha 0.0139 mae 2966597.5455\n",
        "MAE (fold 1/5): 2914489.741354\n",
        "MAE (fold 2/5): 3001397.898604\n",
        "MAE (fold 3/5): 2849950.402102"
       ]
      },
      {
       "output_type": "stream",
       "stream": "stdout",
       "text": [
        "\n",
        "MAE (fold 4/5): 3012323.071613\n",
        "MAE (fold 5/5): 3023421.356765\n",
        "alpha 0.0518 mae 2960316.4941\n",
        "MAE (fold 1/5): 2943910.729595\n",
        "MAE (fold 2/5): 3204023.873425"
       ]
      },
      {
       "output_type": "stream",
       "stream": "stdout",
       "text": [
        "\n",
        "MAE (fold 3/5): 2970031.300701\n",
        "MAE (fold 4/5): 3095907.593499\n",
        "MAE (fold 5/5): 3004864.580391\n",
        "alpha 0.1931 mae 3043747.6155\n",
        "MAE (fold 1/5): 3369910.433780"
       ]
      },
      {
       "output_type": "stream",
       "stream": "stdout",
       "text": [
        "\n",
        "MAE (fold 2/5): 3952227.737407\n",
        "MAE (fold 3/5): 3486818.948350\n",
        "MAE (fold 4/5): 3740536.741497\n",
        "MAE (fold 5/5): 3521265.223642"
       ]
      },
      {
       "output_type": "stream",
       "stream": "stdout",
       "text": [
        "\n",
        "alpha 0.7197 mae 3614151.8169\n",
        "MAE (fold 1/5): 4336282.018647\n",
        "MAE (fold 2/5): 5123328.257894\n",
        "MAE (fold 3/5): 4505632.672941\n",
        "MAE (fold 4/5): 4889103.431896"
       ]
      },
      {
       "output_type": "stream",
       "stream": "stdout",
       "text": [
        "\n",
        "MAE (fold 5/5): 4745704.014222\n",
        "alpha 2.6827 mae 4720010.0791\n",
        "MAE (fold 1/5): 5159492.762549\n",
        "MAE (fold 2/5): 6034455.306490\n",
        "MAE (fold 3/5): 5349154.608608"
       ]
      },
      {
       "output_type": "stream",
       "stream": "stdout",
       "text": [
        "\n",
        "MAE (fold 4/5): 5810939.347992\n",
        "MAE (fold 5/5): 5772840.486849\n",
        "alpha 10.0000 mae 5625376.5025\n",
        "Best alpha 0.0518 mae 2960316.4941\n",
        "Fitting split:  3\n",
        "MAE (fold 1/5): 3268748.431210"
       ]
      },
      {
       "output_type": "stream",
       "stream": "stdout",
       "text": [
        "\n",
        "MAE (fold 2/5): 3722075.760415\n",
        "MAE (fold 3/5): 3503653.644865\n",
        "MAE (fold 4/5): 3510651.740663\n",
        "MAE (fold 5/5): 3272595.281628"
       ]
      },
      {
       "output_type": "stream",
       "stream": "stdout",
       "text": [
        "\n",
        "alpha 0.0010 mae 3455544.9718\n",
        "MAE (fold 1/5): 3268356.508628\n",
        "MAE (fold 2/5): 3720173.585799\n",
        "MAE (fold 3/5): 3496438.515962\n",
        "MAE (fold 4/5): 3505393.658333"
       ]
      },
      {
       "output_type": "stream",
       "stream": "stdout",
       "text": [
        "\n",
        "MAE (fold 5/5): 3270718.193351\n",
        "alpha 0.0037 mae 3452216.0924\n",
        "MAE (fold 1/5): 3268209.437190\n",
        "MAE (fold 2/5): 3714514.073793\n",
        "MAE (fold 3/5): 3480735.036134"
       ]
      },
      {
       "output_type": "stream",
       "stream": "stdout",
       "text": [
        "\n",
        "MAE (fold 4/5): 3489565.983042\n",
        "MAE (fold 5/5): 3266701.392370\n",
        "alpha 0.0139 mae 3443945.1845\n",
        "MAE (fold 1/5): 3272414.916595\n",
        "MAE (fold 2/5): 3704733.738337"
       ]
      },
      {
       "output_type": "stream",
       "stream": "stdout",
       "text": [
        "\n",
        "MAE (fold 3/5): 3468012.310972\n",
        "MAE (fold 4/5): 3458798.915098\n",
        "MAE (fold 5/5): 3267933.586796\n",
        "alpha 0.0518 mae 3434378.6936\n",
        "MAE (fold 1/5): 3322839.352485"
       ]
      },
      {
       "output_type": "stream",
       "stream": "stdout",
       "text": [
        "\n",
        "MAE (fold 2/5): 3740139.751007\n",
        "MAE (fold 3/5): 3515529.309687\n",
        "MAE (fold 4/5): 3477443.119173\n",
        "MAE (fold 5/5): 3336549.889594"
       ]
      },
      {
       "output_type": "stream",
       "stream": "stdout",
       "text": [
        "\n",
        "alpha 0.1931 mae 3478500.2844\n",
        "MAE (fold 1/5): 3604256.525348\n",
        "MAE (fold 2/5): 4035912.418133\n",
        "MAE (fold 3/5): 3818672.356260\n",
        "MAE (fold 4/5): 3810967.721567"
       ]
      },
      {
       "output_type": "stream",
       "stream": "stdout",
       "text": [
        "\n",
        "MAE (fold 5/5): 3677106.332579\n",
        "alpha 0.7197 mae 3789383.0708\n",
        "MAE (fold 1/5): 4320266.561940\n",
        "MAE (fold 2/5): 4722725.652519\n",
        "MAE (fold 3/5): 4512949.063502"
       ]
      },
      {
       "output_type": "stream",
       "stream": "stdout",
       "text": [
        "\n",
        "MAE (fold 4/5): 4574741.481428\n",
        "MAE (fold 5/5): 4440263.882812\n",
        "alpha 2.6827 mae 4514189.3284\n",
        "MAE (fold 1/5): 5100385.400787\n",
        "MAE (fold 2/5): 5447164.227810"
       ]
      },
      {
       "output_type": "stream",
       "stream": "stdout",
       "text": [
        "\n",
        "MAE (fold 3/5): 5270225.139851\n",
        "MAE (fold 4/5): 5314411.601796\n",
        "MAE (fold 5/5): 5204975.242160\n",
        "alpha 10.0000 mae 5267432.3225\n",
        "Best alpha 0.0518 mae 3434378.6936\n",
        "Fitting split: "
       ]
      },
      {
       "output_type": "stream",
       "stream": "stdout",
       "text": [
        " 4\n",
        "MAE (fold 1/5): 3470009.654493\n",
        "MAE (fold 2/5): 3456985.003655\n",
        "MAE (fold 3/5): 3079698.824593\n",
        "MAE (fold 4/5): 3405159.268618"
       ]
      },
      {
       "output_type": "stream",
       "stream": "stdout",
       "text": [
        "\n",
        "MAE (fold 5/5): 3350266.187055\n",
        "alpha 0.0010 mae 3352423.7877\n",
        "MAE (fold 1/5): 3464742.616691\n",
        "MAE (fold 2/5): 3453407.802494\n",
        "MAE (fold 3/5): 3077458.084932"
       ]
      },
      {
       "output_type": "stream",
       "stream": "stdout",
       "text": [
        "\n",
        "MAE (fold 4/5): 3400967.079973\n",
        "MAE (fold 5/5): 3346422.661284\n",
        "alpha 0.0037 mae 3348599.6491\n",
        "MAE (fold 1/5): 3448427.929369\n",
        "MAE (fold 2/5): 3443568.972016"
       ]
      },
      {
       "output_type": "stream",
       "stream": "stdout",
       "text": [
        "\n",
        "MAE (fold 3/5): 3070069.936928\n",
        "MAE (fold 4/5): 3387677.295517\n",
        "MAE (fold 5/5): 3336190.941454\n",
        "alpha 0.0139 mae 3337187.0151\n",
        "MAE (fold 1/5): 3407620.438775"
       ]
      },
      {
       "output_type": "stream",
       "stream": "stdout",
       "text": [
        "\n",
        "MAE (fold 2/5): 3423497.429700\n",
        "MAE (fold 3/5): 3051542.002799\n",
        "MAE (fold 4/5): 3352798.661982\n",
        "MAE (fold 5/5): 3318636.327296"
       ]
      },
      {
       "output_type": "stream",
       "stream": "stdout",
       "text": [
        "\n",
        "alpha 0.0518 mae 3310818.9721\n",
        "MAE (fold 1/5): 3367747.325960\n",
        "MAE (fold 2/5): 3424321.858137\n",
        "MAE (fold 3/5): 3047154.690686\n",
        "MAE (fold 4/5): 3303736.058064"
       ]
      },
      {
       "output_type": "stream",
       "stream": "stdout",
       "text": [
        "\n",
        "MAE (fold 5/5): 3318453.725678\n",
        "alpha 0.1931 mae 3292282.7317\n",
        "MAE (fold 1/5): 3559083.514681\n",
        "MAE (fold 2/5): 3590257.655087\n",
        "MAE (fold 3/5): 3237129.227928"
       ]
      },
      {
       "output_type": "stream",
       "stream": "stdout",
       "text": [
        "\n",
        "MAE (fold 4/5): 3376828.333618\n",
        "MAE (fold 5/5): 3460628.240752\n",
        "alpha 0.7197 mae 3444785.3944\n",
        "MAE (fold 1/5): 4211151.886207\n",
        "MAE (fold 2/5): 4063870.598509"
       ]
      },
      {
       "output_type": "stream",
       "stream": "stdout",
       "text": [
        "\n",
        "MAE (fold 3/5): 3812049.199700\n",
        "MAE (fold 4/5): 3810904.562925\n",
        "MAE (fold 5/5): 3939440.883694\n",
        "alpha 2.6827 mae 3967483.4262\n",
        "MAE (fold 1/5): 4921722.021963"
       ]
      },
      {
       "output_type": "stream",
       "stream": "stdout",
       "text": [
        "\n",
        "MAE (fold 2/5): 4625162.188784\n",
        "MAE (fold 3/5): 4451323.636824\n",
        "MAE (fold 4/5): 4382007.130007\n",
        "MAE (fold 5/5): 4531038.561301"
       ]
      },
      {
       "output_type": "stream",
       "stream": "stdout",
       "text": [
        "\n",
        "alpha 10.0000 mae 4582250.7078\n",
        "Best alpha 0.1931 mae 3292282.7317\n",
        "Fitting split:  5\n",
        "MAE (fold 1/5): 2608614.813885\n",
        "MAE (fold 2/5): 2678885.897985\n",
        "MAE (fold 3/5): 2791068.426428"
       ]
      },
      {
       "output_type": "stream",
       "stream": "stdout",
       "text": [
        "\n",
        "MAE (fold 4/5): 2938793.576684\n",
        "MAE (fold 5/5): 2633000.949874\n",
        "alpha 0.0010 mae 2730072.7330\n",
        "MAE (fold 1/5): 2605864.581165\n",
        "MAE (fold 2/5): 2676064.447785"
       ]
      },
      {
       "output_type": "stream",
       "stream": "stdout",
       "text": [
        "\n",
        "MAE (fold 3/5): 2787521.734042\n",
        "MAE (fold 4/5): 2935564.698330\n",
        "MAE (fold 5/5): 2628075.993661\n",
        "alpha 0.0037 mae 2726618.2910\n",
        "MAE (fold 1/5): 2597327.856356"
       ]
      },
      {
       "output_type": "stream",
       "stream": "stdout",
       "text": [
        "\n",
        "MAE (fold 2/5): 2668773.282642\n",
        "MAE (fold 3/5): 2775868.331322\n",
        "MAE (fold 4/5): 2925612.938028\n",
        "MAE (fold 5/5): 2613473.580788"
       ]
      },
      {
       "output_type": "stream",
       "stream": "stdout",
       "text": [
        "\n",
        "alpha 0.0139 mae 2716211.1978\n",
        "MAE (fold 1/5): 2578522.239543\n",
        "MAE (fold 2/5): 2660324.872103\n",
        "MAE (fold 3/5): 2745693.928908\n",
        "MAE (fold 4/5): 2902588.230717"
       ]
      },
      {
       "output_type": "stream",
       "stream": "stdout",
       "text": [
        "\n",
        "MAE (fold 5/5): 2585880.185906\n",
        "alpha 0.0518 mae 2694601.8914\n",
        "MAE (fold 1/5): 2564477.907200\n",
        "MAE (fold 2/5): 2681189.140405\n",
        "MAE (fold 3/5): 2710883.347907"
       ]
      },
      {
       "output_type": "stream",
       "stream": "stdout",
       "text": [
        "\n",
        "MAE (fold 4/5): 2879920.674794\n",
        "MAE (fold 5/5): 2571135.285462\n",
        "alpha 0.1931 mae 2681521.2712\n",
        "MAE (fold 1/5): 2649238.636348\n",
        "MAE (fold 2/5): 2813484.452674"
       ]
      },
      {
       "output_type": "stream",
       "stream": "stdout",
       "text": [
        "\n",
        "MAE (fold 3/5): 2821316.876839\n",
        "MAE (fold 4/5): 2946100.925429\n",
        "MAE (fold 5/5): 2656048.688191\n",
        "alpha 0.7197 mae 2777237.9159\n",
        "MAE (fold 1/5): 3012738.134648"
       ]
      },
      {
       "output_type": "stream",
       "stream": "stdout",
       "text": [
        "\n",
        "MAE (fold 2/5): 3181217.820298\n",
        "MAE (fold 3/5): 3296198.491588\n",
        "MAE (fold 4/5): 3272674.987088\n",
        "MAE (fold 5/5): 2982383.597760"
       ]
      },
      {
       "output_type": "stream",
       "stream": "stdout",
       "text": [
        "\n",
        "alpha 2.6827 mae 3149042.6063\n",
        "MAE (fold 1/5): 3436455.780871\n",
        "MAE (fold 2/5): 3616282.039279\n",
        "MAE (fold 3/5): 3830613.709940\n",
        "MAE (fold 4/5): 3684606.834863"
       ]
      },
      {
       "output_type": "stream",
       "stream": "stdout",
       "text": [
        "\n",
        "MAE (fold 5/5): 3378487.472945\n",
        "alpha 10.0000 mae 3589289.1676\n",
        "Best alpha 0.1931 mae 2681521.2712\n",
        "Fitting split:  6\n",
        "MAE (fold 1/5): 2738095.447583\n",
        "MAE (fold 2/5): 2620660.126700"
       ]
      },
      {
       "output_type": "stream",
       "stream": "stdout",
       "text": [
        "\n",
        "MAE (fold 3/5): 2702133.740595\n",
        "MAE (fold 4/5): 2672212.836571\n",
        "MAE (fold 5/5): 2597795.077451\n",
        "alpha 0.0010 mae 2666179.4458\n",
        "MAE (fold 1/5): 2736690.988266"
       ]
      },
      {
       "output_type": "stream",
       "stream": "stdout",
       "text": [
        "\n",
        "MAE (fold 2/5): 2613248.691041\n",
        "MAE (fold 3/5): 2695943.619677\n",
        "MAE (fold 4/5): 2667414.205771\n",
        "MAE (fold 5/5): 2593760.127839"
       ]
      },
      {
       "output_type": "stream",
       "stream": "stdout",
       "text": [
        "\n",
        "alpha 0.0037 mae 2661411.5265\n",
        "MAE (fold 1/5): 2733127.661932\n",
        "MAE (fold 2/5): 2592603.126769\n",
        "MAE (fold 3/5): 2677574.300831\n",
        "MAE (fold 4/5): 2654633.820659"
       ]
      },
      {
       "output_type": "stream",
       "stream": "stdout",
       "text": [
        "\n",
        "MAE (fold 5/5): 2583588.088287\n",
        "alpha 0.0139 mae 2648305.3997\n",
        "MAE (fold 1/5): 2732142.379487\n",
        "MAE (fold 2/5): 2554174.224612\n",
        "MAE (fold 3/5): 2643883.488217"
       ]
      },
      {
       "output_type": "stream",
       "stream": "stdout",
       "text": [
        "\n",
        "MAE (fold 4/5): 2636773.638645\n",
        "MAE (fold 5/5): 2568899.562454\n",
        "alpha 0.0518 mae 2627174.6587\n",
        "MAE (fold 1/5): 2754073.678144\n",
        "MAE (fold 2/5): 2507840.572617"
       ]
      },
      {
       "output_type": "stream",
       "stream": "stdout",
       "text": [
        "\n",
        "MAE (fold 3/5): 2624836.104489\n",
        "MAE (fold 4/5): 2664039.122320\n",
        "MAE (fold 5/5): 2571859.263835\n",
        "alpha 0.1931 mae 2624529.7483\n",
        "MAE (fold 1/5): 2855530.654175"
       ]
      },
      {
       "output_type": "stream",
       "stream": "stdout",
       "text": [
        "\n",
        "MAE (fold 2/5): 2569955.539740\n",
        "MAE (fold 3/5): 2716862.220578\n",
        "MAE (fold 4/5): 2884157.353095\n",
        "MAE (fold 5/5): 2673644.873516"
       ]
      },
      {
       "output_type": "stream",
       "stream": "stdout",
       "text": [
        "\n",
        "alpha 0.7197 mae 2740030.1282\n",
        "MAE (fold 1/5): 3143641.835788\n",
        "MAE (fold 2/5): 2973558.048908\n",
        "MAE (fold 3/5): 3035349.102314\n",
        "MAE (fold 4/5): 3412389.829538"
       ]
      },
      {
       "output_type": "stream",
       "stream": "stdout",
       "text": [
        "\n",
        "MAE (fold 5/5): 2969448.280204\n",
        "alpha 2.6827 mae 3106877.4194\n",
        "MAE (fold 1/5): 3548179.705047\n",
        "MAE (fold 2/5): 3477599.008731\n",
        "MAE (fold 3/5): 3425882.410548"
       ]
      },
      {
       "output_type": "stream",
       "stream": "stdout",
       "text": [
        "\n",
        "MAE (fold 4/5): 3950235.923653\n",
        "MAE (fold 5/5): 3336479.076649\n",
        "alpha 10.0000 mae 3547675.2249\n",
        "Best alpha 0.1931 mae 2624529.7483\n",
        "Fitting split:  7\n",
        "MAE (fold 1/5): 2513432.841166"
       ]
      },
      {
       "output_type": "stream",
       "stream": "stdout",
       "text": [
        "\n",
        "MAE (fold 2/5): 2781996.245252\n",
        "MAE (fold 3/5): 2463583.189268\n",
        "MAE (fold 4/5): 2640715.368220\n",
        "MAE (fold 5/5): 2675649.042544"
       ]
      },
      {
       "output_type": "stream",
       "stream": "stdout",
       "text": [
        "\n",
        "alpha 0.0010 mae 2615075.3373\n",
        "MAE (fold 1/5): 2511923.398806\n",
        "MAE (fold 2/5): 2780025.962335\n",
        "MAE (fold 3/5): 2463967.355247\n",
        "MAE (fold 4/5): 2638623.486450"
       ]
      },
      {
       "output_type": "stream",
       "stream": "stdout",
       "text": [
        "\n",
        "MAE (fold 5/5): 2673219.554591\n",
        "alpha 0.0037 mae 2613551.9515\n",
        "MAE (fold 1/5): 2511166.586903\n",
        "MAE (fold 2/5): 2776023.301154\n",
        "MAE (fold 3/5): 2468069.665510"
       ]
      },
      {
       "output_type": "stream",
       "stream": "stdout",
       "text": [
        "\n",
        "MAE (fold 4/5): 2632397.704647\n",
        "MAE (fold 5/5): 2668225.778707\n",
        "alpha 0.0139 mae 2611176.6074\n",
        "MAE (fold 1/5): 2529631.808315\n",
        "MAE (fold 2/5): 2774042.524141"
       ]
      },
      {
       "output_type": "stream",
       "stream": "stdout",
       "text": [
        "\n",
        "MAE (fold 3/5): 2492949.623006\n",
        "MAE (fold 4/5): 2615832.615719\n",
        "MAE (fold 5/5): 2663672.238106\n",
        "alpha 0.0518 mae 2615225.7619\n",
        "MAE (fold 1/5): 2605014.283821"
       ]
      },
      {
       "output_type": "stream",
       "stream": "stdout",
       "text": [
        "\n",
        "MAE (fold 2/5): 2799320.694126\n",
        "MAE (fold 3/5): 2594432.147988\n",
        "MAE (fold 4/5): 2602518.513994\n",
        "MAE (fold 5/5): 2683339.405327"
       ]
      },
      {
       "output_type": "stream",
       "stream": "stdout",
       "text": [
        "\n",
        "alpha 0.1931 mae 2656925.0091\n",
        "MAE (fold 1/5): 2923827.439451\n",
        "MAE (fold 2/5): 3013014.730646\n",
        "MAE (fold 3/5): 2913536.429638\n",
        "MAE (fold 4/5): 2806224.546624"
       ]
      },
      {
       "output_type": "stream",
       "stream": "stdout",
       "text": [
        "\n",
        "MAE (fold 5/5): 2888956.502138\n",
        "alpha 0.7197 mae 2909111.9297\n",
        "MAE (fold 1/5): 3664216.613952\n",
        "MAE (fold 2/5): 3672427.139700\n",
        "MAE (fold 3/5): 3510332.646272"
       ]
      },
      {
       "output_type": "stream",
       "stream": "stdout",
       "text": [
        "\n",
        "MAE (fold 4/5): 3455405.542655\n",
        "MAE (fold 5/5): 3583080.242653\n",
        "alpha 2.6827 mae 3577092.4370\n",
        "MAE (fold 1/5): 4372191.373072\n",
        "MAE (fold 2/5): 4336898.044164"
       ]
      },
      {
       "output_type": "stream",
       "stream": "stdout",
       "text": [
        "\n",
        "MAE (fold 3/5): 4083559.817951\n",
        "MAE (fold 4/5): 4071163.129325\n",
        "MAE (fold 5/5): 4290236.437375\n",
        "alpha 10.0000 mae 4230809.7604\n",
        "Best alpha 0.0139 mae 2611176.6074\n",
        "Fitting split: "
       ]
      },
      {
       "output_type": "stream",
       "stream": "stdout",
       "text": [
        " 8\n",
        "MAE (fold 1/5): 2181516.387177\n",
        "MAE (fold 2/5): 2071924.357935\n",
        "MAE (fold 3/5): 2291217.494235\n",
        "MAE (fold 4/5): 1761127.663469"
       ]
      },
      {
       "output_type": "stream",
       "stream": "stdout",
       "text": [
        "\n",
        "MAE (fold 5/5): 2169046.791316\n",
        "alpha 0.0010 mae 2094966.5388\n",
        "MAE (fold 1/5): 2186853.219682\n",
        "MAE (fold 2/5): 2067464.057277\n",
        "MAE (fold 3/5): 2294764.158254"
       ]
      },
      {
       "output_type": "stream",
       "stream": "stdout",
       "text": [
        "\n",
        "MAE (fold 4/5): 1763602.686486\n",
        "MAE (fold 5/5): 2169028.646903\n",
        "alpha 0.0037 mae 2096342.5537\n",
        "MAE (fold 1/5): 2203107.422238\n",
        "MAE (fold 2/5): 2057661.206392"
       ]
      },
      {
       "output_type": "stream",
       "stream": "stdout",
       "text": [
        "\n",
        "MAE (fold 3/5): 2306689.305360\n",
        "MAE (fold 4/5): 1772217.240129\n",
        "MAE (fold 5/5): 2174947.507087\n",
        "alpha 0.0139 mae 2102924.5362\n",
        "MAE (fold 1/5): 2233908.330126"
       ]
      },
      {
       "output_type": "stream",
       "stream": "stdout",
       "text": [
        "\n",
        "MAE (fold 2/5): 2046600.608135\n",
        "MAE (fold 3/5): 2327106.597983\n",
        "MAE (fold 4/5): 1791641.573902\n",
        "MAE (fold 5/5): 2211875.625450"
       ]
      },
      {
       "output_type": "stream",
       "stream": "stdout",
       "text": [
        "\n",
        "alpha 0.0518 mae 2122226.5471\n",
        "MAE (fold 1/5): 2299357.623450\n",
        "MAE (fold 2/5): 2078697.728586\n",
        "MAE (fold 3/5): 2373435.713294\n",
        "MAE (fold 4/5): 1872957.638233"
       ]
      },
      {
       "output_type": "stream",
       "stream": "stdout",
       "text": [
        "\n",
        "MAE (fold 5/5): 2372099.315762\n",
        "alpha 0.1931 mae 2199309.6039\n",
        "MAE (fold 1/5): 2652407.663297\n",
        "MAE (fold 2/5): 2489672.012854\n",
        "MAE (fold 3/5): 2726988.495101"
       ]
      },
      {
       "output_type": "stream",
       "stream": "stdout",
       "text": [
        "\n",
        "MAE (fold 4/5): 2304404.260755\n",
        "MAE (fold 5/5): 2911513.510997\n",
        "alpha 0.7197 mae 2616997.1886\n",
        "MAE (fold 1/5): 3331796.471453\n",
        "MAE (fold 2/5): 3260881.522902"
       ]
      },
      {
       "output_type": "stream",
       "stream": "stdout",
       "text": [
        "\n",
        "MAE (fold 3/5): 3358544.882042\n",
        "MAE (fold 4/5): 3110308.550209\n",
        "MAE (fold 5/5): 3677571.277710\n",
        "alpha 2.6827 mae 3347820.5409\n",
        "MAE (fold 1/5): 3904178.440524"
       ]
      },
      {
       "output_type": "stream",
       "stream": "stdout",
       "text": [
        "\n",
        "MAE (fold 2/5): 3852288.438950\n",
        "MAE (fold 3/5): 3873799.080282\n",
        "MAE (fold 4/5): 3746553.603839\n",
        "MAE (fold 5/5): 4229380.874014"
       ]
      },
      {
       "output_type": "stream",
       "stream": "stdout",
       "text": [
        "\n",
        "alpha 10.0000 mae 3921240.0875\n",
        "Best alpha 0.0010 mae 2094966.5388\n",
        "Fitting split:  9\n",
        "MAE (fold 1/5): 1881759.415812\n",
        "MAE (fold 2/5): 1852649.787504\n",
        "MAE (fold 3/5): 1860135.094679"
       ]
      },
      {
       "output_type": "stream",
       "stream": "stdout",
       "text": [
        "\n",
        "MAE (fold 4/5): 1890327.607561\n",
        "MAE (fold 5/5): 1884361.917271\n",
        "alpha 0.0010 mae 1873846.7646\n",
        "MAE (fold 1/5): 1882931.334910\n",
        "MAE (fold 2/5): 1854347.906974"
       ]
      },
      {
       "output_type": "stream",
       "stream": "stdout",
       "text": [
        "\n",
        "MAE (fold 3/5): 1849166.136881\n",
        "MAE (fold 4/5): 1892674.061294\n",
        "MAE (fold 5/5): 1886268.049079\n",
        "alpha 0.0037 mae 1873077.4978\n",
        "MAE (fold 1/5): 1892172.353289"
       ]
      },
      {
       "output_type": "stream",
       "stream": "stdout",
       "text": [
        "\n",
        "MAE (fold 2/5): 1863413.072867\n",
        "MAE (fold 3/5): 1828223.296407\n",
        "MAE (fold 4/5): 1908884.985903\n",
        "MAE (fold 5/5): 1898290.459234"
       ]
      },
      {
       "output_type": "stream",
       "stream": "stdout",
       "text": [
        "\n",
        "alpha 0.0139 mae 1878196.8335\n",
        "MAE (fold 1/5): 1926815.180666\n",
        "MAE (fold 2/5): 1897465.227342\n",
        "MAE (fold 3/5): 1829443.173901\n",
        "MAE (fold 4/5): 1977796.197654"
       ]
      },
      {
       "output_type": "stream",
       "stream": "stdout",
       "text": [
        "\n",
        "MAE (fold 5/5): 1948551.578739\n",
        "alpha 0.0518 mae 1916014.2717\n",
        "MAE (fold 1/5): 2021840.230550\n",
        "MAE (fold 2/5): 2000755.291675\n",
        "MAE (fold 3/5): 1954347.043387"
       ]
      },
      {
       "output_type": "stream",
       "stream": "stdout",
       "text": [
        "\n",
        "MAE (fold 4/5): 2170285.374358\n",
        "MAE (fold 5/5): 2105454.860802\n",
        "alpha 0.1931 mae 2050536.5602\n",
        "MAE (fold 1/5): 2416304.410846\n",
        "MAE (fold 2/5): 2373461.646821"
       ]
      },
      {
       "output_type": "stream",
       "stream": "stdout",
       "text": [
        "\n",
        "MAE (fold 3/5): 2440201.855001\n",
        "MAE (fold 4/5): 2674973.199936\n",
        "MAE (fold 5/5): 2513717.560973\n",
        "alpha 0.7197 mae 2483731.7347\n",
        "MAE (fold 1/5): 3124806.469560"
       ]
      },
      {
       "output_type": "stream",
       "stream": "stdout",
       "text": [
        "\n",
        "MAE (fold 2/5): 3022026.361444\n",
        "MAE (fold 3/5): 3186262.987218\n",
        "MAE (fold 4/5): 3423028.110910\n",
        "MAE (fold 5/5): 3149447.246076"
       ]
      },
      {
       "output_type": "stream",
       "stream": "stdout",
       "text": [
        "\n",
        "alpha 2.6827 mae 3181114.2350\n",
        "MAE (fold 1/5): 3670729.564323\n",
        "MAE (fold 2/5): 3511091.725319\n",
        "MAE (fold 3/5): 3735085.860070\n",
        "MAE (fold 4/5): 3985488.550634"
       ]
      },
      {
       "output_type": "stream",
       "stream": "stdout",
       "text": [
        "\n",
        "MAE (fold 5/5): 3628337.383347\n",
        "alpha 10.0000 mae 3706146.6167\n",
        "Best alpha 0.0037 mae 1873077.4978\n",
        "Fitting split:  10\n",
        "MAE (fold 1/5): 1755372.435088\n",
        "MAE (fold 2/5): 1630284.165976"
       ]
      },
      {
       "output_type": "stream",
       "stream": "stdout",
       "text": [
        "\n",
        "MAE (fold 3/5): 1602501.423426\n",
        "MAE (fold 4/5): 1574101.722469\n",
        "MAE (fold 5/5): 1600128.789736\n",
        "alpha 0.0010 mae 1632477.7073\n",
        "MAE (fold 1/5): 1754562.128796"
       ]
      },
      {
       "output_type": "stream",
       "stream": "stdout",
       "text": [
        "\n",
        "MAE (fold 2/5): 1635738.557786\n",
        "MAE (fold 3/5): 1603060.660745\n",
        "MAE (fold 4/5): 1583551.433666\n",
        "MAE (fold 5/5): 1605506.701051"
       ]
      },
      {
       "output_type": "stream",
       "stream": "stdout",
       "text": [
        "\n",
        "alpha 0.0037 mae 1636483.8964\n",
        "MAE (fold 1/5): 1756490.203586\n",
        "MAE (fold 2/5): 1653612.720941\n",
        "MAE (fold 3/5): 1619344.664273\n",
        "MAE (fold 4/5): 1607846.688140"
       ]
      },
      {
       "output_type": "stream",
       "stream": "stdout",
       "text": [
        "\n",
        "MAE (fold 5/5): 1619938.293026\n",
        "alpha 0.0139 mae 1651446.5140\n",
        "MAE (fold 1/5): 1756054.991760\n",
        "MAE (fold 2/5): 1688848.420851\n",
        "MAE (fold 3/5): 1653293.100880"
       ]
      },
      {
       "output_type": "stream",
       "stream": "stdout",
       "text": [
        "\n",
        "MAE (fold 4/5): 1648586.058063\n",
        "MAE (fold 5/5): 1640182.580830\n",
        "alpha 0.0518 mae 1677393.0305\n",
        "MAE (fold 1/5): 1834936.086016\n",
        "MAE (fold 2/5): 1807771.197448"
       ]
      },
      {
       "output_type": "stream",
       "stream": "stdout",
       "text": [
        "\n",
        "MAE (fold 3/5): 1747199.716709\n",
        "MAE (fold 4/5): 1755606.481957\n",
        "MAE (fold 5/5): 1751441.062631\n",
        "alpha 0.1931 mae 1779390.9090\n",
        "MAE (fold 1/5): 2267758.034993"
       ]
      },
      {
       "output_type": "stream",
       "stream": "stdout",
       "text": [
        "\n",
        "MAE (fold 2/5): 2201276.515355\n",
        "MAE (fold 3/5): 2142045.477256\n",
        "MAE (fold 4/5): 2057081.788256\n",
        "MAE (fold 5/5): 2133009.022944"
       ]
      },
      {
       "output_type": "stream",
       "stream": "stdout",
       "text": [
        "\n",
        "alpha 0.7197 mae 2160234.1678\n",
        "MAE (fold 1/5): 2924664.405954\n",
        "MAE (fold 2/5): 2709286.541608\n",
        "MAE (fold 3/5): 2765200.166019\n",
        "MAE (fold 4/5): 2525904.963232"
       ]
      },
      {
       "output_type": "stream",
       "stream": "stdout",
       "text": [
        "\n",
        "MAE (fold 5/5): 2676820.757408\n",
        "alpha 2.6827 mae 2720375.3668\n",
        "MAE (fold 1/5): 3372691.249667\n",
        "MAE (fold 2/5): 3048328.078000\n",
        "MAE (fold 3/5): 3205702.419210"
       ]
      },
      {
       "output_type": "stream",
       "stream": "stdout",
       "text": [
        "\n",
        "MAE (fold 4/5): 2872566.460761\n",
        "MAE (fold 5/5): 3062111.297331\n",
        "alpha 10.0000 mae 3112279.9010\n",
        "Best alpha 0.0010 mae 1632477.7073\n",
        "Fitting split:  11\n",
        "MAE (fold 1/5): 1753770.307830"
       ]
      },
      {
       "output_type": "stream",
       "stream": "stdout",
       "text": [
        "\n",
        "MAE (fold 2/5): 1791301.928284\n",
        "MAE (fold 3/5): 1631107.952779\n",
        "MAE (fold 4/5): 1777623.006705\n",
        "MAE (fold 5/5): 1614956.695706"
       ]
      },
      {
       "output_type": "stream",
       "stream": "stdout",
       "text": [
        "\n",
        "alpha 0.0010 mae 1713751.9783\n",
        "MAE (fold 1/5): 1756282.441065\n",
        "MAE (fold 2/5): 1783681.193382\n",
        "MAE (fold 3/5): 1634596.059134\n",
        "MAE (fold 4/5): 1787220.642500"
       ]
      },
      {
       "output_type": "stream",
       "stream": "stdout",
       "text": [
        "\n",
        "MAE (fold 5/5): 1620722.733187\n",
        "alpha 0.0037 mae 1716500.6139\n",
        "MAE (fold 1/5): 1764510.356608\n",
        "MAE (fold 2/5): 1770574.142002\n",
        "MAE (fold 3/5): 1644003.901902"
       ]
      },
      {
       "output_type": "stream",
       "stream": "stdout",
       "text": [
        "\n",
        "MAE (fold 4/5): 1800558.576023\n",
        "MAE (fold 5/5): 1628106.774578\n",
        "alpha 0.0139 mae 1721550.7502\n",
        "MAE (fold 1/5): 1791090.017942\n",
        "MAE (fold 2/5): 1744410.806353"
       ]
      },
      {
       "output_type": "stream",
       "stream": "stdout",
       "text": [
        "\n",
        "MAE (fold 3/5): 1669377.620789\n",
        "MAE (fold 4/5): 1827495.368888\n",
        "MAE (fold 5/5): 1637696.260359"
       ]
      },
      {
       "output_type": "stream",
       "stream": "stdout",
       "text": [
        "\n",
        "alpha 0.0518 mae 1734014.0149\n",
        "MAE (fold 1/5): 1957392.855982\n",
        "MAE (fold 2/5): 1777337.141210\n",
        "MAE (fold 3/5): 1808361.731444"
       ]
      },
      {
       "output_type": "stream",
       "stream": "stdout",
       "text": [
        "\n",
        "MAE (fold 4/5): 1952943.669526\n",
        "MAE (fold 5/5): 1720296.084755\n",
        "alpha 0.1931 mae 1843266.2966\n",
        "MAE (fold 1/5): 2411763.504093\n",
        "MAE (fold 2/5): 2105641.827797"
       ]
      },
      {
       "output_type": "stream",
       "stream": "stdout",
       "text": [
        "\n",
        "MAE (fold 3/5): 2205130.251305\n",
        "MAE (fold 4/5): 2323275.108935\n",
        "MAE (fold 5/5): 2105872.890833\n",
        "alpha 0.7197 mae 2230336.7166\n",
        "MAE (fold 1/5): 2959593.886832"
       ]
      },
      {
       "output_type": "stream",
       "stream": "stdout",
       "text": [
        "\n",
        "MAE (fold 2/5): 2618991.759909\n",
        "MAE (fold 3/5): 2686870.393219\n",
        "MAE (fold 4/5): 2820498.979944\n",
        "MAE (fold 5/5): 2691835.905173"
       ]
      },
      {
       "output_type": "stream",
       "stream": "stdout",
       "text": [
        "\n",
        "alpha 2.6827 mae 2755558.1850\n",
        "MAE (fold 1/5): 3322984.501297\n",
        "MAE (fold 2/5): 2996972.050634\n",
        "MAE (fold 3/5): 3026237.972028\n",
        "MAE (fold 4/5): 3169260.223627"
       ]
      },
      {
       "output_type": "stream",
       "stream": "stdout",
       "text": [
        "\n",
        "MAE (fold 5/5): 3091823.671254\n",
        "alpha 10.0000 mae 3121455.6838\n",
        "Best alpha 0.0010 mae 1713751.9783\n"
       ]
      }
     ],
     "prompt_number": 138
    },
    {
     "cell_type": "code",
     "collapsed": false,
     "input": [
      "test_splits = testSplits(trainX_splits, models)"
     ],
     "language": "python",
     "metadata": {},
     "outputs": [],
     "prompt_number": 139
    },
    {
     "cell_type": "code",
     "collapsed": false,
     "input": [
      "def getJoin(trainT_splits, test_splits):\n",
      "    testT = []\n",
      "    testY = []\n",
      "    for T, Y in zip(trainT_splits, test_splits):\n",
      "        testT += T\n",
      "        for y in Y[0]:\n",
      "            testY += [y]\n",
      "    testT = np.array(testT)\n",
      "    testY = np.array(testY)\n",
      "    \n",
      "    test = [y for (t,y) in sorted(zip(testT,testY))]\n",
      "    return np.asarray(test[:])"
     ],
     "language": "python",
     "metadata": {},
     "outputs": [],
     "prompt_number": 140
    },
    {
     "cell_type": "code",
     "collapsed": false,
     "input": [
      "test = getJoin(trainT_splits, test_splits)"
     ],
     "language": "python",
     "metadata": {},
     "outputs": [],
     "prompt_number": 141
    },
    {
     "cell_type": "code",
     "collapsed": false,
     "input": [
      "plt.plot(test_splits[0][0][0])\n",
      "plt.plot(trainY_splits[0][0])\n",
      "plt.show()"
     ],
     "language": "python",
     "metadata": {},
     "outputs": [],
     "prompt_number": 131
    },
    {
     "cell_type": "code",
     "collapsed": false,
     "input": [
      "metrics.mean_absolute_error(trainY,test)"
     ],
     "language": "python",
     "metadata": {},
     "outputs": [
      {
       "output_type": "pyout",
       "prompt_number": 142,
       "text": [
        "3483077.3915148708"
       ]
      }
     ],
     "prompt_number": 142
    },
    {
     "cell_type": "raw",
     "metadata": {},
     "source": [
      "trainX_EXP = np.hstack((solarScaled,trainX_PCA))\n",
      "model = Ridge(normalize=True)\n",
      "trainYD = trainY - solarScaled\n",
      "\n",
      "trainX_splits, trainY_splits = getSplits(trainT, trainX, trainY, n)\n",
      "models = fitSplits(trainX_splits, trainY_splits, model, N)\n",
      "print 'Fit Done!'"
     ]
    },
    {
     "cell_type": "raw",
     "metadata": {},
     "source": [
      "'''\n",
      "testInput = load_Testing_Data(data_dir,files_to_use)\n",
      "pcatestInput = pca.transform(testInput)\n",
      "testInputS = np.hstack((solarScaled,pcaX)) \n",
      "deltaOutput = test_Model(testInputS, model)\n",
      "finalOutput = solarScaled + deltaOutput\n",
      "print 'Test Done!'\n",
      "print 'Saving to csv...'\n",
      "#We need to generate a prediction of actual value, not just delta\n",
      "save_submission(finalOutput,submit_name,data_dir)"
     ]
    }
   ],
   "metadata": {}
  }
 ]
}