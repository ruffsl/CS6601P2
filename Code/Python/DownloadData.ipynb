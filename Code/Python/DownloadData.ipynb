{
 "metadata": {
  "name": "Untitled0"
 },
 "nbformat": 3,
 "nbformat_minor": 0,
 "worksheets": [
  {
   "cells": [
    {
     "cell_type": "code",
     "collapsed": false,
     "input": "import requests\n\n# The direct link to the Kaggle data set\ndata_urls = ['http://www.kaggle.com/c/ams-2014-solar-energy-prediction-contest/download/train.csv',\n            'http://www.kaggle.com/c/ams-2014-solar-energy-prediction-contest/download/gefs_train.tar.gz',\n            'http://www.kaggle.com/c/ams-2014-solar-energy-prediction-contest/download/gefs_test.tar.gz',\n            'http://www.kaggle.com/c/ams-2014-solar-energy-prediction-contest/download/station_info.csv',\n            'http://www.kaggle.com/c/ams-2014-solar-energy-prediction-contest/download/sampleSubmission.csv',\n            'http://www.kaggle.com/c/ams-2014-solar-energy-prediction-contest/download/gefs_elevations.nc']\n\n# The local path where the data set is saved.\nlocal_filenames = [\"train.csv\",\"gefs_train.tar.gz\",\"gefs_test.tar.gz\",\"station_info.csv\",\"sampleSubmission.csv\",\"gefs_elevations.nc\"]\n\ndef getData(my_username,my_password):\n    # Kaggle Username and Password\n    kaggle_info = {'UserName': my_username, 'Password': my_password}\n    \n    for i, data_url in enumerate(data_urls):\n        print data_url\n        # Attempts to download the CSV file. Gets rejected because we are not logged in.\n        r = requests.get(data_url)\n        \n        # Login to Kaggle and retrieve the data.\n        r = requests.post(r.url, data = kaggle_info, stream=True)\n        \n        # Writes the data to a local file one chunk at a time.\n        f = open(local_filenames[i], 'w')\n        j = 0\n        for chunk in r.iter_content(chunk_size = 512 * 1024): # Reads 512KB at a time into memory\n            if chunk: # filter out keep-alive new chunks\n                f.write(chunk)\n                print j\n                j += 1\n        f.close()",
     "language": "python",
     "metadata": {},
     "outputs": [],
     "prompt_number": 2
    },
    {
     "cell_type": "code",
     "collapsed": false,
     "input": "getData(\"uname\",\"password\")",
     "language": "python",
     "metadata": {},
     "outputs": [
      {
       "output_type": "stream",
       "stream": "stdout",
       "text": "http://www.kaggle.com/c/ams-2014-solar-energy-prediction-contest/download/train.csv\n0"
      },
      {
       "output_type": "stream",
       "stream": "stdout",
       "text": "\n1"
      },
      {
       "output_type": "stream",
       "stream": "stdout",
       "text": "\n2"
      },
      {
       "output_type": "stream",
       "stream": "stdout",
       "text": "\n3"
      },
      {
       "output_type": "stream",
       "stream": "stdout",
       "text": "\n4\n5"
      },
      {
       "output_type": "stream",
       "stream": "stdout",
       "text": "\n6\n7"
      },
      {
       "output_type": "stream",
       "stream": "stdout",
       "text": "\n8"
      },
      {
       "output_type": "stream",
       "stream": "stdout",
       "text": "\nhttp://www.kaggle.com/c/ams-2014-solar-energy-prediction-contest/download/gefs_train.tar.gz"
      },
      {
       "output_type": "stream",
       "stream": "stdout",
       "text": "\n0"
      },
      {
       "output_type": "stream",
       "stream": "stdout",
       "text": "\n1"
      },
      {
       "output_type": "stream",
       "stream": "stdout",
       "text": "\n2"
      },
      {
       "output_type": "stream",
       "stream": "stdout",
       "text": "\n3"
      },
      {
       "output_type": "stream",
       "stream": "stdout",
       "text": "\n4"
      },
      {
       "output_type": "stream",
       "stream": "stdout",
       "text": "\n5\n6"
      },
      {
       "output_type": "stream",
       "stream": "stdout",
       "text": "\n7\n8"
      },
      {
       "output_type": "stream",
       "stream": "stdout",
       "text": "\n9\n10\n11"
      },
      {
       "output_type": "stream",
       "stream": "stdout",
       "text": "\n12\n13"
      },
      {
       "output_type": "stream",
       "stream": "stdout",
       "text": "\n14\n15\n16"
      },
      {
       "output_type": "stream",
       "stream": "stdout",
       "text": "\n17\n18"
      },
      {
       "output_type": "stream",
       "stream": "stdout",
       "text": "\n19\n20\n21"
      },
      {
       "output_type": "stream",
       "stream": "stdout",
       "text": "\n22\n23\n24"
      },
      {
       "output_type": "stream",
       "stream": "stdout",
       "text": "\n25\n26\n27"
      },
      {
       "output_type": "stream",
       "stream": "stdout",
       "text": "\n28\n29\n30"
      },
      {
       "output_type": "stream",
       "stream": "stdout",
       "text": "\n31\n32"
      },
      {
       "output_type": "stream",
       "stream": "stdout",
       "text": "\n33\n34"
      },
      {
       "output_type": "stream",
       "stream": "stdout",
       "text": "\n35\n36\n37"
      },
      {
       "output_type": "stream",
       "stream": "stdout",
       "text": "\n38\n39\n40"
      },
      {
       "output_type": "stream",
       "stream": "stdout",
       "text": "\n41\n42\n43"
      },
      {
       "output_type": "stream",
       "stream": "stdout",
       "text": "\n44\n45\n46"
      },
      {
       "output_type": "stream",
       "stream": "stdout",
       "text": "\n47\n48"
      },
      {
       "output_type": "stream",
       "stream": "stdout",
       "text": "\n49\n50\n51"
      },
      {
       "output_type": "stream",
       "stream": "stdout",
       "text": "\n52\n53\n54"
      },
      {
       "output_type": "stream",
       "stream": "stdout",
       "text": "\n55\n56"
      },
      {
       "output_type": "stream",
       "stream": "stdout",
       "text": "\n57\n58"
      },
      {
       "output_type": "stream",
       "stream": "stdout",
       "text": "\n59\n60\n61"
      },
      {
       "output_type": "stream",
       "stream": "stdout",
       "text": "\n62\n63\n64"
      },
      {
       "output_type": "stream",
       "stream": "stdout",
       "text": "\n65\n66\n67"
      },
      {
       "output_type": "stream",
       "stream": "stdout",
       "text": "\n68\n69\n70"
      },
      {
       "output_type": "stream",
       "stream": "stdout",
       "text": "\n71\n72"
      },
      {
       "output_type": "stream",
       "stream": "stdout",
       "text": "\n73\n74\n75"
      },
      {
       "output_type": "stream",
       "stream": "stdout",
       "text": "\n76\n77\n78"
      },
      {
       "output_type": "stream",
       "stream": "stdout",
       "text": "\n79\n80"
      },
      {
       "output_type": "stream",
       "stream": "stdout",
       "text": "\n81\n82\n83"
      },
      {
       "output_type": "stream",
       "stream": "stdout",
       "text": "\n84\n85\n86"
      },
      {
       "output_type": "stream",
       "stream": "stdout",
       "text": "\n87\n88"
      },
      {
       "output_type": "stream",
       "stream": "stdout",
       "text": "\n89\n90\n91"
      },
      {
       "output_type": "stream",
       "stream": "stdout",
       "text": "\n92\n93\n94"
      },
      {
       "output_type": "stream",
       "stream": "stdout",
       "text": "\n95\n96"
      },
      {
       "output_type": "stream",
       "stream": "stdout",
       "text": "\n97\n98\n99"
      },
      {
       "output_type": "stream",
       "stream": "stdout",
       "text": "\n100\n101\n102\n103"
      },
      {
       "output_type": "stream",
       "stream": "stdout",
       "text": "\n104"
      },
      {
       "output_type": "stream",
       "stream": "stdout",
       "text": "\n105\n106\n107"
      },
      {
       "output_type": "stream",
       "stream": "stdout",
       "text": "\n108\n109\n110"
      },
      {
       "output_type": "stream",
       "stream": "stdout",
       "text": "\n111\n112"
      },
      {
       "output_type": "stream",
       "stream": "stdout",
       "text": "\n113\n114\n115"
      },
      {
       "output_type": "stream",
       "stream": "stdout",
       "text": "\n116\n117\n118"
      },
      {
       "output_type": "stream",
       "stream": "stdout",
       "text": "\n119\n120"
      },
      {
       "output_type": "stream",
       "stream": "stdout",
       "text": "\n121\n122\n123"
      },
      {
       "output_type": "stream",
       "stream": "stdout",
       "text": "\n124\n125\n126"
      },
      {
       "output_type": "stream",
       "stream": "stdout",
       "text": "\n127\n128"
      },
      {
       "output_type": "stream",
       "stream": "stdout",
       "text": "\n129\n130\n131"
      },
      {
       "output_type": "stream",
       "stream": "stdout",
       "text": "\n132\n133\n134"
      },
      {
       "output_type": "stream",
       "stream": "stdout",
       "text": "\n135\n136"
      },
      {
       "output_type": "stream",
       "stream": "stdout",
       "text": "\n137\n138\n139"
      },
      {
       "output_type": "stream",
       "stream": "stdout",
       "text": "\n140\n141\n142"
      },
      {
       "output_type": "stream",
       "stream": "stdout",
       "text": "\n143\n144"
      },
      {
       "output_type": "stream",
       "stream": "stdout",
       "text": "\n145\n146\n147"
      },
      {
       "output_type": "stream",
       "stream": "stdout",
       "text": "\n148\n149\n150"
      },
      {
       "output_type": "stream",
       "stream": "stdout",
       "text": "\n151\n152"
      },
      {
       "output_type": "stream",
       "stream": "stdout",
       "text": "\n153\n154\n155"
      },
      {
       "output_type": "stream",
       "stream": "stdout",
       "text": "\n156\n157\n158"
      },
      {
       "output_type": "stream",
       "stream": "stdout",
       "text": "\n159\n160"
      },
      {
       "output_type": "stream",
       "stream": "stdout",
       "text": "\n161\n162\n163"
      },
      {
       "output_type": "stream",
       "stream": "stdout",
       "text": "\n164\n165\n166"
      },
      {
       "output_type": "stream",
       "stream": "stdout",
       "text": "\n167\n168"
      },
      {
       "output_type": "stream",
       "stream": "stdout",
       "text": "\n169\n170\n171"
      },
      {
       "output_type": "stream",
       "stream": "stdout",
       "text": "\n172\n173\n174"
      },
      {
       "output_type": "stream",
       "stream": "stdout",
       "text": "\n175\n176"
      },
      {
       "output_type": "stream",
       "stream": "stdout",
       "text": "\n177\n178\n179"
      },
      {
       "output_type": "stream",
       "stream": "stdout",
       "text": "\n180\n181\n182"
      },
      {
       "output_type": "stream",
       "stream": "stdout",
       "text": "\n183\n184"
      },
      {
       "output_type": "stream",
       "stream": "stdout",
       "text": "\n185\n186\n187"
      },
      {
       "output_type": "stream",
       "stream": "stdout",
       "text": "\n188\n189\n190"
      },
      {
       "output_type": "stream",
       "stream": "stdout",
       "text": "\n191\n192"
      },
      {
       "output_type": "stream",
       "stream": "stdout",
       "text": "\n193\n194\n195"
      },
      {
       "output_type": "stream",
       "stream": "stdout",
       "text": "\n196\n197\n198"
      },
      {
       "output_type": "stream",
       "stream": "stdout",
       "text": "\n199\n200"
      },
      {
       "output_type": "stream",
       "stream": "stdout",
       "text": "\n201\n202\n203"
      },
      {
       "output_type": "stream",
       "stream": "stdout",
       "text": "\n204\n205\n206"
      },
      {
       "output_type": "stream",
       "stream": "stdout",
       "text": "\n207\n208"
      },
      {
       "output_type": "stream",
       "stream": "stdout",
       "text": "\n209\n210\n211"
      },
      {
       "output_type": "stream",
       "stream": "stdout",
       "text": "\n212\n213\n214"
      },
      {
       "output_type": "stream",
       "stream": "stdout",
       "text": "\n215\n216"
      },
      {
       "output_type": "stream",
       "stream": "stdout",
       "text": "\n217\n218\n219"
      },
      {
       "output_type": "stream",
       "stream": "stdout",
       "text": "\n220\n221\n222"
      },
      {
       "output_type": "stream",
       "stream": "stdout",
       "text": "\n223\n224"
      },
      {
       "output_type": "stream",
       "stream": "stdout",
       "text": "\n225\n226\n227"
      },
      {
       "output_type": "stream",
       "stream": "stdout",
       "text": "\n228\n229\n230"
      },
      {
       "output_type": "stream",
       "stream": "stdout",
       "text": "\n231\n232"
      },
      {
       "output_type": "stream",
       "stream": "stdout",
       "text": "\n233\n234\n235"
      },
      {
       "output_type": "stream",
       "stream": "stdout",
       "text": "\n236\n237\n238"
      },
      {
       "output_type": "stream",
       "stream": "stdout",
       "text": "\n239\n240"
      },
      {
       "output_type": "stream",
       "stream": "stdout",
       "text": "\n241\n242\n243\n244"
      },
      {
       "output_type": "stream",
       "stream": "stdout",
       "text": "\n245\n246\n247"
      },
      {
       "output_type": "stream",
       "stream": "stdout",
       "text": "\n248"
      },
      {
       "output_type": "stream",
       "stream": "stdout",
       "text": "\n249\n250\n251"
      },
      {
       "output_type": "stream",
       "stream": "stdout",
       "text": "\n252\n253\n254"
      },
      {
       "output_type": "stream",
       "stream": "stdout",
       "text": "\n255\n256"
      },
      {
       "output_type": "stream",
       "stream": "stdout",
       "text": "\n257\n258\n259"
      },
      {
       "output_type": "stream",
       "stream": "stdout",
       "text": "\n260\n261\n262"
      },
      {
       "output_type": "stream",
       "stream": "stdout",
       "text": "\n263\n264"
      },
      {
       "output_type": "stream",
       "stream": "stdout",
       "text": "\n265\n266\n267"
      },
      {
       "output_type": "stream",
       "stream": "stdout",
       "text": "\n268\n269\n270"
      },
      {
       "output_type": "stream",
       "stream": "stdout",
       "text": "\n271\n272"
      },
      {
       "output_type": "stream",
       "stream": "stdout",
       "text": "\n273\n274\n275"
      },
      {
       "output_type": "stream",
       "stream": "stdout",
       "text": "\n276\n277\n278"
      },
      {
       "output_type": "stream",
       "stream": "stdout",
       "text": "\n279\n280"
      },
      {
       "output_type": "stream",
       "stream": "stdout",
       "text": "\n281\n282\n283"
      },
      {
       "output_type": "stream",
       "stream": "stdout",
       "text": "\n284\n285\n286"
      },
      {
       "output_type": "stream",
       "stream": "stdout",
       "text": "\n287\n288"
      },
      {
       "output_type": "stream",
       "stream": "stdout",
       "text": "\n289\n290\n291"
      },
      {
       "output_type": "stream",
       "stream": "stdout",
       "text": "\n292\n293\n294"
      },
      {
       "output_type": "stream",
       "stream": "stdout",
       "text": "\n295\n296"
      },
      {
       "output_type": "stream",
       "stream": "stdout",
       "text": "\n297\n298\n299"
      },
      {
       "output_type": "stream",
       "stream": "stdout",
       "text": "\n300\n301\n302"
      },
      {
       "output_type": "stream",
       "stream": "stdout",
       "text": "\n303\n304"
      },
      {
       "output_type": "stream",
       "stream": "stdout",
       "text": "\n305\n306\n307"
      },
      {
       "output_type": "stream",
       "stream": "stdout",
       "text": "\n308\n309\n310"
      },
      {
       "output_type": "stream",
       "stream": "stdout",
       "text": "\n311\n312"
      },
      {
       "output_type": "stream",
       "stream": "stdout",
       "text": "\n313\n314"
      },
      {
       "output_type": "stream",
       "stream": "stdout",
       "text": "\n315\n316\n317\n318\n319\n320"
      },
      {
       "output_type": "stream",
       "stream": "stdout",
       "text": "\n321\n322\n323"
      },
      {
       "output_type": "stream",
       "stream": "stdout",
       "text": "\n324\n325\n326"
      },
      {
       "output_type": "stream",
       "stream": "stdout",
       "text": "\n327\n328"
      },
      {
       "output_type": "stream",
       "stream": "stdout",
       "text": "\n329\n330\n331"
      },
      {
       "output_type": "stream",
       "stream": "stdout",
       "text": "\n332\n333\n334"
      },
      {
       "output_type": "stream",
       "stream": "stdout",
       "text": "\n335\n336"
      },
      {
       "output_type": "stream",
       "stream": "stdout",
       "text": "\n337\n338\n339"
      },
      {
       "output_type": "stream",
       "stream": "stdout",
       "text": "\n340\n341\n342\n343"
      },
      {
       "output_type": "stream",
       "stream": "stdout",
       "text": "\n344"
      },
      {
       "output_type": "stream",
       "stream": "stdout",
       "text": "\n345\n346\n347"
      },
      {
       "output_type": "stream",
       "stream": "stdout",
       "text": "\n348\n349\n350"
      },
      {
       "output_type": "stream",
       "stream": "stdout",
       "text": "\n351\n352"
      },
      {
       "output_type": "stream",
       "stream": "stdout",
       "text": "\n353\n354\n355"
      },
      {
       "output_type": "stream",
       "stream": "stdout",
       "text": "\n356\n357\n358"
      },
      {
       "output_type": "stream",
       "stream": "stdout",
       "text": "\n359\n360"
      },
      {
       "output_type": "stream",
       "stream": "stdout",
       "text": "\n361\n362\n363"
      },
      {
       "output_type": "stream",
       "stream": "stdout",
       "text": "\n364\n365\n366"
      },
      {
       "output_type": "stream",
       "stream": "stdout",
       "text": "\n367\n368"
      },
      {
       "output_type": "stream",
       "stream": "stdout",
       "text": "\n369\n370\n371"
      },
      {
       "output_type": "stream",
       "stream": "stdout",
       "text": "\n372\n373\n374"
      },
      {
       "output_type": "stream",
       "stream": "stdout",
       "text": "\n375\n376"
      },
      {
       "output_type": "stream",
       "stream": "stdout",
       "text": "\n377\n378\n379"
      },
      {
       "output_type": "stream",
       "stream": "stdout",
       "text": "\n380\n381\n382"
      },
      {
       "output_type": "stream",
       "stream": "stdout",
       "text": "\n383\n384"
      },
      {
       "output_type": "stream",
       "stream": "stdout",
       "text": "\n385\n386\n387"
      },
      {
       "output_type": "stream",
       "stream": "stdout",
       "text": "\n388\n389\n390"
      },
      {
       "output_type": "stream",
       "stream": "stdout",
       "text": "\n391\n392"
      },
      {
       "output_type": "stream",
       "stream": "stdout",
       "text": "\n393\n394\n395"
      },
      {
       "output_type": "stream",
       "stream": "stdout",
       "text": "\n396\n397\n398"
      },
      {
       "output_type": "stream",
       "stream": "stdout",
       "text": "\n399\n400"
      },
      {
       "output_type": "stream",
       "stream": "stdout",
       "text": "\n401\n402\n403"
      },
      {
       "output_type": "stream",
       "stream": "stdout",
       "text": "\n404\n405\n406"
      },
      {
       "output_type": "stream",
       "stream": "stdout",
       "text": "\n407\n408"
      },
      {
       "output_type": "stream",
       "stream": "stdout",
       "text": "\n409\n410\n411"
      },
      {
       "output_type": "stream",
       "stream": "stdout",
       "text": "\n412\n413\n414"
      },
      {
       "output_type": "stream",
       "stream": "stdout",
       "text": "\n415\n416"
      },
      {
       "output_type": "stream",
       "stream": "stdout",
       "text": "\n417\n418\n419"
      },
      {
       "output_type": "stream",
       "stream": "stdout",
       "text": "\n420\n421\n422"
      },
      {
       "output_type": "stream",
       "stream": "stdout",
       "text": "\n423\n424"
      },
      {
       "output_type": "stream",
       "stream": "stdout",
       "text": "\n425\n426\n427"
      },
      {
       "output_type": "stream",
       "stream": "stdout",
       "text": "\n428\n429\n430"
      },
      {
       "output_type": "stream",
       "stream": "stdout",
       "text": "\n431\n432"
      },
      {
       "output_type": "stream",
       "stream": "stdout",
       "text": "\n433\n434\n435"
      },
      {
       "output_type": "stream",
       "stream": "stdout",
       "text": "\n436\n437\n438"
      },
      {
       "output_type": "stream",
       "stream": "stdout",
       "text": "\n439\n440"
      },
      {
       "output_type": "stream",
       "stream": "stdout",
       "text": "\n441\n442\n443"
      },
      {
       "output_type": "stream",
       "stream": "stdout",
       "text": "\n444\n445\n446"
      },
      {
       "output_type": "stream",
       "stream": "stdout",
       "text": "\n447\n448"
      },
      {
       "output_type": "stream",
       "stream": "stdout",
       "text": "\n449\n450\n451"
      },
      {
       "output_type": "stream",
       "stream": "stdout",
       "text": "\n452\n453\n454"
      },
      {
       "output_type": "stream",
       "stream": "stdout",
       "text": "\n455\n456"
      },
      {
       "output_type": "stream",
       "stream": "stdout",
       "text": "\n457\n458\n459"
      },
      {
       "output_type": "stream",
       "stream": "stdout",
       "text": "\n460\n461\n462"
      },
      {
       "output_type": "stream",
       "stream": "stdout",
       "text": "\n463\n464"
      },
      {
       "output_type": "stream",
       "stream": "stdout",
       "text": "\n465\n466\n467"
      },
      {
       "output_type": "stream",
       "stream": "stdout",
       "text": "\n468\n469\n470"
      },
      {
       "output_type": "stream",
       "stream": "stdout",
       "text": "\n471\n472"
      },
      {
       "output_type": "stream",
       "stream": "stdout",
       "text": "\n473\n474\n475"
      },
      {
       "output_type": "stream",
       "stream": "stdout",
       "text": "\n476\n477\n478"
      },
      {
       "output_type": "stream",
       "stream": "stdout",
       "text": "\n479\n480"
      },
      {
       "output_type": "stream",
       "stream": "stdout",
       "text": "\n481\n482\n483"
      },
      {
       "output_type": "stream",
       "stream": "stdout",
       "text": "\n484\n485\n486"
      },
      {
       "output_type": "stream",
       "stream": "stdout",
       "text": "\n487\n488"
      },
      {
       "output_type": "stream",
       "stream": "stdout",
       "text": "\n489\n490\n491"
      },
      {
       "output_type": "stream",
       "stream": "stdout",
       "text": "\n492\n493\n494"
      },
      {
       "output_type": "stream",
       "stream": "stdout",
       "text": "\n495\n496"
      },
      {
       "output_type": "stream",
       "stream": "stdout",
       "text": "\n497\n498\n499"
      },
      {
       "output_type": "stream",
       "stream": "stdout",
       "text": "\n500\n501\n502"
      },
      {
       "output_type": "stream",
       "stream": "stdout",
       "text": "\n503\n504"
      },
      {
       "output_type": "stream",
       "stream": "stdout",
       "text": "\n505\n506\n507"
      },
      {
       "output_type": "stream",
       "stream": "stdout",
       "text": "\n508\n509\n510"
      },
      {
       "output_type": "stream",
       "stream": "stdout",
       "text": "\n511\n512"
      },
      {
       "output_type": "stream",
       "stream": "stdout",
       "text": "\n513\n514\n515"
      },
      {
       "output_type": "stream",
       "stream": "stdout",
       "text": "\n516\n517\n518"
      },
      {
       "output_type": "stream",
       "stream": "stdout",
       "text": "\n519\n520"
      },
      {
       "output_type": "stream",
       "stream": "stdout",
       "text": "\n521\n522\n523"
      },
      {
       "output_type": "stream",
       "stream": "stdout",
       "text": "\n524\n525\n526"
      },
      {
       "output_type": "stream",
       "stream": "stdout",
       "text": "\n527\n528"
      },
      {
       "output_type": "stream",
       "stream": "stdout",
       "text": "\n529\n530\n531"
      },
      {
       "output_type": "stream",
       "stream": "stdout",
       "text": "\n532\n533\n534"
      },
      {
       "output_type": "stream",
       "stream": "stdout",
       "text": "\n535\n536"
      },
      {
       "output_type": "stream",
       "stream": "stdout",
       "text": "\n537\n538\n539"
      },
      {
       "output_type": "stream",
       "stream": "stdout",
       "text": "\n540\n541\n542"
      },
      {
       "output_type": "stream",
       "stream": "stdout",
       "text": "\n543\n544"
      },
      {
       "output_type": "stream",
       "stream": "stdout",
       "text": "\n545\n546\n547"
      },
      {
       "output_type": "stream",
       "stream": "stdout",
       "text": "\n548\n549\n550"
      },
      {
       "output_type": "stream",
       "stream": "stdout",
       "text": "\n551\n552"
      },
      {
       "output_type": "stream",
       "stream": "stdout",
       "text": "\n553\n554\n555"
      },
      {
       "output_type": "stream",
       "stream": "stdout",
       "text": "\n556\n557\n558"
      },
      {
       "output_type": "stream",
       "stream": "stdout",
       "text": "\n559\n560"
      },
      {
       "output_type": "stream",
       "stream": "stdout",
       "text": "\n561\n562\n563"
      },
      {
       "output_type": "stream",
       "stream": "stdout",
       "text": "\n564\n565\n566"
      },
      {
       "output_type": "stream",
       "stream": "stdout",
       "text": "\n567\n568"
      },
      {
       "output_type": "stream",
       "stream": "stdout",
       "text": "\n569\n570\n571"
      },
      {
       "output_type": "stream",
       "stream": "stdout",
       "text": "\n572\n573\n574"
      },
      {
       "output_type": "stream",
       "stream": "stdout",
       "text": "\n575\n576"
      },
      {
       "output_type": "stream",
       "stream": "stdout",
       "text": "\n577\n578\n579"
      },
      {
       "output_type": "stream",
       "stream": "stdout",
       "text": "\n580\n581\n582"
      },
      {
       "output_type": "stream",
       "stream": "stdout",
       "text": "\n583\n584"
      },
      {
       "output_type": "stream",
       "stream": "stdout",
       "text": "\n585\n586\n587"
      },
      {
       "output_type": "stream",
       "stream": "stdout",
       "text": "\n588\n589\n590"
      },
      {
       "output_type": "stream",
       "stream": "stdout",
       "text": "\n591\n592"
      },
      {
       "output_type": "stream",
       "stream": "stdout",
       "text": "\n593\n594\n595"
      },
      {
       "output_type": "stream",
       "stream": "stdout",
       "text": "\n596\n597\n598"
      },
      {
       "output_type": "stream",
       "stream": "stdout",
       "text": "\n599\n600"
      },
      {
       "output_type": "stream",
       "stream": "stdout",
       "text": "\n601\n602\n603"
      },
      {
       "output_type": "stream",
       "stream": "stdout",
       "text": "\n604\n605\n606"
      },
      {
       "output_type": "stream",
       "stream": "stdout",
       "text": "\n607\n608"
      },
      {
       "output_type": "stream",
       "stream": "stdout",
       "text": "\n609\n610\n611"
      },
      {
       "output_type": "stream",
       "stream": "stdout",
       "text": "\n612\n613\n614"
      },
      {
       "output_type": "stream",
       "stream": "stdout",
       "text": "\n615\n616"
      },
      {
       "output_type": "stream",
       "stream": "stdout",
       "text": "\n617\n618\n619"
      },
      {
       "output_type": "stream",
       "stream": "stdout",
       "text": "\n620\n621\n622"
      },
      {
       "output_type": "stream",
       "stream": "stdout",
       "text": "\n623"
      },
      {
       "output_type": "stream",
       "stream": "stdout",
       "text": "\n624"
      },
      {
       "output_type": "stream",
       "stream": "stdout",
       "text": "\n625\n626\n627\n628"
      },
      {
       "output_type": "stream",
       "stream": "stdout",
       "text": "\n629\n630"
      },
      {
       "output_type": "stream",
       "stream": "stdout",
       "text": "\n631\n632"
      },
      {
       "output_type": "stream",
       "stream": "stdout",
       "text": "\n633\n634\n635"
      },
      {
       "output_type": "stream",
       "stream": "stdout",
       "text": "\n636\n637\n638"
      },
      {
       "output_type": "stream",
       "stream": "stdout",
       "text": "\n639\n640"
      },
      {
       "output_type": "stream",
       "stream": "stdout",
       "text": "\n641\n642\n643"
      },
      {
       "output_type": "stream",
       "stream": "stdout",
       "text": "\n644\n645\n646"
      },
      {
       "output_type": "stream",
       "stream": "stdout",
       "text": "\n647\n648"
      },
      {
       "output_type": "stream",
       "stream": "stdout",
       "text": "\n649\n650\n651"
      },
      {
       "output_type": "stream",
       "stream": "stdout",
       "text": "\n652\n653\n654"
      },
      {
       "output_type": "stream",
       "stream": "stdout",
       "text": "\n655\n656"
      },
      {
       "output_type": "stream",
       "stream": "stdout",
       "text": "\n657\n658\n659"
      },
      {
       "output_type": "stream",
       "stream": "stdout",
       "text": "\n660\n661\n662"
      },
      {
       "output_type": "stream",
       "stream": "stdout",
       "text": "\n663\n664"
      },
      {
       "output_type": "stream",
       "stream": "stdout",
       "text": "\n665\n666\n667"
      },
      {
       "output_type": "stream",
       "stream": "stdout",
       "text": "\n668\n669\n670"
      },
      {
       "output_type": "stream",
       "stream": "stdout",
       "text": "\n671\n672"
      },
      {
       "output_type": "stream",
       "stream": "stdout",
       "text": "\n673\n674\n675"
      },
      {
       "output_type": "stream",
       "stream": "stdout",
       "text": "\n676\n677\n678"
      },
      {
       "output_type": "stream",
       "stream": "stdout",
       "text": "\n679\n680"
      },
      {
       "output_type": "stream",
       "stream": "stdout",
       "text": "\n681\n682\n683"
      },
      {
       "output_type": "stream",
       "stream": "stdout",
       "text": "\n684\n685\n686"
      },
      {
       "output_type": "stream",
       "stream": "stdout",
       "text": "\n687\n688"
      },
      {
       "output_type": "stream",
       "stream": "stdout",
       "text": "\n689\n690\n691"
      },
      {
       "output_type": "stream",
       "stream": "stdout",
       "text": "\n692\n693\n694"
      },
      {
       "output_type": "stream",
       "stream": "stdout",
       "text": "\n695\n696"
      },
      {
       "output_type": "stream",
       "stream": "stdout",
       "text": "\n697\n698\n699"
      },
      {
       "output_type": "stream",
       "stream": "stdout",
       "text": "\n700\n701\n702"
      },
      {
       "output_type": "stream",
       "stream": "stdout",
       "text": "\n703\n704"
      },
      {
       "output_type": "stream",
       "stream": "stdout",
       "text": "\n705\n706\n707"
      },
      {
       "output_type": "stream",
       "stream": "stdout",
       "text": "\n708\n709\n710"
      },
      {
       "output_type": "stream",
       "stream": "stdout",
       "text": "\n711\n712"
      },
      {
       "output_type": "stream",
       "stream": "stdout",
       "text": "\n713\n714\n715"
      },
      {
       "output_type": "stream",
       "stream": "stdout",
       "text": "\n716\n717\n718"
      },
      {
       "output_type": "stream",
       "stream": "stdout",
       "text": "\n719\n720"
      },
      {
       "output_type": "stream",
       "stream": "stdout",
       "text": "\n721\n722\n723"
      },
      {
       "output_type": "stream",
       "stream": "stdout",
       "text": "\n724\n725\n726"
      },
      {
       "output_type": "stream",
       "stream": "stdout",
       "text": "\n727\n728"
      },
      {
       "output_type": "stream",
       "stream": "stdout",
       "text": "\n729\n730\n731"
      },
      {
       "output_type": "stream",
       "stream": "stdout",
       "text": "\n732\n733\n734"
      },
      {
       "output_type": "stream",
       "stream": "stdout",
       "text": "\n735\n736"
      },
      {
       "output_type": "stream",
       "stream": "stdout",
       "text": "\n737\n738\n739"
      },
      {
       "output_type": "stream",
       "stream": "stdout",
       "text": "\n740\n741\n742"
      },
      {
       "output_type": "stream",
       "stream": "stdout",
       "text": "\n743\n744"
      },
      {
       "output_type": "stream",
       "stream": "stdout",
       "text": "\n745\n746\n747"
      },
      {
       "output_type": "stream",
       "stream": "stdout",
       "text": "\n748\n749\n750"
      },
      {
       "output_type": "stream",
       "stream": "stdout",
       "text": "\n751\n752"
      },
      {
       "output_type": "stream",
       "stream": "stdout",
       "text": "\n753\n754\n755"
      },
      {
       "output_type": "stream",
       "stream": "stdout",
       "text": "\n756\n757\n758"
      },
      {
       "output_type": "stream",
       "stream": "stdout",
       "text": "\n759\n760"
      },
      {
       "output_type": "stream",
       "stream": "stdout",
       "text": "\n761\n762\n763"
      },
      {
       "output_type": "stream",
       "stream": "stdout",
       "text": "\n764\n765\n766"
      },
      {
       "output_type": "stream",
       "stream": "stdout",
       "text": "\n767\n768"
      },
      {
       "output_type": "stream",
       "stream": "stdout",
       "text": "\n769\n770\n771"
      },
      {
       "output_type": "stream",
       "stream": "stdout",
       "text": "\n772\n773"
      },
      {
       "output_type": "stream",
       "stream": "stdout",
       "text": "\n774\n775\n776"
      },
      {
       "output_type": "stream",
       "stream": "stdout",
       "text": "\n777\n778\n779"
      },
      {
       "output_type": "stream",
       "stream": "stdout",
       "text": "\n780\n781\n782"
      },
      {
       "output_type": "stream",
       "stream": "stdout",
       "text": "\n783\n784"
      },
      {
       "output_type": "stream",
       "stream": "stdout",
       "text": "\n785\n786\n787"
      },
      {
       "output_type": "stream",
       "stream": "stdout",
       "text": "\n788\n789\n790"
      },
      {
       "output_type": "stream",
       "stream": "stdout",
       "text": "\n791\n792"
      },
      {
       "output_type": "stream",
       "stream": "stdout",
       "text": "\n793\n794\n795"
      },
      {
       "output_type": "stream",
       "stream": "stdout",
       "text": "\n796\n797\n798"
      },
      {
       "output_type": "stream",
       "stream": "stdout",
       "text": "\n799\n800"
      },
      {
       "output_type": "stream",
       "stream": "stdout",
       "text": "\n801\n802\n803"
      },
      {
       "output_type": "stream",
       "stream": "stdout",
       "text": "\n804\n805\n806"
      },
      {
       "output_type": "stream",
       "stream": "stdout",
       "text": "\n807\n808"
      },
      {
       "output_type": "stream",
       "stream": "stdout",
       "text": "\n809\n810\n811"
      },
      {
       "output_type": "stream",
       "stream": "stdout",
       "text": "\n812\n813\n814"
      },
      {
       "output_type": "stream",
       "stream": "stdout",
       "text": "\n815\n816"
      },
      {
       "output_type": "stream",
       "stream": "stdout",
       "text": "\n817\n818\n819"
      },
      {
       "output_type": "stream",
       "stream": "stdout",
       "text": "\n820\n821\n822"
      },
      {
       "output_type": "stream",
       "stream": "stdout",
       "text": "\n823\n824"
      },
      {
       "output_type": "stream",
       "stream": "stdout",
       "text": "\n825\n826\n827"
      },
      {
       "output_type": "stream",
       "stream": "stdout",
       "text": "\n828\n829\n830"
      },
      {
       "output_type": "stream",
       "stream": "stdout",
       "text": "\n831\n832"
      },
      {
       "output_type": "stream",
       "stream": "stdout",
       "text": "\n833\n834\n835"
      },
      {
       "output_type": "stream",
       "stream": "stdout",
       "text": "\n836\n837\n838"
      },
      {
       "output_type": "stream",
       "stream": "stdout",
       "text": "\n839\n840"
      },
      {
       "output_type": "stream",
       "stream": "stdout",
       "text": "\n841\n842\n843"
      },
      {
       "output_type": "stream",
       "stream": "stdout",
       "text": "\n844\n845\n846"
      },
      {
       "output_type": "stream",
       "stream": "stdout",
       "text": "\n847\n848"
      },
      {
       "output_type": "stream",
       "stream": "stdout",
       "text": "\n849\n850\n851"
      },
      {
       "output_type": "stream",
       "stream": "stdout",
       "text": "\n852\n853\n854"
      },
      {
       "output_type": "stream",
       "stream": "stdout",
       "text": "\n855\n856"
      },
      {
       "output_type": "stream",
       "stream": "stdout",
       "text": "\n857\n858\n859"
      },
      {
       "output_type": "stream",
       "stream": "stdout",
       "text": "\n860\n861\n862"
      },
      {
       "output_type": "stream",
       "stream": "stdout",
       "text": "\n863\n864"
      },
      {
       "output_type": "stream",
       "stream": "stdout",
       "text": "\n865\n866"
      },
      {
       "output_type": "stream",
       "stream": "stdout",
       "text": "\n867\n868\n869"
      },
      {
       "output_type": "stream",
       "stream": "stdout",
       "text": "\n870\n871\n872"
      },
      {
       "output_type": "stream",
       "stream": "stdout",
       "text": "\n873\n874\n875"
      },
      {
       "output_type": "stream",
       "stream": "stdout",
       "text": "\n876\n877\n878"
      },
      {
       "output_type": "stream",
       "stream": "stdout",
       "text": "\n879\n880"
      },
      {
       "output_type": "stream",
       "stream": "stdout",
       "text": "\n881\n882\n883"
      },
      {
       "output_type": "stream",
       "stream": "stdout",
       "text": "\n884\n885\n886"
      },
      {
       "output_type": "stream",
       "stream": "stdout",
       "text": "\n887\n888"
      },
      {
       "output_type": "stream",
       "stream": "stdout",
       "text": "\n889\n890\n891"
      },
      {
       "output_type": "stream",
       "stream": "stdout",
       "text": "\n892\n893\n894"
      },
      {
       "output_type": "stream",
       "stream": "stdout",
       "text": "\n895\n896"
      },
      {
       "output_type": "stream",
       "stream": "stdout",
       "text": "\n897\n898\n899"
      },
      {
       "output_type": "stream",
       "stream": "stdout",
       "text": "\n900\n901\n902"
      },
      {
       "output_type": "stream",
       "stream": "stdout",
       "text": "\n903\n904"
      },
      {
       "output_type": "stream",
       "stream": "stdout",
       "text": "\n905\n906\n907"
      },
      {
       "output_type": "stream",
       "stream": "stdout",
       "text": "\n908\n909\n910"
      },
      {
       "output_type": "stream",
       "stream": "stdout",
       "text": "\n911\n912"
      },
      {
       "output_type": "stream",
       "stream": "stdout",
       "text": "\n913\n914\n915"
      },
      {
       "output_type": "stream",
       "stream": "stdout",
       "text": "\n916\n917\n918"
      },
      {
       "output_type": "stream",
       "stream": "stdout",
       "text": "\n919\n920"
      },
      {
       "output_type": "stream",
       "stream": "stdout",
       "text": "\n921\n922\n923\n924"
      },
      {
       "output_type": "stream",
       "stream": "stdout",
       "text": "\n925\n926"
      },
      {
       "output_type": "stream",
       "stream": "stdout",
       "text": "\n927\n928"
      },
      {
       "output_type": "stream",
       "stream": "stdout",
       "text": "\n929\n930\n931"
      },
      {
       "output_type": "stream",
       "stream": "stdout",
       "text": "\n932\n933\n934"
      },
      {
       "output_type": "stream",
       "stream": "stdout",
       "text": "\n935\n936"
      },
      {
       "output_type": "stream",
       "stream": "stdout",
       "text": "\n937\n938\n939"
      },
      {
       "output_type": "stream",
       "stream": "stdout",
       "text": "\n940\n941\n942"
      },
      {
       "output_type": "stream",
       "stream": "stdout",
       "text": "\n943\n944"
      },
      {
       "output_type": "stream",
       "stream": "stdout",
       "text": "\n945\n946\n947"
      },
      {
       "output_type": "stream",
       "stream": "stdout",
       "text": "\n948\n949\n950"
      },
      {
       "output_type": "stream",
       "stream": "stdout",
       "text": "\n951\n952"
      },
      {
       "output_type": "stream",
       "stream": "stdout",
       "text": "\n953\n954\n955"
      },
      {
       "output_type": "stream",
       "stream": "stdout",
       "text": "\n956\n957\n958"
      },
      {
       "output_type": "stream",
       "stream": "stdout",
       "text": "\n959\n960"
      },
      {
       "output_type": "stream",
       "stream": "stdout",
       "text": "\n961\n962\n963\n964"
      },
      {
       "output_type": "stream",
       "stream": "stdout",
       "text": "\n965\n966\n967"
      },
      {
       "output_type": "stream",
       "stream": "stdout",
       "text": "\n968"
      },
      {
       "output_type": "stream",
       "stream": "stdout",
       "text": "\n969\n970\n971"
      },
      {
       "output_type": "stream",
       "stream": "stdout",
       "text": "\n972\n973\n974"
      },
      {
       "output_type": "stream",
       "stream": "stdout",
       "text": "\n975\n976"
      },
      {
       "output_type": "stream",
       "stream": "stdout",
       "text": "\n977\n978\n979"
      },
      {
       "output_type": "stream",
       "stream": "stdout",
       "text": "\n980\n981\n982"
      },
      {
       "output_type": "stream",
       "stream": "stdout",
       "text": "\n983\n984"
      },
      {
       "output_type": "stream",
       "stream": "stdout",
       "text": "\n985\n986\n987"
      },
      {
       "output_type": "stream",
       "stream": "stdout",
       "text": "\n988\n989\n990"
      },
      {
       "output_type": "stream",
       "stream": "stdout",
       "text": "\n991\n992"
      },
      {
       "output_type": "stream",
       "stream": "stdout",
       "text": "\n993\n994\n995"
      },
      {
       "output_type": "stream",
       "stream": "stdout",
       "text": "\n996\n997\n998"
      },
      {
       "output_type": "stream",
       "stream": "stdout",
       "text": "\n999\n1000"
      },
      {
       "output_type": "stream",
       "stream": "stdout",
       "text": "\n1001\n1002\n1003"
      },
      {
       "output_type": "stream",
       "stream": "stdout",
       "text": "\n1004\n1005\n1006"
      },
      {
       "output_type": "stream",
       "stream": "stdout",
       "text": "\n1007\n1008"
      },
      {
       "output_type": "stream",
       "stream": "stdout",
       "text": "\n1009\n1010\n1011"
      },
      {
       "output_type": "stream",
       "stream": "stdout",
       "text": "\n1012\n1013\n1014"
      },
      {
       "output_type": "stream",
       "stream": "stdout",
       "text": "\n1015\n1016"
      },
      {
       "output_type": "stream",
       "stream": "stdout",
       "text": "\n1017\n1018\n1019"
      },
      {
       "output_type": "stream",
       "stream": "stdout",
       "text": "\n1020\n1021\n1022"
      },
      {
       "output_type": "stream",
       "stream": "stdout",
       "text": "\n1023\n1024"
      },
      {
       "output_type": "stream",
       "stream": "stdout",
       "text": "\n1025\n1026\n1027"
      },
      {
       "output_type": "stream",
       "stream": "stdout",
       "text": "\n1028\n1029\n1030"
      },
      {
       "output_type": "stream",
       "stream": "stdout",
       "text": "\n1031\n1032"
      },
      {
       "output_type": "stream",
       "stream": "stdout",
       "text": "\n1033\n1034\n1035"
      },
      {
       "output_type": "stream",
       "stream": "stdout",
       "text": "\n1036\n1037\n1038"
      },
      {
       "output_type": "stream",
       "stream": "stdout",
       "text": "\n1039\n1040"
      },
      {
       "output_type": "stream",
       "stream": "stdout",
       "text": "\n1041\n1042\n1043"
      },
      {
       "output_type": "stream",
       "stream": "stdout",
       "text": "\n1044\n1045\n1046"
      },
      {
       "output_type": "stream",
       "stream": "stdout",
       "text": "\n1047\n1048"
      },
      {
       "output_type": "stream",
       "stream": "stdout",
       "text": "\n1049\n1050\n1051"
      },
      {
       "output_type": "stream",
       "stream": "stdout",
       "text": "\n1052\n1053\n1054"
      },
      {
       "output_type": "stream",
       "stream": "stdout",
       "text": "\n1055\n1056"
      },
      {
       "output_type": "stream",
       "stream": "stdout",
       "text": "\n1057\n1058\n1059"
      },
      {
       "output_type": "stream",
       "stream": "stdout",
       "text": "\n1060\n1061\n1062"
      },
      {
       "output_type": "stream",
       "stream": "stdout",
       "text": "\n1063\n1064"
      },
      {
       "output_type": "stream",
       "stream": "stdout",
       "text": "\n1065\n1066\n1067"
      },
      {
       "output_type": "stream",
       "stream": "stdout",
       "text": "\n1068\n1069\n1070"
      },
      {
       "output_type": "stream",
       "stream": "stdout",
       "text": "\n1071\n1072"
      },
      {
       "output_type": "stream",
       "stream": "stdout",
       "text": "\n1073\n1074\n1075"
      },
      {
       "output_type": "stream",
       "stream": "stdout",
       "text": "\n1076\n1077\n1078\n1079"
      },
      {
       "output_type": "stream",
       "stream": "stdout",
       "text": "\n1080"
      },
      {
       "output_type": "stream",
       "stream": "stdout",
       "text": "\n1081\n1082\n1083"
      },
      {
       "output_type": "stream",
       "stream": "stdout",
       "text": "\n1084\n1085\n1086"
      },
      {
       "output_type": "stream",
       "stream": "stdout",
       "text": "\n1087\n1088"
      },
      {
       "output_type": "stream",
       "stream": "stdout",
       "text": "\n1089\n1090\n1091"
      },
      {
       "output_type": "stream",
       "stream": "stdout",
       "text": "\n1092\n1093\n1094"
      },
      {
       "output_type": "stream",
       "stream": "stdout",
       "text": "\n1095\n1096"
      },
      {
       "output_type": "stream",
       "stream": "stdout",
       "text": "\n1097\n1098\n1099"
      },
      {
       "output_type": "stream",
       "stream": "stdout",
       "text": "\n1100\n1101\n1102"
      },
      {
       "output_type": "stream",
       "stream": "stdout",
       "text": "\n1103\n1104"
      },
      {
       "output_type": "stream",
       "stream": "stdout",
       "text": "\n1105\n1106\n1107"
      },
      {
       "output_type": "stream",
       "stream": "stdout",
       "text": "\n1108\n1109\n1110"
      },
      {
       "output_type": "stream",
       "stream": "stdout",
       "text": "\n1111\n1112"
      },
      {
       "output_type": "stream",
       "stream": "stdout",
       "text": "\n1113\n1114\n1115"
      },
      {
       "output_type": "stream",
       "stream": "stdout",
       "text": "\n1116\n1117\n1118"
      },
      {
       "output_type": "stream",
       "stream": "stdout",
       "text": "\n1119\n1120"
      },
      {
       "output_type": "stream",
       "stream": "stdout",
       "text": "\n1121\n1122\n1123"
      },
      {
       "output_type": "stream",
       "stream": "stdout",
       "text": "\n1124\n1125\n1126"
      },
      {
       "output_type": "stream",
       "stream": "stdout",
       "text": "\n1127\n1128"
      },
      {
       "output_type": "stream",
       "stream": "stdout",
       "text": "\n1129\n1130\n1131"
      },
      {
       "output_type": "stream",
       "stream": "stdout",
       "text": "\n1132\n1133\n1134"
      },
      {
       "output_type": "stream",
       "stream": "stdout",
       "text": "\n1135\n1136"
      },
      {
       "output_type": "stream",
       "stream": "stdout",
       "text": "\n1137\n1138\n1139"
      },
      {
       "output_type": "stream",
       "stream": "stdout",
       "text": "\n1140\n1141\n1142"
      },
      {
       "output_type": "stream",
       "stream": "stdout",
       "text": "\n1143\n1144"
      },
      {
       "output_type": "stream",
       "stream": "stdout",
       "text": "\n1145\n1146\n1147"
      },
      {
       "output_type": "stream",
       "stream": "stdout",
       "text": "\n1148\n1149\n1150"
      },
      {
       "output_type": "stream",
       "stream": "stdout",
       "text": "\n1151\n1152"
      },
      {
       "output_type": "stream",
       "stream": "stdout",
       "text": "\n1153\n1154\n1155"
      },
      {
       "output_type": "stream",
       "stream": "stdout",
       "text": "\n1156\n1157\n1158"
      },
      {
       "output_type": "stream",
       "stream": "stdout",
       "text": "\n1159\n1160"
      },
      {
       "output_type": "stream",
       "stream": "stdout",
       "text": "\n1161\n1162\n1163"
      },
      {
       "output_type": "stream",
       "stream": "stdout",
       "text": "\n1164\n1165\n1166"
      },
      {
       "output_type": "stream",
       "stream": "stdout",
       "text": "\n1167\n1168"
      },
      {
       "output_type": "stream",
       "stream": "stdout",
       "text": "\n1169\n1170\n1171"
      },
      {
       "output_type": "stream",
       "stream": "stdout",
       "text": "\n1172\n1173\n1174"
      },
      {
       "output_type": "stream",
       "stream": "stdout",
       "text": "\n1175\n1176"
      },
      {
       "output_type": "stream",
       "stream": "stdout",
       "text": "\n1177\n1178\n1179"
      },
      {
       "output_type": "stream",
       "stream": "stdout",
       "text": "\n1180\n1181\n1182"
      },
      {
       "output_type": "stream",
       "stream": "stdout",
       "text": "\n1183\n1184"
      },
      {
       "output_type": "stream",
       "stream": "stdout",
       "text": "\n1185\n1186\n1187"
      },
      {
       "output_type": "stream",
       "stream": "stdout",
       "text": "\n1188\n1189\n1190"
      },
      {
       "output_type": "stream",
       "stream": "stdout",
       "text": "\n1191\n1192"
      },
      {
       "output_type": "stream",
       "stream": "stdout",
       "text": "\n1193\n1194\n1195"
      },
      {
       "output_type": "stream",
       "stream": "stdout",
       "text": "\n1196\n1197\n1198"
      },
      {
       "output_type": "stream",
       "stream": "stdout",
       "text": "\n1199\n1200"
      },
      {
       "output_type": "stream",
       "stream": "stdout",
       "text": "\n1201\n1202\n1203"
      },
      {
       "output_type": "stream",
       "stream": "stdout",
       "text": "\n1204\n1205\n1206"
      },
      {
       "output_type": "stream",
       "stream": "stdout",
       "text": "\n1207\n1208"
      },
      {
       "output_type": "stream",
       "stream": "stdout",
       "text": "\n1209\n1210\n1211"
      },
      {
       "output_type": "stream",
       "stream": "stdout",
       "text": "\n1212\n1213"
      },
      {
       "output_type": "stream",
       "stream": "stdout",
       "text": "\n1214\n1215\n1216"
      },
      {
       "output_type": "stream",
       "stream": "stdout",
       "text": "\n1217\n1218\n1219"
      },
      {
       "output_type": "stream",
       "stream": "stdout",
       "text": "\n1220\n1221\n1222"
      },
      {
       "output_type": "stream",
       "stream": "stdout",
       "text": "\n1223\n1224"
      },
      {
       "output_type": "stream",
       "stream": "stdout",
       "text": "\n1225\n1226\n1227"
      },
      {
       "output_type": "stream",
       "stream": "stdout",
       "text": "\n1228\n1229\n1230"
      },
      {
       "output_type": "stream",
       "stream": "stdout",
       "text": "\n1231\n1232"
      },
      {
       "output_type": "stream",
       "stream": "stdout",
       "text": "\n1233\n1234\n1235"
      },
      {
       "output_type": "stream",
       "stream": "stdout",
       "text": "\n1236\n1237\n1238"
      },
      {
       "output_type": "stream",
       "stream": "stdout",
       "text": "\n1239\n1240"
      },
      {
       "output_type": "stream",
       "stream": "stdout",
       "text": "\n1241\n1242\n1243"
      },
      {
       "output_type": "stream",
       "stream": "stdout",
       "text": "\n1244\n1245\n1246"
      },
      {
       "output_type": "stream",
       "stream": "stdout",
       "text": "\n1247\n1248"
      },
      {
       "output_type": "stream",
       "stream": "stdout",
       "text": "\n1249\n1250\n1251"
      },
      {
       "output_type": "stream",
       "stream": "stdout",
       "text": "\n1252\n1253"
      },
      {
       "output_type": "stream",
       "stream": "stdout",
       "text": "\n1254\n1255\n1256"
      },
      {
       "output_type": "stream",
       "stream": "stdout",
       "text": "\n1257\n1258\n1259"
      },
      {
       "output_type": "stream",
       "stream": "stdout",
       "text": "\n1260\n1261\n1262"
      },
      {
       "output_type": "stream",
       "stream": "stdout",
       "text": "\n1263\n1264"
      },
      {
       "output_type": "stream",
       "stream": "stdout",
       "text": "\n1265\n1266\n1267"
      },
      {
       "output_type": "stream",
       "stream": "stdout",
       "text": "\n1268\n1269\n1270"
      },
      {
       "output_type": "stream",
       "stream": "stdout",
       "text": "\n1271\n1272"
      },
      {
       "output_type": "stream",
       "stream": "stdout",
       "text": "\n1273\n1274\n1275"
      },
      {
       "output_type": "stream",
       "stream": "stdout",
       "text": "\n1276\n1277\n1278"
      },
      {
       "output_type": "stream",
       "stream": "stdout",
       "text": "\n1279\n1280"
      },
      {
       "output_type": "stream",
       "stream": "stdout",
       "text": "\n1281\n1282\n1283"
      },
      {
       "output_type": "stream",
       "stream": "stdout",
       "text": "\n1284\n1285"
      },
      {
       "output_type": "stream",
       "stream": "stdout",
       "text": "\n1286\n1287\n1288"
      },
      {
       "output_type": "stream",
       "stream": "stdout",
       "text": "\n1289\n1290\n1291"
      },
      {
       "output_type": "stream",
       "stream": "stdout",
       "text": "\n1292\n1293\n1294"
      },
      {
       "output_type": "stream",
       "stream": "stdout",
       "text": "\n1295\n1296"
      },
      {
       "output_type": "stream",
       "stream": "stdout",
       "text": "\n1297\n1298\n1299"
      },
      {
       "output_type": "stream",
       "stream": "stdout",
       "text": "\n1300\n1301\n1302"
      },
      {
       "output_type": "stream",
       "stream": "stdout",
       "text": "\n1303\n1304"
      },
      {
       "output_type": "stream",
       "stream": "stdout",
       "text": "\n1305\n1306\n1307"
      },
      {
       "output_type": "stream",
       "stream": "stdout",
       "text": "\n1308\n1309\n1310"
      },
      {
       "output_type": "stream",
       "stream": "stdout",
       "text": "\n1311\n1312"
      },
      {
       "output_type": "stream",
       "stream": "stdout",
       "text": "\n1313\n1314\n1315"
      },
      {
       "output_type": "stream",
       "stream": "stdout",
       "text": "\n1316\n1317\n1318"
      },
      {
       "output_type": "stream",
       "stream": "stdout",
       "text": "\n1319\n1320"
      },
      {
       "output_type": "stream",
       "stream": "stdout",
       "text": "\n1321\n1322\n1323"
      },
      {
       "output_type": "stream",
       "stream": "stdout",
       "text": "\n1324\n1325\n1326"
      },
      {
       "output_type": "stream",
       "stream": "stdout",
       "text": "\n1327\n1328"
      },
      {
       "output_type": "stream",
       "stream": "stdout",
       "text": "\n1329\n1330\n1331"
      },
      {
       "output_type": "stream",
       "stream": "stdout",
       "text": "\n1332\n1333\n1334"
      },
      {
       "output_type": "stream",
       "stream": "stdout",
       "text": "\n1335\n1336"
      },
      {
       "output_type": "stream",
       "stream": "stdout",
       "text": "\n1337\n1338"
      },
      {
       "output_type": "stream",
       "stream": "stdout",
       "text": "\n1339\n1340\n1341"
      },
      {
       "output_type": "stream",
       "stream": "stdout",
       "text": "\n1342\n1343\n1344"
      },
      {
       "output_type": "stream",
       "stream": "stdout",
       "text": "\n1345\n1346\n1347"
      },
      {
       "output_type": "stream",
       "stream": "stdout",
       "text": "\n1348\n1349\n1350"
      },
      {
       "output_type": "stream",
       "stream": "stdout",
       "text": "\n1351\n1352"
      },
      {
       "output_type": "stream",
       "stream": "stdout",
       "text": "\n1353\n1354\n1355"
      },
      {
       "output_type": "stream",
       "stream": "stdout",
       "text": "\n1356\n1357\n1358"
      },
      {
       "output_type": "stream",
       "stream": "stdout",
       "text": "\n1359\n1360"
      },
      {
       "output_type": "stream",
       "stream": "stdout",
       "text": "\n1361\n1362\n1363"
      },
      {
       "output_type": "stream",
       "stream": "stdout",
       "text": "\n1364\n1365\n1366"
      },
      {
       "output_type": "stream",
       "stream": "stdout",
       "text": "\n1367\n1368"
      },
      {
       "output_type": "stream",
       "stream": "stdout",
       "text": "\n1369\n1370\n1371"
      },
      {
       "output_type": "stream",
       "stream": "stdout",
       "text": "\n1372\n1373\n1374"
      },
      {
       "output_type": "stream",
       "stream": "stdout",
       "text": "\n1375\n1376"
      },
      {
       "output_type": "stream",
       "stream": "stdout",
       "text": "\n1377\n1378\n1379"
      },
      {
       "output_type": "stream",
       "stream": "stdout",
       "text": "\n1380\n1381\n1382"
      },
      {
       "output_type": "stream",
       "stream": "stdout",
       "text": "\n1383\n1384"
      },
      {
       "output_type": "stream",
       "stream": "stdout",
       "text": "\n1385\n1386\n1387"
      },
      {
       "output_type": "stream",
       "stream": "stdout",
       "text": "\n1388\n1389\n1390"
      },
      {
       "output_type": "stream",
       "stream": "stdout",
       "text": "\n1391\n1392"
      },
      {
       "output_type": "stream",
       "stream": "stdout",
       "text": "\n1393\n1394"
      },
      {
       "output_type": "stream",
       "stream": "stdout",
       "text": "\n1395\n1396\n1397"
      },
      {
       "output_type": "stream",
       "stream": "stdout",
       "text": "\n1398\n1399\n1400"
      },
      {
       "output_type": "stream",
       "stream": "stdout",
       "text": "\n1401\n1402\n1403"
      },
      {
       "output_type": "stream",
       "stream": "stdout",
       "text": "\n1404\n1405\n1406"
      },
      {
       "output_type": "stream",
       "stream": "stdout",
       "text": "\n1407\n1408"
      },
      {
       "output_type": "stream",
       "stream": "stdout",
       "text": "\n1409\n1410\n1411"
      },
      {
       "output_type": "stream",
       "stream": "stdout",
       "text": "\n1412\n1413\n1414"
      },
      {
       "output_type": "stream",
       "stream": "stdout",
       "text": "\n1415\n1416"
      },
      {
       "output_type": "stream",
       "stream": "stdout",
       "text": "\n1417\n1418\n1419"
      },
      {
       "output_type": "stream",
       "stream": "stdout",
       "text": "\n1420\n1421\n1422"
      },
      {
       "output_type": "stream",
       "stream": "stdout",
       "text": "\n1423\n1424"
      },
      {
       "output_type": "stream",
       "stream": "stdout",
       "text": "\n1425\n1426\n1427"
      },
      {
       "output_type": "stream",
       "stream": "stdout",
       "text": "\n1428\n1429\n1430"
      },
      {
       "output_type": "stream",
       "stream": "stdout",
       "text": "\n1431\n1432"
      },
      {
       "output_type": "stream",
       "stream": "stdout",
       "text": "\n1433\n1434\n1435"
      },
      {
       "output_type": "stream",
       "stream": "stdout",
       "text": "\n1436\n1437\n1438"
      },
      {
       "output_type": "stream",
       "stream": "stdout",
       "text": "\n1439\n1440"
      },
      {
       "output_type": "stream",
       "stream": "stdout",
       "text": "\n1441\n1442\n1443"
      },
      {
       "output_type": "stream",
       "stream": "stdout",
       "text": "\n1444\n1445\n1446"
      },
      {
       "output_type": "stream",
       "stream": "stdout",
       "text": "\n1447\n1448"
      },
      {
       "output_type": "stream",
       "stream": "stdout",
       "text": "\n1449\n1450\n1451"
      },
      {
       "output_type": "stream",
       "stream": "stdout",
       "text": "\n1452\n1453\n1454"
      },
      {
       "output_type": "stream",
       "stream": "stdout",
       "text": "\n1455\n1456"
      },
      {
       "output_type": "stream",
       "stream": "stdout",
       "text": "\n1457\n1458\n1459"
      },
      {
       "output_type": "stream",
       "stream": "stdout",
       "text": "\n1460\n1461\n1462"
      },
      {
       "output_type": "stream",
       "stream": "stdout",
       "text": "\n1463\n1464"
      },
      {
       "output_type": "stream",
       "stream": "stdout",
       "text": "\n1465\n1466\n1467"
      },
      {
       "output_type": "stream",
       "stream": "stdout",
       "text": "\n1468\n1469\n1470"
      },
      {
       "output_type": "stream",
       "stream": "stdout",
       "text": "\n1471\n1472"
      },
      {
       "output_type": "stream",
       "stream": "stdout",
       "text": "\n1473\n1474\n1475"
      },
      {
       "output_type": "stream",
       "stream": "stdout",
       "text": "\n1476\n1477\n1478"
      },
      {
       "output_type": "stream",
       "stream": "stdout",
       "text": "\n1479\n1480"
      },
      {
       "output_type": "stream",
       "stream": "stdout",
       "text": "\n1481\n1482\n1483"
      },
      {
       "output_type": "stream",
       "stream": "stdout",
       "text": "\n1484\n1485\n1486"
      },
      {
       "output_type": "stream",
       "stream": "stdout",
       "text": "\n1487\n1488"
      },
      {
       "output_type": "stream",
       "stream": "stdout",
       "text": "\n1489\n1490\n1491"
      },
      {
       "output_type": "stream",
       "stream": "stdout",
       "text": "\n1492\n1493\n1494"
      },
      {
       "output_type": "stream",
       "stream": "stdout",
       "text": "\n1495\n1496"
      },
      {
       "output_type": "stream",
       "stream": "stdout",
       "text": "\n1497\n1498\n1499"
      },
      {
       "output_type": "stream",
       "stream": "stdout",
       "text": "\n1500\n1501\n1502"
      },
      {
       "output_type": "stream",
       "stream": "stdout",
       "text": "\n1503\n1504"
      },
      {
       "output_type": "stream",
       "stream": "stdout",
       "text": "\n1505\n1506\n1507"
      },
      {
       "output_type": "stream",
       "stream": "stdout",
       "text": "\n1508\n1509\n1510"
      },
      {
       "output_type": "stream",
       "stream": "stdout",
       "text": "\n1511\n1512"
      },
      {
       "output_type": "stream",
       "stream": "stdout",
       "text": "\n1513\n1514\n1515"
      },
      {
       "output_type": "stream",
       "stream": "stdout",
       "text": "\n1516\n1517\n1518"
      },
      {
       "output_type": "stream",
       "stream": "stdout",
       "text": "\n1519\n1520"
      },
      {
       "output_type": "stream",
       "stream": "stdout",
       "text": "\n1521\n1522\n1523"
      },
      {
       "output_type": "stream",
       "stream": "stdout",
       "text": "\n1524\n1525\n1526"
      },
      {
       "output_type": "stream",
       "stream": "stdout",
       "text": "\n1527\n1528"
      },
      {
       "output_type": "stream",
       "stream": "stdout",
       "text": "\n1529\n1530\n1531"
      },
      {
       "output_type": "stream",
       "stream": "stdout",
       "text": "\n1532\n1533\n1534"
      },
      {
       "output_type": "stream",
       "stream": "stdout",
       "text": "\n1535\n1536"
      },
      {
       "output_type": "stream",
       "stream": "stdout",
       "text": "\n1537\n1538\n1539"
      },
      {
       "output_type": "stream",
       "stream": "stdout",
       "text": "\n1540\n1541\n1542"
      },
      {
       "output_type": "stream",
       "stream": "stdout",
       "text": "\n1543\n1544"
      },
      {
       "output_type": "stream",
       "stream": "stdout",
       "text": "\n1545\n1546\n1547"
      },
      {
       "output_type": "stream",
       "stream": "stdout",
       "text": "\n1548\n1549\n1550"
      },
      {
       "output_type": "stream",
       "stream": "stdout",
       "text": "\n1551\n1552"
      },
      {
       "output_type": "stream",
       "stream": "stdout",
       "text": "\n1553\n1554\n1555"
      },
      {
       "output_type": "stream",
       "stream": "stdout",
       "text": "\n1556\n1557\n1558"
      },
      {
       "output_type": "stream",
       "stream": "stdout",
       "text": "\n1559\n1560"
      },
      {
       "output_type": "stream",
       "stream": "stdout",
       "text": "\n1561\n1562\n1563"
      },
      {
       "output_type": "stream",
       "stream": "stdout",
       "text": "\n1564"
      },
      {
       "output_type": "stream",
       "stream": "stdout",
       "text": "\n1565\n1566\n1567\n1568"
      },
      {
       "output_type": "stream",
       "stream": "stdout",
       "text": "\n1569\n1570\n1571"
      },
      {
       "output_type": "stream",
       "stream": "stdout",
       "text": "\n1572\n1573\n1574"
      },
      {
       "output_type": "stream",
       "stream": "stdout",
       "text": "\n1575\n1576"
      },
      {
       "output_type": "stream",
       "stream": "stdout",
       "text": "\n1577\n1578\n1579"
      },
      {
       "output_type": "stream",
       "stream": "stdout",
       "text": "\n1580\n1581\n1582"
      },
      {
       "output_type": "stream",
       "stream": "stdout",
       "text": "\n1583\n1584"
      },
      {
       "output_type": "stream",
       "stream": "stdout",
       "text": "\n1585\n1586\n1587"
      },
      {
       "output_type": "stream",
       "stream": "stdout",
       "text": "\n1588\n1589\n1590"
      },
      {
       "output_type": "stream",
       "stream": "stdout",
       "text": "\n1591\n1592"
      },
      {
       "output_type": "stream",
       "stream": "stdout",
       "text": "\n1593\n1594\n1595"
      },
      {
       "output_type": "stream",
       "stream": "stdout",
       "text": "\n1596\n1597\n1598"
      },
      {
       "output_type": "stream",
       "stream": "stdout",
       "text": "\n1599\n1600"
      },
      {
       "output_type": "stream",
       "stream": "stdout",
       "text": "\n1601\n1602\n1603"
      },
      {
       "output_type": "stream",
       "stream": "stdout",
       "text": "\n1604\n1605\n1606"
      },
      {
       "output_type": "stream",
       "stream": "stdout",
       "text": "\n1607\n1608"
      },
      {
       "output_type": "stream",
       "stream": "stdout",
       "text": "\n1609\n1610\n1611"
      },
      {
       "output_type": "stream",
       "stream": "stdout",
       "text": "\n1612\n1613\n1614"
      },
      {
       "output_type": "stream",
       "stream": "stdout",
       "text": "\n1615\n1616"
      },
      {
       "output_type": "stream",
       "stream": "stdout",
       "text": "\n1617\n1618"
      },
      {
       "output_type": "stream",
       "stream": "stdout",
       "text": "\n1619\n1620\n1621"
      },
      {
       "output_type": "stream",
       "stream": "stdout",
       "text": "\n1622\n1623\n1624"
      },
      {
       "output_type": "stream",
       "stream": "stdout",
       "text": "\n1625\n1626\n1627"
      },
      {
       "output_type": "stream",
       "stream": "stdout",
       "text": "\n1628\n1629\n1630"
      },
      {
       "output_type": "stream",
       "stream": "stdout",
       "text": "\n1631\n1632"
      },
      {
       "output_type": "stream",
       "stream": "stdout",
       "text": "\n1633\n1634\n1635"
      },
      {
       "output_type": "stream",
       "stream": "stdout",
       "text": "\n1636\n1637\n1638"
      },
      {
       "output_type": "stream",
       "stream": "stdout",
       "text": "\n1639\n1640"
      },
      {
       "output_type": "stream",
       "stream": "stdout",
       "text": "\n1641\n1642\n1643"
      },
      {
       "output_type": "stream",
       "stream": "stdout",
       "text": "\n1644\n1645\n1646"
      },
      {
       "output_type": "stream",
       "stream": "stdout",
       "text": "\n1647\n1648"
      },
      {
       "output_type": "stream",
       "stream": "stdout",
       "text": "\n1649\n1650\n1651"
      },
      {
       "output_type": "stream",
       "stream": "stdout",
       "text": "\n1652\n1653\n1654"
      },
      {
       "output_type": "stream",
       "stream": "stdout",
       "text": "\n1655\n1656"
      },
      {
       "output_type": "stream",
       "stream": "stdout",
       "text": "\n1657\n1658\n1659"
      },
      {
       "output_type": "stream",
       "stream": "stdout",
       "text": "\n1660\n1661\n1662"
      },
      {
       "output_type": "stream",
       "stream": "stdout",
       "text": "\n1663\n1664"
      },
      {
       "output_type": "stream",
       "stream": "stdout",
       "text": "\n1665\n1666\n1667"
      },
      {
       "output_type": "stream",
       "stream": "stdout",
       "text": "\n1668\n1669\n1670"
      },
      {
       "output_type": "stream",
       "stream": "stdout",
       "text": "\n1671\n1672"
      },
      {
       "output_type": "stream",
       "stream": "stdout",
       "text": "\n1673\n1674\n1675"
      },
      {
       "output_type": "stream",
       "stream": "stdout",
       "text": "\n1676\n1677\n1678"
      },
      {
       "output_type": "stream",
       "stream": "stdout",
       "text": "\n1679\n1680"
      },
      {
       "output_type": "stream",
       "stream": "stdout",
       "text": "\n1681\n1682\n1683"
      },
      {
       "output_type": "stream",
       "stream": "stdout",
       "text": "\n1684\n1685\n1686"
      },
      {
       "output_type": "stream",
       "stream": "stdout",
       "text": "\n1687\n1688"
      },
      {
       "output_type": "stream",
       "stream": "stdout",
       "text": "\n1689\n1690\n1691"
      },
      {
       "output_type": "stream",
       "stream": "stdout",
       "text": "\n1692\n1693\n1694"
      },
      {
       "output_type": "stream",
       "stream": "stdout",
       "text": "\n1695\n1696"
      },
      {
       "output_type": "stream",
       "stream": "stdout",
       "text": "\n1697\n1698\n1699"
      },
      {
       "output_type": "stream",
       "stream": "stdout",
       "text": "\n1700\n1701\n1702"
      },
      {
       "output_type": "stream",
       "stream": "stdout",
       "text": "\n1703\n1704"
      },
      {
       "output_type": "stream",
       "stream": "stdout",
       "text": "\n1705\n1706\n1707"
      },
      {
       "output_type": "stream",
       "stream": "stdout",
       "text": "\n1708\n1709\n1710"
      },
      {
       "output_type": "stream",
       "stream": "stdout",
       "text": "\n1711\n1712"
      },
      {
       "output_type": "stream",
       "stream": "stdout",
       "text": "\n1713\n1714\n1715"
      },
      {
       "output_type": "stream",
       "stream": "stdout",
       "text": "\n1716\n1717\n1718"
      },
      {
       "output_type": "stream",
       "stream": "stdout",
       "text": "\n1719\n1720"
      },
      {
       "output_type": "stream",
       "stream": "stdout",
       "text": "\n1721\n1722\n1723"
      },
      {
       "output_type": "stream",
       "stream": "stdout",
       "text": "\n1724\n1725\n1726"
      },
      {
       "output_type": "stream",
       "stream": "stdout",
       "text": "\n1727\n1728"
      },
      {
       "output_type": "stream",
       "stream": "stdout",
       "text": "\n1729\n1730\n1731"
      },
      {
       "output_type": "stream",
       "stream": "stdout",
       "text": "\n1732\n1733\n1734"
      },
      {
       "output_type": "stream",
       "stream": "stdout",
       "text": "\n1735\n1736"
      },
      {
       "output_type": "stream",
       "stream": "stdout",
       "text": "\n1737\n1738\n1739"
      },
      {
       "output_type": "stream",
       "stream": "stdout",
       "text": "\n1740\n1741\n1742"
      },
      {
       "output_type": "stream",
       "stream": "stdout",
       "text": "\n1743\n1744"
      },
      {
       "output_type": "stream",
       "stream": "stdout",
       "text": "\n1745\n1746\n1747"
      },
      {
       "output_type": "stream",
       "stream": "stdout",
       "text": "\n1748\n1749\n1750"
      },
      {
       "output_type": "stream",
       "stream": "stdout",
       "text": "\n1751\n1752"
      },
      {
       "output_type": "stream",
       "stream": "stdout",
       "text": "\n1753\n1754\n1755"
      },
      {
       "output_type": "stream",
       "stream": "stdout",
       "text": "\n1756\n1757\n1758"
      },
      {
       "output_type": "stream",
       "stream": "stdout",
       "text": "\n1759\n1760"
      },
      {
       "output_type": "stream",
       "stream": "stdout",
       "text": "\n1761\n1762\n1763"
      },
      {
       "output_type": "stream",
       "stream": "stdout",
       "text": "\n1764\n1765\n1766"
      },
      {
       "output_type": "stream",
       "stream": "stdout",
       "text": "\n1767\n1768"
      },
      {
       "output_type": "stream",
       "stream": "stdout",
       "text": "\n1769\n1770\n1771"
      },
      {
       "output_type": "stream",
       "stream": "stdout",
       "text": "\n1772\n1773\n1774"
      },
      {
       "output_type": "stream",
       "stream": "stdout",
       "text": "\n1775\n1776"
      },
      {
       "output_type": "stream",
       "stream": "stdout",
       "text": "\n1777\n1778\n1779"
      },
      {
       "output_type": "stream",
       "stream": "stdout",
       "text": "\n1780\n1781\n1782"
      },
      {
       "output_type": "stream",
       "stream": "stdout",
       "text": "\n1783\n1784"
      },
      {
       "output_type": "stream",
       "stream": "stdout",
       "text": "\n1785\n1786\n1787"
      },
      {
       "output_type": "stream",
       "stream": "stdout",
       "text": "\n1788\n1789\n1790"
      },
      {
       "output_type": "stream",
       "stream": "stdout",
       "text": "\n1791\n1792"
      },
      {
       "output_type": "stream",
       "stream": "stdout",
       "text": "\n1793\n1794"
      },
      {
       "output_type": "stream",
       "stream": "stdout",
       "text": "\n1795\n1796\n1797"
      },
      {
       "output_type": "stream",
       "stream": "stdout",
       "text": "\n1798\n1799\n1800"
      },
      {
       "output_type": "stream",
       "stream": "stdout",
       "text": "\n1801\n1802\n1803"
      },
      {
       "output_type": "stream",
       "stream": "stdout",
       "text": "\n1804\n1805\n1806"
      },
      {
       "output_type": "stream",
       "stream": "stdout",
       "text": "\n1807\n1808"
      },
      {
       "output_type": "stream",
       "stream": "stdout",
       "text": "\n1809\n1810\n1811"
      },
      {
       "output_type": "stream",
       "stream": "stdout",
       "text": "\n1812\n1813\n1814"
      },
      {
       "output_type": "stream",
       "stream": "stdout",
       "text": "\n1815\n1816"
      },
      {
       "output_type": "stream",
       "stream": "stdout",
       "text": "\n1817\n1818\n1819"
      },
      {
       "output_type": "stream",
       "stream": "stdout",
       "text": "\n1820\n1821\n1822"
      },
      {
       "output_type": "stream",
       "stream": "stdout",
       "text": "\n1823\n1824"
      },
      {
       "output_type": "stream",
       "stream": "stdout",
       "text": "\n1825\n1826\n1827"
      },
      {
       "output_type": "stream",
       "stream": "stdout",
       "text": "\n1828\n1829\n1830"
      },
      {
       "output_type": "stream",
       "stream": "stdout",
       "text": "\n1831\n1832"
      },
      {
       "output_type": "stream",
       "stream": "stdout",
       "text": "\n1833\n1834\n1835"
      },
      {
       "output_type": "stream",
       "stream": "stdout",
       "text": "\n1836\n1837\n1838"
      },
      {
       "output_type": "stream",
       "stream": "stdout",
       "text": "\n1839\n1840"
      },
      {
       "output_type": "stream",
       "stream": "stdout",
       "text": "\n1841\n1842\n1843"
      },
      {
       "output_type": "stream",
       "stream": "stdout",
       "text": "\n1844\n1845\n1846"
      },
      {
       "output_type": "stream",
       "stream": "stdout",
       "text": "\n1847\n1848"
      },
      {
       "output_type": "stream",
       "stream": "stdout",
       "text": "\n1849\n1850\n1851"
      },
      {
       "output_type": "stream",
       "stream": "stdout",
       "text": "\n1852\n1853\n1854"
      },
      {
       "output_type": "stream",
       "stream": "stdout",
       "text": "\n1855\n1856"
      },
      {
       "output_type": "stream",
       "stream": "stdout",
       "text": "\n1857\n1858\n1859"
      },
      {
       "output_type": "stream",
       "stream": "stdout",
       "text": "\n1860\n1861\n1862"
      },
      {
       "output_type": "stream",
       "stream": "stdout",
       "text": "\n1863\n1864"
      },
      {
       "output_type": "stream",
       "stream": "stdout",
       "text": "\n1865\n1866\n1867"
      },
      {
       "output_type": "stream",
       "stream": "stdout",
       "text": "\n1868\n1869\n1870"
      },
      {
       "output_type": "stream",
       "stream": "stdout",
       "text": "\n1871\n1872"
      },
      {
       "output_type": "stream",
       "stream": "stdout",
       "text": "\n1873\n1874\n1875"
      },
      {
       "output_type": "stream",
       "stream": "stdout",
       "text": "\n1876\n1877\n1878"
      },
      {
       "output_type": "stream",
       "stream": "stdout",
       "text": "\n1879\n1880"
      },
      {
       "output_type": "stream",
       "stream": "stdout",
       "text": "\n1881\n1882\n1883"
      },
      {
       "output_type": "stream",
       "stream": "stdout",
       "text": "\n1884\n1885\n1886"
      },
      {
       "output_type": "stream",
       "stream": "stdout",
       "text": "\n1887\n1888"
      },
      {
       "output_type": "stream",
       "stream": "stdout",
       "text": "\n1889\n1890\n1891"
      },
      {
       "output_type": "stream",
       "stream": "stdout",
       "text": "\n1892\n1893\n1894"
      },
      {
       "output_type": "stream",
       "stream": "stdout",
       "text": "\n1895\n1896"
      },
      {
       "output_type": "stream",
       "stream": "stdout",
       "text": "\n1897\n1898\n1899"
      },
      {
       "output_type": "stream",
       "stream": "stdout",
       "text": "\n1900\n1901"
      },
      {
       "output_type": "stream",
       "stream": "stdout",
       "text": "\n1902\n1903\n1904"
      },
      {
       "output_type": "stream",
       "stream": "stdout",
       "text": "\n1905\n1906\n1907"
      },
      {
       "output_type": "stream",
       "stream": "stdout",
       "text": "\n1908\n1909\n1910"
      },
      {
       "output_type": "stream",
       "stream": "stdout",
       "text": "\n1911\n1912"
      },
      {
       "output_type": "stream",
       "stream": "stdout",
       "text": "\n1913\n1914\n1915"
      },
      {
       "output_type": "stream",
       "stream": "stdout",
       "text": "\n1916\n1917\n1918"
      },
      {
       "output_type": "stream",
       "stream": "stdout",
       "text": "\n1919\n1920"
      },
      {
       "output_type": "stream",
       "stream": "stdout",
       "text": "\n1921\n1922\n1923"
      },
      {
       "output_type": "stream",
       "stream": "stdout",
       "text": "\n1924\n1925\n1926"
      },
      {
       "output_type": "stream",
       "stream": "stdout",
       "text": "\n1927\n1928"
      },
      {
       "output_type": "stream",
       "stream": "stdout",
       "text": "\n1929\n1930\n1931"
      },
      {
       "output_type": "stream",
       "stream": "stdout",
       "text": "\n1932\n1933\n1934"
      },
      {
       "output_type": "stream",
       "stream": "stdout",
       "text": "\n1935\n1936"
      },
      {
       "output_type": "stream",
       "stream": "stdout",
       "text": "\n1937\n1938\n1939"
      },
      {
       "output_type": "stream",
       "stream": "stdout",
       "text": "\n1940\n1941\n1942"
      },
      {
       "output_type": "stream",
       "stream": "stdout",
       "text": "\n1943\n1944"
      },
      {
       "output_type": "stream",
       "stream": "stdout",
       "text": "\n1945\n1946\n1947"
      },
      {
       "output_type": "stream",
       "stream": "stdout",
       "text": "\n1948\n1949\n1950"
      },
      {
       "output_type": "stream",
       "stream": "stdout",
       "text": "\n1951\n1952"
      },
      {
       "output_type": "stream",
       "stream": "stdout",
       "text": "\n1953\n1954\n1955"
      },
      {
       "output_type": "stream",
       "stream": "stdout",
       "text": "\n1956\n1957\n1958"
      },
      {
       "output_type": "stream",
       "stream": "stdout",
       "text": "\n1959\n1960"
      },
      {
       "output_type": "stream",
       "stream": "stdout",
       "text": "\n1961\n1962\n1963"
      },
      {
       "output_type": "stream",
       "stream": "stdout",
       "text": "\n1964\n1965\n1966"
      },
      {
       "output_type": "stream",
       "stream": "stdout",
       "text": "\n1967\n1968"
      },
      {
       "output_type": "stream",
       "stream": "stdout",
       "text": "\n1969\n1970\n1971"
      },
      {
       "output_type": "stream",
       "stream": "stdout",
       "text": "\n1972\n1973\n1974"
      },
      {
       "output_type": "stream",
       "stream": "stdout",
       "text": "\n1975\n1976"
      },
      {
       "output_type": "stream",
       "stream": "stdout",
       "text": "\n1977\n1978\n1979"
      },
      {
       "output_type": "stream",
       "stream": "stdout",
       "text": "\n1980\n1981\n1982"
      },
      {
       "output_type": "stream",
       "stream": "stdout",
       "text": "\n1983\n1984"
      },
      {
       "output_type": "stream",
       "stream": "stdout",
       "text": "\n1985\n1986\n1987"
      },
      {
       "output_type": "stream",
       "stream": "stdout",
       "text": "\n1988\n1989\n1990"
      },
      {
       "output_type": "stream",
       "stream": "stdout",
       "text": "\n1991\n1992"
      },
      {
       "output_type": "stream",
       "stream": "stdout",
       "text": "\n1993\n1994\n1995"
      },
      {
       "output_type": "stream",
       "stream": "stdout",
       "text": "\n1996\n1997\n1998"
      },
      {
       "output_type": "stream",
       "stream": "stdout",
       "text": "\n1999\n2000"
      },
      {
       "output_type": "stream",
       "stream": "stdout",
       "text": "\n2001\n2002\n2003"
      },
      {
       "output_type": "stream",
       "stream": "stdout",
       "text": "\n2004\n2005"
      },
      {
       "output_type": "stream",
       "stream": "stdout",
       "text": "\n2006\n2007\n2008"
      },
      {
       "output_type": "stream",
       "stream": "stdout",
       "text": "\n2009\n2010\n2011"
      },
      {
       "output_type": "stream",
       "stream": "stdout",
       "text": "\n2012\n2013\n2014"
      },
      {
       "output_type": "stream",
       "stream": "stdout",
       "text": "\n2015\n2016"
      },
      {
       "output_type": "stream",
       "stream": "stdout",
       "text": "\n2017\n2018\n2019"
      },
      {
       "output_type": "stream",
       "stream": "stdout",
       "text": "\n2020\n2021\n2022"
      },
      {
       "output_type": "stream",
       "stream": "stdout",
       "text": "\n2023\n2024"
      },
      {
       "output_type": "stream",
       "stream": "stdout",
       "text": "\n2025\n2026\n2027"
      },
      {
       "output_type": "stream",
       "stream": "stdout",
       "text": "\n2028\n2029\n2030"
      },
      {
       "output_type": "stream",
       "stream": "stdout",
       "text": "\n2031\n2032"
      },
      {
       "output_type": "stream",
       "stream": "stdout",
       "text": "\n2033\n2034\n2035\n2036"
      },
      {
       "output_type": "stream",
       "stream": "stdout",
       "text": "\n2037\n2038"
      },
      {
       "output_type": "stream",
       "stream": "stdout",
       "text": "\n2039\n2040"
      },
      {
       "output_type": "stream",
       "stream": "stdout",
       "text": "\n2041\n2042\n2043"
      },
      {
       "output_type": "stream",
       "stream": "stdout",
       "text": "\n2044\n2045\n2046"
      },
      {
       "output_type": "stream",
       "stream": "stdout",
       "text": "\n2047\n2048"
      },
      {
       "output_type": "stream",
       "stream": "stdout",
       "text": "\n2049\n2050"
      },
      {
       "output_type": "stream",
       "stream": "stdout",
       "text": "\n2051\n2052\n2053\n2054\n2055\n2056"
      },
      {
       "output_type": "stream",
       "stream": "stdout",
       "text": "\n2057\n2058\n2059"
      },
      {
       "output_type": "stream",
       "stream": "stdout",
       "text": "\n2060\n2061\n2062"
      },
      {
       "output_type": "stream",
       "stream": "stdout",
       "text": "\n2063\n2064"
      },
      {
       "output_type": "stream",
       "stream": "stdout",
       "text": "\n2065\n2066\n2067"
      },
      {
       "output_type": "stream",
       "stream": "stdout",
       "text": "\n2068\n2069\n2070"
      },
      {
       "output_type": "stream",
       "stream": "stdout",
       "text": "\n2071\n2072"
      },
      {
       "output_type": "stream",
       "stream": "stdout",
       "text": "\n2073\n2074\n2075"
      },
      {
       "output_type": "stream",
       "stream": "stdout",
       "text": "\n2076\n2077\n2078"
      },
      {
       "output_type": "stream",
       "stream": "stdout",
       "text": "\n2079\n2080"
      },
      {
       "output_type": "stream",
       "stream": "stdout",
       "text": "\n2081\n2082\n2083"
      },
      {
       "output_type": "stream",
       "stream": "stdout",
       "text": "\n2084\n2085\n2086"
      },
      {
       "output_type": "stream",
       "stream": "stdout",
       "text": "\n2087\n2088"
      },
      {
       "output_type": "stream",
       "stream": "stdout",
       "text": "\n2089\n2090\n2091"
      },
      {
       "output_type": "stream",
       "stream": "stdout",
       "text": "\n2092\n2093\n2094"
      },
      {
       "output_type": "stream",
       "stream": "stdout",
       "text": "\n2095\n2096"
      },
      {
       "output_type": "stream",
       "stream": "stdout",
       "text": "\n2097\n2098\n2099\n2100"
      },
      {
       "output_type": "stream",
       "stream": "stdout",
       "text": "\n2101\n2102\n2103"
      },
      {
       "output_type": "stream",
       "stream": "stdout",
       "text": "\n2104"
      },
      {
       "output_type": "stream",
       "stream": "stdout",
       "text": "\n2105\n2106\n2107"
      },
      {
       "output_type": "stream",
       "stream": "stdout",
       "text": "\n2108\n2109\n2110"
      },
      {
       "output_type": "stream",
       "stream": "stdout",
       "text": "\n2111\n2112"
      },
      {
       "output_type": "stream",
       "stream": "stdout",
       "text": "\n2113\n2114\n2115"
      },
      {
       "output_type": "stream",
       "stream": "stdout",
       "text": "\n2116\n2117\n2118"
      },
      {
       "output_type": "stream",
       "stream": "stdout",
       "text": "\n2119\n2120"
      },
      {
       "output_type": "stream",
       "stream": "stdout",
       "text": "\n2121\n2122\n2123"
      },
      {
       "output_type": "stream",
       "stream": "stdout",
       "text": "\n2124\n2125\n2126"
      },
      {
       "output_type": "stream",
       "stream": "stdout",
       "text": "\n2127\n2128"
      },
      {
       "output_type": "stream",
       "stream": "stdout",
       "text": "\n2129\n2130\n2131"
      },
      {
       "output_type": "stream",
       "stream": "stdout",
       "text": "\n2132\n2133\n2134"
      },
      {
       "output_type": "stream",
       "stream": "stdout",
       "text": "\n2135\n2136"
      },
      {
       "output_type": "stream",
       "stream": "stdout",
       "text": "\n2137\n2138\n2139"
      },
      {
       "output_type": "stream",
       "stream": "stdout",
       "text": "\n2140\n2141\n2142"
      },
      {
       "output_type": "stream",
       "stream": "stdout",
       "text": "\n2143\n2144"
      },
      {
       "output_type": "stream",
       "stream": "stdout",
       "text": "\n2145\n2146\n2147"
      },
      {
       "output_type": "stream",
       "stream": "stdout",
       "text": "\n2148\n2149\n2150"
      },
      {
       "output_type": "stream",
       "stream": "stdout",
       "text": "\n2151\n2152"
      },
      {
       "output_type": "stream",
       "stream": "stdout",
       "text": "\n2153\n2154\n2155"
      },
      {
       "output_type": "stream",
       "stream": "stdout",
       "text": "\n2156\n2157\n2158"
      },
      {
       "output_type": "stream",
       "stream": "stdout",
       "text": "\n2159\n2160"
      },
      {
       "output_type": "stream",
       "stream": "stdout",
       "text": "\n2161\n2162\n2163"
      },
      {
       "output_type": "stream",
       "stream": "stdout",
       "text": "\n2164\n2165\n2166"
      },
      {
       "output_type": "stream",
       "stream": "stdout",
       "text": "\n2167\n2168"
      },
      {
       "output_type": "stream",
       "stream": "stdout",
       "text": "\n2169\n2170\n2171"
      },
      {
       "output_type": "stream",
       "stream": "stdout",
       "text": "\n2172\n2173\n2174"
      },
      {
       "output_type": "stream",
       "stream": "stdout",
       "text": "\n2175\n2176"
      },
      {
       "output_type": "stream",
       "stream": "stdout",
       "text": "\n2177\n2178\n2179\n2180"
      },
      {
       "output_type": "stream",
       "stream": "stdout",
       "text": "\n2181\n2182\n2183"
      },
      {
       "output_type": "stream",
       "stream": "stdout",
       "text": "\n2184"
      },
      {
       "output_type": "stream",
       "stream": "stdout",
       "text": "\nhttp://www.kaggle.com/c/ams-2014-solar-energy-prediction-contest/download/gefs_test.tar.gz"
      },
      {
       "output_type": "stream",
       "stream": "stdout",
       "text": "\n0"
      },
      {
       "output_type": "stream",
       "stream": "stdout",
       "text": "\n1"
      },
      {
       "output_type": "stream",
       "stream": "stdout",
       "text": "\n2"
      },
      {
       "output_type": "stream",
       "stream": "stdout",
       "text": "\n3"
      },
      {
       "output_type": "stream",
       "stream": "stdout",
       "text": "\n4\n5"
      },
      {
       "output_type": "stream",
       "stream": "stdout",
       "text": "\n6\n7"
      },
      {
       "output_type": "stream",
       "stream": "stdout",
       "text": "\n8"
      },
      {
       "output_type": "stream",
       "stream": "stdout",
       "text": "\n9\n10\n11"
      },
      {
       "output_type": "stream",
       "stream": "stdout",
       "text": "\n12\n13"
      },
      {
       "output_type": "stream",
       "stream": "stdout",
       "text": "\n14\n15\n16"
      },
      {
       "output_type": "stream",
       "stream": "stdout",
       "text": "\n17\n18\n19"
      },
      {
       "output_type": "stream",
       "stream": "stdout",
       "text": "\n20\n21\n22"
      },
      {
       "output_type": "stream",
       "stream": "stdout",
       "text": "\n23\n24"
      },
      {
       "output_type": "stream",
       "stream": "stdout",
       "text": "\n25\n26"
      },
      {
       "output_type": "stream",
       "stream": "stdout",
       "text": "\n27\n28\n29\n30"
      },
      {
       "output_type": "stream",
       "stream": "stdout",
       "text": "\n31\n32"
      },
      {
       "output_type": "stream",
       "stream": "stdout",
       "text": "\n33\n34\n35"
      },
      {
       "output_type": "stream",
       "stream": "stdout",
       "text": "\n36\n37\n38"
      },
      {
       "output_type": "stream",
       "stream": "stdout",
       "text": "\n39\n40"
      },
      {
       "output_type": "stream",
       "stream": "stdout",
       "text": "\n41\n42\n43"
      },
      {
       "output_type": "stream",
       "stream": "stdout",
       "text": "\n44\n45\n46"
      },
      {
       "output_type": "stream",
       "stream": "stdout",
       "text": "\n47\n48"
      },
      {
       "output_type": "stream",
       "stream": "stdout",
       "text": "\n49\n50\n51"
      },
      {
       "output_type": "stream",
       "stream": "stdout",
       "text": "\n52\n53\n54"
      },
      {
       "output_type": "stream",
       "stream": "stdout",
       "text": "\n55\n56"
      },
      {
       "output_type": "stream",
       "stream": "stdout",
       "text": "\n57\n58\n59"
      },
      {
       "output_type": "stream",
       "stream": "stdout",
       "text": "\n60\n61\n62"
      },
      {
       "output_type": "stream",
       "stream": "stdout",
       "text": "\n63\n64"
      },
      {
       "output_type": "stream",
       "stream": "stdout",
       "text": "\n65\n66\n67"
      },
      {
       "output_type": "stream",
       "stream": "stdout",
       "text": "\n68\n69\n70\n71\n72"
      },
      {
       "output_type": "stream",
       "stream": "stdout",
       "text": "\n73\n74\n75"
      },
      {
       "output_type": "stream",
       "stream": "stdout",
       "text": "\n76\n77\n78"
      },
      {
       "output_type": "stream",
       "stream": "stdout",
       "text": "\n79\n80"
      },
      {
       "output_type": "stream",
       "stream": "stdout",
       "text": "\n81\n82\n83"
      },
      {
       "output_type": "stream",
       "stream": "stdout",
       "text": "\n84\n85\n86"
      },
      {
       "output_type": "stream",
       "stream": "stdout",
       "text": "\n87\n88"
      },
      {
       "output_type": "stream",
       "stream": "stdout",
       "text": "\n89\n90\n91\n92"
      },
      {
       "output_type": "stream",
       "stream": "stdout",
       "text": "\n93\n94\n95"
      },
      {
       "output_type": "stream",
       "stream": "stdout",
       "text": "\n96"
      },
      {
       "output_type": "stream",
       "stream": "stdout",
       "text": "\n97\n98\n99\n100"
      },
      {
       "output_type": "stream",
       "stream": "stdout",
       "text": "\n101\n102"
      },
      {
       "output_type": "stream",
       "stream": "stdout",
       "text": "\n103\n104"
      },
      {
       "output_type": "stream",
       "stream": "stdout",
       "text": "\n105\n106\n107"
      },
      {
       "output_type": "stream",
       "stream": "stdout",
       "text": "\n108\n109"
      },
      {
       "output_type": "stream",
       "stream": "stdout",
       "text": "\n110\n111\n112"
      },
      {
       "output_type": "stream",
       "stream": "stdout",
       "text": "\n113\n114\n115"
      },
      {
       "output_type": "stream",
       "stream": "stdout",
       "text": "\n116\n117\n118"
      },
      {
       "output_type": "stream",
       "stream": "stdout",
       "text": "\n119\n120"
      },
      {
       "output_type": "stream",
       "stream": "stdout",
       "text": "\n121\n122\n123"
      },
      {
       "output_type": "stream",
       "stream": "stdout",
       "text": "\n124\n125\n126\n127"
      },
      {
       "output_type": "stream",
       "stream": "stdout",
       "text": "\n128"
      },
      {
       "output_type": "stream",
       "stream": "stdout",
       "text": "\n129\n130\n131"
      },
      {
       "output_type": "stream",
       "stream": "stdout",
       "text": "\n132\n133\n134"
      },
      {
       "output_type": "stream",
       "stream": "stdout",
       "text": "\n135\n136"
      },
      {
       "output_type": "stream",
       "stream": "stdout",
       "text": "\n137\n138"
      },
      {
       "output_type": "stream",
       "stream": "stdout",
       "text": "\n139\n140\n141\n142\n143"
      },
      {
       "output_type": "stream",
       "stream": "stdout",
       "text": "\n144"
      },
      {
       "output_type": "stream",
       "stream": "stdout",
       "text": "\n145\n146\n147\n148"
      },
      {
       "output_type": "stream",
       "stream": "stdout",
       "text": "\n149\n150\n151"
      },
      {
       "output_type": "stream",
       "stream": "stdout",
       "text": "\n152"
      },
      {
       "output_type": "stream",
       "stream": "stdout",
       "text": "\n153\n154\n155"
      },
      {
       "output_type": "stream",
       "stream": "stdout",
       "text": "\n156\n157\n158"
      },
      {
       "output_type": "stream",
       "stream": "stdout",
       "text": "\n159\n160"
      },
      {
       "output_type": "stream",
       "stream": "stdout",
       "text": "\n161\n162\n163"
      },
      {
       "output_type": "stream",
       "stream": "stdout",
       "text": "\n164\n165\n166"
      },
      {
       "output_type": "stream",
       "stream": "stdout",
       "text": "\n167\n168"
      },
      {
       "output_type": "stream",
       "stream": "stdout",
       "text": "\n169\n170\n171"
      },
      {
       "output_type": "stream",
       "stream": "stdout",
       "text": "\n172\n173\n174"
      },
      {
       "output_type": "stream",
       "stream": "stdout",
       "text": "\n175\n176"
      },
      {
       "output_type": "stream",
       "stream": "stdout",
       "text": "\n177\n178"
      },
      {
       "output_type": "stream",
       "stream": "stdout",
       "text": "\n179\n180\n181\n182"
      },
      {
       "output_type": "stream",
       "stream": "stdout",
       "text": "\n183\n184"
      },
      {
       "output_type": "stream",
       "stream": "stdout",
       "text": "\n185\n186\n187"
      },
      {
       "output_type": "stream",
       "stream": "stdout",
       "text": "\n188\n189\n190"
      },
      {
       "output_type": "stream",
       "stream": "stdout",
       "text": "\n191\n192"
      },
      {
       "output_type": "stream",
       "stream": "stdout",
       "text": "\n193\n194\n195"
      },
      {
       "output_type": "stream",
       "stream": "stdout",
       "text": "\n196\n197\n198"
      },
      {
       "output_type": "stream",
       "stream": "stdout",
       "text": "\n199\n200"
      },
      {
       "output_type": "stream",
       "stream": "stdout",
       "text": "\n201\n202\n203"
      },
      {
       "output_type": "stream",
       "stream": "stdout",
       "text": "\n204\n205\n206"
      },
      {
       "output_type": "stream",
       "stream": "stdout",
       "text": "\n207\n208"
      },
      {
       "output_type": "stream",
       "stream": "stdout",
       "text": "\n209\n210\n211"
      },
      {
       "output_type": "stream",
       "stream": "stdout",
       "text": "\n212\n213\n214\n215"
      },
      {
       "output_type": "stream",
       "stream": "stdout",
       "text": "\n216"
      },
      {
       "output_type": "stream",
       "stream": "stdout",
       "text": "\n217\n218\n219"
      },
      {
       "output_type": "stream",
       "stream": "stdout",
       "text": "\n220\n221\n222"
      },
      {
       "output_type": "stream",
       "stream": "stdout",
       "text": "\n223\n224"
      },
      {
       "output_type": "stream",
       "stream": "stdout",
       "text": "\n225\n226\n227"
      },
      {
       "output_type": "stream",
       "stream": "stdout",
       "text": "\n228\n229\n230"
      },
      {
       "output_type": "stream",
       "stream": "stdout",
       "text": "\n231\n232"
      },
      {
       "output_type": "stream",
       "stream": "stdout",
       "text": "\n233\n234\n235"
      },
      {
       "output_type": "stream",
       "stream": "stdout",
       "text": "\n236\n237\n238"
      },
      {
       "output_type": "stream",
       "stream": "stdout",
       "text": "\n239\n240"
      },
      {
       "output_type": "stream",
       "stream": "stdout",
       "text": "\n241\n242\n243\n244"
      },
      {
       "output_type": "stream",
       "stream": "stdout",
       "text": "\n245\n246\n247"
      },
      {
       "output_type": "stream",
       "stream": "stdout",
       "text": "\n248"
      },
      {
       "output_type": "stream",
       "stream": "stdout",
       "text": "\n249\n250\n251"
      },
      {
       "output_type": "stream",
       "stream": "stdout",
       "text": "\n252\n253\n254"
      },
      {
       "output_type": "stream",
       "stream": "stdout",
       "text": "\n255\n256"
      },
      {
       "output_type": "stream",
       "stream": "stdout",
       "text": "\n257\n258\n259"
      },
      {
       "output_type": "stream",
       "stream": "stdout",
       "text": "\n260\n261\n262"
      },
      {
       "output_type": "stream",
       "stream": "stdout",
       "text": "\n263\n264"
      },
      {
       "output_type": "stream",
       "stream": "stdout",
       "text": "\n265\n266\n267"
      },
      {
       "output_type": "stream",
       "stream": "stdout",
       "text": "\n268\n269\n270"
      },
      {
       "output_type": "stream",
       "stream": "stdout",
       "text": "\n271\n272"
      },
      {
       "output_type": "stream",
       "stream": "stdout",
       "text": "\n273\n274\n275"
      },
      {
       "output_type": "stream",
       "stream": "stdout",
       "text": "\n276\n277\n278"
      },
      {
       "output_type": "stream",
       "stream": "stdout",
       "text": "\n279\n280"
      },
      {
       "output_type": "stream",
       "stream": "stdout",
       "text": "\n281\n282\n283"
      },
      {
       "output_type": "stream",
       "stream": "stdout",
       "text": "\n284\n285\n286"
      },
      {
       "output_type": "stream",
       "stream": "stdout",
       "text": "\n287\n288"
      },
      {
       "output_type": "stream",
       "stream": "stdout",
       "text": "\n289\n290\n291"
      },
      {
       "output_type": "stream",
       "stream": "stdout",
       "text": "\n292\n293\n294"
      },
      {
       "output_type": "stream",
       "stream": "stdout",
       "text": "\n295\n296"
      },
      {
       "output_type": "stream",
       "stream": "stdout",
       "text": "\n297\n298\n299"
      },
      {
       "output_type": "stream",
       "stream": "stdout",
       "text": "\n300\n301\n302"
      },
      {
       "output_type": "stream",
       "stream": "stdout",
       "text": "\n303\n304"
      },
      {
       "output_type": "stream",
       "stream": "stdout",
       "text": "\n305\n306\n307"
      },
      {
       "output_type": "stream",
       "stream": "stdout",
       "text": "\n308"
      },
      {
       "output_type": "stream",
       "stream": "stdout",
       "text": "\n309\n310\n311\n312"
      },
      {
       "output_type": "stream",
       "stream": "stdout",
       "text": "\n313\n314\n315"
      },
      {
       "output_type": "stream",
       "stream": "stdout",
       "text": "\n316\n317\n318"
      },
      {
       "output_type": "stream",
       "stream": "stdout",
       "text": "\n319\n320"
      },
      {
       "output_type": "stream",
       "stream": "stdout",
       "text": "\n321\n322\n323\n324"
      },
      {
       "output_type": "stream",
       "stream": "stdout",
       "text": "\n325\n326\n327"
      },
      {
       "output_type": "stream",
       "stream": "stdout",
       "text": "\n328"
      },
      {
       "output_type": "stream",
       "stream": "stdout",
       "text": "\n329\n330\n331"
      },
      {
       "output_type": "stream",
       "stream": "stdout",
       "text": "\n332\n333\n334\n335"
      },
      {
       "output_type": "stream",
       "stream": "stdout",
       "text": "\n336"
      },
      {
       "output_type": "stream",
       "stream": "stdout",
       "text": "\n337\n338\n339"
      },
      {
       "output_type": "stream",
       "stream": "stdout",
       "text": "\n340\n341\n342\n343"
      },
      {
       "output_type": "stream",
       "stream": "stdout",
       "text": "\n344"
      },
      {
       "output_type": "stream",
       "stream": "stdout",
       "text": "\n345\n346\n347\n348"
      },
      {
       "output_type": "stream",
       "stream": "stdout",
       "text": "\n349\n350\n351"
      },
      {
       "output_type": "stream",
       "stream": "stdout",
       "text": "\n352"
      },
      {
       "output_type": "stream",
       "stream": "stdout",
       "text": "\n353\n354\n355"
      },
      {
       "output_type": "stream",
       "stream": "stdout",
       "text": "\n356\n357\n358"
      },
      {
       "output_type": "stream",
       "stream": "stdout",
       "text": "\n359\n360"
      },
      {
       "output_type": "stream",
       "stream": "stdout",
       "text": "\n361\n362"
      },
      {
       "output_type": "stream",
       "stream": "stdout",
       "text": "\n363\n364\n365\n366\n367\n368"
      },
      {
       "output_type": "stream",
       "stream": "stdout",
       "text": "\n369\n370\n371"
      },
      {
       "output_type": "stream",
       "stream": "stdout",
       "text": "\n372\n373\n374\n375"
      },
      {
       "output_type": "stream",
       "stream": "stdout",
       "text": "\n376"
      },
      {
       "output_type": "stream",
       "stream": "stdout",
       "text": "\n377\n378\n379"
      },
      {
       "output_type": "stream",
       "stream": "stdout",
       "text": "\n380\n381\n382"
      },
      {
       "output_type": "stream",
       "stream": "stdout",
       "text": "\n383\n384"
      },
      {
       "output_type": "stream",
       "stream": "stdout",
       "text": "\n385\n386\n387\n388"
      },
      {
       "output_type": "stream",
       "stream": "stdout",
       "text": "\n389\n390\n391"
      },
      {
       "output_type": "stream",
       "stream": "stdout",
       "text": "\n392"
      },
      {
       "output_type": "stream",
       "stream": "stdout",
       "text": "\n393\n394\n395"
      },
      {
       "output_type": "stream",
       "stream": "stdout",
       "text": "\n396\n397\n398\n399"
      },
      {
       "output_type": "stream",
       "stream": "stdout",
       "text": "\n400"
      },
      {
       "output_type": "stream",
       "stream": "stdout",
       "text": "\n401\n402\n403"
      },
      {
       "output_type": "stream",
       "stream": "stdout",
       "text": "\n404\n405\n406"
      },
      {
       "output_type": "stream",
       "stream": "stdout",
       "text": "\n407\n408"
      },
      {
       "output_type": "stream",
       "stream": "stdout",
       "text": "\n409\n410\n411"
      },
      {
       "output_type": "stream",
       "stream": "stdout",
       "text": "\n412\n413\n414"
      },
      {
       "output_type": "stream",
       "stream": "stdout",
       "text": "\n415\n416"
      },
      {
       "output_type": "stream",
       "stream": "stdout",
       "text": "\n417\n418\n419"
      },
      {
       "output_type": "stream",
       "stream": "stdout",
       "text": "\n420\n421\n422\n423"
      },
      {
       "output_type": "stream",
       "stream": "stdout",
       "text": "\n424"
      },
      {
       "output_type": "stream",
       "stream": "stdout",
       "text": "\n425\n426"
      },
      {
       "output_type": "stream",
       "stream": "stdout",
       "text": "\n427\n428\n429"
      },
      {
       "output_type": "stream",
       "stream": "stdout",
       "text": "\n430\n431\n432"
      },
      {
       "output_type": "stream",
       "stream": "stdout",
       "text": "\n433\n434\n435"
      },
      {
       "output_type": "stream",
       "stream": "stdout",
       "text": "\n436\n437\n438\n439"
      },
      {
       "output_type": "stream",
       "stream": "stdout",
       "text": "\n440"
      },
      {
       "output_type": "stream",
       "stream": "stdout",
       "text": "\n441\n442\n443"
      },
      {
       "output_type": "stream",
       "stream": "stdout",
       "text": "\n444\n445\n446"
      },
      {
       "output_type": "stream",
       "stream": "stdout",
       "text": "\n447\n448"
      },
      {
       "output_type": "stream",
       "stream": "stdout",
       "text": "\n449\n450\n451"
      },
      {
       "output_type": "stream",
       "stream": "stdout",
       "text": "\n452\n453\n454"
      },
      {
       "output_type": "stream",
       "stream": "stdout",
       "text": "\n455\n456"
      },
      {
       "output_type": "stream",
       "stream": "stdout",
       "text": "\n457\n458\n459\n460"
      },
      {
       "output_type": "stream",
       "stream": "stdout",
       "text": "\n461\n462\n463"
      },
      {
       "output_type": "stream",
       "stream": "stdout",
       "text": "\n464"
      },
      {
       "output_type": "stream",
       "stream": "stdout",
       "text": "\n465\n466\n467"
      },
      {
       "output_type": "stream",
       "stream": "stdout",
       "text": "\n468\n469\n470"
      },
      {
       "output_type": "stream",
       "stream": "stdout",
       "text": "\n471\n472"
      },
      {
       "output_type": "stream",
       "stream": "stdout",
       "text": "\n473\n474\n475"
      },
      {
       "output_type": "stream",
       "stream": "stdout",
       "text": "\n476\n477\n478\n479"
      },
      {
       "output_type": "stream",
       "stream": "stdout",
       "text": "\n480"
      },
      {
       "output_type": "stream",
       "stream": "stdout",
       "text": "\n481\n482\n483\n484"
      },
      {
       "output_type": "stream",
       "stream": "stdout",
       "text": "\n485\n486"
      },
      {
       "output_type": "stream",
       "stream": "stdout",
       "text": "\n487\n488"
      },
      {
       "output_type": "stream",
       "stream": "stdout",
       "text": "\n489\n490\n491"
      },
      {
       "output_type": "stream",
       "stream": "stdout",
       "text": "\n492\n493\n494"
      },
      {
       "output_type": "stream",
       "stream": "stdout",
       "text": "\n495\n496"
      },
      {
       "output_type": "stream",
       "stream": "stdout",
       "text": "\n497\n498\n499"
      },
      {
       "output_type": "stream",
       "stream": "stdout",
       "text": "\n500\n501\n502"
      },
      {
       "output_type": "stream",
       "stream": "stdout",
       "text": "\n503\n504"
      },
      {
       "output_type": "stream",
       "stream": "stdout",
       "text": "\n505\n506\n507"
      },
      {
       "output_type": "stream",
       "stream": "stdout",
       "text": "\n508\n509\n510"
      },
      {
       "output_type": "stream",
       "stream": "stdout",
       "text": "\n511\n512"
      },
      {
       "output_type": "stream",
       "stream": "stdout",
       "text": "\n513\n514\n515"
      },
      {
       "output_type": "stream",
       "stream": "stdout",
       "text": "\n516\n517\n518"
      },
      {
       "output_type": "stream",
       "stream": "stdout",
       "text": "\n519\n520"
      },
      {
       "output_type": "stream",
       "stream": "stdout",
       "text": "\n521\n522\n523"
      },
      {
       "output_type": "stream",
       "stream": "stdout",
       "text": "\n524\n525\n526"
      },
      {
       "output_type": "stream",
       "stream": "stdout",
       "text": "\n527\n528"
      },
      {
       "output_type": "stream",
       "stream": "stdout",
       "text": "\n529\n530\n531"
      },
      {
       "output_type": "stream",
       "stream": "stdout",
       "text": "\n532\n533\n534"
      },
      {
       "output_type": "stream",
       "stream": "stdout",
       "text": "\n535\n536"
      },
      {
       "output_type": "stream",
       "stream": "stdout",
       "text": "\n537\n538\n539"
      },
      {
       "output_type": "stream",
       "stream": "stdout",
       "text": "\n540\n541\n542"
      },
      {
       "output_type": "stream",
       "stream": "stdout",
       "text": "\n543\n544"
      },
      {
       "output_type": "stream",
       "stream": "stdout",
       "text": "\n545\n546\n547"
      },
      {
       "output_type": "stream",
       "stream": "stdout",
       "text": "\n548\n549\n550"
      },
      {
       "output_type": "stream",
       "stream": "stdout",
       "text": "\n551\n552"
      },
      {
       "output_type": "stream",
       "stream": "stdout",
       "text": "\n553\n554\n555"
      },
      {
       "output_type": "stream",
       "stream": "stdout",
       "text": "\n556\n557\n558"
      },
      {
       "output_type": "stream",
       "stream": "stdout",
       "text": "\n559\n560"
      },
      {
       "output_type": "stream",
       "stream": "stdout",
       "text": "\n561\n562\n563"
      },
      {
       "output_type": "stream",
       "stream": "stdout",
       "text": "\n564\n565\n566"
      },
      {
       "output_type": "stream",
       "stream": "stdout",
       "text": "\n567\n568"
      },
      {
       "output_type": "stream",
       "stream": "stdout",
       "text": "\n569\n570\n571"
      },
      {
       "output_type": "stream",
       "stream": "stdout",
       "text": "\n572\n573\n574"
      },
      {
       "output_type": "stream",
       "stream": "stdout",
       "text": "\n575\n576"
      },
      {
       "output_type": "stream",
       "stream": "stdout",
       "text": "\n577\n578\n579"
      },
      {
       "output_type": "stream",
       "stream": "stdout",
       "text": "\n580\n581\n582"
      },
      {
       "output_type": "stream",
       "stream": "stdout",
       "text": "\n583\n584"
      },
      {
       "output_type": "stream",
       "stream": "stdout",
       "text": "\n585\n586\n587"
      },
      {
       "output_type": "stream",
       "stream": "stdout",
       "text": "\n588\n589\n590"
      },
      {
       "output_type": "stream",
       "stream": "stdout",
       "text": "\n591\n592"
      },
      {
       "output_type": "stream",
       "stream": "stdout",
       "text": "\n593\n594\n595"
      },
      {
       "output_type": "stream",
       "stream": "stdout",
       "text": "\n596\n597\n598"
      },
      {
       "output_type": "stream",
       "stream": "stdout",
       "text": "\n599\n600"
      },
      {
       "output_type": "stream",
       "stream": "stdout",
       "text": "\n601\n602\n603"
      },
      {
       "output_type": "stream",
       "stream": "stdout",
       "text": "\n604\n605\n606"
      },
      {
       "output_type": "stream",
       "stream": "stdout",
       "text": "\n607\n608"
      },
      {
       "output_type": "stream",
       "stream": "stdout",
       "text": "\n609\n610\n611"
      },
      {
       "output_type": "stream",
       "stream": "stdout",
       "text": "\n612\n613\n614"
      },
      {
       "output_type": "stream",
       "stream": "stdout",
       "text": "\n615\n616"
      },
      {
       "output_type": "stream",
       "stream": "stdout",
       "text": "\n617\n618\n619"
      },
      {
       "output_type": "stream",
       "stream": "stdout",
       "text": "\n620\n621\n622"
      },
      {
       "output_type": "stream",
       "stream": "stdout",
       "text": "\n623\n624"
      },
      {
       "output_type": "stream",
       "stream": "stdout",
       "text": "\n625\n626\n627"
      },
      {
       "output_type": "stream",
       "stream": "stdout",
       "text": "\n628\n629\n630"
      },
      {
       "output_type": "stream",
       "stream": "stdout",
       "text": "\n631\n632"
      },
      {
       "output_type": "stream",
       "stream": "stdout",
       "text": "\n633\n634\n635"
      },
      {
       "output_type": "stream",
       "stream": "stdout",
       "text": "\n636\n637\n638\n639"
      },
      {
       "output_type": "stream",
       "stream": "stdout",
       "text": "\n640"
      },
      {
       "output_type": "stream",
       "stream": "stdout",
       "text": "\n641\n642\n643"
      },
      {
       "output_type": "stream",
       "stream": "stdout",
       "text": "\n644\n645\n646"
      },
      {
       "output_type": "stream",
       "stream": "stdout",
       "text": "\n647\n648"
      },
      {
       "output_type": "stream",
       "stream": "stdout",
       "text": "\n649\n650\n651"
      },
      {
       "output_type": "stream",
       "stream": "stdout",
       "text": "\n652\n653\n654"
      },
      {
       "output_type": "stream",
       "stream": "stdout",
       "text": "\n655\n656"
      },
      {
       "output_type": "stream",
       "stream": "stdout",
       "text": "\n657\n658\n659"
      },
      {
       "output_type": "stream",
       "stream": "stdout",
       "text": "\n660\n661\n662"
      },
      {
       "output_type": "stream",
       "stream": "stdout",
       "text": "\n663\n664"
      },
      {
       "output_type": "stream",
       "stream": "stdout",
       "text": "\n665\n666\n667"
      },
      {
       "output_type": "stream",
       "stream": "stdout",
       "text": "\n668\n669\n670"
      },
      {
       "output_type": "stream",
       "stream": "stdout",
       "text": "\n671\n672"
      },
      {
       "output_type": "stream",
       "stream": "stdout",
       "text": "\n673\n674\n675"
      },
      {
       "output_type": "stream",
       "stream": "stdout",
       "text": "\n676\n677\n678"
      },
      {
       "output_type": "stream",
       "stream": "stdout",
       "text": "\n679\n680"
      },
      {
       "output_type": "stream",
       "stream": "stdout",
       "text": "\n681\n682\n683"
      },
      {
       "output_type": "stream",
       "stream": "stdout",
       "text": "\n684\n685\n686"
      },
      {
       "output_type": "stream",
       "stream": "stdout",
       "text": "\n687\n688"
      },
      {
       "output_type": "stream",
       "stream": "stdout",
       "text": "\n689\n690\n691"
      },
      {
       "output_type": "stream",
       "stream": "stdout",
       "text": "\n692\n693\n694"
      },
      {
       "output_type": "stream",
       "stream": "stdout",
       "text": "\n695\n696"
      },
      {
       "output_type": "stream",
       "stream": "stdout",
       "text": "\n697\n698\n699"
      },
      {
       "output_type": "stream",
       "stream": "stdout",
       "text": "\n700\n701\n702"
      },
      {
       "output_type": "stream",
       "stream": "stdout",
       "text": "\n703\n704"
      },
      {
       "output_type": "stream",
       "stream": "stdout",
       "text": "\n705\n706\n707"
      },
      {
       "output_type": "stream",
       "stream": "stdout",
       "text": "\n708\n709\n710"
      },
      {
       "output_type": "stream",
       "stream": "stdout",
       "text": "\n711\n712"
      },
      {
       "output_type": "stream",
       "stream": "stdout",
       "text": "\n713\n714\n715"
      },
      {
       "output_type": "stream",
       "stream": "stdout",
       "text": "\n716\nhttp://www.kaggle.com/c/ams-2014-solar-energy-prediction-contest/download/station_info.csv"
      },
      {
       "output_type": "stream",
       "stream": "stdout",
       "text": "\n0"
      },
      {
       "output_type": "stream",
       "stream": "stdout",
       "text": "\nhttp://www.kaggle.com/c/ams-2014-solar-energy-prediction-contest/download/sampleSubmission.csv\n0"
      },
      {
       "output_type": "stream",
       "stream": "stdout",
       "text": "\n1"
      },
      {
       "output_type": "stream",
       "stream": "stdout",
       "text": "\nhttp://www.kaggle.com/c/ams-2014-solar-energy-prediction-contest/download/gefs_elevations.nc\n0"
      },
      {
       "output_type": "stream",
       "stream": "stdout",
       "text": "\n"
      }
     ],
     "prompt_number": 3
    },
    {
     "cell_type": "code",
     "collapsed": false,
     "input": "print 'Done!'",
     "language": "python",
     "metadata": {},
     "outputs": [
      {
       "output_type": "stream",
       "stream": "stdout",
       "text": "Done!\n"
      }
     ],
     "prompt_number": 4
    },
    {
     "cell_type": "code",
     "collapsed": false,
     "input": "",
     "language": "python",
     "metadata": {},
     "outputs": []
    }
   ],
   "metadata": {}
  }
 ]
}