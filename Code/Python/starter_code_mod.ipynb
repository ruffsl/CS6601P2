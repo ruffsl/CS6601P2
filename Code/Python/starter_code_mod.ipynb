{
 "metadata": {
  "name": "starter_code_mod"
 },
 "nbformat": 3,
 "nbformat_minor": 0,
 "worksheets": [
  {
   "cells": [
    {
     "cell_type": "code",
     "collapsed": false,
     "input": [
      "import csv\n",
      "import os\n",
      "import netCDF4 as nc\n",
      "import numpy as np \n",
      "from sklearn import metrics\n",
      "from sklearn.linear_model import Ridge\n",
      "from sklearn.cross_validation import train_test_split"
     ],
     "language": "python",
     "metadata": {},
     "outputs": [],
     "prompt_number": 1
    },
    {
     "cell_type": "code",
     "collapsed": false,
     "input": [
      "SEED = 42 # Random seed to keep consistent"
     ],
     "language": "python",
     "metadata": {},
     "outputs": [],
     "prompt_number": 2
    },
    {
     "cell_type": "code",
     "collapsed": false,
     "input": [
      "'''\n",
      "Loads a list of GEFS files merging them into model format.\n",
      "'''\n",
      "def load_GEFS_data(directory,files_to_use,file_sub_str):\n",
      "        for i,f in enumerate(files_to_use):\n",
      "                if i == 0:\n",
      "                        X = load_GEFS_file(directory,files_to_use[i],file_sub_str)\n",
      "                else:\n",
      "                        X_new = load_GEFS_file(directory,files_to_use[i],file_sub_str)\n",
      "                        X = np.hstack((X,X_new))\n",
      "        return X\n",
      "\n",
      "'''\n",
      "Loads GEFS file using specified merge technique.\n",
      "'''\n",
      "def load_GEFS_file(directory,data_type,file_sub_str):\n",
      "        print 'loading',data_type\n",
      "        path = os.path.join(directory,data_type+file_sub_str)\n",
      "        print 'this is the path: ', path\n",
      "        X = nc.Dataset(path,'r+').variables.values()[-1][:,:,:,3:7,3:13] # get rid of some GEFS points\n",
      "        #X = X.reshape(X.shape[0],55,4,10)                                                                  # Reshape to merge sub_models and time_forcasts\n",
      "        X = np.mean(X,axis=1)                                                                                          # Average models, but not hours\n",
      "        X = X.reshape(X.shape[0],np.prod(X.shape[1:]))                                          # Reshape into (n_examples,n_features)\n",
      "        return X\n",
      "\n",
      "'''\n",
      "Load csv test/train data splitting out times.\n",
      "'''\n",
      "def load_csv_data(path):\n",
      "        data = np.loadtxt(path,delimiter=',',dtype=float,skiprows=1)\n",
      "        times = data[:,0].astype(int)\n",
      "        Y = data[:,1:]\n",
      "        return times,Y\n",
      "\n",
      "'''\n",
      "Saves out to a csv.\n",
      "Just reads in the example csv and writes out \n",
      "over the zeros with the model predictions.\n",
      "'''\n",
      "def save_submission(preds,submit_name,data_dir):\n",
      "        fexample = open(os.path.join(data_dir,'sampleSubmission.csv'))\n",
      "        fout = open(submit_name,'wb')\n",
      "        fReader = csv.reader(fexample,delimiter=',', skipinitialspace=True)\n",
      "        fwriter = csv.writer(fout)\n",
      "        for i,row in enumerate(fReader):\n",
      "                if i == 0:\n",
      "                        fwriter.writerow(row)\n",
      "                else:\n",
      "                        row[1:] = preds[i-1]\n",
      "                        fwriter.writerow(row)\n",
      "        fexample.close()\n",
      "        fout.close()\n",
      "\n",
      "'''\n",
      "Get the average mean absolute error for models trained on cv splits\n",
      "'''\n",
      "def cv_loop(X, y, model, N):\n",
      "    MAEs = 0\n",
      "    for i in range(N):\n",
      "        X_train, X_cv, y_train, y_cv = train_test_split(X, y, test_size=.20, random_state = i*SEED)\n",
      "        model.fit(X_train, y_train)\n",
      "        preds = model.predict(X_cv)\n",
      "        mae = metrics.mean_absolute_error(y_cv,preds)\n",
      "        print \"MAE (fold %d/%d): %f\" % (i + 1, N, mae)\n",
      "        MAEs += mae\n",
      "    return MAEs/N\n",
      "\n",
      "'''\n",
      "Everything together - print statements describe what's happening\n",
      "'''\n",
      "def main(data_dir='./data/',N=10,cv_test_size=0.2,files_to_use='all',submit_name='submission.csv'):\n",
      "        if files_to_use == 'all':\n",
      "                files_to_use = ['dswrf_sfc','dlwrf_sfc','uswrf_sfc','ulwrf_sfc','ulwrf_tatm','pwat_eatm','tcdc_eatm','apcp_sfc','pres_msl','spfh_2m','tcolc_eatm','tmax_2m','tmin_2m','tmp_2m','tmp_sfc']\n",
      "        train_sub_str = '_latlon_subset_19940101_20071231.nc'\n",
      "        test_sub_str = '_latlon_subset_20080101_20121130.nc'\n",
      "\n",
      "        print 'Loading training data...'\n",
      "        trainX = load_GEFS_data(data_dir+'train/',files_to_use,train_sub_str)\n",
      "        times,trainY = load_csv_data(os.path.join(data_dir,'train.csv'))\n",
      "        print 'Training data shape',trainX.shape,trainY.shape\n",
      "\n",
      "        # Gotta pick a scikit-learn model\n",
      "        model = Ridge(normalize=True) # Normalizing is usually a good idea\n",
      "\n",
      "        print 'Finding best regularization value for alpha...'\n",
      "        alphas = np.logspace(-3,1,8,base=10) # List of alphas to check\n",
      "        alphas = np.array(( 0.1, 0.2, 0.3, 0.4, 0.5, 0.6 ))\n",
      "        maes = []\n",
      "        for alpha in alphas:\n",
      "                model.alpha = alpha\n",
      "                mae = cv_loop(trainX,trainY,model,N)\n",
      "                maes.append(mae)\n",
      "                print 'alpha %.4f mae %.4f' % (alpha,mae)\n",
      "        best_alpha = alphas[np.argmin(maes)]\n",
      "        print 'Best alpha of %s with mean average error of %s' % (best_alpha,np.min(maes))\n",
      "\n",
      "        print 'Fitting model with best alpha...'\n",
      "        model.alpha = best_alpha\n",
      "        model.fit(trainX,trainY)\n",
      "\n",
      "        print 'Loading test data...'\n",
      "        testX = load_GEFS_data(data_dir+'test/',files_to_use,test_sub_str)\n",
      "        print 'Test data shape',testX.shape\n",
      "\n",
      "        print 'Predicting...'\n",
      "        preds = model.predict(testX)\n",
      "\n",
      "        print 'Saving to csv...'\n",
      "        save_submission(preds,submit_name,data_dir)"
     ],
     "language": "python",
     "metadata": {},
     "outputs": [],
     "prompt_number": 3
    },
    {
     "cell_type": "code",
     "collapsed": false,
     "input": [
      "args = { 'data_dir':  '/home/rox/Code/CS6601P2/Data/', # Set to your data directory assumes all data is in there - no nesting\n",
      "                'N': 5,                      # Amount of CV folds\n",
      "                'cv_test_size': 0.2,         # Test split size in cv\n",
      "                'files_to_use': 'all',       # Choices for files_to_use: the string all, or a list of strings corresponding to the unique part of a GEFS filename\n",
      "                'submit_name': 'submission_mod_whours.csv'\n",
      "        }\n",
      "main(**args)"
     ],
     "language": "python",
     "metadata": {},
     "outputs": [
      {
       "output_type": "stream",
       "stream": "stdout",
       "text": [
        "Loading training data...\n",
        "loading dswrf_sfc\n",
        "this is the path:  /home/rox/Code/CS6601P2/Data/train/dswrf_sfc_latlon_subset_19940101_20071231.nc\n",
        "loading"
       ]
      },
      {
       "output_type": "stream",
       "stream": "stdout",
       "text": [
        " dlwrf_sfc\n",
        "this is the path:  /home/rox/Code/CS6601P2/Data/train/dlwrf_sfc_latlon_subset_19940101_20071231.nc\n",
        "loading"
       ]
      },
      {
       "output_type": "stream",
       "stream": "stdout",
       "text": [
        " uswrf_sfc\n",
        "this is the path:  /home/rox/Code/CS6601P2/Data/train/uswrf_sfc_latlon_subset_19940101_20071231.nc\n",
        "loading"
       ]
      },
      {
       "output_type": "stream",
       "stream": "stdout",
       "text": [
        " ulwrf_sfc\n",
        "this is the path:  /home/rox/Code/CS6601P2/Data/train/ulwrf_sfc_latlon_subset_19940101_20071231.nc\n",
        "loading"
       ]
      },
      {
       "output_type": "stream",
       "stream": "stdout",
       "text": [
        " ulwrf_tatm\n",
        "this is the path:  /home/rox/Code/CS6601P2/Data/train/ulwrf_tatm_latlon_subset_19940101_20071231.nc\n",
        "loading"
       ]
      },
      {
       "output_type": "stream",
       "stream": "stdout",
       "text": [
        " pwat_eatm\n",
        "this is the path:  /home/rox/Code/CS6601P2/Data/train/pwat_eatm_latlon_subset_19940101_20071231.nc\n",
        "loading"
       ]
      },
      {
       "output_type": "stream",
       "stream": "stdout",
       "text": [
        " tcdc_eatm\n",
        "this is the path:  /home/rox/Code/CS6601P2/Data/train/tcdc_eatm_latlon_subset_19940101_20071231.nc\n",
        "loading"
       ]
      },
      {
       "output_type": "stream",
       "stream": "stdout",
       "text": [
        " apcp_sfc\n",
        "this is the path:  /home/rox/Code/CS6601P2/Data/train/apcp_sfc_latlon_subset_19940101_20071231.nc\n",
        "loading"
       ]
      },
      {
       "output_type": "stream",
       "stream": "stdout",
       "text": [
        " pres_msl\n",
        "this is the path:  /home/rox/Code/CS6601P2/Data/train/pres_msl_latlon_subset_19940101_20071231.nc\n",
        "loading"
       ]
      },
      {
       "output_type": "stream",
       "stream": "stdout",
       "text": [
        " spfh_2m\n",
        "this is the path:  /home/rox/Code/CS6601P2/Data/train/spfh_2m_latlon_subset_19940101_20071231.nc\n",
        "loading"
       ]
      },
      {
       "output_type": "stream",
       "stream": "stdout",
       "text": [
        " tcolc_eatm\n",
        "this is the path:  /home/rox/Code/CS6601P2/Data/train/tcolc_eatm_latlon_subset_19940101_20071231.nc\n",
        "loading"
       ]
      },
      {
       "output_type": "stream",
       "stream": "stdout",
       "text": [
        " tmax_2m\n",
        "this is the path:  /home/rox/Code/CS6601P2/Data/train/tmax_2m_latlon_subset_19940101_20071231.nc\n",
        "loading"
       ]
      },
      {
       "output_type": "stream",
       "stream": "stdout",
       "text": [
        " tmin_2m\n",
        "this is the path:  /home/rox/Code/CS6601P2/Data/train/tmin_2m_latlon_subset_19940101_20071231.nc\n",
        "loading"
       ]
      },
      {
       "output_type": "stream",
       "stream": "stdout",
       "text": [
        " tmp_2m\n",
        "this is the path:  /home/rox/Code/CS6601P2/Data/train/tmp_2m_latlon_subset_19940101_20071231.nc\n",
        "loading"
       ]
      },
      {
       "output_type": "stream",
       "stream": "stdout",
       "text": [
        " tmp_sfc\n",
        "this is the path:  /home/rox/Code/CS6601P2/Data/train/tmp_sfc_latlon_subset_19940101_20071231.nc\n",
        "Training data shape"
       ]
      },
      {
       "output_type": "stream",
       "stream": "stdout",
       "text": [
        " (5113, 3000) (5113, 98)\n",
        "Finding best regularization value for alpha...\n",
        "MAE (fold 1/5): 2304885.596077"
       ]
      },
      {
       "output_type": "stream",
       "stream": "stdout",
       "text": [
        "\n",
        "MAE (fold 2/5): 2243382.775030"
       ]
      },
      {
       "output_type": "stream",
       "stream": "stdout",
       "text": [
        "\n",
        "MAE (fold 3/5): 2218722.028861"
       ]
      },
      {
       "output_type": "stream",
       "stream": "stdout",
       "text": [
        "\n",
        "MAE (fold 4/5): 2281780.259572"
       ]
      },
      {
       "output_type": "stream",
       "stream": "stdout",
       "text": [
        "\n",
        "MAE (fold 5/5): 2238734.728316"
       ]
      },
      {
       "output_type": "stream",
       "stream": "stdout",
       "text": [
        "\n",
        "alpha 0.1000 mae 2257501.0776\n",
        "MAE (fold 1/5): 2283996.658843"
       ]
      },
      {
       "output_type": "stream",
       "stream": "stdout",
       "text": [
        "\n",
        "MAE (fold 2/5): 2225767.427020"
       ]
      },
      {
       "output_type": "stream",
       "stream": "stdout",
       "text": [
        "\n",
        "MAE (fold 3/5): 2200680.544104"
       ]
      },
      {
       "output_type": "stream",
       "stream": "stdout",
       "text": [
        "\n",
        "MAE (fold 4/5): 2265550.389799"
       ]
      },
      {
       "output_type": "stream",
       "stream": "stdout",
       "text": [
        "\n",
        "MAE (fold 5/5): 2226936.361815"
       ]
      },
      {
       "output_type": "stream",
       "stream": "stdout",
       "text": [
        "\n",
        "alpha 0.2000 mae 2240586.2763\n",
        "MAE (fold 1/5): 2278264.846844"
       ]
      },
      {
       "output_type": "stream",
       "stream": "stdout",
       "text": [
        "\n",
        "MAE (fold 2/5): 2222255.793510"
       ]
      },
      {
       "output_type": "stream",
       "stream": "stdout",
       "text": [
        "\n",
        "MAE (fold 3/5): 2196898.035006"
       ]
      },
      {
       "output_type": "stream",
       "stream": "stdout",
       "text": [
        "\n",
        "MAE (fold 4/5): 2263180.330469"
       ]
      },
      {
       "output_type": "stream",
       "stream": "stdout",
       "text": [
        "\n",
        "MAE (fold 5/5): 2226457.138393"
       ]
      },
      {
       "output_type": "stream",
       "stream": "stdout",
       "text": [
        "\n",
        "alpha 0.3000 mae 2237411.2288\n",
        "MAE (fold 1/5): 2277500.138213"
       ]
      },
      {
       "output_type": "stream",
       "stream": "stdout",
       "text": [
        "\n",
        "MAE (fold 2/5): 2222714.964929"
       ]
      },
      {
       "output_type": "stream",
       "stream": "stdout",
       "text": [
        "\n",
        "MAE (fold 3/5): 2197448.595439"
       ]
      },
      {
       "output_type": "stream",
       "stream": "stdout",
       "text": [
        "\n",
        "MAE (fold 4/5): 2264609.577795"
       ]
      },
      {
       "output_type": "stream",
       "stream": "stdout",
       "text": [
        "\n",
        "MAE (fold 5/5): 2229059.674765"
       ]
      },
      {
       "output_type": "stream",
       "stream": "stdout",
       "text": [
        "\n",
        "alpha 0.4000 mae 2238266.5902\n",
        "MAE (fold 1/5): 2278963.899429"
       ]
      },
      {
       "output_type": "stream",
       "stream": "stdout",
       "text": [
        "\n",
        "MAE (fold 2/5): 2224875.623305"
       ]
      },
      {
       "output_type": "stream",
       "stream": "stdout",
       "text": [
        "\n",
        "MAE (fold 3/5): 2199819.808270"
       ]
      },
      {
       "output_type": "stream",
       "stream": "stdout",
       "text": [
        "\n",
        "MAE (fold 4/5): 2267407.644443"
       ]
      },
      {
       "output_type": "stream",
       "stream": "stdout",
       "text": [
        "\n",
        "MAE (fold 5/5): 2233004.288619"
       ]
      },
      {
       "output_type": "stream",
       "stream": "stdout",
       "text": [
        "\n",
        "alpha 0.5000 mae 2240814.2528\n",
        "MAE (fold 1/5): 2281506.131175"
       ]
      },
      {
       "output_type": "stream",
       "stream": "stdout",
       "text": [
        "\n",
        "MAE (fold 2/5): 2227921.379743"
       ]
      },
      {
       "output_type": "stream",
       "stream": "stdout",
       "text": [
        "\n",
        "MAE (fold 3/5): 2203132.255581"
       ]
      },
      {
       "output_type": "stream",
       "stream": "stdout",
       "text": [
        "\n",
        "MAE (fold 4/5): 2270903.011054"
       ]
      },
      {
       "output_type": "stream",
       "stream": "stdout",
       "text": [
        "\n",
        "MAE (fold 5/5): 2237446.827651"
       ]
      },
      {
       "output_type": "stream",
       "stream": "stdout",
       "text": [
        "\n",
        "alpha 0.6000 mae 2244181.9210\n",
        "Best alpha of 0.3 with mean average error of 2237411.22884\n",
        "Fitting model with best alpha...\n",
        "Loading test data..."
       ]
      },
      {
       "output_type": "stream",
       "stream": "stdout",
       "text": [
        "\n",
        "loading dswrf_sfc\n",
        "this is the path:  /home/rox/Code/CS6601P2/Data/test/dswrf_sfc_latlon_subset_20080101_20121130.nc\n",
        "loading"
       ]
      },
      {
       "output_type": "stream",
       "stream": "stdout",
       "text": [
        " dlwrf_sfc\n",
        "this is the path:  /home/rox/Code/CS6601P2/Data/test/dlwrf_sfc_latlon_subset_20080101_20121130.nc\n",
        "loading"
       ]
      },
      {
       "output_type": "stream",
       "stream": "stdout",
       "text": [
        " uswrf_sfc\n",
        "this is the path:  /home/rox/Code/CS6601P2/Data/test/uswrf_sfc_latlon_subset_20080101_20121130.nc\n",
        "loading"
       ]
      },
      {
       "output_type": "stream",
       "stream": "stdout",
       "text": [
        " ulwrf_sfc\n",
        "this is the path:  /home/rox/Code/CS6601P2/Data/test/ulwrf_sfc_latlon_subset_20080101_20121130.nc\n",
        "loading"
       ]
      },
      {
       "output_type": "stream",
       "stream": "stdout",
       "text": [
        " ulwrf_tatm\n",
        "this is the path:  /home/rox/Code/CS6601P2/Data/test/ulwrf_tatm_latlon_subset_20080101_20121130.nc\n",
        "loading"
       ]
      },
      {
       "output_type": "stream",
       "stream": "stdout",
       "text": [
        " pwat_eatm\n",
        "this is the path:  /home/rox/Code/CS6601P2/Data/test/pwat_eatm_latlon_subset_20080101_20121130.nc\n",
        "loading"
       ]
      },
      {
       "output_type": "stream",
       "stream": "stdout",
       "text": [
        " tcdc_eatm\n",
        "this is the path:  /home/rox/Code/CS6601P2/Data/test/tcdc_eatm_latlon_subset_20080101_20121130.nc\n",
        "loading"
       ]
      },
      {
       "output_type": "stream",
       "stream": "stdout",
       "text": [
        " apcp_sfc\n",
        "this is the path:  /home/rox/Code/CS6601P2/Data/test/apcp_sfc_latlon_subset_20080101_20121130.nc\n",
        "loading"
       ]
      },
      {
       "output_type": "stream",
       "stream": "stdout",
       "text": [
        " pres_msl\n",
        "this is the path:  /home/rox/Code/CS6601P2/Data/test/pres_msl_latlon_subset_20080101_20121130.nc\n",
        "loading"
       ]
      },
      {
       "output_type": "stream",
       "stream": "stdout",
       "text": [
        " spfh_2m\n",
        "this is the path:  /home/rox/Code/CS6601P2/Data/test/spfh_2m_latlon_subset_20080101_20121130.nc\n",
        "loading"
       ]
      },
      {
       "output_type": "stream",
       "stream": "stdout",
       "text": [
        " tcolc_eatm\n",
        "this is the path:  /home/rox/Code/CS6601P2/Data/test/tcolc_eatm_latlon_subset_20080101_20121130.nc\n",
        "loading"
       ]
      },
      {
       "output_type": "stream",
       "stream": "stdout",
       "text": [
        " tmax_2m\n",
        "this is the path:  /home/rox/Code/CS6601P2/Data/test/tmax_2m_latlon_subset_20080101_20121130.nc\n",
        "loading"
       ]
      },
      {
       "output_type": "stream",
       "stream": "stdout",
       "text": [
        " tmin_2m\n",
        "this is the path:  /home/rox/Code/CS6601P2/Data/test/tmin_2m_latlon_subset_20080101_20121130.nc\n",
        "loading"
       ]
      },
      {
       "output_type": "stream",
       "stream": "stdout",
       "text": [
        " tmp_2m\n",
        "this is the path:  /home/rox/Code/CS6601P2/Data/test/tmp_2m_latlon_subset_20080101_20121130.nc\n",
        "loading"
       ]
      },
      {
       "output_type": "stream",
       "stream": "stdout",
       "text": [
        " tmp_sfc\n",
        "this is the path:  /home/rox/Code/CS6601P2/Data/test/tmp_sfc_latlon_subset_20080101_20121130.nc\n",
        "Test data shape"
       ]
      },
      {
       "output_type": "stream",
       "stream": "stdout",
       "text": [
        " (1796, 3000)\n",
        "Predicting...\n",
        "Saving to csv..."
       ]
      },
      {
       "output_type": "stream",
       "stream": "stdout",
       "text": [
        "\n"
       ]
      }
     ],
     "prompt_number": 4
    },
    {
     "cell_type": "code",
     "collapsed": false,
     "input": [
      "ls ~/Data/train/"
     ],
     "language": "python",
     "metadata": {},
     "outputs": [
      {
       "output_type": "stream",
       "stream": "stdout",
       "text": [
        "apcp_sfc_latlon_subset_19940101_20071231.nc\r\n",
        "dlwrf_sfc_latlon_subset_19940101_20071231.nc\r\n",
        "dswrf_sfc_latlon_subset_19940101_20071231.nc\r\n",
        "pres_msl_latlon_subset_19940101_20071231.nc\r\n",
        "pwat_eatm_latlon_subset_19940101_20071231.nc\r\n",
        "spfh_2m_latlon_subset_19940101_20071231.nc\r\n",
        "tcdc_eatm_latlon_subset_19940101_20071231.nc\r\n",
        "tcolc_eatm_latlon_subset_19940101_20071231.nc\r\n",
        "tmax_2m_latlon_subset_19940101_20071231.nc\r\n",
        "tmin_2m_latlon_subset_19940101_20071231.nc\r\n",
        "tmp_2m_latlon_subset_19940101_20071231.nc\r\n",
        "tmp_sfc_latlon_subset_19940101_20071231.nc\r\n",
        "ulwrf_sfc_latlon_subset_19940101_20071231.nc\r\n",
        "ulwrf_tatm_latlon_subset_19940101_20071231.nc\r\n",
        "uswrf_sfc_latlon_subset_19940101_20071231.nc\r\n"
       ]
      }
     ],
     "prompt_number": 5
    },
    {
     "cell_type": "code",
     "collapsed": false,
     "input": [],
     "language": "python",
     "metadata": {},
     "outputs": []
    }
   ],
   "metadata": {}
  }
 ]
}