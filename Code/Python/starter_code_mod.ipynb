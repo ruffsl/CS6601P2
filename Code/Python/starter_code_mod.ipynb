{
 "metadata": {
  "name": ""
 },
 "nbformat": 3,
 "nbformat_minor": 0,
 "worksheets": [
  {
   "cells": [
    {
     "cell_type": "code",
     "collapsed": false,
     "input": [
      "import csv\n",
      "import os\n",
      "import netCDF4 as nc\n",
      "import numpy as np \n",
      "from sklearn import metrics\n",
      "from sklearn.linear_model import Ridge\n",
      "from sklearn.cross_validation import train_test_split"
     ],
     "language": "python",
     "metadata": {},
     "outputs": [],
     "prompt_number": 1
    },
    {
     "cell_type": "code",
     "collapsed": false,
     "input": [
      "SEED = 42 # Random seed to keep consistent"
     ],
     "language": "python",
     "metadata": {},
     "outputs": [],
     "prompt_number": 2
    },
    {
     "cell_type": "code",
     "collapsed": false,
     "input": [
      "def sine_predicted_irradiance(day_of_year):\n",
      "    offset = 21700000\n",
      "    amplitude = 9200000\n",
      "    phase = -75\n",
      "    result = offset+(amplitude*sin(2*3.1415927/365.25*(day_of_year+phase)))\n",
      "    return result"
     ],
     "language": "python",
     "metadata": {},
     "outputs": []
    },
    {
     "cell_type": "code",
     "collapsed": false,
     "input": [
      "'''\n",
      "Loads a list of GEFS files merging them into model format.\n",
      "'''\n",
      "def load_GEFS_data(directory,files_to_use,file_sub_str):\n",
      "        for i,f in enumerate(files_to_use):\n",
      "                if i == 0:\n",
      "                        X = load_GEFS_file(directory,files_to_use[i],file_sub_str)\n",
      "                else:\n",
      "                        X_new = load_GEFS_file(directory,files_to_use[i],file_sub_str)\n",
      "                        X = np.hstack((X,X_new))\n",
      "        return X\n",
      "\n",
      "'''\n",
      "Loads GEFS file using specified merge technique.\n",
      "'''\n",
      "def load_GEFS_file(directory,data_type,file_sub_str):\n",
      "        print 'loading',data_type\n",
      "        path = os.path.join(directory,data_type+file_sub_str)\n",
      "        print 'this is the path: ', path\n",
      "        X = nc.Dataset(path,'r+').variables.values()[-1][:,:,:,3:7,3:13] # get rid of some GEFS points\n",
      "        #X = X.reshape(X.shape[0],55,4,10)                               # Reshape to merge sub_models and time_forcasts\n",
      "        X = np.mean(X,axis=1)                                            # Average models, but not hours\n",
      "        X = X.reshape(X.shape[0],np.prod(X.shape[1:]))                   # Reshape into (n_examples,n_features)\n",
      "        return X\n",
      "\n",
      "'''\n",
      "Load csv test/train data splitting out times.\n",
      "'''\n",
      "def load_csv_data(path):\n",
      "        data = np.loadtxt(path,delimiter=',',dtype=float,skiprows=1)\n",
      "        times = data[:,0].astype(int)\n",
      "        Y = data[:,1:]\n",
      "        return times,Y\n",
      "\n",
      "'''\n",
      "Saves out to a csv.\n",
      "Just reads in the example csv and writes out \n",
      "over the zeros with the model predictions.\n",
      "'''\n",
      "def save_submission(preds,submit_name,data_dir):\n",
      "        fexample = open(os.path.join(data_dir,'sampleSubmission.csv'))\n",
      "        fout = open(submit_name,'wb')\n",
      "        fReader = csv.reader(fexample,delimiter=',', skipinitialspace=True)\n",
      "        fwriter = csv.writer(fout)\n",
      "        for i,row in enumerate(fReader):\n",
      "                if i == 0:\n",
      "                        fwriter.writerow(row)\n",
      "                else:\n",
      "                        row[1:] = preds[i-1]\n",
      "                        fwriter.writerow(row)\n",
      "        fexample.close()\n",
      "        fout.close()\n",
      "\n",
      "'''\n",
      "Get the average mean absolute error for models trained on cv splits\n",
      "'''\n",
      "def cv_loop(X, y, model, N):\n",
      "    MAEs = 0\n",
      "    for i in range(N):\n",
      "        X_train, X_cv, y_train, y_cv = train_test_split(X, y, test_size=.20, random_state = i*SEED)\n",
      "        model.fit(X_train, y_train)\n",
      "        preds = model.predict(X_cv)\n",
      "        mae = metrics.mean_absolute_error(y_cv,preds)\n",
      "        print \"MAE (fold %d/%d): %f\" % (i + 1, N, mae)\n",
      "        MAEs += mae\n",
      "    return MAEs/N\n",
      "\n",
      "'''\n",
      "Everything together - print statements describe what's happening\n",
      "'''\n",
      "def main(data_dir='./data/',N=10,cv_test_size=0.2,files_to_use='all',submit_name='submission.csv'):\n",
      "        if files_to_use == 'all':\n",
      "                files_to_use = ['dswrf_sfc','dlwrf_sfc','uswrf_sfc','ulwrf_sfc','ulwrf_tatm','pwat_eatm','tcdc_eatm','apcp_sfc','pres_msl','spfh_2m','tcolc_eatm','tmax_2m','tmin_2m','tmp_2m','tmp_sfc']\n",
      "        train_sub_str = '_latlon_subset_19940101_20071231.nc'\n",
      "        test_sub_str = '_latlon_subset_20080101_20121130.nc'\n",
      "\n",
      "        print 'Loading training data...'\n",
      "        trainX = load_GEFS_data(data_dir+'train/',files_to_use,train_sub_str)\n",
      "        times,trainY = load_csv_data(os.path.join(data_dir,'train.csv'))\n",
      "        print 'Training data shape',trainX.shape,trainY.shape\n",
      "\n",
      "        # Gotta pick a scikit-learn model\n",
      "        model = Ridge(normalize=True) # Normalizing is usually a good idea\n",
      "\n",
      "        print 'Finding best regularization value for alpha...'\n",
      "        alphas = np.logspace(-3,1,8,base=10) # List of alphas to check\n",
      "        #alphas = np.array(( 0.1, 0.2, 0.3, 0.4, 0.5, 0.6 ))\n",
      "        maes = []\n",
      "        for alpha in alphas:\n",
      "                model.alpha = alpha\n",
      "                mae = cv_loop(trainX,trainY,model,N)\n",
      "                maes.append(mae)\n",
      "                print 'alpha %.4f mae %.4f' % (alpha,mae)\n",
      "        best_alpha = alphas[np.argmin(maes)]\n",
      "        print 'Best alpha of %s with mean average error of %s' % (best_alpha,np.min(maes))\n",
      "\n",
      "        print 'Fitting model with best alpha...'\n",
      "        model.alpha = best_alpha\n",
      "        model.fit(trainX,trainY)\n",
      "\n",
      "        print 'Loading test data...'\n",
      "        testX = load_GEFS_data(data_dir+'test/',files_to_use,test_sub_str)\n",
      "        print 'Test data shape',testX.shape\n",
      "\n",
      "        print 'Predicting...'\n",
      "        preds = model.predict(testX)\n",
      "\n",
      "        print 'Saving to csv...'\n",
      "        save_submission(preds,submit_name,data_dir)"
     ],
     "language": "python",
     "metadata": {},
     "outputs": [],
     "prompt_number": 7
    },
    {
     "cell_type": "code",
     "collapsed": false,
     "input": [
      "args = { 'data_dir':  '/media/Data/Project Data/Solar Energy/', # Set to your data directory assumes all data is in there - no nesting\n",
      "                'N': 5,                      # Amount of CV folds\n",
      "                'cv_test_size': 0.2,         # Test split size in cv\n",
      "                'files_to_use': 'all',       # Choices for files_to_use: the string all, or a list of strings corresponding to the unique part of a GEFS filename\n",
      "                'submit_name': 'submission_mod_whours.csv'\n",
      "        }\n",
      "main(**args)"
     ],
     "language": "python",
     "metadata": {},
     "outputs": [
      {
       "output_type": "stream",
       "stream": "stdout",
       "text": [
        "Loading training data...\n",
        "loading dswrf_sfc\n",
        "this is the path:  /media/Data/Project Data/Solar Energy/train/dswrf_sfc_latlon_subset_19940101_20071231.nc\n",
        "loading"
       ]
      },
      {
       "output_type": "stream",
       "stream": "stdout",
       "text": [
        " dlwrf_sfc\n",
        "this is the path:  /media/Data/Project Data/Solar Energy/train/dlwrf_sfc_latlon_subset_19940101_20071231.nc\n",
        "loading"
       ]
      },
      {
       "output_type": "stream",
       "stream": "stdout",
       "text": [
        " uswrf_sfc\n",
        "this is the path:  /media/Data/Project Data/Solar Energy/train/uswrf_sfc_latlon_subset_19940101_20071231.nc\n",
        "loading"
       ]
      },
      {
       "output_type": "stream",
       "stream": "stdout",
       "text": [
        " ulwrf_sfc\n",
        "this is the path:  /media/Data/Project Data/Solar Energy/train/ulwrf_sfc_latlon_subset_19940101_20071231.nc\n",
        "loading"
       ]
      },
      {
       "output_type": "stream",
       "stream": "stdout",
       "text": [
        " ulwrf_tatm\n",
        "this is the path:  /media/Data/Project Data/Solar Energy/train/ulwrf_tatm_latlon_subset_19940101_20071231.nc\n",
        "loading"
       ]
      },
      {
       "output_type": "stream",
       "stream": "stdout",
       "text": [
        " pwat_eatm\n",
        "this is the path:  /media/Data/Project Data/Solar Energy/train/pwat_eatm_latlon_subset_19940101_20071231.nc\n",
        "loading"
       ]
      },
      {
       "output_type": "stream",
       "stream": "stdout",
       "text": [
        " tcdc_eatm\n",
        "this is the path:  /media/Data/Project Data/Solar Energy/train/tcdc_eatm_latlon_subset_19940101_20071231.nc\n",
        "loading"
       ]
      },
      {
       "output_type": "stream",
       "stream": "stdout",
       "text": [
        " apcp_sfc\n",
        "this is the path:  /media/Data/Project Data/Solar Energy/train/apcp_sfc_latlon_subset_19940101_20071231.nc\n",
        "loading"
       ]
      },
      {
       "output_type": "stream",
       "stream": "stdout",
       "text": [
        " pres_msl\n",
        "this is the path:  /media/Data/Project Data/Solar Energy/train/pres_msl_latlon_subset_19940101_20071231.nc\n",
        "loading"
       ]
      },
      {
       "output_type": "stream",
       "stream": "stdout",
       "text": [
        " spfh_2m\n",
        "this is the path:  /media/Data/Project Data/Solar Energy/train/spfh_2m_latlon_subset_19940101_20071231.nc\n",
        "loading"
       ]
      },
      {
       "output_type": "stream",
       "stream": "stdout",
       "text": [
        " tcolc_eatm\n",
        "this is the path:  /media/Data/Project Data/Solar Energy/train/tcolc_eatm_latlon_subset_19940101_20071231.nc\n",
        "loading"
       ]
      },
      {
       "output_type": "stream",
       "stream": "stdout",
       "text": [
        " tmax_2m\n",
        "this is the path:  /media/Data/Project Data/Solar Energy/train/tmax_2m_latlon_subset_19940101_20071231.nc\n",
        "loading"
       ]
      },
      {
       "output_type": "stream",
       "stream": "stdout",
       "text": [
        " tmin_2m\n",
        "this is the path:  /media/Data/Project Data/Solar Energy/train/tmin_2m_latlon_subset_19940101_20071231.nc\n",
        "loading"
       ]
      },
      {
       "output_type": "stream",
       "stream": "stdout",
       "text": [
        " tmp_2m\n",
        "this is the path:  /media/Data/Project Data/Solar Energy/train/tmp_2m_latlon_subset_19940101_20071231.nc\n",
        "loading"
       ]
      },
      {
       "output_type": "stream",
       "stream": "stdout",
       "text": [
        " tmp_sfc\n",
        "this is the path:  /media/Data/Project Data/Solar Energy/train/tmp_sfc_latlon_subset_19940101_20071231.nc\n",
        "Training data shape"
       ]
      },
      {
       "output_type": "stream",
       "stream": "stdout",
       "text": [
        " (5113, 3000) (5113, 98)\n",
        "Finding best regularization value for alpha...\n",
        "MAE (fold 1/5): 2765311.304264"
       ]
      },
      {
       "output_type": "stream",
       "stream": "stdout",
       "text": [
        "\n",
        "MAE (fold 2/5): 2720460.536481"
       ]
      },
      {
       "output_type": "stream",
       "stream": "stdout",
       "text": [
        "\n",
        "MAE (fold 3/5): 2666428.842017"
       ]
      },
      {
       "output_type": "stream",
       "stream": "stdout",
       "text": [
        "\n",
        "MAE (fold 4/5): 2730087.515374"
       ]
      },
      {
       "output_type": "stream",
       "stream": "stdout",
       "text": [
        "\n",
        "MAE (fold 5/5): 2679008.649219"
       ]
      },
      {
       "output_type": "stream",
       "stream": "stdout",
       "text": [
        "\n",
        "alpha 0.0010 mae 2712259.3695\n",
        "MAE (fold 1/5): 2582390.679119"
       ]
      },
      {
       "output_type": "stream",
       "stream": "stdout",
       "text": [
        "\n",
        "MAE (fold 2/5): 2527334.417174"
       ]
      },
      {
       "output_type": "stream",
       "stream": "stdout",
       "text": [
        "\n",
        "MAE (fold 3/5): 2490809.537404"
       ]
      },
      {
       "output_type": "stream",
       "stream": "stdout",
       "text": [
        "\n",
        "MAE (fold 4/5): 2546290.795767"
       ]
      },
      {
       "output_type": "stream",
       "stream": "stdout",
       "text": [
        "\n",
        "MAE (fold 5/5): 2495800.379537"
       ]
      },
      {
       "output_type": "stream",
       "stream": "stdout",
       "text": [
        "\n",
        "alpha 0.0037 mae 2528525.1618\n",
        "MAE (fold 1/5): 2436934.687088"
       ]
      },
      {
       "output_type": "stream",
       "stream": "stdout",
       "text": [
        "\n",
        "MAE (fold 2/5): 2374777.942729"
       ]
      },
      {
       "output_type": "stream",
       "stream": "stdout",
       "text": [
        "\n",
        "MAE (fold 3/5): 2347357.552508"
       ]
      },
      {
       "output_type": "stream",
       "stream": "stdout",
       "text": [
        "\n",
        "MAE (fold 4/5): 2406767.801369"
       ]
      },
      {
       "output_type": "stream",
       "stream": "stdout",
       "text": [
        "\n",
        "MAE (fold 5/5): 2354183.124842"
       ]
      },
      {
       "output_type": "stream",
       "stream": "stdout",
       "text": [
        "\n",
        "alpha 0.0139 mae 2384004.2217\n",
        "MAE (fold 1/5): 2337065.983972"
       ]
      },
      {
       "output_type": "stream",
       "stream": "stdout",
       "text": [
        "\n",
        "MAE (fold 2/5): 2273395.049918"
       ]
      },
      {
       "output_type": "stream",
       "stream": "stdout",
       "text": [
        "\n",
        "MAE (fold 3/5): 2248854.204329"
       ]
      },
      {
       "output_type": "stream",
       "stream": "stdout",
       "text": [
        "\n",
        "MAE (fold 4/5): 2310953.895692"
       ]
      },
      {
       "output_type": "stream",
       "stream": "stdout",
       "text": [
        "\n",
        "MAE (fold 5/5): 2263455.899788"
       ]
      },
      {
       "output_type": "stream",
       "stream": "stdout",
       "text": [
        "\n",
        "alpha 0.0518 mae 2286745.0067\n",
        "MAE (fold 1/5): 2284735.283767"
       ]
      },
      {
       "output_type": "stream",
       "stream": "stdout",
       "text": [
        "\n",
        "MAE (fold 2/5): 2226309.512898"
       ]
      },
      {
       "output_type": "stream",
       "stream": "stdout",
       "text": [
        "\n",
        "MAE (fold 3/5): 2201266.303812"
       ]
      },
      {
       "output_type": "stream",
       "stream": "stdout",
       "text": [
        "\n",
        "MAE (fold 4/5): 2266002.662653"
       ]
      },
      {
       "output_type": "stream",
       "stream": "stdout",
       "text": [
        "\n",
        "MAE (fold 5/5): 2227188.573849"
       ]
      },
      {
       "output_type": "stream",
       "stream": "stdout",
       "text": [
        "\n",
        "alpha 0.1931 mae 2241100.4674\n",
        "MAE (fold 1/5): 2285234.481791"
       ]
      },
      {
       "output_type": "stream",
       "stream": "stdout",
       "text": [
        "\n",
        "MAE (fold 2/5): 2232254.306899"
       ]
      },
      {
       "output_type": "stream",
       "stream": "stdout",
       "text": [
        "\n",
        "MAE (fold 3/5): 2207693.550987"
       ]
      },
      {
       "output_type": "stream",
       "stream": "stdout",
       "text": [
        "\n",
        "MAE (fold 4/5): 2275510.794603"
       ]
      },
      {
       "output_type": "stream",
       "stream": "stdout",
       "text": [
        "\n",
        "MAE (fold 5/5): 2242911.538389"
       ]
      },
      {
       "output_type": "stream",
       "stream": "stdout",
       "text": [
        "\n",
        "alpha 0.7197 mae 2248720.9345\n",
        "MAE (fold 1/5): 2352166.346670"
       ]
      },
      {
       "output_type": "stream",
       "stream": "stdout",
       "text": [
        "\n",
        "MAE (fold 2/5): 2301749.234727"
       ]
      },
      {
       "output_type": "stream",
       "stream": "stdout",
       "text": [
        "\n",
        "MAE (fold 3/5): 2281761.899878"
       ]
      },
      {
       "output_type": "stream",
       "stream": "stdout",
       "text": [
        "\n",
        "MAE (fold 4/5): 2345875.100146"
       ]
      },
      {
       "output_type": "stream",
       "stream": "stdout",
       "text": [
        "\n",
        "MAE (fold 5/5): 2316901.208957"
       ]
      },
      {
       "output_type": "stream",
       "stream": "stdout",
       "text": [
        "\n",
        "alpha 2.6827 mae 2319690.7581\n",
        "MAE (fold 1/5): 2491952.681656"
       ]
      },
      {
       "output_type": "stream",
       "stream": "stdout",
       "text": [
        "\n",
        "MAE (fold 2/5): 2443416.241493"
       ]
      },
      {
       "output_type": "stream",
       "stream": "stdout",
       "text": [
        "\n",
        "MAE (fold 3/5): 2427106.351693"
       ]
      },
      {
       "output_type": "stream",
       "stream": "stdout",
       "text": [
        "\n",
        "MAE (fold 4/5): 2482403.530895"
       ]
      },
      {
       "output_type": "stream",
       "stream": "stdout",
       "text": [
        "\n",
        "MAE (fold 5/5): 2455370.479545"
       ]
      },
      {
       "output_type": "stream",
       "stream": "stdout",
       "text": [
        "\n",
        "alpha 10.0000 mae 2460049.8571\n",
        "Best alpha of 0.193069772888 with mean average error of 2241100.4674\n",
        "Fitting model with best alpha...\n",
        "Loading test data..."
       ]
      },
      {
       "output_type": "stream",
       "stream": "stdout",
       "text": [
        "\n",
        "loading dswrf_sfc\n",
        "this is the path:  /media/Data/Project Data/Solar Energy/test/dswrf_sfc_latlon_subset_20080101_20121130.nc\n",
        "loading"
       ]
      },
      {
       "output_type": "stream",
       "stream": "stdout",
       "text": [
        " dlwrf_sfc\n",
        "this is the path:  /media/Data/Project Data/Solar Energy/test/dlwrf_sfc_latlon_subset_20080101_20121130.nc\n",
        "loading"
       ]
      },
      {
       "output_type": "stream",
       "stream": "stdout",
       "text": [
        " uswrf_sfc\n",
        "this is the path:  /media/Data/Project Data/Solar Energy/test/uswrf_sfc_latlon_subset_20080101_20121130.nc\n",
        "loading"
       ]
      },
      {
       "output_type": "stream",
       "stream": "stdout",
       "text": [
        " ulwrf_sfc\n",
        "this is the path:  /media/Data/Project Data/Solar Energy/test/ulwrf_sfc_latlon_subset_20080101_20121130.nc\n",
        "loading"
       ]
      },
      {
       "output_type": "stream",
       "stream": "stdout",
       "text": [
        " ulwrf_tatm\n",
        "this is the path:  /media/Data/Project Data/Solar Energy/test/ulwrf_tatm_latlon_subset_20080101_20121130.nc\n",
        "loading"
       ]
      },
      {
       "output_type": "stream",
       "stream": "stdout",
       "text": [
        " pwat_eatm\n",
        "this is the path:  /media/Data/Project Data/Solar Energy/test/pwat_eatm_latlon_subset_20080101_20121130.nc\n",
        "loading"
       ]
      },
      {
       "output_type": "stream",
       "stream": "stdout",
       "text": [
        " tcdc_eatm\n",
        "this is the path:  /media/Data/Project Data/Solar Energy/test/tcdc_eatm_latlon_subset_20080101_20121130.nc\n",
        "loading"
       ]
      },
      {
       "output_type": "stream",
       "stream": "stdout",
       "text": [
        " apcp_sfc\n",
        "this is the path:  /media/Data/Project Data/Solar Energy/test/apcp_sfc_latlon_subset_20080101_20121130.nc\n",
        "loading"
       ]
      },
      {
       "output_type": "stream",
       "stream": "stdout",
       "text": [
        " pres_msl\n",
        "this is the path:  /media/Data/Project Data/Solar Energy/test/pres_msl_latlon_subset_20080101_20121130.nc\n",
        "loading"
       ]
      },
      {
       "output_type": "stream",
       "stream": "stdout",
       "text": [
        " spfh_2m\n",
        "this is the path:  /media/Data/Project Data/Solar Energy/test/spfh_2m_latlon_subset_20080101_20121130.nc\n",
        "loading"
       ]
      },
      {
       "output_type": "stream",
       "stream": "stdout",
       "text": [
        " tcolc_eatm\n",
        "this is the path:  /media/Data/Project Data/Solar Energy/test/tcolc_eatm_latlon_subset_20080101_20121130.nc\n",
        "loading"
       ]
      },
      {
       "output_type": "stream",
       "stream": "stdout",
       "text": [
        " tmax_2m\n",
        "this is the path:  /media/Data/Project Data/Solar Energy/test/tmax_2m_latlon_subset_20080101_20121130.nc\n",
        "loading"
       ]
      },
      {
       "output_type": "stream",
       "stream": "stdout",
       "text": [
        " tmin_2m\n",
        "this is the path:  /media/Data/Project Data/Solar Energy/test/tmin_2m_latlon_subset_20080101_20121130.nc\n",
        "loading"
       ]
      },
      {
       "output_type": "stream",
       "stream": "stdout",
       "text": [
        " tmp_2m\n",
        "this is the path:  /media/Data/Project Data/Solar Energy/test/tmp_2m_latlon_subset_20080101_20121130.nc\n",
        "loading"
       ]
      },
      {
       "output_type": "stream",
       "stream": "stdout",
       "text": [
        " tmp_sfc\n",
        "this is the path:  /media/Data/Project Data/Solar Energy/test/tmp_sfc_latlon_subset_20080101_20121130.nc\n",
        "Test data shape"
       ]
      },
      {
       "output_type": "stream",
       "stream": "stdout",
       "text": [
        " (1796, 3000)\n",
        "Predicting...\n",
        "Saving to csv..."
       ]
      },
      {
       "output_type": "stream",
       "stream": "stdout",
       "text": [
        "\n"
       ]
      }
     ],
     "prompt_number": 8
    },
    {
     "cell_type": "code",
     "collapsed": false,
     "input": [
      "ls ~/Data/train/"
     ],
     "language": "python",
     "metadata": {},
     "outputs": [
      {
       "output_type": "stream",
       "stream": "stdout",
       "text": [
        "ls: cannot access /home/arprice/Data/train/: No such file or directory\r\n"
       ]
      }
     ],
     "prompt_number": 6
    },
    {
     "cell_type": "code",
     "collapsed": false,
     "input": [],
     "language": "python",
     "metadata": {},
     "outputs": []
    }
   ],
   "metadata": {}
  }
 ]
}